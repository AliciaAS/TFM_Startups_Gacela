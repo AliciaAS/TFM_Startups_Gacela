{
  "nbformat": 4,
  "nbformat_minor": 0,
  "metadata": {
    "colab": {
      "provenance": []
    },
    "kernelspec": {
      "name": "python3",
      "display_name": "Python 3"
    },
    "language_info": {
      "name": "python"
    }
  },
  "cells": [
    {
      "cell_type": "markdown",
      "source": [
        "#PREDICCIÓN EMPRESAS GACELA"
      ],
      "metadata": {
        "id": "C9ckSKvv2ko-"
      }
    },
    {
      "cell_type": "markdown",
      "source": [
        "En base a las predicciones realizadas de empresas de alto crecimiento y de ventas, se calculan las empresas gacela. "
      ],
      "metadata": {
        "id": "KnacelaB2nP5"
      }
    },
    {
      "cell_type": "code",
      "execution_count": 1,
      "metadata": {
        "id": "b-Bg1NXT66FF"
      },
      "outputs": [],
      "source": [
        "#Importación de paquetes\n",
        "import pandas as pd\n",
        "import numpy as np\n",
        "import seaborn as sns\n",
        "import missingno\n",
        "import matplotlib.pyplot as plt"
      ]
    },
    {
      "cell_type": "code",
      "source": [
        "ventas=pd.read_csv('no_modelo_ventas.csv')\n",
        "altocrec=pd.read_csv('no_modelo_altoCrec.csv')"
      ],
      "metadata": {
        "id": "CIt8sVBL2y36"
      },
      "execution_count": 12,
      "outputs": []
    },
    {
      "cell_type": "code",
      "source": [
        "data = ventas.copy()\n",
        "data['ALTO_CRECIMIENTO_PRED']=altocrec['ALTO_CRECIMIENTO_PRED']"
      ],
      "metadata": {
        "id": "YjKvWEp34LlN"
      },
      "execution_count": 13,
      "outputs": []
    },
    {
      "cell_type": "code",
      "source": [
        "gacela_pred=[]\n",
        "for i in range(len(data)):\n",
        "  if data.iloc[i]['EMP_1'] >= 10 and data.iloc[i]['ALTO_CRECIMIENTO_PRED']==1 and data.iloc[i]['VENTAS_PRED'] >=500:\n",
        "    gacela_pred.append(1)\n",
        "  else:\n",
        "    gacela_pred.append(0)\n",
        "data['GACELA_PRED']=gacela_pred"
      ],
      "metadata": {
        "id": "5rQmlr1g4bMD"
      },
      "execution_count": 14,
      "outputs": []
    },
    {
      "cell_type": "code",
      "source": [
        "print('Nº Empresas gacela predichas: ', len(data[data['GACELA_PRED']==1]), ' de ', len(data), ' empresas')"
      ],
      "metadata": {
        "colab": {
          "base_uri": "https://localhost:8080/"
        },
        "id": "TjdjQJg35Ou5",
        "outputId": "f1be5075-aae6-4dc5-ec7f-70e21f1a8638"
      },
      "execution_count": 15,
      "outputs": [
        {
          "output_type": "stream",
          "name": "stdout",
          "text": [
            "Nº Empresas gacela predichas:  1  de  1131  empresas\n"
          ]
        }
      ]
    },
    {
      "cell_type": "code",
      "source": [
        "#Salvamos el dataset con las predicciones\n",
        "data.to_csv('no_modelo_final.csv')\n"
      ],
      "metadata": {
        "id": "PQpudzxJ5kCB"
      },
      "execution_count": 16,
      "outputs": []
    },
    {
      "cell_type": "markdown",
      "source": [
        "##Comparación con datos del modelo"
      ],
      "metadata": {
        "id": "wtGxmEpZtXrP"
      }
    },
    {
      "cell_type": "code",
      "source": [
        "print('En el modelo hay 2661 empresas, 231 de alto crecimiento y 10 gacelas: ', 231*100/2661, '% alto crecimiento y ', 10*100/2661, '% gacelas')\n",
        "print('En el resto de startups hay ', len(data), ' empresas, 40 de alto crecimiento y 1 gacela: ', 40*100/len(data), '% alto crecimiento y ', 1*100/len(data), '% gacelas')"
      ],
      "metadata": {
        "colab": {
          "base_uri": "https://localhost:8080/"
        },
        "id": "avGTOTZRtDR-",
        "outputId": "49d76636-fdf4-498f-d9fc-b8cd7e73f04f"
      },
      "execution_count": 7,
      "outputs": [
        {
          "output_type": "stream",
          "name": "stdout",
          "text": [
            "En el modelo hay 2661 empresas, 231 de alto crecimiento y 10 gacelas:  8.680947012401353 % alto crecimiento y  0.37579857196542654 % gacelas\n",
            "En el resto de startups hay  1131  empresas, 40 de alto crecimiento y 1 gacela:  3.5366931918656057 % alto crecimiento y  0.08841732979664015 % gacelas\n"
          ]
        }
      ]
    }
  ]
}