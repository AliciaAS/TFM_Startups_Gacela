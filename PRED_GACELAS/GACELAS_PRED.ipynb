{
  "nbformat": 4,
  "nbformat_minor": 0,
  "metadata": {
    "colab": {
      "provenance": []
    },
    "kernelspec": {
      "name": "python3",
      "display_name": "Python 3"
    },
    "language_info": {
      "name": "python"
    }
  },
  "cells": [
    {
      "cell_type": "markdown",
      "source": [
        "#PREDICCIÓN EMPRESAS GACELA"
      ],
      "metadata": {
        "id": "C9ckSKvv2ko-"
      }
    },
    {
      "cell_type": "markdown",
      "source": [
        "En base a las predicciones realizadas de empresas de alto crecimiento y de ventas, se calculan las empresas gacela. "
      ],
      "metadata": {
        "id": "KnacelaB2nP5"
      }
    },
    {
      "cell_type": "code",
      "execution_count": 6,
      "metadata": {
        "id": "b-Bg1NXT66FF"
      },
      "outputs": [],
      "source": [
        "#Importación de paquetes\n",
        "import pandas as pd\n",
        "import numpy as np\n",
        "import seaborn as sns\n",
        "import missingno\n",
        "import matplotlib.pyplot as plt"
      ]
    },
    {
      "cell_type": "code",
      "source": [
        "ventas=pd.read_csv('no_modelo_ventas.csv')\n",
        "altocrec=pd.read_csv('no_modelo_altoCrec2.csv')"
      ],
      "metadata": {
        "id": "CIt8sVBL2y36"
      },
      "execution_count": 7,
      "outputs": []
    },
    {
      "cell_type": "code",
      "source": [
        "data = ventas.copy()\n",
        "data['ALTO_CRECIMIENTO_PRED']=altocrec['ALTO_CRECIMIENTO_PRED']"
      ],
      "metadata": {
        "id": "YjKvWEp34LlN"
      },
      "execution_count": 8,
      "outputs": []
    },
    {
      "cell_type": "code",
      "source": [
        "gacela_pred=[]\n",
        "for i in range(len(data)):\n",
        "  if data.iloc[i]['EMP_1'] >= 10 and data.iloc[i]['ALTO_CRECIMIENTO_PRED']==1 and data.iloc[i]['VENTAS_PRED'] >=500:\n",
        "    gacela_pred.append(1)\n",
        "  else:\n",
        "    gacela_pred.append(0)\n",
        "data['GACELA_PRED']=gacela_pred"
      ],
      "metadata": {
        "id": "5rQmlr1g4bMD"
      },
      "execution_count": 9,
      "outputs": []
    },
    {
      "cell_type": "code",
      "source": [
        "print('Nº Empresas gacela predichas: ', len(data[data['GACELA_PRED']==1]), ' de ', len(data), ' empresas')"
      ],
      "metadata": {
        "colab": {
          "base_uri": "https://localhost:8080/"
        },
        "id": "TjdjQJg35Ou5",
        "outputId": "818fcd40-abf8-4655-e0f4-e072ea76598a"
      },
      "execution_count": 10,
      "outputs": [
        {
          "output_type": "stream",
          "name": "stdout",
          "text": [
            "Nº Empresas gacela predichas:  0  de  1236  empresas\n"
          ]
        }
      ]
    },
    {
      "cell_type": "markdown",
      "source": [
        "Añadimos las columnas de CNAE_DESCRIPTION y ORGANISMO para el análisis de datos"
      ],
      "metadata": {
        "id": "VYe1IqyYjj8w"
      }
    },
    {
      "cell_type": "code",
      "source": [
        "data2=pd.read_csv('data2.csv')\n",
        "data['CNAE_DESCRIPCION']=data2['CNAE_DESCRIPCION']\n",
        "data['ORGANISMO']=data2['ORGANISMO']"
      ],
      "metadata": {
        "id": "HTdo4pjNjouu"
      },
      "execution_count": 11,
      "outputs": []
    },
    {
      "cell_type": "code",
      "source": [
        "#Salvamos el dataset con las predicciones\n",
        "data.to_csv('no_modelo_final.csv')\n"
      ],
      "metadata": {
        "id": "PQpudzxJ5kCB"
      },
      "execution_count": 12,
      "outputs": []
    }
  ]
}