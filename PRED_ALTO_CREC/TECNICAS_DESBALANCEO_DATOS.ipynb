{
  "nbformat": 4,
  "nbformat_minor": 0,
  "metadata": {
    "colab": {
      "provenance": [],
      "collapsed_sections": [
        "ujhCnfrF5a1r",
        "nLYct2277CGP"
      ]
    },
    "kernelspec": {
      "name": "python3",
      "display_name": "Python 3"
    },
    "language_info": {
      "name": "python"
    }
  },
  "cells": [
    {
      "cell_type": "markdown",
      "source": [
        "#Técnicas desbalanceo datos"
      ],
      "metadata": {
        "id": "iPnmfMte4RYJ"
      }
    },
    {
      "cell_type": "markdown",
      "source": [
        "##Importación de paquetes y carga de datos "
      ],
      "metadata": {
        "id": "44wKjzPf4Vuy"
      }
    },
    {
      "cell_type": "code",
      "execution_count": 185,
      "metadata": {
        "id": "zcAF6uYH4NT3"
      },
      "outputs": [],
      "source": [
        "# Import libraries\n",
        "import pandas as pd\n",
        "import numpy as np\n",
        "import seaborn as sns\n",
        "import missingno\n",
        "import datetime\n",
        "import matplotlib.pyplot as plt\n",
        "from sklearn.model_selection import train_test_split\n",
        "from sklearn.tree import DecisionTreeClassifier\n",
        "from sklearn import tree\n",
        "from sklearn.metrics import accuracy_score, confusion_matrix, average_precision_score, recall_score\n",
        "from sklearn.ensemble import RandomForestClassifier, IsolationForest\n",
        "from sklearn.model_selection import KFold, cross_val_score"
      ]
    },
    {
      "cell_type": "markdown",
      "source": [
        "Carga de datos"
      ],
      "metadata": {
        "id": "jKAFxV2G4q5M"
      }
    },
    {
      "cell_type": "code",
      "source": [
        "data=pd.read_csv('df_nietos2.csv')\n",
        "data.head()"
      ],
      "metadata": {
        "colab": {
          "base_uri": "https://localhost:8080/",
          "height": 525
        },
        "id": "QnjWa_WM4sdr",
        "outputId": "05677872-d9d0-43cd-b8cb-5a6908a43845"
      },
      "execution_count": 186,
      "outputs": [
        {
          "output_type": "execute_result",
          "data": {
            "text/plain": [
              "   Unnamed: 0      ID  CNAE  \\\n",
              "0           0  100017  7219   \n",
              "1           1  100017  7219   \n",
              "2           2  100017  7219   \n",
              "3           3  100020  2822   \n",
              "4           4  100020  2822   \n",
              "\n",
              "                                    CNAE_DESCRIPCION IMPORT_EXPORT  \\\n",
              "0  Otra investigación y desarrollo experimental e...          Nada   \n",
              "1  Otra investigación y desarrollo experimental e...          Nada   \n",
              "2  Otra investigación y desarrollo experimental e...          Nada   \n",
              "3  Fabricación de maquinaria de elevación y manip...          Nada   \n",
              "4  Fabricación de maquinaria de elevación y manip...          Nada   \n",
              "\n",
              "     ULT_ACTOMERCANTIL   TAM_EMPRESA Estado  ACC_EXTRAN  ACC_EMPRESA  ...  \\\n",
              "0  2020-12-14 01:00:00  Microempresa   Viva         NaN          NaN  ...   \n",
              "1  2020-12-14 01:00:00  Microempresa   Viva         NaN          NaN  ...   \n",
              "2  2020-12-14 01:00:00  Microempresa   Viva         NaN          NaN  ...   \n",
              "3  2019-02-04 01:00:00       Pequeña   Viva         NaN          NaN  ...   \n",
              "4  2019-02-04 01:00:00       Pequeña   Viva         NaN          NaN  ...   \n",
              "\n",
              "   A-17-DIF_CAMBIO_34_diff A-17-DIF_CAMBIO_23_diff A-17-DIF_CAMBIO_12_diff  \\\n",
              "0                      NaN                     NaN                     NaN   \n",
              "1                      NaN                     NaN                     NaN   \n",
              "2                      NaN                     NaN                     NaN   \n",
              "3                      NaN                     NaN                     NaN   \n",
              "4                      NaN                     NaN                     NaN   \n",
              "\n",
              "   A-20-IMPUESTOS_34_diff A-20-IMPUESTOS_23_diff A-20-IMPUESTOS_12_diff  \\\n",
              "0                0.222222                    inf                    NaN   \n",
              "1                0.222222                    inf                    NaN   \n",
              "2                0.222222                    inf                    NaN   \n",
              "3                     NaN              -0.084848               0.666667   \n",
              "4                     NaN              -0.084848               0.666667   \n",
              "\n",
              "  Subvencion ALTO_CRECIMIENTO_CALCU  GACELA_CALCU  MODELO_CALCU  \n",
              "0          1                      0             0             1  \n",
              "1          1                      0             0             1  \n",
              "2          1                      0             0             1  \n",
              "3          1                      0             0             0  \n",
              "4          1                      0             0             0  \n",
              "\n",
              "[5 rows x 209 columns]"
            ],
            "text/html": [
              "\n",
              "  <div id=\"df-9135f945-4ada-42ff-b073-4388bdad12a6\">\n",
              "    <div class=\"colab-df-container\">\n",
              "      <div>\n",
              "<style scoped>\n",
              "    .dataframe tbody tr th:only-of-type {\n",
              "        vertical-align: middle;\n",
              "    }\n",
              "\n",
              "    .dataframe tbody tr th {\n",
              "        vertical-align: top;\n",
              "    }\n",
              "\n",
              "    .dataframe thead th {\n",
              "        text-align: right;\n",
              "    }\n",
              "</style>\n",
              "<table border=\"1\" class=\"dataframe\">\n",
              "  <thead>\n",
              "    <tr style=\"text-align: right;\">\n",
              "      <th></th>\n",
              "      <th>Unnamed: 0</th>\n",
              "      <th>ID</th>\n",
              "      <th>CNAE</th>\n",
              "      <th>CNAE_DESCRIPCION</th>\n",
              "      <th>IMPORT_EXPORT</th>\n",
              "      <th>ULT_ACTOMERCANTIL</th>\n",
              "      <th>TAM_EMPRESA</th>\n",
              "      <th>Estado</th>\n",
              "      <th>ACC_EXTRAN</th>\n",
              "      <th>ACC_EMPRESA</th>\n",
              "      <th>...</th>\n",
              "      <th>A-17-DIF_CAMBIO_34_diff</th>\n",
              "      <th>A-17-DIF_CAMBIO_23_diff</th>\n",
              "      <th>A-17-DIF_CAMBIO_12_diff</th>\n",
              "      <th>A-20-IMPUESTOS_34_diff</th>\n",
              "      <th>A-20-IMPUESTOS_23_diff</th>\n",
              "      <th>A-20-IMPUESTOS_12_diff</th>\n",
              "      <th>Subvencion</th>\n",
              "      <th>ALTO_CRECIMIENTO_CALCU</th>\n",
              "      <th>GACELA_CALCU</th>\n",
              "      <th>MODELO_CALCU</th>\n",
              "    </tr>\n",
              "  </thead>\n",
              "  <tbody>\n",
              "    <tr>\n",
              "      <th>0</th>\n",
              "      <td>0</td>\n",
              "      <td>100017</td>\n",
              "      <td>7219</td>\n",
              "      <td>Otra investigación y desarrollo experimental e...</td>\n",
              "      <td>Nada</td>\n",
              "      <td>2020-12-14 01:00:00</td>\n",
              "      <td>Microempresa</td>\n",
              "      <td>Viva</td>\n",
              "      <td>NaN</td>\n",
              "      <td>NaN</td>\n",
              "      <td>...</td>\n",
              "      <td>NaN</td>\n",
              "      <td>NaN</td>\n",
              "      <td>NaN</td>\n",
              "      <td>0.222222</td>\n",
              "      <td>inf</td>\n",
              "      <td>NaN</td>\n",
              "      <td>1</td>\n",
              "      <td>0</td>\n",
              "      <td>0</td>\n",
              "      <td>1</td>\n",
              "    </tr>\n",
              "    <tr>\n",
              "      <th>1</th>\n",
              "      <td>1</td>\n",
              "      <td>100017</td>\n",
              "      <td>7219</td>\n",
              "      <td>Otra investigación y desarrollo experimental e...</td>\n",
              "      <td>Nada</td>\n",
              "      <td>2020-12-14 01:00:00</td>\n",
              "      <td>Microempresa</td>\n",
              "      <td>Viva</td>\n",
              "      <td>NaN</td>\n",
              "      <td>NaN</td>\n",
              "      <td>...</td>\n",
              "      <td>NaN</td>\n",
              "      <td>NaN</td>\n",
              "      <td>NaN</td>\n",
              "      <td>0.222222</td>\n",
              "      <td>inf</td>\n",
              "      <td>NaN</td>\n",
              "      <td>1</td>\n",
              "      <td>0</td>\n",
              "      <td>0</td>\n",
              "      <td>1</td>\n",
              "    </tr>\n",
              "    <tr>\n",
              "      <th>2</th>\n",
              "      <td>2</td>\n",
              "      <td>100017</td>\n",
              "      <td>7219</td>\n",
              "      <td>Otra investigación y desarrollo experimental e...</td>\n",
              "      <td>Nada</td>\n",
              "      <td>2020-12-14 01:00:00</td>\n",
              "      <td>Microempresa</td>\n",
              "      <td>Viva</td>\n",
              "      <td>NaN</td>\n",
              "      <td>NaN</td>\n",
              "      <td>...</td>\n",
              "      <td>NaN</td>\n",
              "      <td>NaN</td>\n",
              "      <td>NaN</td>\n",
              "      <td>0.222222</td>\n",
              "      <td>inf</td>\n",
              "      <td>NaN</td>\n",
              "      <td>1</td>\n",
              "      <td>0</td>\n",
              "      <td>0</td>\n",
              "      <td>1</td>\n",
              "    </tr>\n",
              "    <tr>\n",
              "      <th>3</th>\n",
              "      <td>3</td>\n",
              "      <td>100020</td>\n",
              "      <td>2822</td>\n",
              "      <td>Fabricación de maquinaria de elevación y manip...</td>\n",
              "      <td>Nada</td>\n",
              "      <td>2019-02-04 01:00:00</td>\n",
              "      <td>Pequeña</td>\n",
              "      <td>Viva</td>\n",
              "      <td>NaN</td>\n",
              "      <td>NaN</td>\n",
              "      <td>...</td>\n",
              "      <td>NaN</td>\n",
              "      <td>NaN</td>\n",
              "      <td>NaN</td>\n",
              "      <td>NaN</td>\n",
              "      <td>-0.084848</td>\n",
              "      <td>0.666667</td>\n",
              "      <td>1</td>\n",
              "      <td>0</td>\n",
              "      <td>0</td>\n",
              "      <td>0</td>\n",
              "    </tr>\n",
              "    <tr>\n",
              "      <th>4</th>\n",
              "      <td>4</td>\n",
              "      <td>100020</td>\n",
              "      <td>2822</td>\n",
              "      <td>Fabricación de maquinaria de elevación y manip...</td>\n",
              "      <td>Nada</td>\n",
              "      <td>2019-02-04 01:00:00</td>\n",
              "      <td>Pequeña</td>\n",
              "      <td>Viva</td>\n",
              "      <td>NaN</td>\n",
              "      <td>NaN</td>\n",
              "      <td>...</td>\n",
              "      <td>NaN</td>\n",
              "      <td>NaN</td>\n",
              "      <td>NaN</td>\n",
              "      <td>NaN</td>\n",
              "      <td>-0.084848</td>\n",
              "      <td>0.666667</td>\n",
              "      <td>1</td>\n",
              "      <td>0</td>\n",
              "      <td>0</td>\n",
              "      <td>0</td>\n",
              "    </tr>\n",
              "  </tbody>\n",
              "</table>\n",
              "<p>5 rows × 209 columns</p>\n",
              "</div>\n",
              "      <button class=\"colab-df-convert\" onclick=\"convertToInteractive('df-9135f945-4ada-42ff-b073-4388bdad12a6')\"\n",
              "              title=\"Convert this dataframe to an interactive table.\"\n",
              "              style=\"display:none;\">\n",
              "        \n",
              "  <svg xmlns=\"http://www.w3.org/2000/svg\" height=\"24px\"viewBox=\"0 0 24 24\"\n",
              "       width=\"24px\">\n",
              "    <path d=\"M0 0h24v24H0V0z\" fill=\"none\"/>\n",
              "    <path d=\"M18.56 5.44l.94 2.06.94-2.06 2.06-.94-2.06-.94-.94-2.06-.94 2.06-2.06.94zm-11 1L8.5 8.5l.94-2.06 2.06-.94-2.06-.94L8.5 2.5l-.94 2.06-2.06.94zm10 10l.94 2.06.94-2.06 2.06-.94-2.06-.94-.94-2.06-.94 2.06-2.06.94z\"/><path d=\"M17.41 7.96l-1.37-1.37c-.4-.4-.92-.59-1.43-.59-.52 0-1.04.2-1.43.59L10.3 9.45l-7.72 7.72c-.78.78-.78 2.05 0 2.83L4 21.41c.39.39.9.59 1.41.59.51 0 1.02-.2 1.41-.59l7.78-7.78 2.81-2.81c.8-.78.8-2.07 0-2.86zM5.41 20L4 18.59l7.72-7.72 1.47 1.35L5.41 20z\"/>\n",
              "  </svg>\n",
              "      </button>\n",
              "      \n",
              "  <style>\n",
              "    .colab-df-container {\n",
              "      display:flex;\n",
              "      flex-wrap:wrap;\n",
              "      gap: 12px;\n",
              "    }\n",
              "\n",
              "    .colab-df-convert {\n",
              "      background-color: #E8F0FE;\n",
              "      border: none;\n",
              "      border-radius: 50%;\n",
              "      cursor: pointer;\n",
              "      display: none;\n",
              "      fill: #1967D2;\n",
              "      height: 32px;\n",
              "      padding: 0 0 0 0;\n",
              "      width: 32px;\n",
              "    }\n",
              "\n",
              "    .colab-df-convert:hover {\n",
              "      background-color: #E2EBFA;\n",
              "      box-shadow: 0px 1px 2px rgba(60, 64, 67, 0.3), 0px 1px 3px 1px rgba(60, 64, 67, 0.15);\n",
              "      fill: #174EA6;\n",
              "    }\n",
              "\n",
              "    [theme=dark] .colab-df-convert {\n",
              "      background-color: #3B4455;\n",
              "      fill: #D2E3FC;\n",
              "    }\n",
              "\n",
              "    [theme=dark] .colab-df-convert:hover {\n",
              "      background-color: #434B5C;\n",
              "      box-shadow: 0px 1px 3px 1px rgba(0, 0, 0, 0.15);\n",
              "      filter: drop-shadow(0px 1px 2px rgba(0, 0, 0, 0.3));\n",
              "      fill: #FFFFFF;\n",
              "    }\n",
              "  </style>\n",
              "\n",
              "      <script>\n",
              "        const buttonEl =\n",
              "          document.querySelector('#df-9135f945-4ada-42ff-b073-4388bdad12a6 button.colab-df-convert');\n",
              "        buttonEl.style.display =\n",
              "          google.colab.kernel.accessAllowed ? 'block' : 'none';\n",
              "\n",
              "        async function convertToInteractive(key) {\n",
              "          const element = document.querySelector('#df-9135f945-4ada-42ff-b073-4388bdad12a6');\n",
              "          const dataTable =\n",
              "            await google.colab.kernel.invokeFunction('convertToInteractive',\n",
              "                                                     [key], {});\n",
              "          if (!dataTable) return;\n",
              "\n",
              "          const docLinkHtml = 'Like what you see? Visit the ' +\n",
              "            '<a target=\"_blank\" href=https://colab.research.google.com/notebooks/data_table.ipynb>data table notebook</a>'\n",
              "            + ' to learn more about interactive tables.';\n",
              "          element.innerHTML = '';\n",
              "          dataTable['output_type'] = 'display_data';\n",
              "          await google.colab.output.renderOutput(dataTable, element);\n",
              "          const docLink = document.createElement('div');\n",
              "          docLink.innerHTML = docLinkHtml;\n",
              "          element.appendChild(docLink);\n",
              "        }\n",
              "      </script>\n",
              "    </div>\n",
              "  </div>\n",
              "  "
            ]
          },
          "metadata": {},
          "execution_count": 186
        }
      ]
    },
    {
      "cell_type": "code",
      "source": [
        "data.drop(columns=['Unnamed: 0'], inplace=True, axis=1)"
      ],
      "metadata": {
        "id": "2x21mt-K8rew"
      },
      "execution_count": 187,
      "outputs": []
    },
    {
      "cell_type": "markdown",
      "source": [
        "##Preparación de datos para el entrenamiento"
      ],
      "metadata": {
        "id": "-Oqi1zHU5Urt"
      }
    },
    {
      "cell_type": "markdown",
      "source": [
        "###Variables categóricas"
      ],
      "metadata": {
        "id": "ujhCnfrF5a1r"
      }
    },
    {
      "cell_type": "code",
      "source": [
        "data.describe(include='object').T"
      ],
      "metadata": {
        "colab": {
          "base_uri": "https://localhost:8080/",
          "height": 0
        },
        "id": "95ZgSwE25Z03",
        "outputId": "3791d6d4-85a2-4eae-a4f7-2d6dec1a2d15"
      },
      "execution_count": 188,
      "outputs": [
        {
          "output_type": "execute_result",
          "data": {
            "text/plain": [
              "                  count unique  \\\n",
              "CNAE_DESCRIPCION   2661    174   \n",
              "IMPORT_EXPORT      2661      4   \n",
              "ULT_ACTOMERCANTIL  2661    680   \n",
              "TAM_EMPRESA        2661      5   \n",
              "Estado             2661      2   \n",
              "INFO_ADMIN         2661      1   \n",
              "ACT_MEDIOS         1230      3   \n",
              "ESTRUCTURA           33      2   \n",
              "MUJERES_CONSEJO    2661      2   \n",
              "InicioActividad    2661    571   \n",
              "frmJuridica        2661      3   \n",
              "DESCRIPCIÓN        2649    768   \n",
              "ORGANISMO          2642    234   \n",
              "\n",
              "                                                                 top  freq  \n",
              "CNAE_DESCRIPCION             Actividades de programación informática   341  \n",
              "IMPORT_EXPORT                                                   Nada  2334  \n",
              "ULT_ACTOMERCANTIL                                2022-05-20 02:00:00    61  \n",
              "TAM_EMPRESA                                             Microempresa  2251  \n",
              "Estado                                                          Viva  2660  \n",
              "INFO_ADMIN                                                        SI  2661  \n",
              "ACT_MEDIOS                                           Activa en Redes   706  \n",
              "ESTRUCTURA                                Cabecera Grupo Consolidado    19  \n",
              "MUJERES_CONSEJO                                                   NO  2267  \n",
              "InicioActividad                                  2016-12-22 01:00:00    60  \n",
              "frmJuridica                                                        B  2497  \n",
              "DESCRIPCIÓN        REAFIANZAMIENTO DEL PROGRAMA DE AVALES PARA PY...   113  \n",
              "ORGANISMO          MINISTERIO DE INDUSTRIA, COMERCIO Y TURISMO - ...   301  "
            ],
            "text/html": [
              "\n",
              "  <div id=\"df-a896106f-1360-4659-b3bc-50aad23f8698\">\n",
              "    <div class=\"colab-df-container\">\n",
              "      <div>\n",
              "<style scoped>\n",
              "    .dataframe tbody tr th:only-of-type {\n",
              "        vertical-align: middle;\n",
              "    }\n",
              "\n",
              "    .dataframe tbody tr th {\n",
              "        vertical-align: top;\n",
              "    }\n",
              "\n",
              "    .dataframe thead th {\n",
              "        text-align: right;\n",
              "    }\n",
              "</style>\n",
              "<table border=\"1\" class=\"dataframe\">\n",
              "  <thead>\n",
              "    <tr style=\"text-align: right;\">\n",
              "      <th></th>\n",
              "      <th>count</th>\n",
              "      <th>unique</th>\n",
              "      <th>top</th>\n",
              "      <th>freq</th>\n",
              "    </tr>\n",
              "  </thead>\n",
              "  <tbody>\n",
              "    <tr>\n",
              "      <th>CNAE_DESCRIPCION</th>\n",
              "      <td>2661</td>\n",
              "      <td>174</td>\n",
              "      <td>Actividades de programación informática</td>\n",
              "      <td>341</td>\n",
              "    </tr>\n",
              "    <tr>\n",
              "      <th>IMPORT_EXPORT</th>\n",
              "      <td>2661</td>\n",
              "      <td>4</td>\n",
              "      <td>Nada</td>\n",
              "      <td>2334</td>\n",
              "    </tr>\n",
              "    <tr>\n",
              "      <th>ULT_ACTOMERCANTIL</th>\n",
              "      <td>2661</td>\n",
              "      <td>680</td>\n",
              "      <td>2022-05-20 02:00:00</td>\n",
              "      <td>61</td>\n",
              "    </tr>\n",
              "    <tr>\n",
              "      <th>TAM_EMPRESA</th>\n",
              "      <td>2661</td>\n",
              "      <td>5</td>\n",
              "      <td>Microempresa</td>\n",
              "      <td>2251</td>\n",
              "    </tr>\n",
              "    <tr>\n",
              "      <th>Estado</th>\n",
              "      <td>2661</td>\n",
              "      <td>2</td>\n",
              "      <td>Viva</td>\n",
              "      <td>2660</td>\n",
              "    </tr>\n",
              "    <tr>\n",
              "      <th>INFO_ADMIN</th>\n",
              "      <td>2661</td>\n",
              "      <td>1</td>\n",
              "      <td>SI</td>\n",
              "      <td>2661</td>\n",
              "    </tr>\n",
              "    <tr>\n",
              "      <th>ACT_MEDIOS</th>\n",
              "      <td>1230</td>\n",
              "      <td>3</td>\n",
              "      <td>Activa en Redes</td>\n",
              "      <td>706</td>\n",
              "    </tr>\n",
              "    <tr>\n",
              "      <th>ESTRUCTURA</th>\n",
              "      <td>33</td>\n",
              "      <td>2</td>\n",
              "      <td>Cabecera Grupo Consolidado</td>\n",
              "      <td>19</td>\n",
              "    </tr>\n",
              "    <tr>\n",
              "      <th>MUJERES_CONSEJO</th>\n",
              "      <td>2661</td>\n",
              "      <td>2</td>\n",
              "      <td>NO</td>\n",
              "      <td>2267</td>\n",
              "    </tr>\n",
              "    <tr>\n",
              "      <th>InicioActividad</th>\n",
              "      <td>2661</td>\n",
              "      <td>571</td>\n",
              "      <td>2016-12-22 01:00:00</td>\n",
              "      <td>60</td>\n",
              "    </tr>\n",
              "    <tr>\n",
              "      <th>frmJuridica</th>\n",
              "      <td>2661</td>\n",
              "      <td>3</td>\n",
              "      <td>B</td>\n",
              "      <td>2497</td>\n",
              "    </tr>\n",
              "    <tr>\n",
              "      <th>DESCRIPCIÓN</th>\n",
              "      <td>2649</td>\n",
              "      <td>768</td>\n",
              "      <td>REAFIANZAMIENTO DEL PROGRAMA DE AVALES PARA PY...</td>\n",
              "      <td>113</td>\n",
              "    </tr>\n",
              "    <tr>\n",
              "      <th>ORGANISMO</th>\n",
              "      <td>2642</td>\n",
              "      <td>234</td>\n",
              "      <td>MINISTERIO DE INDUSTRIA, COMERCIO Y TURISMO - ...</td>\n",
              "      <td>301</td>\n",
              "    </tr>\n",
              "  </tbody>\n",
              "</table>\n",
              "</div>\n",
              "      <button class=\"colab-df-convert\" onclick=\"convertToInteractive('df-a896106f-1360-4659-b3bc-50aad23f8698')\"\n",
              "              title=\"Convert this dataframe to an interactive table.\"\n",
              "              style=\"display:none;\">\n",
              "        \n",
              "  <svg xmlns=\"http://www.w3.org/2000/svg\" height=\"24px\"viewBox=\"0 0 24 24\"\n",
              "       width=\"24px\">\n",
              "    <path d=\"M0 0h24v24H0V0z\" fill=\"none\"/>\n",
              "    <path d=\"M18.56 5.44l.94 2.06.94-2.06 2.06-.94-2.06-.94-.94-2.06-.94 2.06-2.06.94zm-11 1L8.5 8.5l.94-2.06 2.06-.94-2.06-.94L8.5 2.5l-.94 2.06-2.06.94zm10 10l.94 2.06.94-2.06 2.06-.94-2.06-.94-.94-2.06-.94 2.06-2.06.94z\"/><path d=\"M17.41 7.96l-1.37-1.37c-.4-.4-.92-.59-1.43-.59-.52 0-1.04.2-1.43.59L10.3 9.45l-7.72 7.72c-.78.78-.78 2.05 0 2.83L4 21.41c.39.39.9.59 1.41.59.51 0 1.02-.2 1.41-.59l7.78-7.78 2.81-2.81c.8-.78.8-2.07 0-2.86zM5.41 20L4 18.59l7.72-7.72 1.47 1.35L5.41 20z\"/>\n",
              "  </svg>\n",
              "      </button>\n",
              "      \n",
              "  <style>\n",
              "    .colab-df-container {\n",
              "      display:flex;\n",
              "      flex-wrap:wrap;\n",
              "      gap: 12px;\n",
              "    }\n",
              "\n",
              "    .colab-df-convert {\n",
              "      background-color: #E8F0FE;\n",
              "      border: none;\n",
              "      border-radius: 50%;\n",
              "      cursor: pointer;\n",
              "      display: none;\n",
              "      fill: #1967D2;\n",
              "      height: 32px;\n",
              "      padding: 0 0 0 0;\n",
              "      width: 32px;\n",
              "    }\n",
              "\n",
              "    .colab-df-convert:hover {\n",
              "      background-color: #E2EBFA;\n",
              "      box-shadow: 0px 1px 2px rgba(60, 64, 67, 0.3), 0px 1px 3px 1px rgba(60, 64, 67, 0.15);\n",
              "      fill: #174EA6;\n",
              "    }\n",
              "\n",
              "    [theme=dark] .colab-df-convert {\n",
              "      background-color: #3B4455;\n",
              "      fill: #D2E3FC;\n",
              "    }\n",
              "\n",
              "    [theme=dark] .colab-df-convert:hover {\n",
              "      background-color: #434B5C;\n",
              "      box-shadow: 0px 1px 3px 1px rgba(0, 0, 0, 0.15);\n",
              "      filter: drop-shadow(0px 1px 2px rgba(0, 0, 0, 0.3));\n",
              "      fill: #FFFFFF;\n",
              "    }\n",
              "  </style>\n",
              "\n",
              "      <script>\n",
              "        const buttonEl =\n",
              "          document.querySelector('#df-a896106f-1360-4659-b3bc-50aad23f8698 button.colab-df-convert');\n",
              "        buttonEl.style.display =\n",
              "          google.colab.kernel.accessAllowed ? 'block' : 'none';\n",
              "\n",
              "        async function convertToInteractive(key) {\n",
              "          const element = document.querySelector('#df-a896106f-1360-4659-b3bc-50aad23f8698');\n",
              "          const dataTable =\n",
              "            await google.colab.kernel.invokeFunction('convertToInteractive',\n",
              "                                                     [key], {});\n",
              "          if (!dataTable) return;\n",
              "\n",
              "          const docLinkHtml = 'Like what you see? Visit the ' +\n",
              "            '<a target=\"_blank\" href=https://colab.research.google.com/notebooks/data_table.ipynb>data table notebook</a>'\n",
              "            + ' to learn more about interactive tables.';\n",
              "          element.innerHTML = '';\n",
              "          dataTable['output_type'] = 'display_data';\n",
              "          await google.colab.output.renderOutput(dataTable, element);\n",
              "          const docLink = document.createElement('div');\n",
              "          docLink.innerHTML = docLinkHtml;\n",
              "          element.appendChild(docLink);\n",
              "        }\n",
              "      </script>\n",
              "    </div>\n",
              "  </div>\n",
              "  "
            ]
          },
          "metadata": {},
          "execution_count": 188
        }
      ]
    },
    {
      "cell_type": "markdown",
      "source": [
        "Primero cambiamos las fechas de Inicio Actividad y Último Acto mercantil para quedarnos solo con el año"
      ],
      "metadata": {
        "id": "6kYFyjZN5qNJ"
      }
    },
    {
      "cell_type": "code",
      "source": [
        "data['InicioActividad'] = pd.to_datetime(data['InicioActividad'])\n",
        "data['ULT_ACTOMERCANTIL'] = pd.to_datetime(data['ULT_ACTOMERCANTIL'])"
      ],
      "metadata": {
        "id": "_Tx0BG4m6BHe"
      },
      "execution_count": 189,
      "outputs": []
    },
    {
      "cell_type": "code",
      "source": [
        "data['Inicio Actividad'] = data['InicioActividad'].dt.year\n",
        "data.drop(columns=['InicioActividad'], inplace=True, axis=1)\n",
        "sns.histplot(x = \"Inicio Actividad\", data = data)"
      ],
      "metadata": {
        "colab": {
          "base_uri": "https://localhost:8080/",
          "height": 0
        },
        "id": "4VH7Pa085wtG",
        "outputId": "d98f0da5-281c-4b4e-9733-8facb86918d9"
      },
      "execution_count": 190,
      "outputs": [
        {
          "output_type": "execute_result",
          "data": {
            "text/plain": [
              "<Axes: xlabel='Inicio Actividad', ylabel='Count'>"
            ]
          },
          "metadata": {},
          "execution_count": 190
        },
        {
          "output_type": "display_data",
          "data": {
            "text/plain": [
              "<Figure size 640x480 with 1 Axes>"
            ],
            "image/png": "[encoded data removed]"
          },
          "metadata": {}
        }
      ]
    },
    {
      "cell_type": "code",
      "source": [
        "data['ULT_ACTOMERCANTIL_Y'] = data['ULT_ACTOMERCANTIL'].dt.year\n",
        "data.drop(columns=['ULT_ACTOMERCANTIL'], inplace=True, axis=1)\n",
        "sns.histplot(x = \"ULT_ACTOMERCANTIL_Y\", data = data)"
      ],
      "metadata": {
        "colab": {
          "base_uri": "https://localhost:8080/",
          "height": 0
        },
        "id": "-4ufBA4Y55xJ",
        "outputId": "daa50a43-3f28-4d39-adbd-6ea97171df98"
      },
      "execution_count": 191,
      "outputs": [
        {
          "output_type": "execute_result",
          "data": {
            "text/plain": [
              "<Axes: xlabel='ULT_ACTOMERCANTIL_Y', ylabel='Count'>"
            ]
          },
          "metadata": {},
          "execution_count": 191
        },
        {
          "output_type": "display_data",
          "data": {
            "text/plain": [
              "<Figure size 640x480 with 1 Axes>"
            ],
            "image/png": "[encoded data removed]"
          },
          "metadata": {}
        }
      ]
    },
    {
      "cell_type": "markdown",
      "source": [
        "Por otro lado, la Descripción CNAE no la necesitamos ya que tenemos el código. La Organización que aporta la subvención y la descripción de la misma también lo podemos eliminar. "
      ],
      "metadata": {
        "id": "zVPianzC6f7e"
      }
    },
    {
      "cell_type": "code",
      "source": [
        "data.drop(columns=['CNAE_DESCRIPCION', 'DESCRIPCIÓN', 'ORGANISMO'], axis=1, inplace=True)"
      ],
      "metadata": {
        "id": "kDxuK9Aw6sKc"
      },
      "execution_count": 192,
      "outputs": []
    },
    {
      "cell_type": "markdown",
      "source": [
        "El resto de los datos categóricos los vamos a mantener. Posteriormente los pasaremos a numéricos para el entrenamiento del modelo. "
      ],
      "metadata": {
        "id": "TQZC9sqz66Ep"
      }
    },
    {
      "cell_type": "markdown",
      "source": [
        "###Tratamiento de datos faltantes"
      ],
      "metadata": {
        "id": "nLYct2277CGP"
      }
    },
    {
      "cell_type": "code",
      "source": [
        "missingno.matrix(data,sparkline=False, figsize=(10,5), fontsize=12, color=(0.27, 0.52, 1.0))"
      ],
      "metadata": {
        "colab": {
          "base_uri": "https://localhost:8080/",
          "height": 0
        },
        "id": "NQCLpUMl7EfX",
        "outputId": "d288354d-59b8-4dce-c2cb-5f63826f67b6"
      },
      "execution_count": 193,
      "outputs": [
        {
          "output_type": "execute_result",
          "data": {
            "text/plain": [
              "<Axes: >"
            ]
          },
          "metadata": {},
          "execution_count": 193
        },
        {
          "output_type": "display_data",
          "data": {
            "text/plain": [
              "<Figure size 1000x500 with 1 Axes>"
            ],
            "image/png": "[encoded data removed]"
          },
          "metadata": {}
        }
      ]
    },
    {
      "cell_type": "code",
      "source": [
        "# Calculamos el porcentaje de missing values para cada atributo\n",
        "percent_missing = data.isnull().sum() *100 / len(data)\n",
        "# Creamos un DataFrame con los porcentajes y el nombre de cada atributo\n",
        "missing_values_df = pd.DataFrame({'percent_missing': percent_missing})\n",
        "# Atributos con algun missing value\n",
        "missing_values_df[missing_values_df['percent_missing'] > 40]"
      ],
      "metadata": {
        "colab": {
          "base_uri": "https://localhost:8080/",
          "height": 0
        },
        "id": "BdS6pcP77j3v",
        "outputId": "4e82c593-1c2e-4a61-8a27-257acd0907fa"
      },
      "execution_count": 194,
      "outputs": [
        {
          "output_type": "execute_result",
          "data": {
            "text/plain": [
              "                         percent_missing\n",
              "ACC_EXTRAN                     95.415257\n",
              "ACC_EMPRESA                    71.063510\n",
              "NUMACCIONISTAS                 44.832770\n",
              "ACT_MEDIOS                     53.776776\n",
              "ESTRUCTURA                     98.759865\n",
              "...                                  ...\n",
              "A-15-GAS_FIN_12_diff           48.966554\n",
              "A-17-DIF_CAMBIO_34_diff        90.755355\n",
              "A-17-DIF_CAMBIO_23_diff        88.575723\n",
              "A-17-DIF_CAMBIO_12_diff        89.815859\n",
              "A-20-IMPUESTOS_34_diff         56.407366\n",
              "\n",
              "[139 rows x 1 columns]"
            ],
            "text/html": [
              "\n",
              "  <div id=\"df-a2649174-dd2c-4a0d-94f6-d7aa48c19723\">\n",
              "    <div class=\"colab-df-container\">\n",
              "      <div>\n",
              "<style scoped>\n",
              "    .dataframe tbody tr th:only-of-type {\n",
              "        vertical-align: middle;\n",
              "    }\n",
              "\n",
              "    .dataframe tbody tr th {\n",
              "        vertical-align: top;\n",
              "    }\n",
              "\n",
              "    .dataframe thead th {\n",
              "        text-align: right;\n",
              "    }\n",
              "</style>\n",
              "<table border=\"1\" class=\"dataframe\">\n",
              "  <thead>\n",
              "    <tr style=\"text-align: right;\">\n",
              "      <th></th>\n",
              "      <th>percent_missing</th>\n",
              "    </tr>\n",
              "  </thead>\n",
              "  <tbody>\n",
              "    <tr>\n",
              "      <th>ACC_EXTRAN</th>\n",
              "      <td>95.415257</td>\n",
              "    </tr>\n",
              "    <tr>\n",
              "      <th>ACC_EMPRESA</th>\n",
              "      <td>71.063510</td>\n",
              "    </tr>\n",
              "    <tr>\n",
              "      <th>NUMACCIONISTAS</th>\n",
              "      <td>44.832770</td>\n",
              "    </tr>\n",
              "    <tr>\n",
              "      <th>ACT_MEDIOS</th>\n",
              "      <td>53.776776</td>\n",
              "    </tr>\n",
              "    <tr>\n",
              "      <th>ESTRUCTURA</th>\n",
              "      <td>98.759865</td>\n",
              "    </tr>\n",
              "    <tr>\n",
              "      <th>...</th>\n",
              "      <td>...</td>\n",
              "    </tr>\n",
              "    <tr>\n",
              "      <th>A-15-GAS_FIN_12_diff</th>\n",
              "      <td>48.966554</td>\n",
              "    </tr>\n",
              "    <tr>\n",
              "      <th>A-17-DIF_CAMBIO_34_diff</th>\n",
              "      <td>90.755355</td>\n",
              "    </tr>\n",
              "    <tr>\n",
              "      <th>A-17-DIF_CAMBIO_23_diff</th>\n",
              "      <td>88.575723</td>\n",
              "    </tr>\n",
              "    <tr>\n",
              "      <th>A-17-DIF_CAMBIO_12_diff</th>\n",
              "      <td>89.815859</td>\n",
              "    </tr>\n",
              "    <tr>\n",
              "      <th>A-20-IMPUESTOS_34_diff</th>\n",
              "      <td>56.407366</td>\n",
              "    </tr>\n",
              "  </tbody>\n",
              "</table>\n",
              "<p>139 rows × 1 columns</p>\n",
              "</div>\n",
              "      <button class=\"colab-df-convert\" onclick=\"convertToInteractive('df-a2649174-dd2c-4a0d-94f6-d7aa48c19723')\"\n",
              "              title=\"Convert this dataframe to an interactive table.\"\n",
              "              style=\"display:none;\">\n",
              "        \n",
              "  <svg xmlns=\"http://www.w3.org/2000/svg\" height=\"24px\"viewBox=\"0 0 24 24\"\n",
              "       width=\"24px\">\n",
              "    <path d=\"M0 0h24v24H0V0z\" fill=\"none\"/>\n",
              "    <path d=\"M18.56 5.44l.94 2.06.94-2.06 2.06-.94-2.06-.94-.94-2.06-.94 2.06-2.06.94zm-11 1L8.5 8.5l.94-2.06 2.06-.94-2.06-.94L8.5 2.5l-.94 2.06-2.06.94zm10 10l.94 2.06.94-2.06 2.06-.94-2.06-.94-.94-2.06-.94 2.06-2.06.94z\"/><path d=\"M17.41 7.96l-1.37-1.37c-.4-.4-.92-.59-1.43-.59-.52 0-1.04.2-1.43.59L10.3 9.45l-7.72 7.72c-.78.78-.78 2.05 0 2.83L4 21.41c.39.39.9.59 1.41.59.51 0 1.02-.2 1.41-.59l7.78-7.78 2.81-2.81c.8-.78.8-2.07 0-2.86zM5.41 20L4 18.59l7.72-7.72 1.47 1.35L5.41 20z\"/>\n",
              "  </svg>\n",
              "      </button>\n",
              "      \n",
              "  <style>\n",
              "    .colab-df-container {\n",
              "      display:flex;\n",
              "      flex-wrap:wrap;\n",
              "      gap: 12px;\n",
              "    }\n",
              "\n",
              "    .colab-df-convert {\n",
              "      background-color: #E8F0FE;\n",
              "      border: none;\n",
              "      border-radius: 50%;\n",
              "      cursor: pointer;\n",
              "      display: none;\n",
              "      fill: #1967D2;\n",
              "      height: 32px;\n",
              "      padding: 0 0 0 0;\n",
              "      width: 32px;\n",
              "    }\n",
              "\n",
              "    .colab-df-convert:hover {\n",
              "      background-color: #E2EBFA;\n",
              "      box-shadow: 0px 1px 2px rgba(60, 64, 67, 0.3), 0px 1px 3px 1px rgba(60, 64, 67, 0.15);\n",
              "      fill: #174EA6;\n",
              "    }\n",
              "\n",
              "    [theme=dark] .colab-df-convert {\n",
              "      background-color: #3B4455;\n",
              "      fill: #D2E3FC;\n",
              "    }\n",
              "\n",
              "    [theme=dark] .colab-df-convert:hover {\n",
              "      background-color: #434B5C;\n",
              "      box-shadow: 0px 1px 3px 1px rgba(0, 0, 0, 0.15);\n",
              "      filter: drop-shadow(0px 1px 2px rgba(0, 0, 0, 0.3));\n",
              "      fill: #FFFFFF;\n",
              "    }\n",
              "  </style>\n",
              "\n",
              "      <script>\n",
              "        const buttonEl =\n",
              "          document.querySelector('#df-a2649174-dd2c-4a0d-94f6-d7aa48c19723 button.colab-df-convert');\n",
              "        buttonEl.style.display =\n",
              "          google.colab.kernel.accessAllowed ? 'block' : 'none';\n",
              "\n",
              "        async function convertToInteractive(key) {\n",
              "          const element = document.querySelector('#df-a2649174-dd2c-4a0d-94f6-d7aa48c19723');\n",
              "          const dataTable =\n",
              "            await google.colab.kernel.invokeFunction('convertToInteractive',\n",
              "                                                     [key], {});\n",
              "          if (!dataTable) return;\n",
              "\n",
              "          const docLinkHtml = 'Like what you see? Visit the ' +\n",
              "            '<a target=\"_blank\" href=https://colab.research.google.com/notebooks/data_table.ipynb>data table notebook</a>'\n",
              "            + ' to learn more about interactive tables.';\n",
              "          element.innerHTML = '';\n",
              "          dataTable['output_type'] = 'display_data';\n",
              "          await google.colab.output.renderOutput(dataTable, element);\n",
              "          const docLink = document.createElement('div');\n",
              "          docLink.innerHTML = docLinkHtml;\n",
              "          element.appendChild(docLink);\n",
              "        }\n",
              "      </script>\n",
              "    </div>\n",
              "  </div>\n",
              "  "
            ]
          },
          "metadata": {},
          "execution_count": 194
        }
      ]
    },
    {
      "cell_type": "markdown",
      "source": [
        "Todas las columnas anteriores tiene más de la mitad de los datos faltante, por lo que se procede a eliminarlas ya que la incertidumbre es muy alta"
      ],
      "metadata": {
        "id": "qUs9QApy7yN2"
      }
    },
    {
      "cell_type": "code",
      "source": [
        "missing_values_df_40= missing_values_df[missing_values_df['percent_missing'] > 40]\n",
        "df_missing = missing_values_df_40.T\n",
        "\n",
        "data2= data.drop(columns=list(df_missing.columns), axis=1)"
      ],
      "metadata": {
        "id": "gteamBdB76_T"
      },
      "execution_count": 195,
      "outputs": []
    },
    {
      "cell_type": "code",
      "source": [
        "missingno.matrix(data2,sparkline=False, figsize=(10,5), fontsize=12, color=(0.27, 0.52, 1.0))"
      ],
      "metadata": {
        "colab": {
          "base_uri": "https://localhost:8080/",
          "height": 0
        },
        "id": "KenXt7cZ9UW8",
        "outputId": "7e5030d1-b1ac-4ab8-9bc9-66b64ba2a59c"
      },
      "execution_count": 196,
      "outputs": [
        {
          "output_type": "execute_result",
          "data": {
            "text/plain": [
              "<Axes: >"
            ]
          },
          "metadata": {},
          "execution_count": 196
        },
        {
          "output_type": "display_data",
          "data": {
            "text/plain": [
              "<Figure size 1000x500 with 1 Axes>"
            ],
            "image/png": "[encoded data removed]"
          },
          "metadata": {}
        }
      ]
    },
    {
      "cell_type": "code",
      "source": [
        "# Calculamos el porcentaje de missing values para cada atributo\n",
        "percent_missing = data2.isnull().sum() * 100 / len(data)\n",
        "# Creamos un DataFrame con los porcentajes y el nombre de cada atributo\n",
        "missing_values_df = pd.DataFrame({'percent_missing': percent_missing})\n",
        "# Atributos con algun missing value\n",
        "missing_values_df[missing_values_df['percent_missing'] > 0]"
      ],
      "metadata": {
        "colab": {
          "base_uri": "https://localhost:8080/",
          "height": 0
        },
        "id": "wq1FFUCn9cqs",
        "outputId": "447e0d8a-3dca-4b33-b0a1-6c935582661d"
      },
      "execution_count": 197,
      "outputs": [
        {
          "output_type": "execute_result",
          "data": {
            "text/plain": [
              "                            percent_missing\n",
              "CARGOS_ADMIN                       0.150319\n",
              "AÑO CONCESION                      0.450958\n",
              "IMPORTE NOMINAL                    0.413378\n",
              "LIQ_1                              1.841413\n",
              "END_1                             22.209696\n",
              "EMP_1                             23.412251\n",
              "A-II-INM_MAT_1                    30.402104\n",
              "B-III-DEU_COM_1                    5.110861\n",
              "B-VII-EFECTIVO_1                   6.614055\n",
              "A-PN-1_FP_1                       23.299511\n",
              "C-V-ACREE_COM_CP_1                25.704622\n",
              "ROA_23_diff                       28.748591\n",
              "ROA_12_diff                        5.900038\n",
              "LIQ_23_diff                       29.124389\n",
              "LIQ_12_diff                        7.478392\n",
              "END_12_diff                       29.425028\n",
              "EMP_23_diff                       37.467118\n",
              "EMP_12_diff                       29.875986\n",
              "A-II-INM_MAT_12_diff              34.761368\n",
              "B-III-DEU_COM_23_diff             30.702743\n",
              "B-III-DEU_COM_12_diff             10.710259\n",
              "B-VII-EFECTIVO_23_diff            33.596392\n",
              "B-VII-EFECTIVO_12_diff            13.603908\n",
              "A-PN-1_FP_12_diff                 29.049230\n",
              "A-PN-1_FP_23_diff                 28.222473\n",
              "C-V-ACREE_COM_CP_12_diff          32.281097\n",
              "C-V-ACREE_COM_CP_23_diff          29.913566\n",
              "A-1-VENTAS_23_diff                25.817362\n",
              "A-1-VENTAS_12_diff                10.484780\n",
              "A-4-APROVISIONA_23_diff           33.446073\n",
              "A-4-APROVISIONA_12_diff           19.240887\n",
              "A-6-GASTOSPERSONAL_23_diff        27.433296\n",
              "A-6-GASTOSPERSONAL_12_diff        11.010898\n",
              "A-7-OTROSGASTOS_23_diff           23.074032\n",
              "A-7-OTROSGASTOS_12_diff            2.856069\n",
              "A-8-AMORT_INM_23_diff             34.949267\n",
              "A-8-AMORT_INM_12_diff             28.485532\n",
              "A-20-IMPUESTOS_23_diff            38.519354\n",
              "A-20-IMPUESTOS_12_diff            27.621195"
            ],
            "text/html": [
              "\n",
              "  <div id=\"df-7a3d1cae-a66d-4715-98ac-4838aceaa648\">\n",
              "    <div class=\"colab-df-container\">\n",
              "      <div>\n",
              "<style scoped>\n",
              "    .dataframe tbody tr th:only-of-type {\n",
              "        vertical-align: middle;\n",
              "    }\n",
              "\n",
              "    .dataframe tbody tr th {\n",
              "        vertical-align: top;\n",
              "    }\n",
              "\n",
              "    .dataframe thead th {\n",
              "        text-align: right;\n",
              "    }\n",
              "</style>\n",
              "<table border=\"1\" class=\"dataframe\">\n",
              "  <thead>\n",
              "    <tr style=\"text-align: right;\">\n",
              "      <th></th>\n",
              "      <th>percent_missing</th>\n",
              "    </tr>\n",
              "  </thead>\n",
              "  <tbody>\n",
              "    <tr>\n",
              "      <th>CARGOS_ADMIN</th>\n",
              "      <td>0.150319</td>\n",
              "    </tr>\n",
              "    <tr>\n",
              "      <th>AÑO CONCESION</th>\n",
              "      <td>0.450958</td>\n",
              "    </tr>\n",
              "    <tr>\n",
              "      <th>IMPORTE NOMINAL</th>\n",
              "      <td>0.413378</td>\n",
              "    </tr>\n",
              "    <tr>\n",
              "      <th>LIQ_1</th>\n",
              "      <td>1.841413</td>\n",
              "    </tr>\n",
              "    <tr>\n",
              "      <th>END_1</th>\n",
              "      <td>22.209696</td>\n",
              "    </tr>\n",
              "    <tr>\n",
              "      <th>EMP_1</th>\n",
              "      <td>23.412251</td>\n",
              "    </tr>\n",
              "    <tr>\n",
              "      <th>A-II-INM_MAT_1</th>\n",
              "      <td>30.402104</td>\n",
              "    </tr>\n",
              "    <tr>\n",
              "      <th>B-III-DEU_COM_1</th>\n",
              "      <td>5.110861</td>\n",
              "    </tr>\n",
              "    <tr>\n",
              "      <th>B-VII-EFECTIVO_1</th>\n",
              "      <td>6.614055</td>\n",
              "    </tr>\n",
              "    <tr>\n",
              "      <th>A-PN-1_FP_1</th>\n",
              "      <td>23.299511</td>\n",
              "    </tr>\n",
              "    <tr>\n",
              "      <th>C-V-ACREE_COM_CP_1</th>\n",
              "      <td>25.704622</td>\n",
              "    </tr>\n",
              "    <tr>\n",
              "      <th>ROA_23_diff</th>\n",
              "      <td>28.748591</td>\n",
              "    </tr>\n",
              "    <tr>\n",
              "      <th>ROA_12_diff</th>\n",
              "      <td>5.900038</td>\n",
              "    </tr>\n",
              "    <tr>\n",
              "      <th>LIQ_23_diff</th>\n",
              "      <td>29.124389</td>\n",
              "    </tr>\n",
              "    <tr>\n",
              "      <th>LIQ_12_diff</th>\n",
              "      <td>7.478392</td>\n",
              "    </tr>\n",
              "    <tr>\n",
              "      <th>END_12_diff</th>\n",
              "      <td>29.425028</td>\n",
              "    </tr>\n",
              "    <tr>\n",
              "      <th>EMP_23_diff</th>\n",
              "      <td>37.467118</td>\n",
              "    </tr>\n",
              "    <tr>\n",
              "      <th>EMP_12_diff</th>\n",
              "      <td>29.875986</td>\n",
              "    </tr>\n",
              "    <tr>\n",
              "      <th>A-II-INM_MAT_12_diff</th>\n",
              "      <td>34.761368</td>\n",
              "    </tr>\n",
              "    <tr>\n",
              "      <th>B-III-DEU_COM_23_diff</th>\n",
              "      <td>30.702743</td>\n",
              "    </tr>\n",
              "    <tr>\n",
              "      <th>B-III-DEU_COM_12_diff</th>\n",
              "      <td>10.710259</td>\n",
              "    </tr>\n",
              "    <tr>\n",
              "      <th>B-VII-EFECTIVO_23_diff</th>\n",
              "      <td>33.596392</td>\n",
              "    </tr>\n",
              "    <tr>\n",
              "      <th>B-VII-EFECTIVO_12_diff</th>\n",
              "      <td>13.603908</td>\n",
              "    </tr>\n",
              "    <tr>\n",
              "      <th>A-PN-1_FP_12_diff</th>\n",
              "      <td>29.049230</td>\n",
              "    </tr>\n",
              "    <tr>\n",
              "      <th>A-PN-1_FP_23_diff</th>\n",
              "      <td>28.222473</td>\n",
              "    </tr>\n",
              "    <tr>\n",
              "      <th>C-V-ACREE_COM_CP_12_diff</th>\n",
              "      <td>32.281097</td>\n",
              "    </tr>\n",
              "    <tr>\n",
              "      <th>C-V-ACREE_COM_CP_23_diff</th>\n",
              "      <td>29.913566</td>\n",
              "    </tr>\n",
              "    <tr>\n",
              "      <th>A-1-VENTAS_23_diff</th>\n",
              "      <td>25.817362</td>\n",
              "    </tr>\n",
              "    <tr>\n",
              "      <th>A-1-VENTAS_12_diff</th>\n",
              "      <td>10.484780</td>\n",
              "    </tr>\n",
              "    <tr>\n",
              "      <th>A-4-APROVISIONA_23_diff</th>\n",
              "      <td>33.446073</td>\n",
              "    </tr>\n",
              "    <tr>\n",
              "      <th>A-4-APROVISIONA_12_diff</th>\n",
              "      <td>19.240887</td>\n",
              "    </tr>\n",
              "    <tr>\n",
              "      <th>A-6-GASTOSPERSONAL_23_diff</th>\n",
              "      <td>27.433296</td>\n",
              "    </tr>\n",
              "    <tr>\n",
              "      <th>A-6-GASTOSPERSONAL_12_diff</th>\n",
              "      <td>11.010898</td>\n",
              "    </tr>\n",
              "    <tr>\n",
              "      <th>A-7-OTROSGASTOS_23_diff</th>\n",
              "      <td>23.074032</td>\n",
              "    </tr>\n",
              "    <tr>\n",
              "      <th>A-7-OTROSGASTOS_12_diff</th>\n",
              "      <td>2.856069</td>\n",
              "    </tr>\n",
              "    <tr>\n",
              "      <th>A-8-AMORT_INM_23_diff</th>\n",
              "      <td>34.949267</td>\n",
              "    </tr>\n",
              "    <tr>\n",
              "      <th>A-8-AMORT_INM_12_diff</th>\n",
              "      <td>28.485532</td>\n",
              "    </tr>\n",
              "    <tr>\n",
              "      <th>A-20-IMPUESTOS_23_diff</th>\n",
              "      <td>38.519354</td>\n",
              "    </tr>\n",
              "    <tr>\n",
              "      <th>A-20-IMPUESTOS_12_diff</th>\n",
              "      <td>27.621195</td>\n",
              "    </tr>\n",
              "  </tbody>\n",
              "</table>\n",
              "</div>\n",
              "      <button class=\"colab-df-convert\" onclick=\"convertToInteractive('df-7a3d1cae-a66d-4715-98ac-4838aceaa648')\"\n",
              "              title=\"Convert this dataframe to an interactive table.\"\n",
              "              style=\"display:none;\">\n",
              "        \n",
              "  <svg xmlns=\"http://www.w3.org/2000/svg\" height=\"24px\"viewBox=\"0 0 24 24\"\n",
              "       width=\"24px\">\n",
              "    <path d=\"M0 0h24v24H0V0z\" fill=\"none\"/>\n",
              "    <path d=\"M18.56 5.44l.94 2.06.94-2.06 2.06-.94-2.06-.94-.94-2.06-.94 2.06-2.06.94zm-11 1L8.5 8.5l.94-2.06 2.06-.94-2.06-.94L8.5 2.5l-.94 2.06-2.06.94zm10 10l.94 2.06.94-2.06 2.06-.94-2.06-.94-.94-2.06-.94 2.06-2.06.94z\"/><path d=\"M17.41 7.96l-1.37-1.37c-.4-.4-.92-.59-1.43-.59-.52 0-1.04.2-1.43.59L10.3 9.45l-7.72 7.72c-.78.78-.78 2.05 0 2.83L4 21.41c.39.39.9.59 1.41.59.51 0 1.02-.2 1.41-.59l7.78-7.78 2.81-2.81c.8-.78.8-2.07 0-2.86zM5.41 20L4 18.59l7.72-7.72 1.47 1.35L5.41 20z\"/>\n",
              "  </svg>\n",
              "      </button>\n",
              "      \n",
              "  <style>\n",
              "    .colab-df-container {\n",
              "      display:flex;\n",
              "      flex-wrap:wrap;\n",
              "      gap: 12px;\n",
              "    }\n",
              "\n",
              "    .colab-df-convert {\n",
              "      background-color: #E8F0FE;\n",
              "      border: none;\n",
              "      border-radius: 50%;\n",
              "      cursor: pointer;\n",
              "      display: none;\n",
              "      fill: #1967D2;\n",
              "      height: 32px;\n",
              "      padding: 0 0 0 0;\n",
              "      width: 32px;\n",
              "    }\n",
              "\n",
              "    .colab-df-convert:hover {\n",
              "      background-color: #E2EBFA;\n",
              "      box-shadow: 0px 1px 2px rgba(60, 64, 67, 0.3), 0px 1px 3px 1px rgba(60, 64, 67, 0.15);\n",
              "      fill: #174EA6;\n",
              "    }\n",
              "\n",
              "    [theme=dark] .colab-df-convert {\n",
              "      background-color: #3B4455;\n",
              "      fill: #D2E3FC;\n",
              "    }\n",
              "\n",
              "    [theme=dark] .colab-df-convert:hover {\n",
              "      background-color: #434B5C;\n",
              "      box-shadow: 0px 1px 3px 1px rgba(0, 0, 0, 0.15);\n",
              "      filter: drop-shadow(0px 1px 2px rgba(0, 0, 0, 0.3));\n",
              "      fill: #FFFFFF;\n",
              "    }\n",
              "  </style>\n",
              "\n",
              "      <script>\n",
              "        const buttonEl =\n",
              "          document.querySelector('#df-7a3d1cae-a66d-4715-98ac-4838aceaa648 button.colab-df-convert');\n",
              "        buttonEl.style.display =\n",
              "          google.colab.kernel.accessAllowed ? 'block' : 'none';\n",
              "\n",
              "        async function convertToInteractive(key) {\n",
              "          const element = document.querySelector('#df-7a3d1cae-a66d-4715-98ac-4838aceaa648');\n",
              "          const dataTable =\n",
              "            await google.colab.kernel.invokeFunction('convertToInteractive',\n",
              "                                                     [key], {});\n",
              "          if (!dataTable) return;\n",
              "\n",
              "          const docLinkHtml = 'Like what you see? Visit the ' +\n",
              "            '<a target=\"_blank\" href=https://colab.research.google.com/notebooks/data_table.ipynb>data table notebook</a>'\n",
              "            + ' to learn more about interactive tables.';\n",
              "          element.innerHTML = '';\n",
              "          dataTable['output_type'] = 'display_data';\n",
              "          await google.colab.output.renderOutput(dataTable, element);\n",
              "          const docLink = document.createElement('div');\n",
              "          docLink.innerHTML = docLinkHtml;\n",
              "          element.appendChild(docLink);\n",
              "        }\n",
              "      </script>\n",
              "    </div>\n",
              "  </div>\n",
              "  "
            ]
          },
          "metadata": {},
          "execution_count": 197
        }
      ]
    },
    {
      "cell_type": "markdown",
      "source": [
        "Para los datos de activo-pasivo-cr rellenamos los datos faltantes con 0"
      ],
      "metadata": {
        "id": "kRwB_QVk_KsL"
      }
    },
    {
      "cell_type": "code",
      "source": [
        "df_missing = missing_values_df.T\n",
        "columnas=list(df_missing.columns)\n",
        "for col in columnas:\n",
        "  if '_1' in col or '_2' in col:\n",
        "    data2[col] = data[col].fillna(0)"
      ],
      "metadata": {
        "id": "oXefKJPr9iN6"
      },
      "execution_count": 198,
      "outputs": []
    },
    {
      "cell_type": "markdown",
      "source": [
        "El año de concesión y el importe nominal se refieren a la subvención. Si el dato es nulo será que no hay, por lo que lo rellenamos con 0. \n",
        "Por último, los cargos administrativos son el número registrado de administradores. Entendemos que mínimo debe haber un administrador, por lo que asignaremos este número."
      ],
      "metadata": {
        "id": "ci2Hd8Vf_SWk"
      }
    },
    {
      "cell_type": "code",
      "source": [
        "data2['CARGOS_ADMIN']=data2['CARGOS_ADMIN'].fillna(1)\n",
        "data2['AÑO CONCESION']=data2['AÑO CONCESION'].fillna(0)\n",
        "data2['IMPORTE NOMINAL']=data2['IMPORTE NOMINAL'].fillna(0)"
      ],
      "metadata": {
        "id": "_Ssut8A9_DAH"
      },
      "execution_count": 199,
      "outputs": []
    },
    {
      "cell_type": "code",
      "source": [
        "missingno.matrix(data2,sparkline=False, figsize=(10,5), fontsize=12, color=(0.27, 0.52, 1.0))"
      ],
      "metadata": {
        "colab": {
          "base_uri": "https://localhost:8080/",
          "height": 0
        },
        "id": "3sLhmWOaADOG",
        "outputId": "64e11542-776f-4326-a7c8-09dabbdd1f16"
      },
      "execution_count": 200,
      "outputs": [
        {
          "output_type": "execute_result",
          "data": {
            "text/plain": [
              "<Axes: >"
            ]
          },
          "metadata": {},
          "execution_count": 200
        },
        {
          "output_type": "display_data",
          "data": {
            "text/plain": [
              "<Figure size 1000x500 with 1 Axes>"
            ],
            "image/png": "[encoded data removed]"
          },
          "metadata": {}
        }
      ]
    },
    {
      "cell_type": "markdown",
      "source": [
        "Como se puede observar ya no hay datos faltantes. "
      ],
      "metadata": {
        "id": "Oh57vPzmAFFZ"
      }
    },
    {
      "cell_type": "markdown",
      "source": [
        "Por último, antes de preparar los datos, vamos a eliminar la columna de 'ID' de la empresa y los balances 3 y 4, ya que para la predicción, las nuevas empresas no tendrán estos balances"
      ],
      "metadata": {
        "id": "V7cr8zzAAIie"
      }
    },
    {
      "cell_type": "code",
      "source": [
        "data2.drop(columns=['ID'], axis=1, inplace=True)"
      ],
      "metadata": {
        "id": "OfXwBqByw98o"
      },
      "execution_count": 201,
      "outputs": []
    },
    {
      "cell_type": "markdown",
      "source": [
        "Vemos el número de columnas del dataset"
      ],
      "metadata": {
        "id": "zjVVIksvxmoC"
      }
    },
    {
      "cell_type": "code",
      "source": [
        "print('Número de columnas: ', len(list(data2.columns)))"
      ],
      "metadata": {
        "id": "39cCyVQOAIJH",
        "colab": {
          "base_uri": "https://localhost:8080/"
        },
        "outputId": "4ba129ee-0f6a-4f55-dca1-affa9a0d7fa2"
      },
      "execution_count": 202,
      "outputs": [
        {
          "output_type": "stream",
          "name": "stdout",
          "text": [
            "Número de columnas:  65\n"
          ]
        }
      ]
    },
    {
      "cell_type": "code",
      "source": [
        "data2.to_csv('data2.csv')"
      ],
      "metadata": {
        "id": "0nPkb-0eUcWa"
      },
      "execution_count": 203,
      "outputs": []
    },
    {
      "cell_type": "markdown",
      "source": [
        "###Preparación de los datos para el entrenamiento de los modelos"
      ],
      "metadata": {
        "id": "cENYag-Gx_N7"
      }
    },
    {
      "cell_type": "markdown",
      "source": [
        "Primero vamos a filtrar los datos para quedarnos solo con ls registros del modelo (más de 3 balances) y eliminamos las columnas de ventas, gacela calculado, modelo calculado."
      ],
      "metadata": {
        "id": "ynfXZzOsyH7H"
      }
    },
    {
      "cell_type": "code",
      "source": [
        "modelo=data2[data2['MODELO_CALCU']==1]"
      ],
      "metadata": {
        "id": "ufB9RKqryEi2"
      },
      "execution_count": 204,
      "outputs": []
    },
    {
      "cell_type": "code",
      "source": [
        "modelo.drop(columns=['GACELA_CALCU', 'MODELO_CALCU', 'A-1-VENTAS_1', 'A-1-VENTAS_12_diff', 'A-1-VENTAS_23_diff'], axis=1, inplace=True)"
      ],
      "metadata": {
        "colab": {
          "base_uri": "https://localhost:8080/"
        },
        "id": "0pAT0ykQygbU",
        "outputId": "a306aacd-b6fc-4548-865e-c71388aa2621"
      },
      "execution_count": 205,
      "outputs": [
        {
          "output_type": "stream",
          "name": "stderr",
          "text": [
            "<ipython-input-205-3defef370779>:1: SettingWithCopyWarning: \n",
            "A value is trying to be set on a copy of a slice from a DataFrame\n",
            "\n",
            "See the caveats in the documentation: https://pandas.pydata.org/pandas-docs/stable/user_guide/indexing.html#returning-a-view-versus-a-copy\n",
            "  modelo.drop(columns=['GACELA_CALCU', 'MODELO_CALCU', 'A-1-VENTAS_1', 'A-1-VENTAS_12_diff', 'A-1-VENTAS_23_diff'], axis=1, inplace=True)\n"
          ]
        }
      ]
    },
    {
      "cell_type": "markdown",
      "source": [
        "A continuación convertimos las variables target en variables categoricas"
      ],
      "metadata": {
        "id": "laNZ3UHLy6FA"
      }
    },
    {
      "cell_type": "code",
      "source": [
        "modelo2=pd.get_dummies(modelo)"
      ],
      "metadata": {
        "id": "2MLpWEu4y9q5"
      },
      "execution_count": 206,
      "outputs": []
    },
    {
      "cell_type": "markdown",
      "source": [
        "Separamos la variable target (ALTO_CRECIMIENTO_CALCULADO) y dividimos los datos en entrenammiento y test\n",
        "\n"
      ],
      "metadata": {
        "id": "OkSh6r6EzISz"
      }
    },
    {
      "cell_type": "code",
      "source": [
        "cols = list(modelo2.columns)\n",
        "cols.remove(\"ALTO_CRECIMIENTO_CALCU\") \n",
        "X = modelo2[cols].values\n",
        "# Variable a predecir: \n",
        "Y = modelo['ALTO_CRECIMIENTO_CALCU']"
      ],
      "metadata": {
        "id": "XSlrPo4yzO3a"
      },
      "execution_count": 207,
      "outputs": []
    },
    {
      "cell_type": "markdown",
      "source": [
        "Vemos si hay valores infinitos y los reemplazamos para evitar errores"
      ],
      "metadata": {
        "id": "1AfywvPG422A"
      }
    },
    {
      "cell_type": "code",
      "source": [
        "# Check for infinite values\n",
        "print(np.isfinite(X).all())"
      ],
      "metadata": {
        "colab": {
          "base_uri": "https://localhost:8080/"
        },
        "id": "QhjJygfh4pz7",
        "outputId": "af6e2717-9781-4279-dc95-6ff00b83c5fc"
      },
      "execution_count": 208,
      "outputs": [
        {
          "output_type": "stream",
          "name": "stdout",
          "text": [
            "False\n"
          ]
        }
      ]
    },
    {
      "cell_type": "code",
      "source": [
        "X = np.nan_to_num(X, nan=0, posinf=1e9, neginf=-1e9)"
      ],
      "metadata": {
        "id": "sDAJlHDy415K"
      },
      "execution_count": 209,
      "outputs": []
    },
    {
      "cell_type": "code",
      "source": [
        "from sklearn.preprocessing import MinMaxScaler\n",
        "\n",
        "scaler = MinMaxScaler()\n",
        "X_scaled = scaler.fit_transform(X)"
      ],
      "metadata": {
        "id": "LXYnLvEe4XUw"
      },
      "execution_count": 210,
      "outputs": []
    },
    {
      "cell_type": "markdown",
      "source": [
        "##GENERAL"
      ],
      "metadata": {
        "id": "p8KNfnMNP_nz"
      }
    },
    {
      "cell_type": "code",
      "source": [
        "# Division of dataset\n",
        "X_train, X_test, Y_train, Y_test = train_test_split(X, Y, test_size = 0.15, random_state = 42)\n",
        "X_train, X_val, y_train, y_val = train_test_split(X_train, Y_train, test_size=0.15, random_state=42)"
      ],
      "metadata": {
        "id": "dyPQVKhY4exQ"
      },
      "execution_count": 211,
      "outputs": []
    },
    {
      "cell_type": "markdown",
      "source": [
        "Vamos a utilizar el árbol de clasificación para todas las técnicas, ya que así es más fácil su comparativa."
      ],
      "metadata": {
        "id": "MLS38tUJzyhE"
      }
    },
    {
      "cell_type": "code",
      "source": [
        "#Creamos lista para guardar todos los accuracy y las matrices de confusión y así poder compararlas\n",
        "acc_test=[]\n",
        "recall_test=[]\n",
        "conf_mat_test=[]\n",
        "\n",
        "#para validación\n",
        "acc_val=[]\n",
        "recall_val=[]\n",
        "conf_mat_val=[]"
      ],
      "metadata": {
        "id": "G7SccEQl5pbc"
      },
      "execution_count": 212,
      "outputs": []
    },
    {
      "cell_type": "markdown",
      "source": [
        "##TÉCNICA 1. Ajuste de parámetros del modelo\n",
        "\n"
      ],
      "metadata": {
        "id": "fIzpCDcdzmhj"
      }
    },
    {
      "cell_type": "code",
      "source": [
        "class_tree = tree.DecisionTreeClassifier(random_state=42)\n",
        "scores = []\n",
        "num_variables = len(X)\n",
        "n_niveles = range(1, num_variables + 1)\n",
        "\n",
        "\n",
        "for n in n_niveles:\n",
        "    class_tree.set_params(max_depth = n)\n",
        "    class_tree.fit(X_train, y_train)\n",
        "    scores.append(class_tree.score(X_test, Y_test))\n",
        "    \n",
        "plt.title(\"Score según nivel del árbol\")\n",
        "plt.xlabel(\"Número de niveles\")\n",
        "plt.ylabel(\"Score\")\n",
        "plt.plot(n_niveles[0:30], scores[0:30])\n",
        "plt.show()"
      ],
      "metadata": {
        "colab": {
          "base_uri": "https://localhost:8080/",
          "height": 472
        },
        "id": "Vex7H3j7QBvj",
        "outputId": "6293e84b-9d77-4e55-d22e-3dac31f1d0f2"
      },
      "execution_count": 213,
      "outputs": [
        {
          "output_type": "display_data",
          "data": {
            "text/plain": [
              "<Figure size 640x480 with 1 Axes>"
            ],
            "image/png": "[encoded data removed]"
          },
          "metadata": {}
        }
      ]
    },
    {
      "cell_type": "code",
      "source": [
        "print('Con {} niveles se obtuvo el mayor score'.format(np.argmax(scores)))"
      ],
      "metadata": {
        "colab": {
          "base_uri": "https://localhost:8080/"
        },
        "id": "vRc80FDM5QMY",
        "outputId": "5733a5e0-e784-464c-d8f5-5c227c336425"
      },
      "execution_count": 214,
      "outputs": [
        {
          "output_type": "stream",
          "name": "stdout",
          "text": [
            "Con 9 niveles se obtuvo el mayor score\n"
          ]
        }
      ]
    },
    {
      "cell_type": "markdown",
      "source": [
        "Primero analizamos la profundidad óptima para el árbol de clasificación"
      ],
      "metadata": {
        "id": "cFRS_wcPQCjT"
      }
    },
    {
      "cell_type": "code",
      "source": [
        "penalizacion=len(modelo2[modelo2['ALTO_CRECIMIENTO_CALCU']==0])/len(modelo2[modelo2['ALTO_CRECIMIENTO_CALCU']==1])\n",
        "print(penalizacion)"
      ],
      "metadata": {
        "colab": {
          "base_uri": "https://localhost:8080/"
        },
        "id": "GW_bd-Clzl-d",
        "outputId": "11e75925-80e2-4ed3-f34b-7b0ba09dbd7d"
      },
      "execution_count": 215,
      "outputs": [
        {
          "output_type": "stream",
          "name": "stdout",
          "text": [
            "4.8441558441558445\n"
          ]
        }
      ]
    },
    {
      "cell_type": "code",
      "source": [
        "# Entrenamiento\n",
        "class1 = tree.DecisionTreeClassifier(random_state=42,max_depth = 9,class_weight={1:penalizacion} )\n",
        "class1.fit(X_train, y_train)"
      ],
      "metadata": {
        "colab": {
          "base_uri": "https://localhost:8080/",
          "height": 93
        },
        "id": "Zbuw67m0RhoW",
        "outputId": "ce14685c-7895-4e01-dccb-ab96fbce3b03"
      },
      "execution_count": 216,
      "outputs": [
        {
          "output_type": "execute_result",
          "data": {
            "text/plain": [
              "DecisionTreeClassifier(class_weight={1: 4.8441558441558445}, max_depth=9,\n",
              "                       random_state=42)"
            ],
            "text/html": [
              "<style>#sk-container-id-7 {color: black;background-color: white;}#sk-container-id-7 pre{padding: 0;}#sk-container-id-7 div.sk-toggleable {background-color: white;}#sk-container-id-7 label.sk-toggleable__label {cursor: pointer;display: block;width: 100%;margin-bottom: 0;padding: 0.3em;box-sizing: border-box;text-align: center;}#sk-container-id-7 label.sk-toggleable__label-arrow:before {content: \"▸\";float: left;margin-right: 0.25em;color: #696969;}#sk-container-id-7 label.sk-toggleable__label-arrow:hover:before {color: black;}#sk-container-id-7 div.sk-estimator:hover label.sk-toggleable__label-arrow:before {color: black;}#sk-container-id-7 div.sk-toggleable__content {max-height: 0;max-width: 0;overflow: hidden;text-align: left;background-color: #f0f8ff;}#sk-container-id-7 div.sk-toggleable__content pre {margin: 0.2em;color: black;border-radius: 0.25em;background-color: #f0f8ff;}#sk-container-id-7 input.sk-toggleable__control:checked~div.sk-toggleable__content {max-height: 200px;max-width: 100%;overflow: auto;}#sk-container-id-7 input.sk-toggleable__control:checked~label.sk-toggleable__label-arrow:before {content: \"▾\";}#sk-container-id-7 div.sk-estimator input.sk-toggleable__control:checked~label.sk-toggleable__label {background-color: #d4ebff;}#sk-container-id-7 div.sk-label input.sk-toggleable__control:checked~label.sk-toggleable__label {background-color: #d4ebff;}#sk-container-id-7 input.sk-hidden--visually {border: 0;clip: rect(1px 1px 1px 1px);clip: rect(1px, 1px, 1px, 1px);height: 1px;margin: -1px;overflow: hidden;padding: 0;position: absolute;width: 1px;}#sk-container-id-7 div.sk-estimator {font-family: monospace;background-color: #f0f8ff;border: 1px dotted black;border-radius: 0.25em;box-sizing: border-box;margin-bottom: 0.5em;}#sk-container-id-7 div.sk-estimator:hover {background-color: #d4ebff;}#sk-container-id-7 div.sk-parallel-item::after {content: \"\";width: 100%;border-bottom: 1px solid gray;flex-grow: 1;}#sk-container-id-7 div.sk-label:hover label.sk-toggleable__label {background-color: #d4ebff;}#sk-container-id-7 div.sk-serial::before {content: \"\";position: absolute;border-left: 1px solid gray;box-sizing: border-box;top: 0;bottom: 0;left: 50%;z-index: 0;}#sk-container-id-7 div.sk-serial {display: flex;flex-direction: column;align-items: center;background-color: white;padding-right: 0.2em;padding-left: 0.2em;position: relative;}#sk-container-id-7 div.sk-item {position: relative;z-index: 1;}#sk-container-id-7 div.sk-parallel {display: flex;align-items: stretch;justify-content: center;background-color: white;position: relative;}#sk-container-id-7 div.sk-item::before, #sk-container-id-7 div.sk-parallel-item::before {content: \"\";position: absolute;border-left: 1px solid gray;box-sizing: border-box;top: 0;bottom: 0;left: 50%;z-index: -1;}#sk-container-id-7 div.sk-parallel-item {display: flex;flex-direction: column;z-index: 1;position: relative;background-color: white;}#sk-container-id-7 div.sk-parallel-item:first-child::after {align-self: flex-end;width: 50%;}#sk-container-id-7 div.sk-parallel-item:last-child::after {align-self: flex-start;width: 50%;}#sk-container-id-7 div.sk-parallel-item:only-child::after {width: 0;}#sk-container-id-7 div.sk-dashed-wrapped {border: 1px dashed gray;margin: 0 0.4em 0.5em 0.4em;box-sizing: border-box;padding-bottom: 0.4em;background-color: white;}#sk-container-id-7 div.sk-label label {font-family: monospace;font-weight: bold;display: inline-block;line-height: 1.2em;}#sk-container-id-7 div.sk-label-container {text-align: center;}#sk-container-id-7 div.sk-container {/* jupyter's `normalize.less` sets `[hidden] { display: none; }` but bootstrap.min.css set `[hidden] { display: none !important; }` so we also need the `!important` here to be able to override the default hidden behavior on the sphinx rendered scikit-learn.org. See: https://github.com/scikit-learn/scikit-learn/issues/21755 */display: inline-block !important;position: relative;}#sk-container-id-7 div.sk-text-repr-fallback {display: none;}</style><div id=\"sk-container-id-7\" class=\"sk-top-container\"><div class=\"sk-text-repr-fallback\"><pre>DecisionTreeClassifier(class_weight={1: 4.8441558441558445}, max_depth=9,\n",
              "                       random_state=42)</pre><b>In a Jupyter environment, please rerun this cell to show the HTML representation or trust the notebook. <br />On GitHub, the HTML representation is unable to render, please try loading this page with nbviewer.org.</b></div><div class=\"sk-container\" hidden><div class=\"sk-item\"><div class=\"sk-estimator sk-toggleable\"><input class=\"sk-toggleable__control sk-hidden--visually\" id=\"sk-estimator-id-7\" type=\"checkbox\" checked><label for=\"sk-estimator-id-7\" class=\"sk-toggleable__label sk-toggleable__label-arrow\">DecisionTreeClassifier</label><div class=\"sk-toggleable__content\"><pre>DecisionTreeClassifier(class_weight={1: 4.8441558441558445}, max_depth=9,\n",
              "                       random_state=42)</pre></div></div></div></div></div>"
            ]
          },
          "metadata": {},
          "execution_count": 216
        }
      ]
    },
    {
      "cell_type": "code",
      "source": [
        "# Realizamos la predicción\n",
        "Y_pred1 = class1.predict(X_test)\n",
        "y_val_pred1 = class1.predict(X_val)"
      ],
      "metadata": {
        "id": "q5YF4cdiRzUg"
      },
      "execution_count": 217,
      "outputs": []
    },
    {
      "cell_type": "code",
      "source": [
        "# Evaluamos la prediccion utilizando las metricas\n",
        "acc1=accuracy_score(Y_test, Y_pred1)\n",
        "recall1=recall_score(Y_test, Y_pred1)\n",
        "conf_mat1=confusion_matrix(Y_test,Y_pred1)\n",
        "\n",
        "val_acc1 = accuracy_score(y_val, y_val_pred1)\n",
        "val_recall1=recall_score(y_val, y_val_pred1)\n",
        "val_conf_mat1=confusion_matrix(y_val,y_val_pred1)\n",
        "\n",
        "acc_test.append(acc1)\n",
        "conf_mat_test.append(conf_mat1)\n",
        "recall_test.append(recall1)\n",
        "\n",
        "acc_val.append(val_acc1)\n",
        "conf_mat_val.append(val_conf_mat1)\n",
        "recall_val.append(val_recall1)\n",
        "\n",
        "print(\" Test Accuracy: {}\".format(acc1))\n",
        "print(\" Test Recall: {}\".format(recall1))\n",
        "print(\"Matriz de confusión de Test:\")\n",
        "\n",
        "fig, axs = plt.subplots(1, 2)\n",
        "\n",
        "sns.heatmap(conf_mat1, annot=True, ax=axs[0])\n",
        "axs[0].set_title('Test')\n",
        "\n",
        "sns.heatmap(val_conf_mat1, annot=True, ax=axs[1])\n",
        "axs[1].set_title('Validación')\n",
        "\n",
        "plt.tight_layout()\n",
        "plt.show()"
      ],
      "metadata": {
        "colab": {
          "base_uri": "https://localhost:8080/",
          "height": 543
        },
        "id": "lZcqN4kqR1Yq",
        "outputId": "6dfabba4-46c7-4d3f-a85a-68d02a1dd134"
      },
      "execution_count": 218,
      "outputs": [
        {
          "output_type": "stream",
          "name": "stdout",
          "text": [
            " Test Accuracy: 0.9261083743842364\n",
            " Test Recall: 0.8518518518518519\n",
            "Matriz de confusión de Test:\n"
          ]
        },
        {
          "output_type": "display_data",
          "data": {
            "text/plain": [
              "<Figure size 640x480 with 4 Axes>"
            ],
            "image/png": "[encoded data removed]"
          },
          "metadata": {}
        }
      ]
    },
    {
      "cell_type": "markdown",
      "source": [
        "##TÉCNICA 2. MODIFICACIÓN DEL DATASET"
      ],
      "metadata": {
        "id": "eGZzoP7c6Acu"
      }
    },
    {
      "cell_type": "markdown",
      "source": [
        "###Eliminando muestras de la clase mayoritaria (*subsampling*)"
      ],
      "metadata": {
        "id": "ZetCeghp6Dr8"
      }
    },
    {
      "cell_type": "code",
      "source": [
        "from sklearn.utils import resample\n",
        "\n",
        "# Se separan los datos en clases mayoritarias y minoritarias\n",
        "X_minority = X[Y == 1]\n",
        "X_majority = X[Y == 0]\n"
      ],
      "metadata": {
        "id": "3hILjtc55_63"
      },
      "execution_count": 219,
      "outputs": []
    },
    {
      "cell_type": "code",
      "source": [
        "print(len(X_minority))\n",
        "print(len(X_majority))"
      ],
      "metadata": {
        "colab": {
          "base_uri": "https://localhost:8080/"
        },
        "id": "NQxiMXL_8Nxs",
        "outputId": "6007c83f-d61d-40e0-8cb9-5ebe55700ce4"
      },
      "execution_count": 220,
      "outputs": [
        {
          "output_type": "stream",
          "name": "stdout",
          "text": [
            "231\n",
            "1119\n"
          ]
        }
      ]
    },
    {
      "cell_type": "code",
      "source": [
        "# Submuestreo aleatorio de la clase mayoritaria\n",
        "X_majority_downsampled = resample(X_majority,\n",
        "                                  replace=False, # Muestreo sin reemplazo\n",
        "                                  n_samples=len(X_minority), # Igual que la clase minoritaria\n",
        "                                  random_state=42) # Fijar semilla para reproducibilidad\n"
      ],
      "metadata": {
        "id": "bMLbbhbc8MYJ"
      },
      "execution_count": 221,
      "outputs": []
    },
    {
      "cell_type": "code",
      "source": [
        "print(len(X_minority), X_minority.ndim)\n",
        "print(len(X_majority_downsampled), X_majority.ndim)"
      ],
      "metadata": {
        "colab": {
          "base_uri": "https://localhost:8080/"
        },
        "id": "C-hQY5JV8bdd",
        "outputId": "672419e1-ff1d-4086-dd3f-b53ae827c190"
      },
      "execution_count": 222,
      "outputs": [
        {
          "output_type": "stream",
          "name": "stdout",
          "text": [
            "231 2\n",
            "231 2\n"
          ]
        }
      ]
    },
    {
      "cell_type": "code",
      "source": [
        "# Combinar los datos submuestreados con la clase minoritaria\n",
        "X_balanced = np.concatenate((X_majority_downsampled, X_minority), axis=0)\n",
        "y_balanced = np.concatenate(([0]*len(X_majority_downsampled), [1]*len(X_minority)))"
      ],
      "metadata": {
        "id": "b_cWYclA8meK"
      },
      "execution_count": 223,
      "outputs": []
    },
    {
      "cell_type": "code",
      "source": [
        "# Division of dataset\n",
        "X_train_s, X_test_s, Y_train_s, Y_test_s = train_test_split(X_balanced, y_balanced, test_size = 0.15, random_state = 42)\n",
        "X_train_s, X_val_s, Y_train_s, Y_val_s = train_test_split(X_train_s, Y_train_s, test_size = 0.15, random_state = 42)"
      ],
      "metadata": {
        "id": "abPnYOOw9CEp"
      },
      "execution_count": 224,
      "outputs": []
    },
    {
      "cell_type": "code",
      "source": [
        "#vemos profundidad del árbol\n",
        "class_tree = tree.DecisionTreeClassifier(random_state=42)\n",
        "scores = []\n",
        "num_variables = len(X_balanced)\n",
        "n_niveles = range(1, num_variables + 1)\n",
        "\n",
        "\n",
        "for n in n_niveles:\n",
        "    class_tree.set_params(max_depth = n)\n",
        "    class_tree.fit(X_train_s, Y_train_s)\n",
        "    scores.append(class_tree.score(X_test_s, Y_test_s))\n",
        "    \n",
        "plt.title(\"Score según nivel del árbol\")\n",
        "plt.xlabel(\"Número de niveles\")\n",
        "plt.ylabel(\"Score\")\n",
        "plt.plot(n_niveles[0:30], scores[0:30])\n",
        "plt.show()"
      ],
      "metadata": {
        "colab": {
          "base_uri": "https://localhost:8080/",
          "height": 472
        },
        "id": "S8u6Zk53JcVk",
        "outputId": "37ea915f-d173-4768-a3a6-d42acb86ce11"
      },
      "execution_count": 225,
      "outputs": [
        {
          "output_type": "display_data",
          "data": {
            "text/plain": [
              "<Figure size 640x480 with 1 Axes>"
            ],
            "image/png": "[encoded data removed]"
          },
          "metadata": {}
        }
      ]
    },
    {
      "cell_type": "code",
      "source": [
        "print('Con {} niveles se obtuvo el mayor score'.format(np.argmax(scores)))"
      ],
      "metadata": {
        "colab": {
          "base_uri": "https://localhost:8080/"
        },
        "id": "ms3Irif6JoTy",
        "outputId": "29980a7f-7a7e-4d54-9cd3-c569e44b8160"
      },
      "execution_count": 226,
      "outputs": [
        {
          "output_type": "stream",
          "name": "stdout",
          "text": [
            "Con 5 niveles se obtuvo el mayor score\n"
          ]
        }
      ]
    },
    {
      "cell_type": "code",
      "source": [
        "# Entrenamiento\n",
        "class2 = tree.DecisionTreeClassifier(random_state=42,max_depth = 5)\n",
        "class2.fit(X_train_s, Y_train_s)"
      ],
      "metadata": {
        "colab": {
          "base_uri": "https://localhost:8080/",
          "height": 76
        },
        "id": "PHjttFL89bnL",
        "outputId": "313badb6-cd57-40e2-8d09-7ed2bb20d883"
      },
      "execution_count": 227,
      "outputs": [
        {
          "output_type": "execute_result",
          "data": {
            "text/plain": [
              "DecisionTreeClassifier(max_depth=5, random_state=42)"
            ],
            "text/html": [
              "<style>#sk-container-id-8 {color: black;background-color: white;}#sk-container-id-8 pre{padding: 0;}#sk-container-id-8 div.sk-toggleable {background-color: white;}#sk-container-id-8 label.sk-toggleable__label {cursor: pointer;display: block;width: 100%;margin-bottom: 0;padding: 0.3em;box-sizing: border-box;text-align: center;}#sk-container-id-8 label.sk-toggleable__label-arrow:before {content: \"▸\";float: left;margin-right: 0.25em;color: #696969;}#sk-container-id-8 label.sk-toggleable__label-arrow:hover:before {color: black;}#sk-container-id-8 div.sk-estimator:hover label.sk-toggleable__label-arrow:before {color: black;}#sk-container-id-8 div.sk-toggleable__content {max-height: 0;max-width: 0;overflow: hidden;text-align: left;background-color: #f0f8ff;}#sk-container-id-8 div.sk-toggleable__content pre {margin: 0.2em;color: black;border-radius: 0.25em;background-color: #f0f8ff;}#sk-container-id-8 input.sk-toggleable__control:checked~div.sk-toggleable__content {max-height: 200px;max-width: 100%;overflow: auto;}#sk-container-id-8 input.sk-toggleable__control:checked~label.sk-toggleable__label-arrow:before {content: \"▾\";}#sk-container-id-8 div.sk-estimator input.sk-toggleable__control:checked~label.sk-toggleable__label {background-color: #d4ebff;}#sk-container-id-8 div.sk-label input.sk-toggleable__control:checked~label.sk-toggleable__label {background-color: #d4ebff;}#sk-container-id-8 input.sk-hidden--visually {border: 0;clip: rect(1px 1px 1px 1px);clip: rect(1px, 1px, 1px, 1px);height: 1px;margin: -1px;overflow: hidden;padding: 0;position: absolute;width: 1px;}#sk-container-id-8 div.sk-estimator {font-family: monospace;background-color: #f0f8ff;border: 1px dotted black;border-radius: 0.25em;box-sizing: border-box;margin-bottom: 0.5em;}#sk-container-id-8 div.sk-estimator:hover {background-color: #d4ebff;}#sk-container-id-8 div.sk-parallel-item::after {content: \"\";width: 100%;border-bottom: 1px solid gray;flex-grow: 1;}#sk-container-id-8 div.sk-label:hover label.sk-toggleable__label {background-color: #d4ebff;}#sk-container-id-8 div.sk-serial::before {content: \"\";position: absolute;border-left: 1px solid gray;box-sizing: border-box;top: 0;bottom: 0;left: 50%;z-index: 0;}#sk-container-id-8 div.sk-serial {display: flex;flex-direction: column;align-items: center;background-color: white;padding-right: 0.2em;padding-left: 0.2em;position: relative;}#sk-container-id-8 div.sk-item {position: relative;z-index: 1;}#sk-container-id-8 div.sk-parallel {display: flex;align-items: stretch;justify-content: center;background-color: white;position: relative;}#sk-container-id-8 div.sk-item::before, #sk-container-id-8 div.sk-parallel-item::before {content: \"\";position: absolute;border-left: 1px solid gray;box-sizing: border-box;top: 0;bottom: 0;left: 50%;z-index: -1;}#sk-container-id-8 div.sk-parallel-item {display: flex;flex-direction: column;z-index: 1;position: relative;background-color: white;}#sk-container-id-8 div.sk-parallel-item:first-child::after {align-self: flex-end;width: 50%;}#sk-container-id-8 div.sk-parallel-item:last-child::after {align-self: flex-start;width: 50%;}#sk-container-id-8 div.sk-parallel-item:only-child::after {width: 0;}#sk-container-id-8 div.sk-dashed-wrapped {border: 1px dashed gray;margin: 0 0.4em 0.5em 0.4em;box-sizing: border-box;padding-bottom: 0.4em;background-color: white;}#sk-container-id-8 div.sk-label label {font-family: monospace;font-weight: bold;display: inline-block;line-height: 1.2em;}#sk-container-id-8 div.sk-label-container {text-align: center;}#sk-container-id-8 div.sk-container {/* jupyter's `normalize.less` sets `[hidden] { display: none; }` but bootstrap.min.css set `[hidden] { display: none !important; }` so we also need the `!important` here to be able to override the default hidden behavior on the sphinx rendered scikit-learn.org. See: https://github.com/scikit-learn/scikit-learn/issues/21755 */display: inline-block !important;position: relative;}#sk-container-id-8 div.sk-text-repr-fallback {display: none;}</style><div id=\"sk-container-id-8\" class=\"sk-top-container\"><div class=\"sk-text-repr-fallback\"><pre>DecisionTreeClassifier(max_depth=5, random_state=42)</pre><b>In a Jupyter environment, please rerun this cell to show the HTML representation or trust the notebook. <br />On GitHub, the HTML representation is unable to render, please try loading this page with nbviewer.org.</b></div><div class=\"sk-container\" hidden><div class=\"sk-item\"><div class=\"sk-estimator sk-toggleable\"><input class=\"sk-toggleable__control sk-hidden--visually\" id=\"sk-estimator-id-8\" type=\"checkbox\" checked><label for=\"sk-estimator-id-8\" class=\"sk-toggleable__label sk-toggleable__label-arrow\">DecisionTreeClassifier</label><div class=\"sk-toggleable__content\"><pre>DecisionTreeClassifier(max_depth=5, random_state=42)</pre></div></div></div></div></div>"
            ]
          },
          "metadata": {},
          "execution_count": 227
        }
      ]
    },
    {
      "cell_type": "code",
      "source": [
        "# Realizamos la predicción\n",
        "Y_pred2 = class2.predict(X_test_s)\n",
        "y_val_pred2=class2.predict(X_val_s)"
      ],
      "metadata": {
        "id": "CiYgXH-q-E1g"
      },
      "execution_count": 228,
      "outputs": []
    },
    {
      "cell_type": "code",
      "source": [
        "# Evaluamos la prediccion utilizando las metricas\n",
        "acc2=accuracy_score(Y_test_s, Y_pred2)\n",
        "recall2=recall_score(Y_test_s, Y_pred2)\n",
        "conf_mat2=confusion_matrix(Y_test_s,Y_pred2)\n",
        "\n",
        "val_acc2 = accuracy_score(Y_val_s, y_val_pred2)\n",
        "val_recall2=recall_score(Y_val_s, y_val_pred2)\n",
        "val_conf_mat2=confusion_matrix(Y_val_s,y_val_pred2)\n",
        "\n",
        "acc_test.append(acc2)\n",
        "recall_test.append(recall2)\n",
        "conf_mat_test.append(conf_mat2)\n",
        "\n",
        "acc_val.append(val_acc2)\n",
        "conf_mat_val.append(val_conf_mat2)\n",
        "recall_val.append(val_recall2)\n",
        "\n",
        "print(\"Accuracy: {}\".format(acc2))\n",
        "print(\"Recall: {}\".format(recall2))\n",
        "print(\"Matriz de confusión:\")\n",
        "\n",
        "fig, axs = plt.subplots(1, 2)\n",
        "\n",
        "sns.heatmap(conf_mat2, annot=True, ax=axs[0])\n",
        "axs[0].set_title('Test')\n",
        "\n",
        "sns.heatmap(val_conf_mat2, annot=True, ax=axs[1])\n",
        "axs[1].set_title('Validación')\n",
        "\n",
        "plt.tight_layout()\n",
        "plt.show()"
      ],
      "metadata": {
        "colab": {
          "base_uri": "https://localhost:8080/",
          "height": 543
        },
        "id": "UGIT3WTR-Kzy",
        "outputId": "0230b173-1b70-4b56-f53c-1ea71963aff2"
      },
      "execution_count": 229,
      "outputs": [
        {
          "output_type": "stream",
          "name": "stdout",
          "text": [
            "Accuracy: 0.8142857142857143\n",
            "Recall: 0.9032258064516129\n",
            "Matriz de confusión:\n"
          ]
        },
        {
          "output_type": "display_data",
          "data": {
            "text/plain": [
              "<Figure size 640x480 with 4 Axes>"
            ],
            "image/png": "[encoded data removed]"
          },
          "metadata": {}
        }
      ]
    },
    {
      "cell_type": "markdown",
      "source": [
        "El submuestreo aleatorio puede perder información valiosa en los datos eliminando algunos ejemplos de la clase mayoritaria. Otras técnicas de muestreo, como el submuestreo estratificado o el sobremuestreo de la clase minoritaria, pueden ser más adecuadas dependiendo del conjunto de datos y del modelo que se utilice."
      ],
      "metadata": {
        "id": "xi-bn-wnDmtV"
      }
    },
    {
      "cell_type": "markdown",
      "source": [
        "###Duplicando muestras de la clase minoritaria (*oversampling*)"
      ],
      "metadata": {
        "id": "ZXaXsio86No1"
      }
    },
    {
      "cell_type": "code",
      "source": [
        "# Separar las muestras de la clase mayoritaria y la clase minoritaria\n",
        "X_minority = X[Y == 1]\n",
        "X_majority = X[Y == 0]\n",
        "\n",
        "# Duplicar las muestras de la clase minoritaria\n",
        "X_minority_oversampled = resample(X_minority, n_samples=X_majority.shape[0], replace=True)\n",
        "\n",
        "# Unir las muestras de la clase mayoritaria con las muestras de la clase minoritaria duplicadas\n",
        "X_balanced = np.vstack((X_majority, X_minority_oversampled))\n",
        "y_balanced = np.hstack((np.ones(X_majority.shape[0]), np.zeros(X_majority.shape[0])))\n"
      ],
      "metadata": {
        "id": "oktOsZRgEe-e"
      },
      "execution_count": 230,
      "outputs": []
    },
    {
      "cell_type": "code",
      "source": [
        "print(len(X_balanced), X_balanced.ndim)\n",
        "print(len(y_balanced), y_balanced.ndim)"
      ],
      "metadata": {
        "colab": {
          "base_uri": "https://localhost:8080/"
        },
        "id": "pFIyo4j8FktB",
        "outputId": "4d87b8a0-98e3-4cbb-9fdf-d1ce60e47712"
      },
      "execution_count": 231,
      "outputs": [
        {
          "output_type": "stream",
          "name": "stdout",
          "text": [
            "2238 2\n",
            "2238 1\n"
          ]
        }
      ]
    },
    {
      "cell_type": "code",
      "source": [
        "# Division of dataset\n",
        "X_train_d, X_test_d, Y_train_d, Y_test_d = train_test_split(X_balanced, y_balanced, test_size = 0.15, random_state = 42)\n",
        "X_train_d, X_val_d, Y_train_d, Y_val_d = train_test_split(X_train_d, Y_train_d, test_size = 0.15, random_state = 42)"
      ],
      "metadata": {
        "id": "OIZKAvfhFRQW"
      },
      "execution_count": 232,
      "outputs": []
    },
    {
      "cell_type": "code",
      "source": [
        "#vemos profundidad del árbol\n",
        "class_tree = tree.DecisionTreeClassifier(random_state=42)\n",
        "scores = []\n",
        "num_variables = len(X_balanced)\n",
        "n_niveles = range(1, num_variables + 1)\n",
        "\n",
        "\n",
        "for n in n_niveles:\n",
        "    class_tree.set_params(max_depth = n)\n",
        "    class_tree.fit(X_train_d, Y_train_d)\n",
        "    scores.append(class_tree.score(X_test_d, Y_test_d))\n",
        "    \n",
        "plt.title(\"Score según nivel del árbol\")\n",
        "plt.xlabel(\"Número de niveles\")\n",
        "plt.ylabel(\"Score\")\n",
        "plt.plot(n_niveles[0:30], scores[0:30])\n",
        "plt.show()"
      ],
      "metadata": {
        "colab": {
          "base_uri": "https://localhost:8080/",
          "height": 472
        },
        "id": "f3T57PMkJ1uh",
        "outputId": "e0f7016e-a726-4566-d7d5-a3b2c2d05a3c"
      },
      "execution_count": 233,
      "outputs": [
        {
          "output_type": "display_data",
          "data": {
            "text/plain": [
              "<Figure size 640x480 with 1 Axes>"
            ],
            "image/png": "[encoded data removed]"
          },
          "metadata": {}
        }
      ]
    },
    {
      "cell_type": "code",
      "source": [
        "print('Con {} niveles se obtuvo el mayor score'.format(np.argmax(scores)))"
      ],
      "metadata": {
        "colab": {
          "base_uri": "https://localhost:8080/"
        },
        "id": "ip4aW9tiKKoQ",
        "outputId": "352478e4-ff20-43b4-99cc-68db8c25d8cf"
      },
      "execution_count": 234,
      "outputs": [
        {
          "output_type": "stream",
          "name": "stdout",
          "text": [
            "Con 11 niveles se obtuvo el mayor score\n"
          ]
        }
      ]
    },
    {
      "cell_type": "code",
      "source": [
        "# Entrenamiento\n",
        "class3 = tree.DecisionTreeClassifier(random_state=42,max_depth = 11)\n",
        "class3.fit(X_train_d, Y_train_d)"
      ],
      "metadata": {
        "colab": {
          "base_uri": "https://localhost:8080/",
          "height": 76
        },
        "id": "lxyCR0qnFYE8",
        "outputId": "1c04e73c-3990-40c2-d3c6-f82d9dd5bd2a"
      },
      "execution_count": 235,
      "outputs": [
        {
          "output_type": "execute_result",
          "data": {
            "text/plain": [
              "DecisionTreeClassifier(max_depth=11, random_state=42)"
            ],
            "text/html": [
              "<style>#sk-container-id-9 {color: black;background-color: white;}#sk-container-id-9 pre{padding: 0;}#sk-container-id-9 div.sk-toggleable {background-color: white;}#sk-container-id-9 label.sk-toggleable__label {cursor: pointer;display: block;width: 100%;margin-bottom: 0;padding: 0.3em;box-sizing: border-box;text-align: center;}#sk-container-id-9 label.sk-toggleable__label-arrow:before {content: \"▸\";float: left;margin-right: 0.25em;color: #696969;}#sk-container-id-9 label.sk-toggleable__label-arrow:hover:before {color: black;}#sk-container-id-9 div.sk-estimator:hover label.sk-toggleable__label-arrow:before {color: black;}#sk-container-id-9 div.sk-toggleable__content {max-height: 0;max-width: 0;overflow: hidden;text-align: left;background-color: #f0f8ff;}#sk-container-id-9 div.sk-toggleable__content pre {margin: 0.2em;color: black;border-radius: 0.25em;background-color: #f0f8ff;}#sk-container-id-9 input.sk-toggleable__control:checked~div.sk-toggleable__content {max-height: 200px;max-width: 100%;overflow: auto;}#sk-container-id-9 input.sk-toggleable__control:checked~label.sk-toggleable__label-arrow:before {content: \"▾\";}#sk-container-id-9 div.sk-estimator input.sk-toggleable__control:checked~label.sk-toggleable__label {background-color: #d4ebff;}#sk-container-id-9 div.sk-label input.sk-toggleable__control:checked~label.sk-toggleable__label {background-color: #d4ebff;}#sk-container-id-9 input.sk-hidden--visually {border: 0;clip: rect(1px 1px 1px 1px);clip: rect(1px, 1px, 1px, 1px);height: 1px;margin: -1px;overflow: hidden;padding: 0;position: absolute;width: 1px;}#sk-container-id-9 div.sk-estimator {font-family: monospace;background-color: #f0f8ff;border: 1px dotted black;border-radius: 0.25em;box-sizing: border-box;margin-bottom: 0.5em;}#sk-container-id-9 div.sk-estimator:hover {background-color: #d4ebff;}#sk-container-id-9 div.sk-parallel-item::after {content: \"\";width: 100%;border-bottom: 1px solid gray;flex-grow: 1;}#sk-container-id-9 div.sk-label:hover label.sk-toggleable__label {background-color: #d4ebff;}#sk-container-id-9 div.sk-serial::before {content: \"\";position: absolute;border-left: 1px solid gray;box-sizing: border-box;top: 0;bottom: 0;left: 50%;z-index: 0;}#sk-container-id-9 div.sk-serial {display: flex;flex-direction: column;align-items: center;background-color: white;padding-right: 0.2em;padding-left: 0.2em;position: relative;}#sk-container-id-9 div.sk-item {position: relative;z-index: 1;}#sk-container-id-9 div.sk-parallel {display: flex;align-items: stretch;justify-content: center;background-color: white;position: relative;}#sk-container-id-9 div.sk-item::before, #sk-container-id-9 div.sk-parallel-item::before {content: \"\";position: absolute;border-left: 1px solid gray;box-sizing: border-box;top: 0;bottom: 0;left: 50%;z-index: -1;}#sk-container-id-9 div.sk-parallel-item {display: flex;flex-direction: column;z-index: 1;position: relative;background-color: white;}#sk-container-id-9 div.sk-parallel-item:first-child::after {align-self: flex-end;width: 50%;}#sk-container-id-9 div.sk-parallel-item:last-child::after {align-self: flex-start;width: 50%;}#sk-container-id-9 div.sk-parallel-item:only-child::after {width: 0;}#sk-container-id-9 div.sk-dashed-wrapped {border: 1px dashed gray;margin: 0 0.4em 0.5em 0.4em;box-sizing: border-box;padding-bottom: 0.4em;background-color: white;}#sk-container-id-9 div.sk-label label {font-family: monospace;font-weight: bold;display: inline-block;line-height: 1.2em;}#sk-container-id-9 div.sk-label-container {text-align: center;}#sk-container-id-9 div.sk-container {/* jupyter's `normalize.less` sets `[hidden] { display: none; }` but bootstrap.min.css set `[hidden] { display: none !important; }` so we also need the `!important` here to be able to override the default hidden behavior on the sphinx rendered scikit-learn.org. See: https://github.com/scikit-learn/scikit-learn/issues/21755 */display: inline-block !important;position: relative;}#sk-container-id-9 div.sk-text-repr-fallback {display: none;}</style><div id=\"sk-container-id-9\" class=\"sk-top-container\"><div class=\"sk-text-repr-fallback\"><pre>DecisionTreeClassifier(max_depth=11, random_state=42)</pre><b>In a Jupyter environment, please rerun this cell to show the HTML representation or trust the notebook. <br />On GitHub, the HTML representation is unable to render, please try loading this page with nbviewer.org.</b></div><div class=\"sk-container\" hidden><div class=\"sk-item\"><div class=\"sk-estimator sk-toggleable\"><input class=\"sk-toggleable__control sk-hidden--visually\" id=\"sk-estimator-id-9\" type=\"checkbox\" checked><label for=\"sk-estimator-id-9\" class=\"sk-toggleable__label sk-toggleable__label-arrow\">DecisionTreeClassifier</label><div class=\"sk-toggleable__content\"><pre>DecisionTreeClassifier(max_depth=11, random_state=42)</pre></div></div></div></div></div>"
            ]
          },
          "metadata": {},
          "execution_count": 235
        }
      ]
    },
    {
      "cell_type": "code",
      "source": [
        "# Realizamos la predicción\n",
        "Y_pred3 = class3.predict(X_test_d)\n",
        "y_val_pred3=class3.predict(X_val_d)"
      ],
      "metadata": {
        "id": "zP6KVaswFdNP"
      },
      "execution_count": 236,
      "outputs": []
    },
    {
      "cell_type": "code",
      "source": [
        "# Evaluamos la prediccion utilizando las metricas\n",
        "acc3=accuracy_score(Y_test_d, Y_pred3)\n",
        "recall3=recall_score(Y_test_d, Y_pred3)\n",
        "conf_mat3=confusion_matrix(Y_test_d,Y_pred3)\n",
        "\n",
        "val_acc3 = accuracy_score(Y_val_d, y_val_pred3)\n",
        "val_recall3=recall_score(Y_val_d, y_val_pred3)\n",
        "val_conf_mat3=confusion_matrix(Y_val_d,y_val_pred3)\n",
        "\n",
        "acc_test.append(acc3)\n",
        "recall_test.append(recall3)\n",
        "conf_mat_test.append(conf_mat3)\n",
        "\n",
        "acc_val.append(val_acc3)\n",
        "conf_mat_val.append(val_conf_mat3)\n",
        "recall_val.append(val_recall3)\n",
        "\n",
        "print(\"Accuracy: {}\".format(acc3))\n",
        "print(\"Recall: {}\".format(recall3))\n",
        "print(\"Matriz de confusión:\")\n",
        "\n",
        "fig, axs = plt.subplots(1, 2)\n",
        "\n",
        "sns.heatmap(conf_mat3, annot=True, ax=axs[0])\n",
        "axs[0].set_title('Test')\n",
        "\n",
        "sns.heatmap(val_conf_mat3, annot=True, ax=axs[1])\n",
        "axs[1].set_title('Validación')\n",
        "\n",
        "plt.tight_layout()\n",
        "plt.show()"
      ],
      "metadata": {
        "colab": {
          "base_uri": "https://localhost:8080/",
          "height": 543
        },
        "id": "RaZv5OIGFxx_",
        "outputId": "3007c0b2-0a2b-424c-b99f-b318217e5243"
      },
      "execution_count": 237,
      "outputs": [
        {
          "output_type": "stream",
          "name": "stdout",
          "text": [
            "Accuracy: 0.9702380952380952\n",
            "Recall: 0.9444444444444444\n",
            "Matriz de confusión:\n"
          ]
        },
        {
          "output_type": "display_data",
          "data": {
            "text/plain": [
              "<Figure size 640x480 with 4 Axes>"
            ],
            "image/png": "[encoded data removed]"
          },
          "metadata": {}
        }
      ]
    },
    {
      "cell_type": "markdown",
      "source": [
        "##TÉCNICA 3. MUESTRAS ARTIFICIALES\n",
        "\n",
        "Generar oversampling creando muestras artificiales."
      ],
      "metadata": {
        "id": "1sUHo1LCF-aT"
      }
    },
    {
      "cell_type": "markdown",
      "source": [
        "Para hacer oversampling de la clase minoritaria generando muestras sintéticas, se puede utilizar alguna técnica de aumento de datos como **SMOTE** (Synthetic Minority Over-sampling Technique). SMOTE es una técnica de oversampling que consiste en sintetizar nuevas instancias para la clase minoritaria basándose en la interpolación lineal de las muestras existentes. En otras palabras, SMOTE genera nuevas instancias tomando muestras aleatorias de la clase minoritaria y creando \"vecinos sintéticos\" a partir de ellas."
      ],
      "metadata": {
        "id": "N_St-FYcGTHZ"
      }
    },
    {
      "cell_type": "code",
      "source": [
        "from imblearn.over_sampling import SMOTE\n",
        "smote = SMOTE(sampling_strategy='minority', k_neighbors=5)\n",
        "X_resampled, y_resampled = smote.fit_resample(X, Y)"
      ],
      "metadata": {
        "id": "1CLkF0TyGIe2"
      },
      "execution_count": 238,
      "outputs": []
    },
    {
      "cell_type": "code",
      "source": [
        "# Division of dataset\n",
        "X_train_o, X_test_o, Y_train_o, Y_test_o = train_test_split(X_resampled, y_resampled, test_size = 0.15, random_state = 42)\n",
        "X_train_o, X_val_o, Y_train_o, Y_val_o = train_test_split(X_train_o, Y_train_o, test_size = 0.15, random_state = 42)"
      ],
      "metadata": {
        "id": "332zkgLlHSQK"
      },
      "execution_count": 239,
      "outputs": []
    },
    {
      "cell_type": "code",
      "source": [
        "#vemos profundidad del árbol\n",
        "class_tree = tree.DecisionTreeClassifier(random_state=42)\n",
        "scores = []\n",
        "num_variables = len(X_resampled)\n",
        "n_niveles = range(1, num_variables + 1)\n",
        "\n",
        "\n",
        "for n in n_niveles:\n",
        "    class_tree.set_params(max_depth = n)\n",
        "    class_tree.fit(X_train_o, Y_train_o)\n",
        "    scores.append(class_tree.score(X_test_o, Y_test_o))\n",
        "    \n",
        "plt.title(\"Score según nivel del árbol\")\n",
        "plt.xlabel(\"Número de niveles\")\n",
        "plt.ylabel(\"Score\")\n",
        "plt.plot(n_niveles[0:30], scores[0:30])\n",
        "plt.show()"
      ],
      "metadata": {
        "colab": {
          "base_uri": "https://localhost:8080/",
          "height": 472
        },
        "id": "6W7Ki9f5KN3D",
        "outputId": "d4fb29c8-94a3-470c-9e42-56f8155ae547"
      },
      "execution_count": 240,
      "outputs": [
        {
          "output_type": "display_data",
          "data": {
            "text/plain": [
              "<Figure size 640x480 with 1 Axes>"
            ],
            "image/png": "[encoded data removed]"
          },
          "metadata": {}
        }
      ]
    },
    {
      "cell_type": "code",
      "source": [
        "print('Con {} niveles se obtuvo el mayor score'.format(np.argmax(scores)))"
      ],
      "metadata": {
        "colab": {
          "base_uri": "https://localhost:8080/"
        },
        "id": "Rf2bVvI1KVKz",
        "outputId": "e4b78c14-dc4b-4863-f4c1-fb5f90f234ba"
      },
      "execution_count": 241,
      "outputs": [
        {
          "output_type": "stream",
          "name": "stdout",
          "text": [
            "Con 13 niveles se obtuvo el mayor score\n"
          ]
        }
      ]
    },
    {
      "cell_type": "code",
      "source": [
        "# Entrenamiento\n",
        "class4 = tree.DecisionTreeClassifier(random_state=42,max_depth = 11)\n",
        "class4.fit(X_train_o, Y_train_o)\n",
        "\n",
        "# Realizamos la predicción\n",
        "Y_pred4 = class4.predict(X_test_o)\n",
        "y_val_pred4=class4.predict(X_val_o)"
      ],
      "metadata": {
        "id": "zoZrY_SZGnVQ"
      },
      "execution_count": 242,
      "outputs": []
    },
    {
      "cell_type": "code",
      "source": [
        "# Evaluamos la prediccion utilizando las metricas\n",
        "acc4=accuracy_score(Y_test_o, Y_pred4)\n",
        "recall4=recall_score(Y_test_o, Y_pred4)\n",
        "conf_mat4=confusion_matrix(Y_test_o,Y_pred4)\n",
        "\n",
        "val_acc4 = accuracy_score(Y_val_o, y_val_pred4)\n",
        "val_recall4=recall_score(Y_val_o, y_val_pred4)\n",
        "val_conf_mat4=confusion_matrix(Y_val_o,y_val_pred4)\n",
        "\n",
        "acc_test.append(acc4)\n",
        "recall_test.append(recall4)\n",
        "conf_mat_test.append(conf_mat4)\n",
        "\n",
        "acc_val.append(val_acc4)\n",
        "conf_mat_val.append(val_conf_mat4)\n",
        "recall_val.append(val_recall4)\n",
        "\n",
        "\n",
        "print(\"Accuracy: {}\".format(acc4))\n",
        "print(\"Recall: {}\".format(recall4))\n",
        "print(\"Matriz de confusión:\")\n",
        "\n",
        "fig, axs = plt.subplots(1, 2)\n",
        "\n",
        "sns.heatmap(conf_mat4, annot=True, ax=axs[0])\n",
        "axs[0].set_title('Test')\n",
        "\n",
        "sns.heatmap(val_conf_mat4, annot=True, ax=axs[1])\n",
        "axs[1].set_title('Validación')\n",
        "\n",
        "plt.tight_layout()\n",
        "plt.show()"
      ],
      "metadata": {
        "colab": {
          "base_uri": "https://localhost:8080/",
          "height": 543
        },
        "id": "tsBNKXvSGxaH",
        "outputId": "7a18178f-466f-4bc5-b039-be7b6df7a435"
      },
      "execution_count": 243,
      "outputs": [
        {
          "output_type": "stream",
          "name": "stdout",
          "text": [
            "Accuracy: 0.9553571428571429\n",
            "Recall: 0.9691358024691358\n",
            "Matriz de confusión:\n"
          ]
        },
        {
          "output_type": "display_data",
          "data": {
            "text/plain": [
              "<Figure size 640x480 with 4 Axes>"
            ],
            "image/png": "[encoded data removed]"
          },
          "metadata": {}
        }
      ]
    },
    {
      "cell_type": "markdown",
      "source": [
        "##TÉCNICA 4. COMBINACIÓN DE OVERSAMPLING Y SUBSAMPLIG"
      ],
      "metadata": {
        "id": "8cWImGOCH3nA"
      }
    },
    {
      "cell_type": "markdown",
      "source": [
        "Una técnica de desbalanceo que combina subsampling y oversampling se llama **SMOTEENN** (Synthetic Minority Over-sampling Technique Edited Nearest Neighbors). Esta técnica primero aplica SMOTE para generar nuevas muestras sintéticas para la clase minoritaria, y luego realiza undersampling de la clase mayoritaria utilizando la técnica Edited Nearest Neighbors (ENN) para eliminar las muestras redundantes y ruidosas."
      ],
      "metadata": {
        "id": "mWW0rodkIW4L"
      }
    },
    {
      "cell_type": "code",
      "source": [
        "from imblearn.combine import SMOTEENN\n",
        "\n",
        "# Crear objeto SMOTEENN\n",
        "smote_enn = SMOTEENN(random_state=0)\n",
        "\n",
        "# Aplicar SMOTEENN a los datos de entrenamiento\n",
        "X_resampled, y_resampled = smote_enn.fit_resample(X, Y)"
      ],
      "metadata": {
        "id": "MG2AbIqkH3PP"
      },
      "execution_count": 244,
      "outputs": []
    },
    {
      "cell_type": "code",
      "source": [
        "# Division of dataset\n",
        "X_train_sm, X_test_sm, Y_train_sm, Y_test_sm = train_test_split(X_resampled, y_resampled, test_size = 0.15, random_state = 42)\n",
        "X_train_sm, X_val_sm, Y_train_sm, Y_val_sm = train_test_split(X_train_sm, Y_train_sm, test_size = 0.15, random_state = 42)"
      ],
      "metadata": {
        "id": "8TRckYhdIhPn"
      },
      "execution_count": 245,
      "outputs": []
    },
    {
      "cell_type": "code",
      "source": [
        "#vemos profundidad del árbol\n",
        "class_tree = tree.DecisionTreeClassifier(random_state=42)\n",
        "scores = []\n",
        "num_variables = len(X_resampled)\n",
        "n_niveles = range(1, num_variables + 1)\n",
        "\n",
        "\n",
        "for n in n_niveles:\n",
        "    class_tree.set_params(max_depth = n)\n",
        "    class_tree.fit(X_train_sm, Y_train_sm)\n",
        "    scores.append(class_tree.score(X_test_sm, Y_test_sm))\n",
        "    \n",
        "plt.title(\"Score según nivel del árbol\")\n",
        "plt.xlabel(\"Número de niveles\")\n",
        "plt.ylabel(\"Score\")\n",
        "plt.plot(n_niveles[0:30], scores[0:30])\n",
        "plt.show()"
      ],
      "metadata": {
        "colab": {
          "base_uri": "https://localhost:8080/",
          "height": 472
        },
        "id": "wxwvt6o9KYil",
        "outputId": "197d48e1-9935-4d2d-c117-a3149f2d7d98"
      },
      "execution_count": 246,
      "outputs": [
        {
          "output_type": "display_data",
          "data": {
            "text/plain": [
              "<Figure size 640x480 with 1 Axes>"
            ],
            "image/png": "[encoded data removed]"
          },
          "metadata": {}
        }
      ]
    },
    {
      "cell_type": "code",
      "source": [
        "print('Con {} niveles se obtuvo el mayor score'.format(np.argmax(scores)))"
      ],
      "metadata": {
        "colab": {
          "base_uri": "https://localhost:8080/"
        },
        "id": "LgIQYK-qKinx",
        "outputId": "816dcd0c-dee3-45c3-b0b5-e35ea43ed2b0"
      },
      "execution_count": 247,
      "outputs": [
        {
          "metadata": {
            "tags": null
          },
          "name": "stdout",
          "output_type": "stream",
          "text": [
            "Con 10 niveles se obtuvo el mayor score\n"
          ]
        }
      ]
    },
    {
      "cell_type": "code",
      "source": [
        "# Entrenamiento\n",
        "class5 = tree.DecisionTreeClassifier(random_state=42,max_depth = 10)\n",
        "class5.fit(X_train_sm, Y_train_sm)\n",
        "\n",
        "# Realizamos la predicción\n",
        "Y_pred5 = class5.predict(X_test_sm)\n",
        "y_val_pred5=class5.predict(X_val_sm)"
      ],
      "metadata": {
        "id": "s6MOW38rIng6"
      },
      "execution_count": 248,
      "outputs": []
    },
    {
      "cell_type": "code",
      "source": [
        "# Evaluamos la prediccion utilizando las metricas\n",
        "acc5=accuracy_score(Y_test_sm, Y_pred5)\n",
        "recall5=recall_score(Y_test_sm, Y_pred5)\n",
        "conf_mat5=confusion_matrix(Y_test_sm,Y_pred5)\n",
        "\n",
        "val_acc5 = accuracy_score(Y_val_sm, y_val_pred5)\n",
        "val_recall5=recall_score(Y_val_sm, y_val_pred5)\n",
        "val_conf_mat5=confusion_matrix(Y_val_sm,y_val_pred5)\n",
        "\n",
        "acc_test.append(acc5)\n",
        "recall_test.append(recall5)\n",
        "conf_mat_test.append(conf_mat5)\n",
        "\n",
        "acc_val.append(val_acc5)\n",
        "conf_mat_val.append(val_conf_mat5)\n",
        "recall_val.append(val_recall5)\n",
        "\n",
        "print(\"Accuracy: {}\".format(acc5))\n",
        "print(\"Recall: {}\".format(recall5))\n",
        "print(\"Matriz de confusión:\")\n",
        "\n",
        "fig, axs = plt.subplots(1, 2)\n",
        "\n",
        "sns.heatmap(conf_mat5, annot=True, ax=axs[0])\n",
        "axs[0].set_title('Test')\n",
        "\n",
        "sns.heatmap(val_conf_mat5, annot=True, ax=axs[1])\n",
        "axs[1].set_title('Validación')\n",
        "\n",
        "plt.tight_layout()\n",
        "plt.show()"
      ],
      "metadata": {
        "colab": {
          "base_uri": "https://localhost:8080/",
          "height": 543
        },
        "id": "nmkeeGXqIxuY",
        "outputId": "70978940-d98e-40dd-a108-fa931840ffcf"
      },
      "execution_count": 249,
      "outputs": [
        {
          "output_type": "stream",
          "name": "stdout",
          "text": [
            "Accuracy: 0.9571984435797666\n",
            "Recall: 0.967479674796748\n",
            "Matriz de confusión:\n"
          ]
        },
        {
          "output_type": "display_data",
          "data": {
            "text/plain": [
              "<Figure size 640x480 with 4 Axes>"
            ],
            "image/png": "[encoded data removed]"
          },
          "metadata": {}
        }
      ]
    },
    {
      "cell_type": "markdown",
      "source": [
        "## TÉCNICA 5. CON MÉTODOS DE ENSAMBLAJE\n"
      ],
      "metadata": {
        "id": "HEG1U6j60ErO"
      }
    },
    {
      "cell_type": "markdown",
      "source": [
        "Para este apartado, el árbol de clasificación se va a sustituir por un Random Forest, ya que es un algoritmo de ensamblaje de árboles de clasificación. "
      ],
      "metadata": {
        "id": "C3C9_UTRKmIL"
      }
    },
    {
      "cell_type": "markdown",
      "source": [
        "Primero hacemos una búsqueda de hiperparámetros"
      ],
      "metadata": {
        "id": "eZEAI4bMK9lh"
      }
    },
    {
      "cell_type": "code",
      "source": [
        "def obtener_mejor_configuracion(modelo, x, y, num_arboles):\n",
        "    scores = [[],[]]\n",
        "    errors = [[],[]]\n",
        "    \n",
        "    for n in num_arboles:\n",
        "        #Primer caso\n",
        "        modelo.set_params(n_estimators=n, max_features='sqrt')\n",
        "        modelo.fit(x, y)\n",
        "        scores[0].append(modelo.score(x, y))\n",
        "        errors[0].append(1 - modelo.oob_score_)\n",
        "        #Segundo caso\n",
        "        modelo.set_params(n_estimators=n, max_features='log2') \n",
        "        modelo.fit(x, y)\n",
        "        scores[1].append(modelo.score(x, y))\n",
        "        errors[1].append(1 - modelo.oob_score_)\n",
        "\n",
        "        \n",
        "    fig, ax = plt.subplots(1 ,2, figsize=(12, 4))\n",
        "\n",
        "    ax[0].set_title(\"Score según el número de árboles\")\n",
        "    ax[0].set_xlabel(\"Número de árboles\")\n",
        "    ax[0].set_ylabel(\"score\")\n",
        "    ax[0].plot(num_arboles, scores[0], label='m=sqrt')\n",
        "    ax[0].plot(num_arboles, scores[1], label='m=log2')\n",
        "    ax[0].legend()\n",
        "\n",
        "    ax[1].set_title(\"Error OOB según el número de árboles\")\n",
        "    ax[1].set_xlabel(\"Número de árboles\")\n",
        "    ax[1].set_ylabel(\"error\")\n",
        "    ax[1].plot(num_arboles, errors[0], label='m=sqrt')\n",
        "    ax[1].plot(num_arboles, errors[1], label='m=log2')\n",
        "    ax[1].legend()\n",
        "    plt.show()\n",
        "    \n",
        "    return scores, errors"
      ],
      "metadata": {
        "id": "-GEmvae8Klrf"
      },
      "execution_count": 250,
      "outputs": []
    },
    {
      "cell_type": "code",
      "source": [
        "num_arboles = np.arange(30, 500, 20)\n",
        "class_rf = RandomForestClassifier(random_state=42, n_jobs=-1, oob_score=True)\n",
        "scores, errors = obtener_mejor_configuracion(class_rf, X_train, y_train, num_arboles)"
      ],
      "metadata": {
        "colab": {
          "base_uri": "https://localhost:8080/",
          "height": 411
        },
        "id": "MjbmTmX8IL53",
        "outputId": "0df44595-2e77-4763-ead6-6615b5b1f073"
      },
      "execution_count": 251,
      "outputs": [
        {
          "output_type": "display_data",
          "data": {
            "text/plain": [
              "<Figure size 1200x400 with 2 Axes>"
            ],
            "image/png": "[encoded data removed]"
          },
          "metadata": {}
        }
      ]
    },
    {
      "cell_type": "code",
      "source": [
        "# Obtener el número de árboles que obtuvo el mejor score y el menor error OOB\n",
        "print('Con {} árboles se obtuvo el mayor score'.format((np.argmax(scores[1]) + 3) * 20))\n",
        "print('Con {} árboles se obtuvo el menor error OOB'.format((np.argmin(errors[1]) + 3) * 20))"
      ],
      "metadata": {
        "id": "dJVWd-PDLPuY"
      },
      "execution_count": null,
      "outputs": []
    },
    {
      "cell_type": "code",
      "source": [
        "# Entrenamos el modelo\n",
        "class_rf.set_params(n_estimators=60, max_features='log2')\n",
        "class_rf.fit(X_train, y_train)\n",
        "\n",
        "#prededimos los nuevos valores\n",
        "Y_pred6 = class_rf.predict(X_test)\n",
        "y_val_pred6=class_rf.predict(X_val)"
      ],
      "metadata": {
        "id": "eZSIwbJRLV5-"
      },
      "execution_count": null,
      "outputs": []
    },
    {
      "cell_type": "code",
      "source": [
        "# Evaluamos la prediccion utilizando las metricas\n",
        "acc6=accuracy_score(Y_test, Y_pred6)\n",
        "recall6=recall_score(Y_test, Y_pred6)\n",
        "conf_mat6=confusion_matrix(Y_test,Y_pred6)\n",
        "\n",
        "val_acc6 = accuracy_score(y_val,  y_val_pred6)\n",
        "val_recall6=recall_score(y_val, y_val_pred6)\n",
        "val_conf_mat6=confusion_matrix(y_val,y_val_pred6)\n",
        "\n",
        "acc_test.append(acc6)\n",
        "recall_test.append(recall6)\n",
        "conf_mat_test.append(conf_mat6)\n",
        "\n",
        "acc_val.append(val_acc6)\n",
        "conf_mat_val.append(val_conf_mat6)\n",
        "recall_val.append(val_recall6)\n",
        "\n",
        "print(\"Accuracy: {}\".format(acc6))\n",
        "print(\"Recall: {}\".format(recall6))\n",
        "print(\"Matriz de confusión:\")\n",
        "\n",
        "fig, axs = plt.subplots(1, 2)\n",
        "\n",
        "sns.heatmap(conf_mat6, annot=True, ax=axs[0])\n",
        "axs[0].set_title('Test')\n",
        "\n",
        "sns.heatmap(val_conf_mat6, annot=True, ax=axs[1])\n",
        "axs[1].set_title('Validación')\n",
        "\n",
        "plt.tight_layout()\n",
        "plt.show()"
      ],
      "metadata": {
        "colab": {
          "base_uri": "https://localhost:8080/",
          "height": 543
        },
        "id": "fpXtUIkXL5ki",
        "outputId": "d26bab47-f1fb-4c7e-a58c-c237d2ae495f"
      },
      "execution_count": 254,
      "outputs": [
        {
          "metadata": {
            "tags": null
          },
          "name": "stdout",
          "output_type": "stream",
          "text": [
            "Accuracy: 0.9655172413793104\n",
            "Recall: 0.7777777777777778\n",
            "Matriz de confusión:\n"
          ]
        },
        {
          "data": {
            "image/png": "[encoded data removed]",
            "text/plain": [
              "<Figure size 640x480 with 4 Axes>"
            ]
          },
          "metadata": {},
          "output_type": "display_data"
        }
      ]
    },
    {
      "cell_type": "markdown",
      "source": [
        "##COMPARATIVA DE TÉCNICAS"
      ],
      "metadata": {
        "id": "Kcr8RxGHMONJ"
      }
    },
    {
      "cell_type": "markdown",
      "source": [
        "* **Técnica1** - Ajuste de parámetros del modelo\n",
        "* **Técnica2** - *Subsampling* de la clase mayoritaria\n",
        "* **Técnica3**- *Oversampling* de la clase minoritaria (duplicados)\n",
        "* **Técnica4** - *Oversamplig* de la clase minoritaria (muestras sintéticas)\n",
        "* **Técnica5** - Combinación *oversampling* + *subsampling*\n",
        "* **Técnica6** - Método de ensamblaje"
      ],
      "metadata": {
        "id": "_I30seXKNAZe"
      }
    },
    {
      "cell_type": "markdown",
      "source": [
        "Para la evaluación de las técnicas tenemos que tener claro lo siguiente:\n",
        "\n",
        "* **Alta precision y alto recall**: el modelo maneja perfectamente esa clase\n",
        "* **Alta precision y bajo recall**: el modelo no detecta la clase muy bien, pero cuando lo hace es altamente confiable.\n",
        "* **Baja precisión y alto recall**: La clase detecta bien la clase pero también incluye muestras de otras clases.\n",
        "* **Baja precisión y bajo recall**: El modelo no logra clasificar la clase correctamente.\n",
        "\n",
        "Cuando tenemos un dataset con desequilibrio, suele ocurrir que obtenemos un alto valor de precisión en la clase Mayoritaria y un bajo recall en la clase Minoritaria\n",
        "\n",
        "El **F1 Score** de una clase es dada por la media harmonía de precisión y recall (2 x precision x recall / (precision+recall)). Es decir, combina precisión y recall en una sola métrica."
      ],
      "metadata": {
        "id": "v1JYjun_HNGz"
      }
    },
    {
      "cell_type": "code",
      "source": [
        "metricas_df=pd.DataFrame()\n",
        "metricas_df['Técnica']=['Técnica1', 'Técnica2', 'Técnica3', 'Técnica4', 'Técnica5', 'Técnica6']\n",
        "metricas_df['Test_acc']=acc_test\n",
        "metricas_df['Test_recall']=recall_test\n",
        "metricas_df['Val_acc']=acc_val\n",
        "metricas_df['Val_recall']=recall_val"
      ],
      "metadata": {
        "id": "8mysoEGn2Wfi"
      },
      "execution_count": 256,
      "outputs": []
    },
    {
      "cell_type": "code",
      "source": [
        "metricas_df"
      ],
      "metadata": {
        "colab": {
          "base_uri": "https://localhost:8080/",
          "height": 238
        },
        "id": "VYwHYo2zB_jZ",
        "outputId": "f21ad811-066e-4975-cc04-4222a2788f8a"
      },
      "execution_count": 257,
      "outputs": [
        {
          "output_type": "execute_result",
          "data": {
            "text/plain": [
              "    Técnica  Test_acc  Test_recall   Val_acc  Val_recall\n",
              "0  Técnica1  0.926108     0.851852  0.907514    0.763158\n",
              "1  Técnica2  0.814286     0.903226  0.796610    0.733333\n",
              "2  Técnica3  0.970238     0.944444  0.982517    0.971831\n",
              "3  Técnica4  0.955357     0.969136  0.947552    0.942446\n",
              "4  Técnica5  0.957198     0.967480  0.954128    0.981308\n",
              "5  Técnica6  0.965517     0.777778  0.942197    0.736842"
            ],
            "text/html": [
              "\n",
              "  <div id=\"df-7b230cae-9c05-4a36-a1d4-6f2b1fdb077f\">\n",
              "    <div class=\"colab-df-container\">\n",
              "      <div>\n",
              "<style scoped>\n",
              "    .dataframe tbody tr th:only-of-type {\n",
              "        vertical-align: middle;\n",
              "    }\n",
              "\n",
              "    .dataframe tbody tr th {\n",
              "        vertical-align: top;\n",
              "    }\n",
              "\n",
              "    .dataframe thead th {\n",
              "        text-align: right;\n",
              "    }\n",
              "</style>\n",
              "<table border=\"1\" class=\"dataframe\">\n",
              "  <thead>\n",
              "    <tr style=\"text-align: right;\">\n",
              "      <th></th>\n",
              "      <th>Técnica</th>\n",
              "      <th>Test_acc</th>\n",
              "      <th>Test_recall</th>\n",
              "      <th>Val_acc</th>\n",
              "      <th>Val_recall</th>\n",
              "    </tr>\n",
              "  </thead>\n",
              "  <tbody>\n",
              "    <tr>\n",
              "      <th>0</th>\n",
              "      <td>Técnica1</td>\n",
              "      <td>0.926108</td>\n",
              "      <td>0.851852</td>\n",
              "      <td>0.907514</td>\n",
              "      <td>0.763158</td>\n",
              "    </tr>\n",
              "    <tr>\n",
              "      <th>1</th>\n",
              "      <td>Técnica2</td>\n",
              "      <td>0.814286</td>\n",
              "      <td>0.903226</td>\n",
              "      <td>0.796610</td>\n",
              "      <td>0.733333</td>\n",
              "    </tr>\n",
              "    <tr>\n",
              "      <th>2</th>\n",
              "      <td>Técnica3</td>\n",
              "      <td>0.970238</td>\n",
              "      <td>0.944444</td>\n",
              "      <td>0.982517</td>\n",
              "      <td>0.971831</td>\n",
              "    </tr>\n",
              "    <tr>\n",
              "      <th>3</th>\n",
              "      <td>Técnica4</td>\n",
              "      <td>0.955357</td>\n",
              "      <td>0.969136</td>\n",
              "      <td>0.947552</td>\n",
              "      <td>0.942446</td>\n",
              "    </tr>\n",
              "    <tr>\n",
              "      <th>4</th>\n",
              "      <td>Técnica5</td>\n",
              "      <td>0.957198</td>\n",
              "      <td>0.967480</td>\n",
              "      <td>0.954128</td>\n",
              "      <td>0.981308</td>\n",
              "    </tr>\n",
              "    <tr>\n",
              "      <th>5</th>\n",
              "      <td>Técnica6</td>\n",
              "      <td>0.965517</td>\n",
              "      <td>0.777778</td>\n",
              "      <td>0.942197</td>\n",
              "      <td>0.736842</td>\n",
              "    </tr>\n",
              "  </tbody>\n",
              "</table>\n",
              "</div>\n",
              "      <button class=\"colab-df-convert\" onclick=\"convertToInteractive('df-7b230cae-9c05-4a36-a1d4-6f2b1fdb077f')\"\n",
              "              title=\"Convert this dataframe to an interactive table.\"\n",
              "              style=\"display:none;\">\n",
              "        \n",
              "  <svg xmlns=\"http://www.w3.org/2000/svg\" height=\"24px\"viewBox=\"0 0 24 24\"\n",
              "       width=\"24px\">\n",
              "    <path d=\"M0 0h24v24H0V0z\" fill=\"none\"/>\n",
              "    <path d=\"M18.56 5.44l.94 2.06.94-2.06 2.06-.94-2.06-.94-.94-2.06-.94 2.06-2.06.94zm-11 1L8.5 8.5l.94-2.06 2.06-.94-2.06-.94L8.5 2.5l-.94 2.06-2.06.94zm10 10l.94 2.06.94-2.06 2.06-.94-2.06-.94-.94-2.06-.94 2.06-2.06.94z\"/><path d=\"M17.41 7.96l-1.37-1.37c-.4-.4-.92-.59-1.43-.59-.52 0-1.04.2-1.43.59L10.3 9.45l-7.72 7.72c-.78.78-.78 2.05 0 2.83L4 21.41c.39.39.9.59 1.41.59.51 0 1.02-.2 1.41-.59l7.78-7.78 2.81-2.81c.8-.78.8-2.07 0-2.86zM5.41 20L4 18.59l7.72-7.72 1.47 1.35L5.41 20z\"/>\n",
              "  </svg>\n",
              "      </button>\n",
              "      \n",
              "  <style>\n",
              "    .colab-df-container {\n",
              "      display:flex;\n",
              "      flex-wrap:wrap;\n",
              "      gap: 12px;\n",
              "    }\n",
              "\n",
              "    .colab-df-convert {\n",
              "      background-color: #E8F0FE;\n",
              "      border: none;\n",
              "      border-radius: 50%;\n",
              "      cursor: pointer;\n",
              "      display: none;\n",
              "      fill: #1967D2;\n",
              "      height: 32px;\n",
              "      padding: 0 0 0 0;\n",
              "      width: 32px;\n",
              "    }\n",
              "\n",
              "    .colab-df-convert:hover {\n",
              "      background-color: #E2EBFA;\n",
              "      box-shadow: 0px 1px 2px rgba(60, 64, 67, 0.3), 0px 1px 3px 1px rgba(60, 64, 67, 0.15);\n",
              "      fill: #174EA6;\n",
              "    }\n",
              "\n",
              "    [theme=dark] .colab-df-convert {\n",
              "      background-color: #3B4455;\n",
              "      fill: #D2E3FC;\n",
              "    }\n",
              "\n",
              "    [theme=dark] .colab-df-convert:hover {\n",
              "      background-color: #434B5C;\n",
              "      box-shadow: 0px 1px 3px 1px rgba(0, 0, 0, 0.15);\n",
              "      filter: drop-shadow(0px 1px 2px rgba(0, 0, 0, 0.3));\n",
              "      fill: #FFFFFF;\n",
              "    }\n",
              "  </style>\n",
              "\n",
              "      <script>\n",
              "        const buttonEl =\n",
              "          document.querySelector('#df-7b230cae-9c05-4a36-a1d4-6f2b1fdb077f button.colab-df-convert');\n",
              "        buttonEl.style.display =\n",
              "          google.colab.kernel.accessAllowed ? 'block' : 'none';\n",
              "\n",
              "        async function convertToInteractive(key) {\n",
              "          const element = document.querySelector('#df-7b230cae-9c05-4a36-a1d4-6f2b1fdb077f');\n",
              "          const dataTable =\n",
              "            await google.colab.kernel.invokeFunction('convertToInteractive',\n",
              "                                                     [key], {});\n",
              "          if (!dataTable) return;\n",
              "\n",
              "          const docLinkHtml = 'Like what you see? Visit the ' +\n",
              "            '<a target=\"_blank\" href=https://colab.research.google.com/notebooks/data_table.ipynb>data table notebook</a>'\n",
              "            + ' to learn more about interactive tables.';\n",
              "          element.innerHTML = '';\n",
              "          dataTable['output_type'] = 'display_data';\n",
              "          await google.colab.output.renderOutput(dataTable, element);\n",
              "          const docLink = document.createElement('div');\n",
              "          docLink.innerHTML = docLinkHtml;\n",
              "          element.appendChild(docLink);\n",
              "        }\n",
              "      </script>\n",
              "    </div>\n",
              "  </div>\n",
              "  "
            ]
          },
          "metadata": {},
          "execution_count": 257
        }
      ]
    },
    {
      "cell_type": "markdown",
      "source": [
        "Como se puede observar las técnicas que mejor métricas han obtenido han sido la 3, la 4 y la 5. Vamos a calcular el F1-Score para elejir la mejor. "
      ],
      "metadata": {
        "id": "E7_zZI7YCJtS"
      }
    },
    {
      "cell_type": "code",
      "source": [
        "metricas_df['F1_score_Test']=(2*metricas_df['Test_acc']*metricas_df['Test_recall'])/(metricas_df['Test_acc']+metricas_df['Test_recall'])\n",
        "metricas_df['F1_score_Val']=(2*metricas_df['Val_acc']*metricas_df['Val_recall'])/(metricas_df['Val_acc']+metricas_df['Val_recall'])\n",
        "metricas_df"
      ],
      "metadata": {
        "colab": {
          "base_uri": "https://localhost:8080/",
          "height": 238
        },
        "id": "5EWd3H1KCJYP",
        "outputId": "525724e6-d4d3-44ed-e3d9-f1381119b911"
      },
      "execution_count": 259,
      "outputs": [
        {
          "output_type": "execute_result",
          "data": {
            "text/plain": [
              "    Técnica  Test_acc  Test_recall   Val_acc  Val_recall  F1_score_Test  \\\n",
              "0  Técnica1  0.926108     0.851852  0.907514    0.763158       0.887429   \n",
              "1  Técnica2  0.814286     0.903226  0.796610    0.733333       0.856453   \n",
              "2  Técnica3  0.970238     0.944444  0.982517    0.971831       0.957168   \n",
              "3  Técnica4  0.955357     0.969136  0.947552    0.942446       0.962197   \n",
              "4  Técnica5  0.957198     0.967480  0.954128    0.981308       0.962312   \n",
              "5  Técnica6  0.965517     0.777778  0.942197    0.736842       0.861538   \n",
              "\n",
              "   F1_score_Val  \n",
              "0      0.829100  \n",
              "1      0.763663  \n",
              "2      0.977145  \n",
              "3      0.944992  \n",
              "4      0.967528  \n",
              "5      0.826961  "
            ],
            "text/html": [
              "\n",
              "  <div id=\"df-5b29c09b-6bd0-442b-a4a8-fb8d1eeb18c5\">\n",
              "    <div class=\"colab-df-container\">\n",
              "      <div>\n",
              "<style scoped>\n",
              "    .dataframe tbody tr th:only-of-type {\n",
              "        vertical-align: middle;\n",
              "    }\n",
              "\n",
              "    .dataframe tbody tr th {\n",
              "        vertical-align: top;\n",
              "    }\n",
              "\n",
              "    .dataframe thead th {\n",
              "        text-align: right;\n",
              "    }\n",
              "</style>\n",
              "<table border=\"1\" class=\"dataframe\">\n",
              "  <thead>\n",
              "    <tr style=\"text-align: right;\">\n",
              "      <th></th>\n",
              "      <th>Técnica</th>\n",
              "      <th>Test_acc</th>\n",
              "      <th>Test_recall</th>\n",
              "      <th>Val_acc</th>\n",
              "      <th>Val_recall</th>\n",
              "      <th>F1_score_Test</th>\n",
              "      <th>F1_score_Val</th>\n",
              "    </tr>\n",
              "  </thead>\n",
              "  <tbody>\n",
              "    <tr>\n",
              "      <th>0</th>\n",
              "      <td>Técnica1</td>\n",
              "      <td>0.926108</td>\n",
              "      <td>0.851852</td>\n",
              "      <td>0.907514</td>\n",
              "      <td>0.763158</td>\n",
              "      <td>0.887429</td>\n",
              "      <td>0.829100</td>\n",
              "    </tr>\n",
              "    <tr>\n",
              "      <th>1</th>\n",
              "      <td>Técnica2</td>\n",
              "      <td>0.814286</td>\n",
              "      <td>0.903226</td>\n",
              "      <td>0.796610</td>\n",
              "      <td>0.733333</td>\n",
              "      <td>0.856453</td>\n",
              "      <td>0.763663</td>\n",
              "    </tr>\n",
              "    <tr>\n",
              "      <th>2</th>\n",
              "      <td>Técnica3</td>\n",
              "      <td>0.970238</td>\n",
              "      <td>0.944444</td>\n",
              "      <td>0.982517</td>\n",
              "      <td>0.971831</td>\n",
              "      <td>0.957168</td>\n",
              "      <td>0.977145</td>\n",
              "    </tr>\n",
              "    <tr>\n",
              "      <th>3</th>\n",
              "      <td>Técnica4</td>\n",
              "      <td>0.955357</td>\n",
              "      <td>0.969136</td>\n",
              "      <td>0.947552</td>\n",
              "      <td>0.942446</td>\n",
              "      <td>0.962197</td>\n",
              "      <td>0.944992</td>\n",
              "    </tr>\n",
              "    <tr>\n",
              "      <th>4</th>\n",
              "      <td>Técnica5</td>\n",
              "      <td>0.957198</td>\n",
              "      <td>0.967480</td>\n",
              "      <td>0.954128</td>\n",
              "      <td>0.981308</td>\n",
              "      <td>0.962312</td>\n",
              "      <td>0.967528</td>\n",
              "    </tr>\n",
              "    <tr>\n",
              "      <th>5</th>\n",
              "      <td>Técnica6</td>\n",
              "      <td>0.965517</td>\n",
              "      <td>0.777778</td>\n",
              "      <td>0.942197</td>\n",
              "      <td>0.736842</td>\n",
              "      <td>0.861538</td>\n",
              "      <td>0.826961</td>\n",
              "    </tr>\n",
              "  </tbody>\n",
              "</table>\n",
              "</div>\n",
              "      <button class=\"colab-df-convert\" onclick=\"convertToInteractive('df-5b29c09b-6bd0-442b-a4a8-fb8d1eeb18c5')\"\n",
              "              title=\"Convert this dataframe to an interactive table.\"\n",
              "              style=\"display:none;\">\n",
              "        \n",
              "  <svg xmlns=\"http://www.w3.org/2000/svg\" height=\"24px\"viewBox=\"0 0 24 24\"\n",
              "       width=\"24px\">\n",
              "    <path d=\"M0 0h24v24H0V0z\" fill=\"none\"/>\n",
              "    <path d=\"M18.56 5.44l.94 2.06.94-2.06 2.06-.94-2.06-.94-.94-2.06-.94 2.06-2.06.94zm-11 1L8.5 8.5l.94-2.06 2.06-.94-2.06-.94L8.5 2.5l-.94 2.06-2.06.94zm10 10l.94 2.06.94-2.06 2.06-.94-2.06-.94-.94-2.06-.94 2.06-2.06.94z\"/><path d=\"M17.41 7.96l-1.37-1.37c-.4-.4-.92-.59-1.43-.59-.52 0-1.04.2-1.43.59L10.3 9.45l-7.72 7.72c-.78.78-.78 2.05 0 2.83L4 21.41c.39.39.9.59 1.41.59.51 0 1.02-.2 1.41-.59l7.78-7.78 2.81-2.81c.8-.78.8-2.07 0-2.86zM5.41 20L4 18.59l7.72-7.72 1.47 1.35L5.41 20z\"/>\n",
              "  </svg>\n",
              "      </button>\n",
              "      \n",
              "  <style>\n",
              "    .colab-df-container {\n",
              "      display:flex;\n",
              "      flex-wrap:wrap;\n",
              "      gap: 12px;\n",
              "    }\n",
              "\n",
              "    .colab-df-convert {\n",
              "      background-color: #E8F0FE;\n",
              "      border: none;\n",
              "      border-radius: 50%;\n",
              "      cursor: pointer;\n",
              "      display: none;\n",
              "      fill: #1967D2;\n",
              "      height: 32px;\n",
              "      padding: 0 0 0 0;\n",
              "      width: 32px;\n",
              "    }\n",
              "\n",
              "    .colab-df-convert:hover {\n",
              "      background-color: #E2EBFA;\n",
              "      box-shadow: 0px 1px 2px rgba(60, 64, 67, 0.3), 0px 1px 3px 1px rgba(60, 64, 67, 0.15);\n",
              "      fill: #174EA6;\n",
              "    }\n",
              "\n",
              "    [theme=dark] .colab-df-convert {\n",
              "      background-color: #3B4455;\n",
              "      fill: #D2E3FC;\n",
              "    }\n",
              "\n",
              "    [theme=dark] .colab-df-convert:hover {\n",
              "      background-color: #434B5C;\n",
              "      box-shadow: 0px 1px 3px 1px rgba(0, 0, 0, 0.15);\n",
              "      filter: drop-shadow(0px 1px 2px rgba(0, 0, 0, 0.3));\n",
              "      fill: #FFFFFF;\n",
              "    }\n",
              "  </style>\n",
              "\n",
              "      <script>\n",
              "        const buttonEl =\n",
              "          document.querySelector('#df-5b29c09b-6bd0-442b-a4a8-fb8d1eeb18c5 button.colab-df-convert');\n",
              "        buttonEl.style.display =\n",
              "          google.colab.kernel.accessAllowed ? 'block' : 'none';\n",
              "\n",
              "        async function convertToInteractive(key) {\n",
              "          const element = document.querySelector('#df-5b29c09b-6bd0-442b-a4a8-fb8d1eeb18c5');\n",
              "          const dataTable =\n",
              "            await google.colab.kernel.invokeFunction('convertToInteractive',\n",
              "                                                     [key], {});\n",
              "          if (!dataTable) return;\n",
              "\n",
              "          const docLinkHtml = 'Like what you see? Visit the ' +\n",
              "            '<a target=\"_blank\" href=https://colab.research.google.com/notebooks/data_table.ipynb>data table notebook</a>'\n",
              "            + ' to learn more about interactive tables.';\n",
              "          element.innerHTML = '';\n",
              "          dataTable['output_type'] = 'display_data';\n",
              "          await google.colab.output.renderOutput(dataTable, element);\n",
              "          const docLink = document.createElement('div');\n",
              "          docLink.innerHTML = docLinkHtml;\n",
              "          element.appendChild(docLink);\n",
              "        }\n",
              "      </script>\n",
              "    </div>\n",
              "  </div>\n",
              "  "
            ]
          },
          "metadata": {},
          "execution_count": 259
        }
      ]
    },
    {
      "cell_type": "code",
      "source": [
        "fig, axs = plt.subplots(2, 3, figsize=(12, 8))\n",
        "\n",
        "for i in range(6):\n",
        "    row = i // 3  # Calculamos la fila del subplot\n",
        "    col = i % 3   # Calculamos la columna del subplot\n",
        "    sns.heatmap(conf_mat_test[i], annot=True, ax=axs[row, col])\n",
        "    axs[row, col].set_title('Técnica {}'.format(i+1))\n",
        "\n",
        "plt.tight_layout()\n",
        "plt.show()"
      ],
      "metadata": {
        "colab": {
          "base_uri": "https://localhost:8080/",
          "height": 807
        },
        "id": "Rq5ROr4-RhlW",
        "outputId": "e290a28c-4c5c-4d56-cec6-e4b87a47d01a"
      },
      "execution_count": 258,
      "outputs": [
        {
          "output_type": "display_data",
          "data": {
            "text/plain": [
              "<Figure size 1200x800 with 12 Axes>"
            ],
            "image/png": "[encoded data removed]"
          },
          "metadata": {}
        }
      ]
    },
    {
      "cell_type": "markdown",
      "source": [
        "La técnica elegida para el desbalanceo de datos es la 5: Combinación de Oversampling + Subsampling"
      ],
      "metadata": {
        "id": "hdju7QtzDHZf"
      }
    }
  ]
}