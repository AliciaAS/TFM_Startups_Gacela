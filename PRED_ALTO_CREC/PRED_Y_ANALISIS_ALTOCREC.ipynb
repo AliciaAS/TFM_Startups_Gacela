{
  "nbformat": 4,
  "nbformat_minor": 0,
  "metadata": {
    "colab": {
      "provenance": [],
      "collapsed_sections": [
        "R213eqmTejFQ",
        "ngo4Zb0kMw-i",
        "RAP144IFN54K",
        "1uycvqp_OFA1",
        "x16Z67efOa_Y",
        "Q27z3eMdO1N8",
        "Jfy3TOOVO-of",
        "rfriHvkAPN5z",
        "HlWCJ2i6TgOH"
      ]
    },
    "kernelspec": {
      "name": "python3",
      "display_name": "Python 3"
    },
    "language_info": {
      "name": "python"
    }
  },
  "cells": [
    {
      "cell_type": "markdown",
      "source": [
        "#ANALISIS DE ALTO CRECIMIENTO"
      ],
      "metadata": {
        "id": "8qO_E2UsefuF"
      }
    },
    {
      "cell_type": "markdown",
      "source": [
        "##Importación de paquetes y carga de datos"
      ],
      "metadata": {
        "id": "R213eqmTejFQ"
      }
    },
    {
      "cell_type": "code",
      "execution_count": 1,
      "metadata": {
        "id": "kM0wah0Tecgy"
      },
      "outputs": [],
      "source": [
        "# Import libraries\n",
        "import pandas as pd\n",
        "import numpy as np\n",
        "import seaborn as sns\n",
        "import missingno\n",
        "import datetime\n",
        "import matplotlib.pyplot as plt\n",
        "\n",
        "from sklearn.preprocessing import MinMaxScaler\n",
        "from imblearn.combine import SMOTEENN\n",
        "from sklearn.decomposition import PCA\n",
        "from sklearn.model_selection import train_test_split\n",
        "\n",
        "from sklearn.linear_model import LogisticRegression\n",
        "from sklearn.tree import DecisionTreeClassifier\n",
        "from sklearn import tree\n",
        "from sklearn.metrics import accuracy_score, confusion_matrix, recall_score\n",
        "\n",
        "from sklearn.model_selection import GridSearchCV #busqueda de hiperparámetros\n"
      ]
    },
    {
      "cell_type": "code",
      "source": [
        "data=pd.read_csv('df_nietos2.csv')\n",
        "data.head()"
      ],
      "metadata": {
        "colab": {
          "base_uri": "https://localhost:8080/",
          "height": 525
        },
        "id": "Twi0wLXletUz",
        "outputId": "304040b2-bed3-4fe1-847f-a908034fd757"
      },
      "execution_count": null,
      "outputs": [
        {
          "output_type": "execute_result",
          "data": {
            "text/plain": [
              "   Unnamed: 0      ID  CNAE  \\\n",
              "0           0  100017  7219   \n",
              "1           1  100017  7219   \n",
              "2           2  100017  7219   \n",
              "3           3  100020  2822   \n",
              "4           4  100020  2822   \n",
              "\n",
              "                                    CNAE_DESCRIPCION IMPORT_EXPORT  \\\n",
              "0  Otra investigación y desarrollo experimental e...          Nada   \n",
              "1  Otra investigación y desarrollo experimental e...          Nada   \n",
              "2  Otra investigación y desarrollo experimental e...          Nada   \n",
              "3  Fabricación de maquinaria de elevación y manip...          Nada   \n",
              "4  Fabricación de maquinaria de elevación y manip...          Nada   \n",
              "\n",
              "     ULT_ACTOMERCANTIL   TAM_EMPRESA Estado  ACC_EXTRAN  ACC_EMPRESA  ...  \\\n",
              "0  2020-12-14 01:00:00  Microempresa   Viva         NaN          NaN  ...   \n",
              "1  2020-12-14 01:00:00  Microempresa   Viva         NaN          NaN  ...   \n",
              "2  2020-12-14 01:00:00  Microempresa   Viva         NaN          NaN  ...   \n",
              "3  2019-02-04 01:00:00       Pequeña   Viva         NaN          NaN  ...   \n",
              "4  2019-02-04 01:00:00       Pequeña   Viva         NaN          NaN  ...   \n",
              "\n",
              "   A-17-DIF_CAMBIO_34_diff A-17-DIF_CAMBIO_23_diff A-17-DIF_CAMBIO_12_diff  \\\n",
              "0                      NaN                     NaN                     NaN   \n",
              "1                      NaN                     NaN                     NaN   \n",
              "2                      NaN                     NaN                     NaN   \n",
              "3                      NaN                     NaN                     NaN   \n",
              "4                      NaN                     NaN                     NaN   \n",
              "\n",
              "   A-20-IMPUESTOS_34_diff A-20-IMPUESTOS_23_diff A-20-IMPUESTOS_12_diff  \\\n",
              "0                0.222222                    inf                    NaN   \n",
              "1                0.222222                    inf                    NaN   \n",
              "2                0.222222                    inf                    NaN   \n",
              "3                     NaN              -0.084848               0.666667   \n",
              "4                     NaN              -0.084848               0.666667   \n",
              "\n",
              "  Subvencion ALTO_CRECIMIENTO_CALCU  GACELA_CALCU  MODELO_CALCU  \n",
              "0          1                      0             0             1  \n",
              "1          1                      0             0             1  \n",
              "2          1                      0             0             1  \n",
              "3          1                      0             0             0  \n",
              "4          1                      0             0             0  \n",
              "\n",
              "[5 rows x 209 columns]"
            ],
            "text/html": [
              "\n",
              "  <div id=\"df-e07f9817-fbee-4e96-b0cd-2dd3615d1f09\">\n",
              "    <div class=\"colab-df-container\">\n",
              "      <div>\n",
              "<style scoped>\n",
              "    .dataframe tbody tr th:only-of-type {\n",
              "        vertical-align: middle;\n",
              "    }\n",
              "\n",
              "    .dataframe tbody tr th {\n",
              "        vertical-align: top;\n",
              "    }\n",
              "\n",
              "    .dataframe thead th {\n",
              "        text-align: right;\n",
              "    }\n",
              "</style>\n",
              "<table border=\"1\" class=\"dataframe\">\n",
              "  <thead>\n",
              "    <tr style=\"text-align: right;\">\n",
              "      <th></th>\n",
              "      <th>Unnamed: 0</th>\n",
              "      <th>ID</th>\n",
              "      <th>CNAE</th>\n",
              "      <th>CNAE_DESCRIPCION</th>\n",
              "      <th>IMPORT_EXPORT</th>\n",
              "      <th>ULT_ACTOMERCANTIL</th>\n",
              "      <th>TAM_EMPRESA</th>\n",
              "      <th>Estado</th>\n",
              "      <th>ACC_EXTRAN</th>\n",
              "      <th>ACC_EMPRESA</th>\n",
              "      <th>...</th>\n",
              "      <th>A-17-DIF_CAMBIO_34_diff</th>\n",
              "      <th>A-17-DIF_CAMBIO_23_diff</th>\n",
              "      <th>A-17-DIF_CAMBIO_12_diff</th>\n",
              "      <th>A-20-IMPUESTOS_34_diff</th>\n",
              "      <th>A-20-IMPUESTOS_23_diff</th>\n",
              "      <th>A-20-IMPUESTOS_12_diff</th>\n",
              "      <th>Subvencion</th>\n",
              "      <th>ALTO_CRECIMIENTO_CALCU</th>\n",
              "      <th>GACELA_CALCU</th>\n",
              "      <th>MODELO_CALCU</th>\n",
              "    </tr>\n",
              "  </thead>\n",
              "  <tbody>\n",
              "    <tr>\n",
              "      <th>0</th>\n",
              "      <td>0</td>\n",
              "      <td>100017</td>\n",
              "      <td>7219</td>\n",
              "      <td>Otra investigación y desarrollo experimental e...</td>\n",
              "      <td>Nada</td>\n",
              "      <td>2020-12-14 01:00:00</td>\n",
              "      <td>Microempresa</td>\n",
              "      <td>Viva</td>\n",
              "      <td>NaN</td>\n",
              "      <td>NaN</td>\n",
              "      <td>...</td>\n",
              "      <td>NaN</td>\n",
              "      <td>NaN</td>\n",
              "      <td>NaN</td>\n",
              "      <td>0.222222</td>\n",
              "      <td>inf</td>\n",
              "      <td>NaN</td>\n",
              "      <td>1</td>\n",
              "      <td>0</td>\n",
              "      <td>0</td>\n",
              "      <td>1</td>\n",
              "    </tr>\n",
              "    <tr>\n",
              "      <th>1</th>\n",
              "      <td>1</td>\n",
              "      <td>100017</td>\n",
              "      <td>7219</td>\n",
              "      <td>Otra investigación y desarrollo experimental e...</td>\n",
              "      <td>Nada</td>\n",
              "      <td>2020-12-14 01:00:00</td>\n",
              "      <td>Microempresa</td>\n",
              "      <td>Viva</td>\n",
              "      <td>NaN</td>\n",
              "      <td>NaN</td>\n",
              "      <td>...</td>\n",
              "      <td>NaN</td>\n",
              "      <td>NaN</td>\n",
              "      <td>NaN</td>\n",
              "      <td>0.222222</td>\n",
              "      <td>inf</td>\n",
              "      <td>NaN</td>\n",
              "      <td>1</td>\n",
              "      <td>0</td>\n",
              "      <td>0</td>\n",
              "      <td>1</td>\n",
              "    </tr>\n",
              "    <tr>\n",
              "      <th>2</th>\n",
              "      <td>2</td>\n",
              "      <td>100017</td>\n",
              "      <td>7219</td>\n",
              "      <td>Otra investigación y desarrollo experimental e...</td>\n",
              "      <td>Nada</td>\n",
              "      <td>2020-12-14 01:00:00</td>\n",
              "      <td>Microempresa</td>\n",
              "      <td>Viva</td>\n",
              "      <td>NaN</td>\n",
              "      <td>NaN</td>\n",
              "      <td>...</td>\n",
              "      <td>NaN</td>\n",
              "      <td>NaN</td>\n",
              "      <td>NaN</td>\n",
              "      <td>0.222222</td>\n",
              "      <td>inf</td>\n",
              "      <td>NaN</td>\n",
              "      <td>1</td>\n",
              "      <td>0</td>\n",
              "      <td>0</td>\n",
              "      <td>1</td>\n",
              "    </tr>\n",
              "    <tr>\n",
              "      <th>3</th>\n",
              "      <td>3</td>\n",
              "      <td>100020</td>\n",
              "      <td>2822</td>\n",
              "      <td>Fabricación de maquinaria de elevación y manip...</td>\n",
              "      <td>Nada</td>\n",
              "      <td>2019-02-04 01:00:00</td>\n",
              "      <td>Pequeña</td>\n",
              "      <td>Viva</td>\n",
              "      <td>NaN</td>\n",
              "      <td>NaN</td>\n",
              "      <td>...</td>\n",
              "      <td>NaN</td>\n",
              "      <td>NaN</td>\n",
              "      <td>NaN</td>\n",
              "      <td>NaN</td>\n",
              "      <td>-0.084848</td>\n",
              "      <td>0.666667</td>\n",
              "      <td>1</td>\n",
              "      <td>0</td>\n",
              "      <td>0</td>\n",
              "      <td>0</td>\n",
              "    </tr>\n",
              "    <tr>\n",
              "      <th>4</th>\n",
              "      <td>4</td>\n",
              "      <td>100020</td>\n",
              "      <td>2822</td>\n",
              "      <td>Fabricación de maquinaria de elevación y manip...</td>\n",
              "      <td>Nada</td>\n",
              "      <td>2019-02-04 01:00:00</td>\n",
              "      <td>Pequeña</td>\n",
              "      <td>Viva</td>\n",
              "      <td>NaN</td>\n",
              "      <td>NaN</td>\n",
              "      <td>...</td>\n",
              "      <td>NaN</td>\n",
              "      <td>NaN</td>\n",
              "      <td>NaN</td>\n",
              "      <td>NaN</td>\n",
              "      <td>-0.084848</td>\n",
              "      <td>0.666667</td>\n",
              "      <td>1</td>\n",
              "      <td>0</td>\n",
              "      <td>0</td>\n",
              "      <td>0</td>\n",
              "    </tr>\n",
              "  </tbody>\n",
              "</table>\n",
              "<p>5 rows × 209 columns</p>\n",
              "</div>\n",
              "      <button class=\"colab-df-convert\" onclick=\"convertToInteractive('df-e07f9817-fbee-4e96-b0cd-2dd3615d1f09')\"\n",
              "              title=\"Convert this dataframe to an interactive table.\"\n",
              "              style=\"display:none;\">\n",
              "        \n",
              "  <svg xmlns=\"http://www.w3.org/2000/svg\" height=\"24px\"viewBox=\"0 0 24 24\"\n",
              "       width=\"24px\">\n",
              "    <path d=\"M0 0h24v24H0V0z\" fill=\"none\"/>\n",
              "    <path d=\"M18.56 5.44l.94 2.06.94-2.06 2.06-.94-2.06-.94-.94-2.06-.94 2.06-2.06.94zm-11 1L8.5 8.5l.94-2.06 2.06-.94-2.06-.94L8.5 2.5l-.94 2.06-2.06.94zm10 10l.94 2.06.94-2.06 2.06-.94-2.06-.94-.94-2.06-.94 2.06-2.06.94z\"/><path d=\"M17.41 7.96l-1.37-1.37c-.4-.4-.92-.59-1.43-.59-.52 0-1.04.2-1.43.59L10.3 9.45l-7.72 7.72c-.78.78-.78 2.05 0 2.83L4 21.41c.39.39.9.59 1.41.59.51 0 1.02-.2 1.41-.59l7.78-7.78 2.81-2.81c.8-.78.8-2.07 0-2.86zM5.41 20L4 18.59l7.72-7.72 1.47 1.35L5.41 20z\"/>\n",
              "  </svg>\n",
              "      </button>\n",
              "      \n",
              "  <style>\n",
              "    .colab-df-container {\n",
              "      display:flex;\n",
              "      flex-wrap:wrap;\n",
              "      gap: 12px;\n",
              "    }\n",
              "\n",
              "    .colab-df-convert {\n",
              "      background-color: #E8F0FE;\n",
              "      border: none;\n",
              "      border-radius: 50%;\n",
              "      cursor: pointer;\n",
              "      display: none;\n",
              "      fill: #1967D2;\n",
              "      height: 32px;\n",
              "      padding: 0 0 0 0;\n",
              "      width: 32px;\n",
              "    }\n",
              "\n",
              "    .colab-df-convert:hover {\n",
              "      background-color: #E2EBFA;\n",
              "      box-shadow: 0px 1px 2px rgba(60, 64, 67, 0.3), 0px 1px 3px 1px rgba(60, 64, 67, 0.15);\n",
              "      fill: #174EA6;\n",
              "    }\n",
              "\n",
              "    [theme=dark] .colab-df-convert {\n",
              "      background-color: #3B4455;\n",
              "      fill: #D2E3FC;\n",
              "    }\n",
              "\n",
              "    [theme=dark] .colab-df-convert:hover {\n",
              "      background-color: #434B5C;\n",
              "      box-shadow: 0px 1px 3px 1px rgba(0, 0, 0, 0.15);\n",
              "      filter: drop-shadow(0px 1px 2px rgba(0, 0, 0, 0.3));\n",
              "      fill: #FFFFFF;\n",
              "    }\n",
              "  </style>\n",
              "\n",
              "      <script>\n",
              "        const buttonEl =\n",
              "          document.querySelector('#df-e07f9817-fbee-4e96-b0cd-2dd3615d1f09 button.colab-df-convert');\n",
              "        buttonEl.style.display =\n",
              "          google.colab.kernel.accessAllowed ? 'block' : 'none';\n",
              "\n",
              "        async function convertToInteractive(key) {\n",
              "          const element = document.querySelector('#df-e07f9817-fbee-4e96-b0cd-2dd3615d1f09');\n",
              "          const dataTable =\n",
              "            await google.colab.kernel.invokeFunction('convertToInteractive',\n",
              "                                                     [key], {});\n",
              "          if (!dataTable) return;\n",
              "\n",
              "          const docLinkHtml = 'Like what you see? Visit the ' +\n",
              "            '<a target=\"_blank\" href=https://colab.research.google.com/notebooks/data_table.ipynb>data table notebook</a>'\n",
              "            + ' to learn more about interactive tables.';\n",
              "          element.innerHTML = '';\n",
              "          dataTable['output_type'] = 'display_data';\n",
              "          await google.colab.output.renderOutput(dataTable, element);\n",
              "          const docLink = document.createElement('div');\n",
              "          docLink.innerHTML = docLinkHtml;\n",
              "          element.appendChild(docLink);\n",
              "        }\n",
              "      </script>\n",
              "    </div>\n",
              "  </div>\n",
              "  "
            ]
          },
          "metadata": {},
          "execution_count": 2
        }
      ]
    },
    {
      "cell_type": "markdown",
      "source": [
        "Hay columnas datetime que las vamos a pasar a tipo numérico, quedandonos solo con el año"
      ],
      "metadata": {
        "id": "CT5UPoYSERRO"
      }
    },
    {
      "cell_type": "code",
      "source": [
        "data['InicioActividad'] = pd.to_datetime(data['InicioActividad'])\n",
        "data['ULT_ACTOMERCANTIL'] = pd.to_datetime(data['ULT_ACTOMERCANTIL'])\n",
        "\n",
        "data['Inicio Actividad'] = data['InicioActividad'].dt.year\n",
        "data.drop(columns=['InicioActividad'], inplace=True, axis=1)\n",
        "\n",
        "data['ULT_ACTOMERCANTIL_Y'] = data['ULT_ACTOMERCANTIL'].dt.year\n",
        "data.drop(columns=['ULT_ACTOMERCANTIL'], inplace=True, axis=1)"
      ],
      "metadata": {
        "id": "kuNOl0qWMuLZ"
      },
      "execution_count": null,
      "outputs": []
    },
    {
      "cell_type": "code",
      "source": [
        "data.drop(columns=['Unnamed: 0'], axis=1, inplace=True)"
      ],
      "metadata": {
        "id": "_oVZJANqMvDq"
      },
      "execution_count": null,
      "outputs": []
    },
    {
      "cell_type": "markdown",
      "source": [
        "##Tratamiento de datos faltantes"
      ],
      "metadata": {
        "id": "ngo4Zb0kMw-i"
      }
    },
    {
      "cell_type": "markdown",
      "source": [
        "Lo primero que vamos a hacer va a ser realizar un tratamiento de datos faltantes."
      ],
      "metadata": {
        "id": "iBF_zNWIM5_B"
      }
    },
    {
      "cell_type": "code",
      "source": [
        "missingno.matrix(data,sparkline=False, figsize=(10,5), fontsize=12, color=(0.27, 0.52, 1.0))"
      ],
      "metadata": {
        "colab": {
          "base_uri": "https://localhost:8080/",
          "height": 458
        },
        "id": "RWKg7ZPUM0_s",
        "outputId": "71111dab-907e-4179-ba54-cd1c3b59ea57"
      },
      "execution_count": null,
      "outputs": [
        {
          "output_type": "execute_result",
          "data": {
            "text/plain": [
              "<Axes: >"
            ]
          },
          "metadata": {},
          "execution_count": 5
        },
        {
          "output_type": "display_data",
          "data": {
            "text/plain": [
              "<Figure size 1000x500 with 1 Axes>"
            ],
            "image/png": "[encoded data removed]"
          },
          "metadata": {}
        }
      ]
    },
    {
      "cell_type": "code",
      "source": [
        "# Calculamos el porcentaje de missing values para cada atributo\n",
        "percent_missing = data.isnull().sum() *100 / len(data)\n",
        "# Creamos un DataFrame con los porcentajes y el nombre de cada atributo\n",
        "missing_values_df = pd.DataFrame({'percent_missing': percent_missing})"
      ],
      "metadata": {
        "id": "yiytHuHQM-Q4"
      },
      "execution_count": null,
      "outputs": []
    },
    {
      "cell_type": "markdown",
      "source": [
        "Como se puede observar, hay una gran cantidad de datos faltantes.\n",
        "\n",
        "Empezamos eliminando las diferencias de años 34 ya que al hacer la predicción, las nuevas empresas no van a tener dichos registros, sino ya sabríamos si son empresas de alto crecimiento o no."
      ],
      "metadata": {
        "id": "67G0EeY9M_x7"
      }
    },
    {
      "cell_type": "code",
      "source": [
        "data2=data.copy()"
      ],
      "metadata": {
        "id": "YPYbgCc2NKMb"
      },
      "execution_count": null,
      "outputs": []
    },
    {
      "cell_type": "code",
      "source": [
        "remove=[]\n",
        "for col in data.columns:\n",
        "  if '_34' in col:\n",
        "    remove.append(col)\n",
        "data2.drop(columns=remove, axis=1, inplace=True)"
      ],
      "metadata": {
        "id": "T0SzF0yvNCku"
      },
      "execution_count": null,
      "outputs": []
    },
    {
      "cell_type": "markdown",
      "source": [
        "Todas las columnas referentes a datos del balance o de la cuenta de resultados que tengan datos nulos, se deberá a que dichos datos serán 0. Procedemos a rellenar esos datos con 0."
      ],
      "metadata": {
        "id": "BXj9x8_ZNIlC"
      }
    },
    {
      "cell_type": "code",
      "source": [
        "df_missing = missing_values_df.T\n",
        "columnas=list(df_missing.columns)\n",
        "for col in columnas:\n",
        "  if '_1' in col or '_2' in col:\n",
        "    data2[col] = data[col].fillna(0)"
      ],
      "metadata": {
        "id": "hfHkW7W5NMuJ"
      },
      "execution_count": null,
      "outputs": []
    },
    {
      "cell_type": "markdown",
      "source": [
        "A continuación vemos qué columnas siguen teniendo datos faltantes para realizar el tratamiento de missing de dichas columnas"
      ],
      "metadata": {
        "id": "PqgbMc3DNL_S"
      }
    },
    {
      "cell_type": "code",
      "source": [
        "#Columnas que siguen teniendo datos faltantes\n",
        "\n",
        "# Calculamos el porcentaje de missing values para cada atributo\n",
        "percent_missing = data2.isnull().sum() *100 / len(data2)\n",
        "# Creamos un DataFrame con los porcentajes y el nombre de cada atributo\n",
        "missing_values_df = pd.DataFrame({'percent_missing': percent_missing})\n",
        "# Atributos con algun missing value\n",
        "missing_values_df[missing_values_df['percent_missing'] > 0]"
      ],
      "metadata": {
        "colab": {
          "base_uri": "https://localhost:8080/",
          "height": 426
        },
        "id": "mlb1-Y3UNQyy",
        "outputId": "cfb87b4b-c328-4e06-fe9d-484d36ca6ef7"
      },
      "execution_count": null,
      "outputs": [
        {
          "output_type": "execute_result",
          "data": {
            "text/plain": [
              "                 percent_missing\n",
              "ACC_EXTRAN             95.415257\n",
              "ACC_EMPRESA            71.063510\n",
              "NUMACCIONISTAS         44.832770\n",
              "ACT_MEDIOS             53.776776\n",
              "CARGOS_ADMIN            0.150319\n",
              "ESTRUCTURA             98.759865\n",
              "AÑO CONCESION           0.450958\n",
              "IMPORTE NOMINAL         0.413378\n",
              "DESCRIPCIÓN             0.450958\n",
              "ORGANISMO               0.714017\n",
              "Bal5                   66.854566\n",
              "VENTAS_FINAL           43.855693"
            ],
            "text/html": [
              "\n",
              "  <div id=\"df-526707c1-f26c-4251-b35d-8ecc517cd940\">\n",
              "    <div class=\"colab-df-container\">\n",
              "      <div>\n",
              "<style scoped>\n",
              "    .dataframe tbody tr th:only-of-type {\n",
              "        vertical-align: middle;\n",
              "    }\n",
              "\n",
              "    .dataframe tbody tr th {\n",
              "        vertical-align: top;\n",
              "    }\n",
              "\n",
              "    .dataframe thead th {\n",
              "        text-align: right;\n",
              "    }\n",
              "</style>\n",
              "<table border=\"1\" class=\"dataframe\">\n",
              "  <thead>\n",
              "    <tr style=\"text-align: right;\">\n",
              "      <th></th>\n",
              "      <th>percent_missing</th>\n",
              "    </tr>\n",
              "  </thead>\n",
              "  <tbody>\n",
              "    <tr>\n",
              "      <th>ACC_EXTRAN</th>\n",
              "      <td>95.415257</td>\n",
              "    </tr>\n",
              "    <tr>\n",
              "      <th>ACC_EMPRESA</th>\n",
              "      <td>71.063510</td>\n",
              "    </tr>\n",
              "    <tr>\n",
              "      <th>NUMACCIONISTAS</th>\n",
              "      <td>44.832770</td>\n",
              "    </tr>\n",
              "    <tr>\n",
              "      <th>ACT_MEDIOS</th>\n",
              "      <td>53.776776</td>\n",
              "    </tr>\n",
              "    <tr>\n",
              "      <th>CARGOS_ADMIN</th>\n",
              "      <td>0.150319</td>\n",
              "    </tr>\n",
              "    <tr>\n",
              "      <th>ESTRUCTURA</th>\n",
              "      <td>98.759865</td>\n",
              "    </tr>\n",
              "    <tr>\n",
              "      <th>AÑO CONCESION</th>\n",
              "      <td>0.450958</td>\n",
              "    </tr>\n",
              "    <tr>\n",
              "      <th>IMPORTE NOMINAL</th>\n",
              "      <td>0.413378</td>\n",
              "    </tr>\n",
              "    <tr>\n",
              "      <th>DESCRIPCIÓN</th>\n",
              "      <td>0.450958</td>\n",
              "    </tr>\n",
              "    <tr>\n",
              "      <th>ORGANISMO</th>\n",
              "      <td>0.714017</td>\n",
              "    </tr>\n",
              "    <tr>\n",
              "      <th>Bal5</th>\n",
              "      <td>66.854566</td>\n",
              "    </tr>\n",
              "    <tr>\n",
              "      <th>VENTAS_FINAL</th>\n",
              "      <td>43.855693</td>\n",
              "    </tr>\n",
              "  </tbody>\n",
              "</table>\n",
              "</div>\n",
              "      <button class=\"colab-df-convert\" onclick=\"convertToInteractive('df-526707c1-f26c-4251-b35d-8ecc517cd940')\"\n",
              "              title=\"Convert this dataframe to an interactive table.\"\n",
              "              style=\"display:none;\">\n",
              "        \n",
              "  <svg xmlns=\"http://www.w3.org/2000/svg\" height=\"24px\"viewBox=\"0 0 24 24\"\n",
              "       width=\"24px\">\n",
              "    <path d=\"M0 0h24v24H0V0z\" fill=\"none\"/>\n",
              "    <path d=\"M18.56 5.44l.94 2.06.94-2.06 2.06-.94-2.06-.94-.94-2.06-.94 2.06-2.06.94zm-11 1L8.5 8.5l.94-2.06 2.06-.94-2.06-.94L8.5 2.5l-.94 2.06-2.06.94zm10 10l.94 2.06.94-2.06 2.06-.94-2.06-.94-.94-2.06-.94 2.06-2.06.94z\"/><path d=\"M17.41 7.96l-1.37-1.37c-.4-.4-.92-.59-1.43-.59-.52 0-1.04.2-1.43.59L10.3 9.45l-7.72 7.72c-.78.78-.78 2.05 0 2.83L4 21.41c.39.39.9.59 1.41.59.51 0 1.02-.2 1.41-.59l7.78-7.78 2.81-2.81c.8-.78.8-2.07 0-2.86zM5.41 20L4 18.59l7.72-7.72 1.47 1.35L5.41 20z\"/>\n",
              "  </svg>\n",
              "      </button>\n",
              "      \n",
              "  <style>\n",
              "    .colab-df-container {\n",
              "      display:flex;\n",
              "      flex-wrap:wrap;\n",
              "      gap: 12px;\n",
              "    }\n",
              "\n",
              "    .colab-df-convert {\n",
              "      background-color: #E8F0FE;\n",
              "      border: none;\n",
              "      border-radius: 50%;\n",
              "      cursor: pointer;\n",
              "      display: none;\n",
              "      fill: #1967D2;\n",
              "      height: 32px;\n",
              "      padding: 0 0 0 0;\n",
              "      width: 32px;\n",
              "    }\n",
              "\n",
              "    .colab-df-convert:hover {\n",
              "      background-color: #E2EBFA;\n",
              "      box-shadow: 0px 1px 2px rgba(60, 64, 67, 0.3), 0px 1px 3px 1px rgba(60, 64, 67, 0.15);\n",
              "      fill: #174EA6;\n",
              "    }\n",
              "\n",
              "    [theme=dark] .colab-df-convert {\n",
              "      background-color: #3B4455;\n",
              "      fill: #D2E3FC;\n",
              "    }\n",
              "\n",
              "    [theme=dark] .colab-df-convert:hover {\n",
              "      background-color: #434B5C;\n",
              "      box-shadow: 0px 1px 3px 1px rgba(0, 0, 0, 0.15);\n",
              "      filter: drop-shadow(0px 1px 2px rgba(0, 0, 0, 0.3));\n",
              "      fill: #FFFFFF;\n",
              "    }\n",
              "  </style>\n",
              "\n",
              "      <script>\n",
              "        const buttonEl =\n",
              "          document.querySelector('#df-526707c1-f26c-4251-b35d-8ecc517cd940 button.colab-df-convert');\n",
              "        buttonEl.style.display =\n",
              "          google.colab.kernel.accessAllowed ? 'block' : 'none';\n",
              "\n",
              "        async function convertToInteractive(key) {\n",
              "          const element = document.querySelector('#df-526707c1-f26c-4251-b35d-8ecc517cd940');\n",
              "          const dataTable =\n",
              "            await google.colab.kernel.invokeFunction('convertToInteractive',\n",
              "                                                     [key], {});\n",
              "          if (!dataTable) return;\n",
              "\n",
              "          const docLinkHtml = 'Like what you see? Visit the ' +\n",
              "            '<a target=\"_blank\" href=https://colab.research.google.com/notebooks/data_table.ipynb>data table notebook</a>'\n",
              "            + ' to learn more about interactive tables.';\n",
              "          element.innerHTML = '';\n",
              "          dataTable['output_type'] = 'display_data';\n",
              "          await google.colab.output.renderOutput(dataTable, element);\n",
              "          const docLink = document.createElement('div');\n",
              "          docLink.innerHTML = docLinkHtml;\n",
              "          element.appendChild(docLink);\n",
              "        }\n",
              "      </script>\n",
              "    </div>\n",
              "  </div>\n",
              "  "
            ]
          },
          "metadata": {},
          "execution_count": 10
        }
      ]
    },
    {
      "cell_type": "markdown",
      "source": [
        "Las tres primeras columnas (ACC_EXTRAN, ACC_EMPRESA, NUMACCIONISTAS) se refieren al número de accionistas extranjeros, que son empresas, y el número total respectivamente. Si hay datos faltantes significa que no hay accionistas por lo que se procede a rellenar los datos faltantes con 0.\n",
        "\n",
        "La columna de ACT_MEDIOS se refiere a si la empresa está activa en medios, si hay datos faltantes, la empresa no estará activa en medios, por lo que se procede a rellenar con un 'NO' los datos faltantes.\n",
        "\n",
        "CARGOS_ADMIN se refiere al número registrado de administradores. Mínimo debería haber 1, por lo que rellenamos los datos faltantes con un 1.\n",
        "\n",
        "La columna de ESTRUCTURA tiene casi todos sus datos faltantes, por lo que se elimina dicha columna.\n",
        "\n",
        "El AÑO CONCESIÓN, IMPORTE NOMINAL, DESCRIPCIÓN y ORGANISMO se refieren a la subvención. Si hay datos nulo significa que no se ha recibido subvención por lo que el AÑO CONCESIÓN y el IMPORTE NOMINAL se rellena con 0, el ORGANISMO se rellena con 'Ninguno' y la DESCRIPCIÓN se puede eliminar.\n",
        "\n",
        "El Bal5 (Balance 5) y las ventas final se pueden eliminar."
      ],
      "metadata": {
        "id": "i-uOjQBJNTX_"
      }
    },
    {
      "cell_type": "code",
      "source": [
        "data2['ACC_EXTRAN']=data2['ACC_EXTRAN'].fillna(0)\n",
        "data2['ACC_EMPRESA']=data2['ACC_EMPRESA'].fillna(0)\n",
        "data2['NUMACCIONISTAS']=data2['NUMACCIONISTAS'].fillna(0)\n",
        "data2['ACT_MEDIOS']=data2['ACT_MEDIOS'].fillna('NO')\n",
        "data2['CARGOS_ADMIN']=data2['CARGOS_ADMIN'].fillna(1)\n",
        "data2['IMPORTE NOMINAL']=data2['IMPORTE NOMINAL'].fillna(0)\n",
        "data2['AÑO CONCESION']=data2['AÑO CONCESION'].fillna(0)\n",
        "data2['ORGANISMO']=data2['ORGANISMO'].fillna('Ninguno')\n",
        "\n",
        "data2.drop(columns=['ESTRUCTURA', 'DESCRIPCIÓN', 'Bal5'], axis=1, inplace=True)"
      ],
      "metadata": {
        "id": "jPY-1GofNU6A"
      },
      "execution_count": null,
      "outputs": []
    },
    {
      "cell_type": "markdown",
      "source": [
        "Guardamos el nuevo dataset"
      ],
      "metadata": {
        "id": "8WlmL1-bNbSk"
      }
    },
    {
      "cell_type": "code",
      "source": [
        "data2.to_csv('data2.csv')"
      ],
      "metadata": {
        "id": "q2vHlMdUNdvm"
      },
      "execution_count": null,
      "outputs": []
    },
    {
      "cell_type": "markdown",
      "source": [
        "Eliminamos la columna de VENTAS_FINAL para el modelo de clasificación de empresas de alto crecimiento"
      ],
      "metadata": {
        "id": "gNuhO2ocNvqs"
      }
    },
    {
      "cell_type": "code",
      "source": [
        "data2.drop(columns=['VENTAS_FINAL'], axis=1, inplace=True)"
      ],
      "metadata": {
        "id": "gyCn6oCiN09Q"
      },
      "execution_count": null,
      "outputs": []
    },
    {
      "cell_type": "markdown",
      "source": [
        "Comprobamos que ya no hay datos faltantes"
      ],
      "metadata": {
        "id": "KklswclxNqYT"
      }
    },
    {
      "cell_type": "code",
      "source": [
        "missingno.matrix(data2,sparkline=False, figsize=(10,5), fontsize=12, color=(0.27, 0.52, 1.0))"
      ],
      "metadata": {
        "colab": {
          "base_uri": "https://localhost:8080/",
          "height": 458
        },
        "id": "aPgpKIHjNtKi",
        "outputId": "a8f92148-779e-4142-8f03-4881bf1b6dc5"
      },
      "execution_count": null,
      "outputs": [
        {
          "output_type": "execute_result",
          "data": {
            "text/plain": [
              "<Axes: >"
            ]
          },
          "metadata": {},
          "execution_count": 15
        },
        {
          "output_type": "display_data",
          "data": {
            "text/plain": [
              "<Figure size 1000x500 with 1 Axes>"
            ],
            "image/png": "[encoded data removed]"
          },
          "metadata": {}
        }
      ]
    },
    {
      "cell_type": "markdown",
      "source": [
        "##Análisis de datos categóricos"
      ],
      "metadata": {
        "id": "RAP144IFN54K"
      }
    },
    {
      "cell_type": "markdown",
      "source": [
        "###Startups Gacela"
      ],
      "metadata": {
        "id": "1uycvqp_OFA1"
      }
    },
    {
      "cell_type": "code",
      "source": [
        "gacelas=data2[data2['GACELA_CALCU']==1]\n",
        "gacela_categ=gacelas.select_dtypes(include='object')\n",
        "gacela_categ.describe().T"
      ],
      "metadata": {
        "colab": {
          "base_uri": "https://localhost:8080/",
          "height": 332
        },
        "id": "fEFMPXEiN98c",
        "outputId": "3a9c16d4-784b-4bc4-d68a-4aa33fe1fab5"
      },
      "execution_count": null,
      "outputs": [
        {
          "output_type": "execute_result",
          "data": {
            "text/plain": [
              "                 count unique  \\\n",
              "CNAE_DESCRIPCION    10      4   \n",
              "IMPORT_EXPORT       10      2   \n",
              "TAM_EMPRESA         10      2   \n",
              "Estado              10      1   \n",
              "INFO_ADMIN          10      1   \n",
              "ACT_MEDIOS          10      2   \n",
              "MUJERES_CONSEJO     10      1   \n",
              "frmJuridica         10      2   \n",
              "ORGANISMO           10      7   \n",
              "\n",
              "                                                                top freq  \n",
              "CNAE_DESCRIPCION                       Telecomunicaciones por cable    5  \n",
              "IMPORT_EXPORT                                                  Nada    9  \n",
              "TAM_EMPRESA                                            Microempresa    8  \n",
              "Estado                                                         Viva   10  \n",
              "INFO_ADMIN                                                       SI   10  \n",
              "ACT_MEDIOS                                                       NO    9  \n",
              "MUJERES_CONSEJO                                                  NO   10  \n",
              "frmJuridica                                                       B    9  \n",
              "ORGANISMO         ANDALUCIA - DIRECCION GENERAL DE POLITICAS ACT...    4  "
            ],
            "text/html": [
              "\n",
              "  <div id=\"df-69bf74c3-66b7-48db-8a74-58c107eef166\">\n",
              "    <div class=\"colab-df-container\">\n",
              "      <div>\n",
              "<style scoped>\n",
              "    .dataframe tbody tr th:only-of-type {\n",
              "        vertical-align: middle;\n",
              "    }\n",
              "\n",
              "    .dataframe tbody tr th {\n",
              "        vertical-align: top;\n",
              "    }\n",
              "\n",
              "    .dataframe thead th {\n",
              "        text-align: right;\n",
              "    }\n",
              "</style>\n",
              "<table border=\"1\" class=\"dataframe\">\n",
              "  <thead>\n",
              "    <tr style=\"text-align: right;\">\n",
              "      <th></th>\n",
              "      <th>count</th>\n",
              "      <th>unique</th>\n",
              "      <th>top</th>\n",
              "      <th>freq</th>\n",
              "    </tr>\n",
              "  </thead>\n",
              "  <tbody>\n",
              "    <tr>\n",
              "      <th>CNAE_DESCRIPCION</th>\n",
              "      <td>10</td>\n",
              "      <td>4</td>\n",
              "      <td>Telecomunicaciones por cable</td>\n",
              "      <td>5</td>\n",
              "    </tr>\n",
              "    <tr>\n",
              "      <th>IMPORT_EXPORT</th>\n",
              "      <td>10</td>\n",
              "      <td>2</td>\n",
              "      <td>Nada</td>\n",
              "      <td>9</td>\n",
              "    </tr>\n",
              "    <tr>\n",
              "      <th>TAM_EMPRESA</th>\n",
              "      <td>10</td>\n",
              "      <td>2</td>\n",
              "      <td>Microempresa</td>\n",
              "      <td>8</td>\n",
              "    </tr>\n",
              "    <tr>\n",
              "      <th>Estado</th>\n",
              "      <td>10</td>\n",
              "      <td>1</td>\n",
              "      <td>Viva</td>\n",
              "      <td>10</td>\n",
              "    </tr>\n",
              "    <tr>\n",
              "      <th>INFO_ADMIN</th>\n",
              "      <td>10</td>\n",
              "      <td>1</td>\n",
              "      <td>SI</td>\n",
              "      <td>10</td>\n",
              "    </tr>\n",
              "    <tr>\n",
              "      <th>ACT_MEDIOS</th>\n",
              "      <td>10</td>\n",
              "      <td>2</td>\n",
              "      <td>NO</td>\n",
              "      <td>9</td>\n",
              "    </tr>\n",
              "    <tr>\n",
              "      <th>MUJERES_CONSEJO</th>\n",
              "      <td>10</td>\n",
              "      <td>1</td>\n",
              "      <td>NO</td>\n",
              "      <td>10</td>\n",
              "    </tr>\n",
              "    <tr>\n",
              "      <th>frmJuridica</th>\n",
              "      <td>10</td>\n",
              "      <td>2</td>\n",
              "      <td>B</td>\n",
              "      <td>9</td>\n",
              "    </tr>\n",
              "    <tr>\n",
              "      <th>ORGANISMO</th>\n",
              "      <td>10</td>\n",
              "      <td>7</td>\n",
              "      <td>ANDALUCIA - DIRECCION GENERAL DE POLITICAS ACT...</td>\n",
              "      <td>4</td>\n",
              "    </tr>\n",
              "  </tbody>\n",
              "</table>\n",
              "</div>\n",
              "      <button class=\"colab-df-convert\" onclick=\"convertToInteractive('df-69bf74c3-66b7-48db-8a74-58c107eef166')\"\n",
              "              title=\"Convert this dataframe to an interactive table.\"\n",
              "              style=\"display:none;\">\n",
              "        \n",
              "  <svg xmlns=\"http://www.w3.org/2000/svg\" height=\"24px\"viewBox=\"0 0 24 24\"\n",
              "       width=\"24px\">\n",
              "    <path d=\"M0 0h24v24H0V0z\" fill=\"none\"/>\n",
              "    <path d=\"M18.56 5.44l.94 2.06.94-2.06 2.06-.94-2.06-.94-.94-2.06-.94 2.06-2.06.94zm-11 1L8.5 8.5l.94-2.06 2.06-.94-2.06-.94L8.5 2.5l-.94 2.06-2.06.94zm10 10l.94 2.06.94-2.06 2.06-.94-2.06-.94-.94-2.06-.94 2.06-2.06.94z\"/><path d=\"M17.41 7.96l-1.37-1.37c-.4-.4-.92-.59-1.43-.59-.52 0-1.04.2-1.43.59L10.3 9.45l-7.72 7.72c-.78.78-.78 2.05 0 2.83L4 21.41c.39.39.9.59 1.41.59.51 0 1.02-.2 1.41-.59l7.78-7.78 2.81-2.81c.8-.78.8-2.07 0-2.86zM5.41 20L4 18.59l7.72-7.72 1.47 1.35L5.41 20z\"/>\n",
              "  </svg>\n",
              "      </button>\n",
              "      \n",
              "  <style>\n",
              "    .colab-df-container {\n",
              "      display:flex;\n",
              "      flex-wrap:wrap;\n",
              "      gap: 12px;\n",
              "    }\n",
              "\n",
              "    .colab-df-convert {\n",
              "      background-color: #E8F0FE;\n",
              "      border: none;\n",
              "      border-radius: 50%;\n",
              "      cursor: pointer;\n",
              "      display: none;\n",
              "      fill: #1967D2;\n",
              "      height: 32px;\n",
              "      padding: 0 0 0 0;\n",
              "      width: 32px;\n",
              "    }\n",
              "\n",
              "    .colab-df-convert:hover {\n",
              "      background-color: #E2EBFA;\n",
              "      box-shadow: 0px 1px 2px rgba(60, 64, 67, 0.3), 0px 1px 3px 1px rgba(60, 64, 67, 0.15);\n",
              "      fill: #174EA6;\n",
              "    }\n",
              "\n",
              "    [theme=dark] .colab-df-convert {\n",
              "      background-color: #3B4455;\n",
              "      fill: #D2E3FC;\n",
              "    }\n",
              "\n",
              "    [theme=dark] .colab-df-convert:hover {\n",
              "      background-color: #434B5C;\n",
              "      box-shadow: 0px 1px 3px 1px rgba(0, 0, 0, 0.15);\n",
              "      filter: drop-shadow(0px 1px 2px rgba(0, 0, 0, 0.3));\n",
              "      fill: #FFFFFF;\n",
              "    }\n",
              "  </style>\n",
              "\n",
              "      <script>\n",
              "        const buttonEl =\n",
              "          document.querySelector('#df-69bf74c3-66b7-48db-8a74-58c107eef166 button.colab-df-convert');\n",
              "        buttonEl.style.display =\n",
              "          google.colab.kernel.accessAllowed ? 'block' : 'none';\n",
              "\n",
              "        async function convertToInteractive(key) {\n",
              "          const element = document.querySelector('#df-69bf74c3-66b7-48db-8a74-58c107eef166');\n",
              "          const dataTable =\n",
              "            await google.colab.kernel.invokeFunction('convertToInteractive',\n",
              "                                                     [key], {});\n",
              "          if (!dataTable) return;\n",
              "\n",
              "          const docLinkHtml = 'Like what you see? Visit the ' +\n",
              "            '<a target=\"_blank\" href=https://colab.research.google.com/notebooks/data_table.ipynb>data table notebook</a>'\n",
              "            + ' to learn more about interactive tables.';\n",
              "          element.innerHTML = '';\n",
              "          dataTable['output_type'] = 'display_data';\n",
              "          await google.colab.output.renderOutput(dataTable, element);\n",
              "          const docLink = document.createElement('div');\n",
              "          docLink.innerHTML = docLinkHtml;\n",
              "          element.appendChild(docLink);\n",
              "        }\n",
              "      </script>\n",
              "    </div>\n",
              "  </div>\n",
              "  "
            ]
          },
          "metadata": {},
          "execution_count": 16
        }
      ]
    },
    {
      "cell_type": "markdown",
      "source": [
        "A continuación vamos a ver la frecuencia de los datos para cada variable categórica"
      ],
      "metadata": {
        "id": "bRu2bfpdOQqi"
      }
    },
    {
      "cell_type": "code",
      "source": [
        "columnas=list(gacela_categ.columns)\n",
        "\n",
        "fig, axs = plt.subplots(3, 3, figsize=(10,12))\n",
        "\n",
        "for i in range(len(columnas)):\n",
        "    row = i // 3  # Calculamos la fila del subplot\n",
        "    col = i % 3   # Calculamos la columna del subplot\n",
        "    var=columnas[i]\n",
        "    sns.histplot(x = gacela_categ[var], ax=axs[row, col])\n",
        "    axs[row, col].set_title(col)\n",
        "\n",
        "plt.tight_layout()\n",
        "plt.show()"
      ],
      "metadata": {
        "colab": {
          "base_uri": "https://localhost:8080/",
          "height": 1000
        },
        "id": "fe7Hzh6TOLwS",
        "outputId": "7a1bfa01-c204-42a3-bd43-30712dc74449"
      },
      "execution_count": null,
      "outputs": [
        {
          "output_type": "stream",
          "name": "stderr",
          "text": [
            "<ipython-input-17-82d161a564b7>:12: UserWarning: Tight layout not applied. tight_layout cannot make axes width small enough to accommodate all axes decorations\n",
            "  plt.tight_layout()\n"
          ]
        },
        {
          "output_type": "display_data",
          "data": {
            "text/plain": [
              "<Figure size 1000x1200 with 9 Axes>"
            ],
            "image/png": "[encoded data removed]"
          },
          "metadata": {}
        }
      ]
    },
    {
      "cell_type": "code",
      "source": [
        "for col in columnas:\n",
        "  print(gacela_categ[col].value_counts())\n",
        "  print('-'*20)"
      ],
      "metadata": {
        "colab": {
          "base_uri": "https://localhost:8080/"
        },
        "id": "qfSeHptJOPyW",
        "outputId": "7a85de06-2bc8-4413-d30b-353f369b7e38"
      },
      "execution_count": null,
      "outputs": [
        {
          "output_type": "stream",
          "name": "stdout",
          "text": [
            "Telecomunicaciones por cable                           5\n",
            "Actividades de consultoría informática                 3\n",
            "Fabricación de especialidades farmacéuticas            1\n",
            "Actividades de programación y emisión de televisión    1\n",
            "Name: CNAE_DESCRIPCION, dtype: int64\n",
            "--------------------\n",
            "Nada                 9\n",
            "Importa y exporta    1\n",
            "Name: IMPORT_EXPORT, dtype: int64\n",
            "--------------------\n",
            "Microempresa    8\n",
            "Pequeña         2\n",
            "Name: TAM_EMPRESA, dtype: int64\n",
            "--------------------\n",
            "Viva    10\n",
            "Name: Estado, dtype: int64\n",
            "--------------------\n",
            "SI    10\n",
            "Name: INFO_ADMIN, dtype: int64\n",
            "--------------------\n",
            "NO                 9\n",
            "Activa en Redes    1\n",
            "Name: ACT_MEDIOS, dtype: int64\n",
            "--------------------\n",
            "NO    10\n",
            "Name: MUJERES_CONSEJO, dtype: int64\n",
            "--------------------\n",
            "B    9\n",
            "A    1\n",
            "Name: frmJuridica, dtype: int64\n",
            "--------------------\n",
            "ANDALUCIA - DIRECCION GENERAL DE POLITICAS ACTIVAS DE EMPLEO                                    4\n",
            "COMUNIDAD DE MADRID - CONSEJERIA DE ECONOMIA, EMPLEO Y HACIENDA                                 1\n",
            "MINISTERIO DE ECONOMIA Y COMPETITIVIDAD - FUNDACION ESPAÑOLA PARA LA CIENCIA Y LA TECNOLOGIA    1\n",
            "DIPUTACION PROV. DE HUELVA - DIPUTACION PROVINCIAL DE HUELVA                                    1\n",
            "REGION DE MURCIA - INSTITUTO DE FOMENTO DE LA REGION DE MURCIA (INFO)                           1\n",
            "REGION DE MURCIA - SERVICIO REGIONAL DE EMPLEO Y FORMACION (S.E.F.)                             1\n",
            "COMUNIDAD DE MADRID - CONSEJERIA DE ECONOMIA, EMPLEO Y COMPETITIVIDAD                           1\n",
            "Name: ORGANISMO, dtype: int64\n",
            "--------------------\n"
          ]
        }
      ]
    },
    {
      "cell_type": "markdown",
      "source": [
        "### Startups de alto crecimiento"
      ],
      "metadata": {
        "id": "x16Z67efOa_Y"
      }
    },
    {
      "cell_type": "code",
      "source": [
        "alto_crec=data2[data2['ALTO_CRECIMIENTO_CALCU']==1]\n",
        "alto_crec_categ=alto_crec.select_dtypes(include='object')\n",
        "alto_crec_categ.describe().T"
      ],
      "metadata": {
        "colab": {
          "base_uri": "https://localhost:8080/",
          "height": 332
        },
        "id": "1A1xL5C7Oapz",
        "outputId": "1080c839-ec37-4fc5-f8ac-77c400100859"
      },
      "execution_count": null,
      "outputs": [
        {
          "output_type": "execute_result",
          "data": {
            "text/plain": [
              "                 count unique  \\\n",
              "CNAE_DESCRIPCION   231     28   \n",
              "IMPORT_EXPORT      231      4   \n",
              "TAM_EMPRESA        231      2   \n",
              "Estado             231      1   \n",
              "INFO_ADMIN         231      1   \n",
              "ACT_MEDIOS         231      4   \n",
              "MUJERES_CONSEJO    231      2   \n",
              "frmJuridica        231      2   \n",
              "ORGANISMO          231     60   \n",
              "\n",
              "                                                                top freq  \n",
              "CNAE_DESCRIPCION            Actividades de programación informática   35  \n",
              "IMPORT_EXPORT                                                  Nada  197  \n",
              "TAM_EMPRESA                                            Microempresa  213  \n",
              "Estado                                                         Viva  231  \n",
              "INFO_ADMIN                                                       SI  231  \n",
              "ACT_MEDIOS                                                       NO   96  \n",
              "MUJERES_CONSEJO                                                  NO  204  \n",
              "frmJuridica                                                       B  227  \n",
              "ORGANISMO         MINISTERIO DE INDUSTRIA, COMERCIO Y TURISMO - ...   27  "
            ],
            "text/html": [
              "\n",
              "  <div id=\"df-4117a02d-6438-41ff-8484-c6225bf9cc57\">\n",
              "    <div class=\"colab-df-container\">\n",
              "      <div>\n",
              "<style scoped>\n",
              "    .dataframe tbody tr th:only-of-type {\n",
              "        vertical-align: middle;\n",
              "    }\n",
              "\n",
              "    .dataframe tbody tr th {\n",
              "        vertical-align: top;\n",
              "    }\n",
              "\n",
              "    .dataframe thead th {\n",
              "        text-align: right;\n",
              "    }\n",
              "</style>\n",
              "<table border=\"1\" class=\"dataframe\">\n",
              "  <thead>\n",
              "    <tr style=\"text-align: right;\">\n",
              "      <th></th>\n",
              "      <th>count</th>\n",
              "      <th>unique</th>\n",
              "      <th>top</th>\n",
              "      <th>freq</th>\n",
              "    </tr>\n",
              "  </thead>\n",
              "  <tbody>\n",
              "    <tr>\n",
              "      <th>CNAE_DESCRIPCION</th>\n",
              "      <td>231</td>\n",
              "      <td>28</td>\n",
              "      <td>Actividades de programación informática</td>\n",
              "      <td>35</td>\n",
              "    </tr>\n",
              "    <tr>\n",
              "      <th>IMPORT_EXPORT</th>\n",
              "      <td>231</td>\n",
              "      <td>4</td>\n",
              "      <td>Nada</td>\n",
              "      <td>197</td>\n",
              "    </tr>\n",
              "    <tr>\n",
              "      <th>TAM_EMPRESA</th>\n",
              "      <td>231</td>\n",
              "      <td>2</td>\n",
              "      <td>Microempresa</td>\n",
              "      <td>213</td>\n",
              "    </tr>\n",
              "    <tr>\n",
              "      <th>Estado</th>\n",
              "      <td>231</td>\n",
              "      <td>1</td>\n",
              "      <td>Viva</td>\n",
              "      <td>231</td>\n",
              "    </tr>\n",
              "    <tr>\n",
              "      <th>INFO_ADMIN</th>\n",
              "      <td>231</td>\n",
              "      <td>1</td>\n",
              "      <td>SI</td>\n",
              "      <td>231</td>\n",
              "    </tr>\n",
              "    <tr>\n",
              "      <th>ACT_MEDIOS</th>\n",
              "      <td>231</td>\n",
              "      <td>4</td>\n",
              "      <td>NO</td>\n",
              "      <td>96</td>\n",
              "    </tr>\n",
              "    <tr>\n",
              "      <th>MUJERES_CONSEJO</th>\n",
              "      <td>231</td>\n",
              "      <td>2</td>\n",
              "      <td>NO</td>\n",
              "      <td>204</td>\n",
              "    </tr>\n",
              "    <tr>\n",
              "      <th>frmJuridica</th>\n",
              "      <td>231</td>\n",
              "      <td>2</td>\n",
              "      <td>B</td>\n",
              "      <td>227</td>\n",
              "    </tr>\n",
              "    <tr>\n",
              "      <th>ORGANISMO</th>\n",
              "      <td>231</td>\n",
              "      <td>60</td>\n",
              "      <td>MINISTERIO DE INDUSTRIA, COMERCIO Y TURISMO - ...</td>\n",
              "      <td>27</td>\n",
              "    </tr>\n",
              "  </tbody>\n",
              "</table>\n",
              "</div>\n",
              "      <button class=\"colab-df-convert\" onclick=\"convertToInteractive('df-4117a02d-6438-41ff-8484-c6225bf9cc57')\"\n",
              "              title=\"Convert this dataframe to an interactive table.\"\n",
              "              style=\"display:none;\">\n",
              "        \n",
              "  <svg xmlns=\"http://www.w3.org/2000/svg\" height=\"24px\"viewBox=\"0 0 24 24\"\n",
              "       width=\"24px\">\n",
              "    <path d=\"M0 0h24v24H0V0z\" fill=\"none\"/>\n",
              "    <path d=\"M18.56 5.44l.94 2.06.94-2.06 2.06-.94-2.06-.94-.94-2.06-.94 2.06-2.06.94zm-11 1L8.5 8.5l.94-2.06 2.06-.94-2.06-.94L8.5 2.5l-.94 2.06-2.06.94zm10 10l.94 2.06.94-2.06 2.06-.94-2.06-.94-.94-2.06-.94 2.06-2.06.94z\"/><path d=\"M17.41 7.96l-1.37-1.37c-.4-.4-.92-.59-1.43-.59-.52 0-1.04.2-1.43.59L10.3 9.45l-7.72 7.72c-.78.78-.78 2.05 0 2.83L4 21.41c.39.39.9.59 1.41.59.51 0 1.02-.2 1.41-.59l7.78-7.78 2.81-2.81c.8-.78.8-2.07 0-2.86zM5.41 20L4 18.59l7.72-7.72 1.47 1.35L5.41 20z\"/>\n",
              "  </svg>\n",
              "      </button>\n",
              "      \n",
              "  <style>\n",
              "    .colab-df-container {\n",
              "      display:flex;\n",
              "      flex-wrap:wrap;\n",
              "      gap: 12px;\n",
              "    }\n",
              "\n",
              "    .colab-df-convert {\n",
              "      background-color: #E8F0FE;\n",
              "      border: none;\n",
              "      border-radius: 50%;\n",
              "      cursor: pointer;\n",
              "      display: none;\n",
              "      fill: #1967D2;\n",
              "      height: 32px;\n",
              "      padding: 0 0 0 0;\n",
              "      width: 32px;\n",
              "    }\n",
              "\n",
              "    .colab-df-convert:hover {\n",
              "      background-color: #E2EBFA;\n",
              "      box-shadow: 0px 1px 2px rgba(60, 64, 67, 0.3), 0px 1px 3px 1px rgba(60, 64, 67, 0.15);\n",
              "      fill: #174EA6;\n",
              "    }\n",
              "\n",
              "    [theme=dark] .colab-df-convert {\n",
              "      background-color: #3B4455;\n",
              "      fill: #D2E3FC;\n",
              "    }\n",
              "\n",
              "    [theme=dark] .colab-df-convert:hover {\n",
              "      background-color: #434B5C;\n",
              "      box-shadow: 0px 1px 3px 1px rgba(0, 0, 0, 0.15);\n",
              "      filter: drop-shadow(0px 1px 2px rgba(0, 0, 0, 0.3));\n",
              "      fill: #FFFFFF;\n",
              "    }\n",
              "  </style>\n",
              "\n",
              "      <script>\n",
              "        const buttonEl =\n",
              "          document.querySelector('#df-4117a02d-6438-41ff-8484-c6225bf9cc57 button.colab-df-convert');\n",
              "        buttonEl.style.display =\n",
              "          google.colab.kernel.accessAllowed ? 'block' : 'none';\n",
              "\n",
              "        async function convertToInteractive(key) {\n",
              "          const element = document.querySelector('#df-4117a02d-6438-41ff-8484-c6225bf9cc57');\n",
              "          const dataTable =\n",
              "            await google.colab.kernel.invokeFunction('convertToInteractive',\n",
              "                                                     [key], {});\n",
              "          if (!dataTable) return;\n",
              "\n",
              "          const docLinkHtml = 'Like what you see? Visit the ' +\n",
              "            '<a target=\"_blank\" href=https://colab.research.google.com/notebooks/data_table.ipynb>data table notebook</a>'\n",
              "            + ' to learn more about interactive tables.';\n",
              "          element.innerHTML = '';\n",
              "          dataTable['output_type'] = 'display_data';\n",
              "          await google.colab.output.renderOutput(dataTable, element);\n",
              "          const docLink = document.createElement('div');\n",
              "          docLink.innerHTML = docLinkHtml;\n",
              "          element.appendChild(docLink);\n",
              "        }\n",
              "      </script>\n",
              "    </div>\n",
              "  </div>\n",
              "  "
            ]
          },
          "metadata": {},
          "execution_count": 19
        }
      ]
    },
    {
      "cell_type": "markdown",
      "source": [
        "A continuación vamos a ver la frecuencia de los valores para variable categórica"
      ],
      "metadata": {
        "id": "UrV3tPUqOh2O"
      }
    },
    {
      "cell_type": "code",
      "source": [
        "columnas=list(alto_crec_categ.columns)\n",
        "\n",
        "fig, axs = plt.subplots(3, 3, figsize=(10,12))\n",
        "\n",
        "for i in range(len(columnas)):\n",
        "    row = i // 3  # Calculamos la fila del subplot\n",
        "    col = i % 3   # Calculamos la columna del subplot\n",
        "    var=columnas[i]\n",
        "    sns.histplot(x = alto_crec_categ[var], ax=axs[row, col])\n",
        "    axs[row, col].set_title(col)\n",
        "\n",
        "plt.tight_layout()\n",
        "plt.show()"
      ],
      "metadata": {
        "colab": {
          "base_uri": "https://localhost:8080/",
          "height": 1000
        },
        "id": "_nZTMJmjOoaZ",
        "outputId": "e41f25d2-aa11-44bf-b538-dc8f4d9c367a"
      },
      "execution_count": null,
      "outputs": [
        {
          "output_type": "stream",
          "name": "stderr",
          "text": [
            "<ipython-input-20-92dc95dfed06>:12: UserWarning: Tight layout not applied. tight_layout cannot make axes width small enough to accommodate all axes decorations\n",
            "  plt.tight_layout()\n"
          ]
        },
        {
          "output_type": "display_data",
          "data": {
            "text/plain": [
              "<Figure size 1000x1200 with 9 Axes>"
            ],
            "image/png": "[encoded data removed]"
          },
          "metadata": {}
        }
      ]
    },
    {
      "cell_type": "code",
      "source": [
        "for col in columnas:\n",
        "  print(alto_crec_categ[col].value_counts())\n",
        "  print('-'*20)"
      ],
      "metadata": {
        "colab": {
          "base_uri": "https://localhost:8080/"
        },
        "id": "XMEUd2pmOxHg",
        "outputId": "507f5488-7464-4752-a67c-c5e527c965a2"
      },
      "execution_count": null,
      "outputs": [
        {
          "output_type": "stream",
          "name": "stdout",
          "text": [
            "Actividades de programación informática                                                           35\n",
            "Fabricación de otra maquinaria para usos específicos n.c.o.p.                                     21\n",
            "Otros servicios relacionados con las tecnologías de la información y la informática               19\n",
            "Otra investigación y desarrollo experimental en ciencias naturales y técnicas                     17\n",
            "Otros servicios de información n.c.o.p.                                                           14\n",
            "Actividades de consultoría informática                                                            12\n",
            "Telecomunicaciones por cable                                                                      12\n",
            "Otras actividades profesionales, científicas y técnicas n.c.o.p.                                  11\n",
            "Fabricación de envases y embalajes de plástico                                                    10\n",
            "Investigación y desarrollo experimental en biotecnología                                          10\n",
            "Servicios técnicos de ingeniería y otras actividades relacionadas con el asesoramiento técnico     9\n",
            "Telecomunicaciones inalámbricas                                                                    9\n",
            "Comercio al por menor por correspondencia o Internet                                               8\n",
            "Fabricación de instrumentos y suministros médicos y odontológicos                                  7\n",
            "Actividades de producción cinematográfica y de vídeo                                               6\n",
            "Proceso de datos, hosting y actividades relacionadas                                               6\n",
            "Portales web                                                                                       5\n",
            "Fabricación de equipos de radiación, electromédicos y electroterapéuticos                          3\n",
            "Actividades de distribución cinematográfica y de vídeo                                             3\n",
            "Investigación y desarrollo experimental en ciencias sociales y humanidades                         3\n",
            "Otras actividades de telecomunicaciones                                                            2\n",
            "Agencias de publicidad                                                                             2\n",
            "Construcción de edificios residenciales                                                            2\n",
            "Fabricación de otros hilos y cables electrónicos y eléctricos                                      1\n",
            "Fabricación de especialidades farmacéuticas                                                        1\n",
            "Actividades de programación y emisión de televisión                                                1\n",
            "Fabricación de perfumes y cosméticos                                                               1\n",
            "Fabricación de otras máquinas herramienta                                                          1\n",
            "Name: CNAE_DESCRIPCION, dtype: int64\n",
            "--------------------\n",
            "Nada                 197\n",
            "Importa y exporta     21\n",
            "Exporta               11\n",
            "Importa                2\n",
            "Name: IMPORT_EXPORT, dtype: int64\n",
            "--------------------\n",
            "Microempresa    213\n",
            "Pequeña          18\n",
            "Name: TAM_EMPRESA, dtype: int64\n",
            "--------------------\n",
            "Viva    231\n",
            "Name: Estado, dtype: int64\n",
            "--------------------\n",
            "SI    231\n",
            "Name: INFO_ADMIN, dtype: int64\n",
            "--------------------\n",
            "NO                          96\n",
            "Activa en Redes             65\n",
            "Activa en Redes y Medios    60\n",
            "Activa en Medios            10\n",
            "Name: ACT_MEDIOS, dtype: int64\n",
            "--------------------\n",
            "NO    204\n",
            "SI     27\n",
            "Name: MUJERES_CONSEJO, dtype: int64\n",
            "--------------------\n",
            "B    227\n",
            "A      4\n",
            "Name: frmJuridica, dtype: int64\n",
            "--------------------\n",
            "MINISTERIO DE INDUSTRIA, COMERCIO Y TURISMO - COMPAÑIA ESPAÑOLA DE REAFIANZAMIENTO                                                         27\n",
            "REGION DE MURCIA - INSTITUTO DE FOMENTO DE LA REGION DE MURCIA (INFO)                                                                      18\n",
            "ANDALUCIA - DIRECCION GENERAL DE POLITICAS ACTIVAS DE EMPLEO                                                                               14\n",
            "COMUNITAT VALENCIANA - INSTITUTO VALENCIANO DE COMPETITIVIDAD EMPRESARIAL (IVACE)                                                          14\n",
            "GALICIA - INSTITUTO GALLEGO DE PROMOCION ECONOMICA (IGAPE)                                                                                 12\n",
            "LA RIOJA - AGENCIA DE DESARROLLO ECONOMICO DE LA RIOJA                                                                                     10\n",
            "GALICIA - AGENCIA GALLEGA DE INNOVACION                                                                                                    10\n",
            "COMUNITAT VALENCIANA - DIRECCION GENERAL DE EMPLEO Y FORMACION                                                                              9\n",
            "MINISTERIO DE INDUSTRIA, COMERCIO Y TURISMO - ICEX ESPAÑA EXPORTACION E INVERSIONES, EP E., M.P.                                            8\n",
            "REGION DE MURCIA - SERVICIO REGIONAL DE EMPLEO Y FORMACION (S.E.F.)                                                                         8\n",
            "MINISTERIO DE CIENCIA, INNOVACION Y UNIVERSIDADES - ENTIDAD PUBLICA EMPRESARIAL CENTRO PARA EL DESARROLLO TECNOLOGICO INDUSTRIAL (CDTI)     8\n",
            "MINISTERIO DE ECONOMIA, INDUSTRIA Y COMPETITIVIDAD - ICEX ESPAÑA EXPORTACION E INVERSIONES                                                  7\n",
            "COMUNIDAD DE MADRID - CONSEJERIA DE ECONOMIA, EMPLEO Y COMPETITIVIDAD                                                                       4\n",
            "CASTILLA Y LEON - CONSEJERIA DE EMPLEO E INDUSTRIA                                                                                          4\n",
            "ARAGON - INSTITUTO ARAGONES DE EMPLEO (INAEM)                                                                                               3\n",
            "CANARIAS - CONSEJERIA DE ECONOMIA, INDUSTRIA, COMERCIO Y CONOCIMIENTO                                                                       3\n",
            "MINISTERIO DE ECONOMIA Y COMPETITIVIDAD - CENTRO PARA EL DESARROLLO TECNOLOGICO INDUSTRIAL                                                  3\n",
            "MINISTERIO DE ECONOMIA, INDUSTRIA Y COMPETITIVIDAD - AGENCIA ESTATAL DE INVESTIGACION                                                       3\n",
            "CATALUÑA - OFICINA DE SUPORT A LA INICIATIVA CULTURAL                                                                                       3\n",
            "COMUNIDAD DE MADRID - CONSEJERIA DE ECONOMIA, EMPLEO Y HACIENDA                                                                             3\n",
            "ANDALUCIA - AGENCIA DE INNOVACION Y DESARROLLO DE ANDALUCIA                                                                                 3\n",
            "ARAGON - SECRETARIA GENERAL TECNICA (ECONOMIA, PLANIFICACION Y EMPLEO)                                                                      3\n",
            "ILLES BALEARS - DIRECCION GENERAL DEL TESORO, POLITICA FINANCIERA Y PATRIMONIO                                                              2\n",
            "DIPUTACION PROV. DE MALAGA - DIPUTACION PROVINCIAL DE MALAGA                                                                                2\n",
            "MINISTERIO DE ECONOMIA, INDUSTRIA Y COMPETITIVIDAD - CENTRO PARA EL DESARROLLO TECNOLOGICO INDUSTRIAL                                       2\n",
            "ANDALUCIA - D. G. DE PLANIFICACION, INSTALACIONES Y EVENTOS DEPORTIVOS                                                                      2\n",
            "MINISTERIO DE ECONOMIA, INDUSTRIA Y COMPETITIVIDAD - D.G. DE INDUSTRIA Y DE LA PEQUEÑA Y MEDIANA EMPRESA                                    2\n",
            "CASTILLA-LA MANCHA - DIRECCION GENERAL EMPRESAS, COMPETITIVIDAD E INTERNACIONALIZACION                                                      2\n",
            "CANARIAS - CONSEJERIA DE TURISMO, INDUSTRIA Y COMERCIO                                                                                      2\n",
            "DIPUTACION PROV. DE HUELVA - DIPUTACION PROVINCIAL DE HUELVA                                                                                2\n",
            "PRINCIPADO DE ASTURIAS - SERVICIO PUBLICO DE EMPLEO DEL PRINCIPADO DE ASTURIAS                                                              2\n",
            "PRINCIPADO DE ASTURIAS - INSTITUTO DE DESARROLLO ECONOMICO DEL PRINCIPADO DE ASTURIAS                                                       2\n",
            "GALICIA - AGENCIA GALLEGA DE DESARROLLO RURAL (AGADER)                                                                                      2\n",
            "GALICIA - CONSELLERIA DE ECONOMIA, EMPLEO E INDUSTRIA                                                                                       2\n",
            "CASTILLA Y LEON - CONSEJERIA DE EMPLEO                                                                                                      2\n",
            "DURANGO - AYUNTAMIENTO DE DURANGO                                                                                                           2\n",
            "OTROS - UNIVERSITAT DE VALÈNCIA (ESTUDI GENERAL)                                                                                            2\n",
            "MINISTERIO DE ECONOMIA Y COMPETITIVIDAD - ICEX ESPAÑA EXPORTACION E INVERSIONES                                                             2\n",
            "ARAGON - D. GRAL. DE PRODUCCION AGRARIA                                                                                                     1\n",
            "CANARIAS - CONSEJERIA DE ECONOMIA, CONOCIMIENTO Y EMPLEO                                                                                    1\n",
            "ARAGON - INSTITUTO ARAGONES DE FOMENTO (IAF)                                                                                                1\n",
            "COMUNITAT VALENCIANA - AGENCIA VALENCIANA DE LA INNOVACION                                                                                  1\n",
            "MINISTERIO DE ECONOMIA Y COMPETITIVIDAD - FUNDACION ESPAÑOLA PARA LA CIENCIA Y LA TECNOLOGIA                                                1\n",
            "COMUNITAT VALENCIANA - DIRECCION GENERAL DE PLANIFICACION Y SERVICIOS                                                                       1\n",
            "DIPUTACION PROV. DE A CORUÑA - DIPUTACION PROVINCIAL DE CORUÑA, A                                                                           1\n",
            "COMUNIDAD DE MADRID - CONSEJERIA DE EDUCACION E INVESTIGACION                                                                               1\n",
            "MINISTERIO DE INDUSTRIA, COMERCIO Y TURISMO - OFICINA ESPAÑOLA DE PATENTES Y MARCAS, O.A.                                                   1\n",
            "COMUNIDAD FORAL DE NAVARRA - DEPARTAMENTO DE DESARROLLO ECONOMICO                                                                           1\n",
            "CATALUÑA - AGÈNCIA DE GESTIO D'AJUTS UNIVERSITARIS I DE RECERCA (AGAUR)                                                                     1\n",
            "CATALUÑA - INSTITUT CATALÀ DE LES EMPRESES CULTURALS (ICEC)                                                                                 1\n",
            "CATALUÑA - AGÈNCIA PER A LA COMPETITIVITAT DE L'EMPRESA (ACCIO)                                                                             1\n",
            "MINISTERIO DE ECONOMIA Y EMPRESA - ENTIDAD PUBLICA EMPRESARIAL RED.ES                                                                       1\n",
            "FIGUERES - AYUNTAMIENTO DE FIGUERES                                                                                                         1\n",
            "MINISTERIO DE INDUSTRIA, COMERCIO Y TURISMO - FUNDACION EOI, F.S.P.                                                                         1\n",
            "CASTILLA Y LEON - SERVICIO PUBLICO DE EMPLEO DE CASTILLA Y LEON                                                                             1\n",
            "CASTILLA Y LEON - AGENCIA DE INNOVACION, FINANCIACION E INTERNACIONALIZACION EMPRESARIAL DE CASTILLA Y LEON                                 1\n",
            "CASTILLA Y LEON - INSTITUTO PARA LA COMPETITIVIDAD EMPRESARIAL DE CASTILLA Y LEON                                                           1\n",
            "Ninguno                                                                                                                                     1\n",
            "LA RIOJA - CONSEJERIA DE AGRICULTURA, GANADERIA Y MEDIO AMBIENTE                                                                            1\n",
            "MINISTERIO DE HACIENDA Y ADMINISTRACIONES PUBLICAS - D.G. DE FONDOS COMUNITARIOS                                                            1\n",
            "Name: ORGANISMO, dtype: int64\n",
            "--------------------\n"
          ]
        }
      ]
    },
    {
      "cell_type": "markdown",
      "source": [
        "##Datos numéricos"
      ],
      "metadata": {
        "id": "Q27z3eMdO1N8"
      }
    },
    {
      "cell_type": "markdown",
      "source": [
        "###Startups Gacela"
      ],
      "metadata": {
        "id": "Jfy3TOOVO-of"
      }
    },
    {
      "cell_type": "code",
      "source": [
        "gacela_num=gacelas.select_dtypes(exclude='object')\n",
        "gacela_num.describe().T"
      ],
      "metadata": {
        "colab": {
          "base_uri": "https://localhost:8080/",
          "height": 597
        },
        "id": "ADhHfo-1O3Rm",
        "outputId": "1eb2b234-113a-40c0-9c55-8616aab21305"
      },
      "execution_count": null,
      "outputs": [
        {
          "output_type": "stream",
          "name": "stderr",
          "text": [
            "/usr/local/lib/python3.10/dist-packages/numpy/lib/function_base.py:4486: RuntimeWarning: invalid value encountered in subtract\n",
            "  diff_b_a = subtract(b, a)\n",
            "/usr/local/lib/python3.10/dist-packages/numpy/lib/function_base.py:4489: RuntimeWarning: invalid value encountered in subtract\n",
            "  subtract(b, diff_b_a * (1 - t), out=lerp_interpolation, where=t >= 0.5)\n",
            "/usr/local/lib/python3.10/dist-packages/numpy/lib/function_base.py:4486: RuntimeWarning: invalid value encountered in subtract\n",
            "  diff_b_a = subtract(b, a)\n",
            "/usr/local/lib/python3.10/dist-packages/numpy/lib/function_base.py:4489: RuntimeWarning: invalid value encountered in subtract\n",
            "  subtract(b, diff_b_a * (1 - t), out=lerp_interpolation, where=t >= 0.5)\n",
            "/usr/local/lib/python3.10/dist-packages/numpy/lib/function_base.py:4486: RuntimeWarning: invalid value encountered in subtract\n",
            "  diff_b_a = subtract(b, a)\n"
          ]
        },
        {
          "output_type": "execute_result",
          "data": {
            "text/plain": [
              "                        count      mean          std       min       25%  \\\n",
              "ID                       10.0  108668.5  7002.163273  100081.0  104173.0   \n",
              "CNAE                     10.0    5729.6  1269.582188    2120.0    6110.0   \n",
              "ACC_EXTRAN               10.0       0.0     0.000000       0.0       0.0   \n",
              "ACC_EMPRESA              10.0       0.1     0.316228       0.0       0.0   \n",
              "NUMACCIONISTAS           10.0       0.2     0.421637       0.0       0.0   \n",
              "...                       ...       ...          ...       ...       ...   \n",
              "ALTO_CRECIMIENTO_CALCU   10.0       1.0     0.000000       1.0       1.0   \n",
              "GACELA_CALCU             10.0       1.0     0.000000       1.0       1.0   \n",
              "MODELO_CALCU             10.0       1.0     0.000000       1.0       1.0   \n",
              "Inicio Actividad         10.0    2016.1     0.316228    2016.0    2016.0   \n",
              "ULT_ACTOMERCANTIL_Y      10.0    2018.7     2.496664    2016.0    2017.0   \n",
              "\n",
              "                             50%       75%       max  \n",
              "ID                      104173.0  114985.0  120784.0  \n",
              "CNAE                      6110.0    6179.0    6202.0  \n",
              "ACC_EXTRAN                   0.0       0.0       0.0  \n",
              "ACC_EMPRESA                  0.0       0.0       1.0  \n",
              "NUMACCIONISTAS               0.0       0.0       1.0  \n",
              "...                          ...       ...       ...  \n",
              "ALTO_CRECIMIENTO_CALCU       1.0       1.0       1.0  \n",
              "GACELA_CALCU                 1.0       1.0       1.0  \n",
              "MODELO_CALCU                 1.0       1.0       1.0  \n",
              "Inicio Actividad          2016.0    2016.0    2017.0  \n",
              "ULT_ACTOMERCANTIL_Y       2017.0    2021.5    2022.0  \n",
              "\n",
              "[150 rows x 8 columns]"
            ],
            "text/html": [
              "\n",
              "  <div id=\"df-34a65d19-e56f-48d6-a99a-ded5f69ca47a\">\n",
              "    <div class=\"colab-df-container\">\n",
              "      <div>\n",
              "<style scoped>\n",
              "    .dataframe tbody tr th:only-of-type {\n",
              "        vertical-align: middle;\n",
              "    }\n",
              "\n",
              "    .dataframe tbody tr th {\n",
              "        vertical-align: top;\n",
              "    }\n",
              "\n",
              "    .dataframe thead th {\n",
              "        text-align: right;\n",
              "    }\n",
              "</style>\n",
              "<table border=\"1\" class=\"dataframe\">\n",
              "  <thead>\n",
              "    <tr style=\"text-align: right;\">\n",
              "      <th></th>\n",
              "      <th>count</th>\n",
              "      <th>mean</th>\n",
              "      <th>std</th>\n",
              "      <th>min</th>\n",
              "      <th>25%</th>\n",
              "      <th>50%</th>\n",
              "      <th>75%</th>\n",
              "      <th>max</th>\n",
              "    </tr>\n",
              "  </thead>\n",
              "  <tbody>\n",
              "    <tr>\n",
              "      <th>ID</th>\n",
              "      <td>10.0</td>\n",
              "      <td>108668.5</td>\n",
              "      <td>7002.163273</td>\n",
              "      <td>100081.0</td>\n",
              "      <td>104173.0</td>\n",
              "      <td>104173.0</td>\n",
              "      <td>114985.0</td>\n",
              "      <td>120784.0</td>\n",
              "    </tr>\n",
              "    <tr>\n",
              "      <th>CNAE</th>\n",
              "      <td>10.0</td>\n",
              "      <td>5729.6</td>\n",
              "      <td>1269.582188</td>\n",
              "      <td>2120.0</td>\n",
              "      <td>6110.0</td>\n",
              "      <td>6110.0</td>\n",
              "      <td>6179.0</td>\n",
              "      <td>6202.0</td>\n",
              "    </tr>\n",
              "    <tr>\n",
              "      <th>ACC_EXTRAN</th>\n",
              "      <td>10.0</td>\n",
              "      <td>0.0</td>\n",
              "      <td>0.000000</td>\n",
              "      <td>0.0</td>\n",
              "      <td>0.0</td>\n",
              "      <td>0.0</td>\n",
              "      <td>0.0</td>\n",
              "      <td>0.0</td>\n",
              "    </tr>\n",
              "    <tr>\n",
              "      <th>ACC_EMPRESA</th>\n",
              "      <td>10.0</td>\n",
              "      <td>0.1</td>\n",
              "      <td>0.316228</td>\n",
              "      <td>0.0</td>\n",
              "      <td>0.0</td>\n",
              "      <td>0.0</td>\n",
              "      <td>0.0</td>\n",
              "      <td>1.0</td>\n",
              "    </tr>\n",
              "    <tr>\n",
              "      <th>NUMACCIONISTAS</th>\n",
              "      <td>10.0</td>\n",
              "      <td>0.2</td>\n",
              "      <td>0.421637</td>\n",
              "      <td>0.0</td>\n",
              "      <td>0.0</td>\n",
              "      <td>0.0</td>\n",
              "      <td>0.0</td>\n",
              "      <td>1.0</td>\n",
              "    </tr>\n",
              "    <tr>\n",
              "      <th>...</th>\n",
              "      <td>...</td>\n",
              "      <td>...</td>\n",
              "      <td>...</td>\n",
              "      <td>...</td>\n",
              "      <td>...</td>\n",
              "      <td>...</td>\n",
              "      <td>...</td>\n",
              "      <td>...</td>\n",
              "    </tr>\n",
              "    <tr>\n",
              "      <th>ALTO_CRECIMIENTO_CALCU</th>\n",
              "      <td>10.0</td>\n",
              "      <td>1.0</td>\n",
              "      <td>0.000000</td>\n",
              "      <td>1.0</td>\n",
              "      <td>1.0</td>\n",
              "      <td>1.0</td>\n",
              "      <td>1.0</td>\n",
              "      <td>1.0</td>\n",
              "    </tr>\n",
              "    <tr>\n",
              "      <th>GACELA_CALCU</th>\n",
              "      <td>10.0</td>\n",
              "      <td>1.0</td>\n",
              "      <td>0.000000</td>\n",
              "      <td>1.0</td>\n",
              "      <td>1.0</td>\n",
              "      <td>1.0</td>\n",
              "      <td>1.0</td>\n",
              "      <td>1.0</td>\n",
              "    </tr>\n",
              "    <tr>\n",
              "      <th>MODELO_CALCU</th>\n",
              "      <td>10.0</td>\n",
              "      <td>1.0</td>\n",
              "      <td>0.000000</td>\n",
              "      <td>1.0</td>\n",
              "      <td>1.0</td>\n",
              "      <td>1.0</td>\n",
              "      <td>1.0</td>\n",
              "      <td>1.0</td>\n",
              "    </tr>\n",
              "    <tr>\n",
              "      <th>Inicio Actividad</th>\n",
              "      <td>10.0</td>\n",
              "      <td>2016.1</td>\n",
              "      <td>0.316228</td>\n",
              "      <td>2016.0</td>\n",
              "      <td>2016.0</td>\n",
              "      <td>2016.0</td>\n",
              "      <td>2016.0</td>\n",
              "      <td>2017.0</td>\n",
              "    </tr>\n",
              "    <tr>\n",
              "      <th>ULT_ACTOMERCANTIL_Y</th>\n",
              "      <td>10.0</td>\n",
              "      <td>2018.7</td>\n",
              "      <td>2.496664</td>\n",
              "      <td>2016.0</td>\n",
              "      <td>2017.0</td>\n",
              "      <td>2017.0</td>\n",
              "      <td>2021.5</td>\n",
              "      <td>2022.0</td>\n",
              "    </tr>\n",
              "  </tbody>\n",
              "</table>\n",
              "<p>150 rows × 8 columns</p>\n",
              "</div>\n",
              "      <button class=\"colab-df-convert\" onclick=\"convertToInteractive('df-34a65d19-e56f-48d6-a99a-ded5f69ca47a')\"\n",
              "              title=\"Convert this dataframe to an interactive table.\"\n",
              "              style=\"display:none;\">\n",
              "        \n",
              "  <svg xmlns=\"http://www.w3.org/2000/svg\" height=\"24px\"viewBox=\"0 0 24 24\"\n",
              "       width=\"24px\">\n",
              "    <path d=\"M0 0h24v24H0V0z\" fill=\"none\"/>\n",
              "    <path d=\"M18.56 5.44l.94 2.06.94-2.06 2.06-.94-2.06-.94-.94-2.06-.94 2.06-2.06.94zm-11 1L8.5 8.5l.94-2.06 2.06-.94-2.06-.94L8.5 2.5l-.94 2.06-2.06.94zm10 10l.94 2.06.94-2.06 2.06-.94-2.06-.94-.94-2.06-.94 2.06-2.06.94z\"/><path d=\"M17.41 7.96l-1.37-1.37c-.4-.4-.92-.59-1.43-.59-.52 0-1.04.2-1.43.59L10.3 9.45l-7.72 7.72c-.78.78-.78 2.05 0 2.83L4 21.41c.39.39.9.59 1.41.59.51 0 1.02-.2 1.41-.59l7.78-7.78 2.81-2.81c.8-.78.8-2.07 0-2.86zM5.41 20L4 18.59l7.72-7.72 1.47 1.35L5.41 20z\"/>\n",
              "  </svg>\n",
              "      </button>\n",
              "      \n",
              "  <style>\n",
              "    .colab-df-container {\n",
              "      display:flex;\n",
              "      flex-wrap:wrap;\n",
              "      gap: 12px;\n",
              "    }\n",
              "\n",
              "    .colab-df-convert {\n",
              "      background-color: #E8F0FE;\n",
              "      border: none;\n",
              "      border-radius: 50%;\n",
              "      cursor: pointer;\n",
              "      display: none;\n",
              "      fill: #1967D2;\n",
              "      height: 32px;\n",
              "      padding: 0 0 0 0;\n",
              "      width: 32px;\n",
              "    }\n",
              "\n",
              "    .colab-df-convert:hover {\n",
              "      background-color: #E2EBFA;\n",
              "      box-shadow: 0px 1px 2px rgba(60, 64, 67, 0.3), 0px 1px 3px 1px rgba(60, 64, 67, 0.15);\n",
              "      fill: #174EA6;\n",
              "    }\n",
              "\n",
              "    [theme=dark] .colab-df-convert {\n",
              "      background-color: #3B4455;\n",
              "      fill: #D2E3FC;\n",
              "    }\n",
              "\n",
              "    [theme=dark] .colab-df-convert:hover {\n",
              "      background-color: #434B5C;\n",
              "      box-shadow: 0px 1px 3px 1px rgba(0, 0, 0, 0.15);\n",
              "      filter: drop-shadow(0px 1px 2px rgba(0, 0, 0, 0.3));\n",
              "      fill: #FFFFFF;\n",
              "    }\n",
              "  </style>\n",
              "\n",
              "      <script>\n",
              "        const buttonEl =\n",
              "          document.querySelector('#df-34a65d19-e56f-48d6-a99a-ded5f69ca47a button.colab-df-convert');\n",
              "        buttonEl.style.display =\n",
              "          google.colab.kernel.accessAllowed ? 'block' : 'none';\n",
              "\n",
              "        async function convertToInteractive(key) {\n",
              "          const element = document.querySelector('#df-34a65d19-e56f-48d6-a99a-ded5f69ca47a');\n",
              "          const dataTable =\n",
              "            await google.colab.kernel.invokeFunction('convertToInteractive',\n",
              "                                                     [key], {});\n",
              "          if (!dataTable) return;\n",
              "\n",
              "          const docLinkHtml = 'Like what you see? Visit the ' +\n",
              "            '<a target=\"_blank\" href=https://colab.research.google.com/notebooks/data_table.ipynb>data table notebook</a>'\n",
              "            + ' to learn more about interactive tables.';\n",
              "          element.innerHTML = '';\n",
              "          dataTable['output_type'] = 'display_data';\n",
              "          await google.colab.output.renderOutput(dataTable, element);\n",
              "          const docLink = document.createElement('div');\n",
              "          docLink.innerHTML = docLinkHtml;\n",
              "          element.appendChild(docLink);\n",
              "        }\n",
              "      </script>\n",
              "    </div>\n",
              "  </div>\n",
              "  "
            ]
          },
          "metadata": {},
          "execution_count": 22
        }
      ]
    },
    {
      "cell_type": "markdown",
      "source": [
        "Como hay demasiadas columnas no se puede ver nada con claridad, por lo que vamos a realizar una correlación con la variables GACELA_CALCU."
      ],
      "metadata": {
        "id": "jdzmcb4YPDTQ"
      }
    },
    {
      "cell_type": "code",
      "source": [
        "corr_gacela = data2.corr(method='pearson')\n",
        "corr_gacela[['GACELA_CALCU']].sort_values(by = 'GACELA_CALCU',ascending = False)\\\n",
        ".style.background_gradient()"
      ],
      "metadata": {
        "colab": {
          "base_uri": "https://localhost:8080/",
          "height": 1000
        },
        "id": "PPMMrBx9PF5Y",
        "outputId": "b81ca9ed-2da7-441d-9983-fa18d0727704"
      },
      "execution_count": null,
      "outputs": [
        {
          "output_type": "stream",
          "name": "stderr",
          "text": [
            "<ipython-input-23-486c55159343>:1: FutureWarning: The default value of numeric_only in DataFrame.corr is deprecated. In a future version, it will default to False. Select only valid columns or specify the value of numeric_only to silence this warning.\n",
            "  corr_gacela = data2.corr(method='pearson')\n"
          ]
        },
        {
          "output_type": "execute_result",
          "data": {
            "text/plain": [
              "<pandas.io.formats.style.Styler at 0x7f40eb932ef0>"
            ],
            "text/html": [
              "<style type=\"text/css\">\n",
              "#T_4e034_row0_col0 {\n",
              "  background-color: #023858;\n",
              "  color: #f1f1f1;\n",
              "}\n",
              "#T_4e034_row1_col0 {\n",
              "  background-color: #b9c6e0;\n",
              "  color: #000000;\n",
              "}\n",
              "#T_4e034_row2_col0 {\n",
              "  background-color: #d3d4e7;\n",
              "  color: #000000;\n",
              "}\n",
              "#T_4e034_row3_col0 {\n",
              "  background-color: #ede7f2;\n",
              "  color: #000000;\n",
              "}\n",
              "#T_4e034_row4_col0 {\n",
              "  background-color: #f0eaf4;\n",
              "  color: #000000;\n",
              "}\n",
              "#T_4e034_row5_col0 {\n",
              "  background-color: #f2ecf5;\n",
              "  color: #000000;\n",
              "}\n",
              "#T_4e034_row6_col0 {\n",
              "  background-color: #f4eef6;\n",
              "  color: #000000;\n",
              "}\n",
              "#T_4e034_row7_col0 {\n",
              "  background-color: #f5eef6;\n",
              "  color: #000000;\n",
              "}\n",
              "#T_4e034_row8_col0 {\n",
              "  background-color: #f5eff6;\n",
              "  color: #000000;\n",
              "}\n",
              "#T_4e034_row9_col0 {\n",
              "  background-color: #f6eff7;\n",
              "  color: #000000;\n",
              "}\n",
              "#T_4e034_row10_col0, #T_4e034_row11_col0, #T_4e034_row12_col0, #T_4e034_row13_col0, #T_4e034_row14_col0, #T_4e034_row15_col0, #T_4e034_row16_col0, #T_4e034_row17_col0, #T_4e034_row18_col0, #T_4e034_row19_col0, #T_4e034_row20_col0, #T_4e034_row21_col0, #T_4e034_row22_col0, #T_4e034_row23_col0, #T_4e034_row24_col0, #T_4e034_row25_col0, #T_4e034_row26_col0, #T_4e034_row27_col0 {\n",
              "  background-color: #f7f0f7;\n",
              "  color: #000000;\n",
              "}\n",
              "#T_4e034_row28_col0, #T_4e034_row29_col0, #T_4e034_row30_col0, #T_4e034_row31_col0, #T_4e034_row32_col0, #T_4e034_row33_col0, #T_4e034_row34_col0, #T_4e034_row35_col0, #T_4e034_row36_col0, #T_4e034_row37_col0, #T_4e034_row38_col0, #T_4e034_row39_col0, #T_4e034_row40_col0, #T_4e034_row41_col0, #T_4e034_row42_col0, #T_4e034_row43_col0, #T_4e034_row44_col0, #T_4e034_row45_col0, #T_4e034_row46_col0, #T_4e034_row47_col0, #T_4e034_row48_col0, #T_4e034_row49_col0, #T_4e034_row50_col0, #T_4e034_row51_col0, #T_4e034_row52_col0, #T_4e034_row53_col0, #T_4e034_row54_col0, #T_4e034_row55_col0 {\n",
              "  background-color: #f8f1f8;\n",
              "  color: #000000;\n",
              "}\n",
              "#T_4e034_row56_col0, #T_4e034_row57_col0, #T_4e034_row58_col0, #T_4e034_row59_col0, #T_4e034_row60_col0, #T_4e034_row61_col0, #T_4e034_row62_col0, #T_4e034_row63_col0, #T_4e034_row64_col0, #T_4e034_row65_col0, #T_4e034_row66_col0, #T_4e034_row67_col0, #T_4e034_row68_col0, #T_4e034_row69_col0, #T_4e034_row70_col0, #T_4e034_row71_col0, #T_4e034_row72_col0, #T_4e034_row73_col0, #T_4e034_row74_col0, #T_4e034_row75_col0, #T_4e034_row76_col0, #T_4e034_row77_col0, #T_4e034_row78_col0, #T_4e034_row79_col0, #T_4e034_row80_col0, #T_4e034_row81_col0, #T_4e034_row82_col0, #T_4e034_row83_col0, #T_4e034_row84_col0, #T_4e034_row85_col0 {\n",
              "  background-color: #f9f2f8;\n",
              "  color: #000000;\n",
              "}\n",
              "#T_4e034_row86_col0, #T_4e034_row87_col0, #T_4e034_row88_col0, #T_4e034_row89_col0, #T_4e034_row90_col0, #T_4e034_row91_col0, #T_4e034_row92_col0, #T_4e034_row93_col0, #T_4e034_row94_col0, #T_4e034_row95_col0, #T_4e034_row96_col0, #T_4e034_row97_col0, #T_4e034_row98_col0, #T_4e034_row99_col0, #T_4e034_row100_col0, #T_4e034_row101_col0, #T_4e034_row102_col0, #T_4e034_row103_col0, #T_4e034_row104_col0, #T_4e034_row105_col0, #T_4e034_row106_col0, #T_4e034_row107_col0, #T_4e034_row108_col0, #T_4e034_row109_col0, #T_4e034_row110_col0, #T_4e034_row111_col0, #T_4e034_row112_col0, #T_4e034_row113_col0, #T_4e034_row114_col0, #T_4e034_row115_col0, #T_4e034_row116_col0, #T_4e034_row117_col0, #T_4e034_row118_col0, #T_4e034_row119_col0, #T_4e034_row120_col0, #T_4e034_row121_col0 {\n",
              "  background-color: #faf2f8;\n",
              "  color: #000000;\n",
              "}\n",
              "#T_4e034_row122_col0, #T_4e034_row123_col0, #T_4e034_row124_col0, #T_4e034_row125_col0, #T_4e034_row126_col0, #T_4e034_row127_col0, #T_4e034_row128_col0, #T_4e034_row129_col0, #T_4e034_row130_col0 {\n",
              "  background-color: #faf3f9;\n",
              "  color: #000000;\n",
              "}\n",
              "#T_4e034_row131_col0 {\n",
              "  background-color: #fbf3f9;\n",
              "  color: #000000;\n",
              "}\n",
              "#T_4e034_row132_col0 {\n",
              "  background-color: #fbf4f9;\n",
              "  color: #000000;\n",
              "}\n",
              "#T_4e034_row133_col0, #T_4e034_row134_col0 {\n",
              "  background-color: #fcf4fa;\n",
              "  color: #000000;\n",
              "}\n",
              "#T_4e034_row135_col0, #T_4e034_row136_col0 {\n",
              "  background-color: #fdf5fa;\n",
              "  color: #000000;\n",
              "}\n",
              "#T_4e034_row137_col0 {\n",
              "  background-color: #fef6fa;\n",
              "  color: #000000;\n",
              "}\n",
              "#T_4e034_row138_col0 {\n",
              "  background-color: #fff7fb;\n",
              "  color: #000000;\n",
              "}\n",
              "#T_4e034_row139_col0, #T_4e034_row140_col0, #T_4e034_row141_col0, #T_4e034_row142_col0, #T_4e034_row143_col0, #T_4e034_row144_col0, #T_4e034_row145_col0, #T_4e034_row146_col0, #T_4e034_row147_col0, #T_4e034_row148_col0, #T_4e034_row149_col0 {\n",
              "  background-color: #000000;\n",
              "  color: #f1f1f1;\n",
              "}\n",
              "</style>\n",
              "<table id=\"T_4e034\" class=\"dataframe\">\n",
              "  <thead>\n",
              "    <tr>\n",
              "      <th class=\"blank level0\" >&nbsp;</th>\n",
              "      <th id=\"T_4e034_level0_col0\" class=\"col_heading level0 col0\" >GACELA_CALCU</th>\n",
              "    </tr>\n",
              "  </thead>\n",
              "  <tbody>\n",
              "    <tr>\n",
              "      <th id=\"T_4e034_level0_row0\" class=\"row_heading level0 row0\" >GACELA_CALCU</th>\n",
              "      <td id=\"T_4e034_row0_col0\" class=\"data row0 col0\" >1.000000</td>\n",
              "    </tr>\n",
              "    <tr>\n",
              "      <th id=\"T_4e034_level0_row1\" class=\"row_heading level0 row1\" >A-I-INM_INT_23_diff</th>\n",
              "      <td id=\"T_4e034_row1_col0\" class=\"data row1 col0\" >0.286024</td>\n",
              "    </tr>\n",
              "    <tr>\n",
              "      <th id=\"T_4e034_level0_row2\" class=\"row_heading level0 row2\" >ALTO_CRECIMIENTO_CALCU</th>\n",
              "      <td id=\"T_4e034_row2_col0\" class=\"data row2 col0\" >0.199201</td>\n",
              "    </tr>\n",
              "    <tr>\n",
              "      <th id=\"T_4e034_level0_row3\" class=\"row_heading level0 row3\" >C-III-DEU_CP_23_diff</th>\n",
              "      <td id=\"T_4e034_row3_col0\" class=\"data row3 col0\" >0.081461</td>\n",
              "    </tr>\n",
              "    <tr>\n",
              "      <th id=\"T_4e034_level0_row4\" class=\"row_heading level0 row4\" >MODELO_CALCU</th>\n",
              "      <td id=\"T_4e034_row4_col0\" class=\"data row4 col0\" >0.060524</td>\n",
              "    </tr>\n",
              "    <tr>\n",
              "      <th id=\"T_4e034_level0_row5\" class=\"row_heading level0 row5\" >A-V-INV_FLP_23_diff</th>\n",
              "      <td id=\"T_4e034_row5_col0\" class=\"data row5 col0\" >0.041066</td>\n",
              "    </tr>\n",
              "    <tr>\n",
              "      <th id=\"T_4e034_level0_row6\" class=\"row_heading level0 row6\" >A-20-IMPUESTOS_12_diff</th>\n",
              "      <td id=\"T_4e034_row6_col0\" class=\"data row6 col0\" >0.028957</td>\n",
              "    </tr>\n",
              "    <tr>\n",
              "      <th id=\"T_4e034_level0_row7\" class=\"row_heading level0 row7\" >A-II-INM_MAT_23_diff</th>\n",
              "      <td id=\"T_4e034_row7_col0\" class=\"data row7 col0\" >0.024538</td>\n",
              "    </tr>\n",
              "    <tr>\n",
              "      <th id=\"T_4e034_level0_row8\" class=\"row_heading level0 row8\" >ROA_1</th>\n",
              "      <td id=\"T_4e034_row8_col0\" class=\"data row8 col0\" >0.020146</td>\n",
              "    </tr>\n",
              "    <tr>\n",
              "      <th id=\"T_4e034_level0_row9\" class=\"row_heading level0 row9\" >B-III-DEU_GRU_LP_23_diff</th>\n",
              "      <td id=\"T_4e034_row9_col0\" class=\"data row9 col0\" >0.016585</td>\n",
              "    </tr>\n",
              "    <tr>\n",
              "      <th id=\"T_4e034_level0_row10\" class=\"row_heading level0 row10\" >A-15-GAS_FIN_23_diff</th>\n",
              "      <td id=\"T_4e034_row10_col0\" class=\"data row10 col0\" >0.013304</td>\n",
              "    </tr>\n",
              "    <tr>\n",
              "      <th id=\"T_4e034_level0_row11\" class=\"row_heading level0 row11\" >A-20-IMPUESTOS_23_diff</th>\n",
              "      <td id=\"T_4e034_row11_col0\" class=\"data row11 col0\" >0.011210</td>\n",
              "    </tr>\n",
              "    <tr>\n",
              "      <th id=\"T_4e034_level0_row12\" class=\"row_heading level0 row12\" >A-4-APROVISIONA_1</th>\n",
              "      <td id=\"T_4e034_row12_col0\" class=\"data row12 col0\" >0.009498</td>\n",
              "    </tr>\n",
              "    <tr>\n",
              "      <th id=\"T_4e034_level0_row13\" class=\"row_heading level0 row13\" >END_23_diff</th>\n",
              "      <td id=\"T_4e034_row13_col0\" class=\"data row13 col0\" >0.009411</td>\n",
              "    </tr>\n",
              "    <tr>\n",
              "      <th id=\"T_4e034_level0_row14\" class=\"row_heading level0 row14\" >A-8-AMORT_INM_1</th>\n",
              "      <td id=\"T_4e034_row14_col0\" class=\"data row14 col0\" >0.009392</td>\n",
              "    </tr>\n",
              "    <tr>\n",
              "      <th id=\"T_4e034_level0_row15\" class=\"row_heading level0 row15\" >B-VI-ACREE_COM_LP_23_diff</th>\n",
              "      <td id=\"T_4e034_row15_col0\" class=\"data row15 col0\" >0.009328</td>\n",
              "    </tr>\n",
              "    <tr>\n",
              "      <th id=\"T_4e034_level0_row16\" class=\"row_heading level0 row16\" >B-V-PER_LP_12_diff</th>\n",
              "      <td id=\"T_4e034_row16_col0\" class=\"data row16 col0\" >0.009230</td>\n",
              "    </tr>\n",
              "    <tr>\n",
              "      <th id=\"T_4e034_level0_row17\" class=\"row_heading level0 row17\" >A-20-IMPUESTOS_1</th>\n",
              "      <td id=\"T_4e034_row17_col0\" class=\"data row17 col0\" >0.009146</td>\n",
              "    </tr>\n",
              "    <tr>\n",
              "      <th id=\"T_4e034_level0_row18\" class=\"row_heading level0 row18\" >A-15-GAS_FIN_1</th>\n",
              "      <td id=\"T_4e034_row18_col0\" class=\"data row18 col0\" >0.009121</td>\n",
              "    </tr>\n",
              "    <tr>\n",
              "      <th id=\"T_4e034_level0_row19\" class=\"row_heading level0 row19\" >A-7-OTROSGASTOS_1</th>\n",
              "      <td id=\"T_4e034_row19_col0\" class=\"data row19 col0\" >0.008903</td>\n",
              "    </tr>\n",
              "    <tr>\n",
              "      <th id=\"T_4e034_level0_row20\" class=\"row_heading level0 row20\" >A-14-ING_FIN_23_diff</th>\n",
              "      <td id=\"T_4e034_row20_col0\" class=\"data row20 col0\" >0.008762</td>\n",
              "    </tr>\n",
              "    <tr>\n",
              "      <th id=\"T_4e034_level0_row21\" class=\"row_heading level0 row21\" >A-III-INV_INM_12_diff</th>\n",
              "      <td id=\"T_4e034_row21_col0\" class=\"data row21 col0\" >0.008615</td>\n",
              "    </tr>\n",
              "    <tr>\n",
              "      <th id=\"T_4e034_level0_row22\" class=\"row_heading level0 row22\" >B-II-DEU_LP_1</th>\n",
              "      <td id=\"T_4e034_row22_col0\" class=\"data row22 col0\" >0.008470</td>\n",
              "    </tr>\n",
              "    <tr>\n",
              "      <th id=\"T_4e034_level0_row23\" class=\"row_heading level0 row23\" >C-IV-DEU_GRU_CP_12_diff</th>\n",
              "      <td id=\"T_4e034_row23_col0\" class=\"data row23 col0\" >0.007841</td>\n",
              "    </tr>\n",
              "    <tr>\n",
              "      <th id=\"T_4e034_level0_row24\" class=\"row_heading level0 row24\" >CNAE</th>\n",
              "      <td id=\"T_4e034_row24_col0\" class=\"data row24 col0\" >0.007568</td>\n",
              "    </tr>\n",
              "    <tr>\n",
              "      <th id=\"T_4e034_level0_row25\" class=\"row_heading level0 row25\" >A-17-DIF_CAMBIO_1</th>\n",
              "      <td id=\"T_4e034_row25_col0\" class=\"data row25 col0\" >0.007464</td>\n",
              "    </tr>\n",
              "    <tr>\n",
              "      <th id=\"T_4e034_level0_row26\" class=\"row_heading level0 row26\" >B-III-DEU_COM_23_diff</th>\n",
              "      <td id=\"T_4e034_row26_col0\" class=\"data row26 col0\" >0.006936</td>\n",
              "    </tr>\n",
              "    <tr>\n",
              "      <th id=\"T_4e034_level0_row27\" class=\"row_heading level0 row27\" >EMP_23_diff</th>\n",
              "      <td id=\"T_4e034_row27_col0\" class=\"data row27 col0\" >0.006456</td>\n",
              "    </tr>\n",
              "    <tr>\n",
              "      <th id=\"T_4e034_level0_row28\" class=\"row_heading level0 row28\" >B-IV-DEU_COM_12_diff</th>\n",
              "      <td id=\"T_4e034_row28_col0\" class=\"data row28 col0\" >0.005079</td>\n",
              "    </tr>\n",
              "    <tr>\n",
              "      <th id=\"T_4e034_level0_row29\" class=\"row_heading level0 row29\" >A-6-GASTOSPERSONAL_1</th>\n",
              "      <td id=\"T_4e034_row29_col0\" class=\"data row29 col0\" >0.004792</td>\n",
              "    </tr>\n",
              "    <tr>\n",
              "      <th id=\"T_4e034_level0_row30\" class=\"row_heading level0 row30\" >AÑO CONCESION</th>\n",
              "      <td id=\"T_4e034_row30_col0\" class=\"data row30 col0\" >0.003977</td>\n",
              "    </tr>\n",
              "    <tr>\n",
              "      <th id=\"T_4e034_level0_row31\" class=\"row_heading level0 row31\" >Subvencion</th>\n",
              "      <td id=\"T_4e034_row31_col0\" class=\"data row31 col0\" >0.003957</td>\n",
              "    </tr>\n",
              "    <tr>\n",
              "      <th id=\"T_4e034_level0_row32\" class=\"row_heading level0 row32\" >EMP_1</th>\n",
              "      <td id=\"T_4e034_row32_col0\" class=\"data row32 col0\" >0.002432</td>\n",
              "    </tr>\n",
              "    <tr>\n",
              "      <th id=\"T_4e034_level0_row33\" class=\"row_heading level0 row33\" >A-PN-2_AJ_12_diff</th>\n",
              "      <td id=\"T_4e034_row33_col0\" class=\"data row33 col0\" >0.001781</td>\n",
              "    </tr>\n",
              "    <tr>\n",
              "      <th id=\"T_4e034_level0_row34\" class=\"row_heading level0 row34\" >A-13-OTROSRESULT_1</th>\n",
              "      <td id=\"T_4e034_row34_col0\" class=\"data row34 col0\" >0.001595</td>\n",
              "    </tr>\n",
              "    <tr>\n",
              "      <th id=\"T_4e034_level0_row35\" class=\"row_heading level0 row35\" >ROA_12_diff</th>\n",
              "      <td id=\"T_4e034_row35_col0\" class=\"data row35 col0\" >0.001423</td>\n",
              "    </tr>\n",
              "    <tr>\n",
              "      <th id=\"T_4e034_level0_row36\" class=\"row_heading level0 row36\" >B-III-DEU_GRU_LP_1</th>\n",
              "      <td id=\"T_4e034_row36_col0\" class=\"data row36 col0\" >0.001192</td>\n",
              "    </tr>\n",
              "    <tr>\n",
              "      <th id=\"T_4e034_level0_row37\" class=\"row_heading level0 row37\" >B-I-PROV_LP_12_diff</th>\n",
              "      <td id=\"T_4e034_row37_col0\" class=\"data row37 col0\" >0.001191</td>\n",
              "    </tr>\n",
              "    <tr>\n",
              "      <th id=\"T_4e034_level0_row38\" class=\"row_heading level0 row38\" >C-VI-PER_CP_23_diff</th>\n",
              "      <td id=\"T_4e034_row38_col0\" class=\"data row38 col0\" >0.000977</td>\n",
              "    </tr>\n",
              "    <tr>\n",
              "      <th id=\"T_4e034_level0_row39\" class=\"row_heading level0 row39\" >ROA_23_diff</th>\n",
              "      <td id=\"T_4e034_row39_col0\" class=\"data row39 col0\" >0.000928</td>\n",
              "    </tr>\n",
              "    <tr>\n",
              "      <th id=\"T_4e034_level0_row40\" class=\"row_heading level0 row40\" >C-II-PROV_CP_12_diff</th>\n",
              "      <td id=\"T_4e034_row40_col0\" class=\"data row40 col0\" >0.000635</td>\n",
              "    </tr>\n",
              "    <tr>\n",
              "      <th id=\"T_4e034_level0_row41\" class=\"row_heading level0 row41\" >A-PN-1_FP_23_diff</th>\n",
              "      <td id=\"T_4e034_row41_col0\" class=\"data row41 col0\" >-0.000128</td>\n",
              "    </tr>\n",
              "    <tr>\n",
              "      <th id=\"T_4e034_level0_row42\" class=\"row_heading level0 row42\" >codPostal</th>\n",
              "      <td id=\"T_4e034_row42_col0\" class=\"data row42 col0\" >-0.000194</td>\n",
              "    </tr>\n",
              "    <tr>\n",
              "      <th id=\"T_4e034_level0_row43\" class=\"row_heading level0 row43\" >B-II-EXISTENCIAS_23_diff</th>\n",
              "      <td id=\"T_4e034_row43_col0\" class=\"data row43 col0\" >-0.000229</td>\n",
              "    </tr>\n",
              "    <tr>\n",
              "      <th id=\"T_4e034_level0_row44\" class=\"row_heading level0 row44\" >A-17-DIF_CAMBIO_23_diff</th>\n",
              "      <td id=\"T_4e034_row44_col0\" class=\"data row44 col0\" >-0.000297</td>\n",
              "    </tr>\n",
              "    <tr>\n",
              "      <th id=\"T_4e034_level0_row45\" class=\"row_heading level0 row45\" >A-PN-2_AJ_1</th>\n",
              "      <td id=\"T_4e034_row45_col0\" class=\"data row45 col0\" >-0.000590</td>\n",
              "    </tr>\n",
              "    <tr>\n",
              "      <th id=\"T_4e034_level0_row46\" class=\"row_heading level0 row46\" >A-III-INV_INM_23_diff</th>\n",
              "      <td id=\"T_4e034_row46_col0\" class=\"data row46 col0\" >-0.000815</td>\n",
              "    </tr>\n",
              "    <tr>\n",
              "      <th id=\"T_4e034_level0_row47\" class=\"row_heading level0 row47\" >A-13-OTROSRESULT_12_diff</th>\n",
              "      <td id=\"T_4e034_row47_col0\" class=\"data row47 col0\" >-0.000838</td>\n",
              "    </tr>\n",
              "    <tr>\n",
              "      <th id=\"T_4e034_level0_row48\" class=\"row_heading level0 row48\" >B-I-PROV_LP_23_diff</th>\n",
              "      <td id=\"T_4e034_row48_col0\" class=\"data row48 col0\" >-0.001191</td>\n",
              "    </tr>\n",
              "    <tr>\n",
              "      <th id=\"T_4e034_level0_row49\" class=\"row_heading level0 row49\" >B-I-PROV_LP_1</th>\n",
              "      <td id=\"T_4e034_row49_col0\" class=\"data row49 col0\" >-0.001211</td>\n",
              "    </tr>\n",
              "    <tr>\n",
              "      <th id=\"T_4e034_level0_row50\" class=\"row_heading level0 row50\" >LIQ_1</th>\n",
              "      <td id=\"T_4e034_row50_col0\" class=\"data row50 col0\" >-0.001221</td>\n",
              "    </tr>\n",
              "    <tr>\n",
              "      <th id=\"T_4e034_level0_row51\" class=\"row_heading level0 row51\" >C-II-PROV_CP_23_diff</th>\n",
              "      <td id=\"T_4e034_row51_col0\" class=\"data row51 col0\" >-0.001406</td>\n",
              "    </tr>\n",
              "    <tr>\n",
              "      <th id=\"T_4e034_level0_row52\" class=\"row_heading level0 row52\" >A-5-OTROSINGRESOS_1</th>\n",
              "      <td id=\"T_4e034_row52_col0\" class=\"data row52 col0\" >-0.001566</td>\n",
              "    </tr>\n",
              "    <tr>\n",
              "      <th id=\"T_4e034_level0_row53\" class=\"row_heading level0 row53\" >C-VI-PER_CP_12_diff</th>\n",
              "      <td id=\"T_4e034_row53_col0\" class=\"data row53 col0\" >-0.001609</td>\n",
              "    </tr>\n",
              "    <tr>\n",
              "      <th id=\"T_4e034_level0_row54\" class=\"row_heading level0 row54\" >LIQ_23_diff</th>\n",
              "      <td id=\"T_4e034_row54_col0\" class=\"data row54 col0\" >-0.001628</td>\n",
              "    </tr>\n",
              "    <tr>\n",
              "      <th id=\"T_4e034_level0_row55\" class=\"row_heading level0 row55\" >B-III-DEU_GRU_LP_12_diff</th>\n",
              "      <td id=\"T_4e034_row55_col0\" class=\"data row55 col0\" >-0.001633</td>\n",
              "    </tr>\n",
              "    <tr>\n",
              "      <th id=\"T_4e034_level0_row56\" class=\"row_heading level0 row56\" >A-14-ING_FIN_12_diff</th>\n",
              "      <td id=\"T_4e034_row56_col0\" class=\"data row56 col0\" >-0.001801</td>\n",
              "    </tr>\n",
              "    <tr>\n",
              "      <th id=\"T_4e034_level0_row57\" class=\"row_heading level0 row57\" >A-II-INM_MAT_12_diff</th>\n",
              "      <td id=\"T_4e034_row57_col0\" class=\"data row57 col0\" >-0.002101</td>\n",
              "    </tr>\n",
              "    <tr>\n",
              "      <th id=\"T_4e034_level0_row58\" class=\"row_heading level0 row58\" >A-PN-2_AJ_23_diff</th>\n",
              "      <td id=\"T_4e034_row58_col0\" class=\"data row58 col0\" >-0.002470</td>\n",
              "    </tr>\n",
              "    <tr>\n",
              "      <th id=\"T_4e034_level0_row59\" class=\"row_heading level0 row59\" >A-1-VENTAS_23_diff</th>\n",
              "      <td id=\"T_4e034_row59_col0\" class=\"data row59 col0\" >-0.002481</td>\n",
              "    </tr>\n",
              "    <tr>\n",
              "      <th id=\"T_4e034_level0_row60\" class=\"row_heading level0 row60\" >B-II-EXISTENCIAS_1</th>\n",
              "      <td id=\"T_4e034_row60_col0\" class=\"data row60 col0\" >-0.002621</td>\n",
              "    </tr>\n",
              "    <tr>\n",
              "      <th id=\"T_4e034_level0_row61\" class=\"row_heading level0 row61\" >C-IV-DEU_GRU_CP_23_diff</th>\n",
              "      <td id=\"T_4e034_row61_col0\" class=\"data row61 col0\" >-0.002888</td>\n",
              "    </tr>\n",
              "    <tr>\n",
              "      <th id=\"T_4e034_level0_row62\" class=\"row_heading level0 row62\" >A-IV-INV_GRU_12_diff</th>\n",
              "      <td id=\"T_4e034_row62_col0\" class=\"data row62 col0\" >-0.002907</td>\n",
              "    </tr>\n",
              "    <tr>\n",
              "      <th id=\"T_4e034_level0_row63\" class=\"row_heading level0 row63\" >A-VII-DEU_COM_23_diff</th>\n",
              "      <td id=\"T_4e034_row63_col0\" class=\"data row63 col0\" >-0.002920</td>\n",
              "    </tr>\n",
              "    <tr>\n",
              "      <th id=\"T_4e034_level0_row64\" class=\"row_heading level0 row64\" >A-4-APROVISIONA_23_diff</th>\n",
              "      <td id=\"T_4e034_row64_col0\" class=\"data row64 col0\" >-0.002921</td>\n",
              "    </tr>\n",
              "    <tr>\n",
              "      <th id=\"T_4e034_level0_row65\" class=\"row_heading level0 row65\" >B-VII-EFECTIVO_23_diff</th>\n",
              "      <td id=\"T_4e034_row65_col0\" class=\"data row65 col0\" >-0.002962</td>\n",
              "    </tr>\n",
              "    <tr>\n",
              "      <th id=\"T_4e034_level0_row66\" class=\"row_heading level0 row66\" >A-VI-IMP_DIF_1</th>\n",
              "      <td id=\"T_4e034_row66_col0\" class=\"data row66 col0\" >-0.003060</td>\n",
              "    </tr>\n",
              "    <tr>\n",
              "      <th id=\"T_4e034_level0_row67\" class=\"row_heading level0 row67\" >END_1</th>\n",
              "      <td id=\"T_4e034_row67_col0\" class=\"data row67 col0\" >-0.003136</td>\n",
              "    </tr>\n",
              "    <tr>\n",
              "      <th id=\"T_4e034_level0_row68\" class=\"row_heading level0 row68\" >B-V-INV_FCP_23_diff</th>\n",
              "      <td id=\"T_4e034_row68_col0\" class=\"data row68 col0\" >-0.003171</td>\n",
              "    </tr>\n",
              "    <tr>\n",
              "      <th id=\"T_4e034_level0_row69\" class=\"row_heading level0 row69\" >A-IV-INV_GRU_23_diff</th>\n",
              "      <td id=\"T_4e034_row69_col0\" class=\"data row69 col0\" >-0.003308</td>\n",
              "    </tr>\n",
              "    <tr>\n",
              "      <th id=\"T_4e034_level0_row70\" class=\"row_heading level0 row70\" >A-7-OTROSGASTOS_23_diff</th>\n",
              "      <td id=\"T_4e034_row70_col0\" class=\"data row70 col0\" >-0.003462</td>\n",
              "    </tr>\n",
              "    <tr>\n",
              "      <th id=\"T_4e034_level0_row71\" class=\"row_heading level0 row71\" >A-PN-1_FP_12_diff</th>\n",
              "      <td id=\"T_4e034_row71_col0\" class=\"data row71 col0\" >-0.003735</td>\n",
              "    </tr>\n",
              "    <tr>\n",
              "      <th id=\"T_4e034_level0_row72\" class=\"row_heading level0 row72\" >C-V-ACREE_COM_CP_23_diff</th>\n",
              "      <td id=\"T_4e034_row72_col0\" class=\"data row72 col0\" >-0.003948</td>\n",
              "    </tr>\n",
              "    <tr>\n",
              "      <th id=\"T_4e034_level0_row73\" class=\"row_heading level0 row73\" >B-II-EXISTENCIAS_12_diff</th>\n",
              "      <td id=\"T_4e034_row73_col0\" class=\"data row73 col0\" >-0.003959</td>\n",
              "    </tr>\n",
              "    <tr>\n",
              "      <th id=\"T_4e034_level0_row74\" class=\"row_heading level0 row74\" >A-8-AMORT_INM_23_diff</th>\n",
              "      <td id=\"T_4e034_row74_col0\" class=\"data row74 col0\" >-0.004118</td>\n",
              "    </tr>\n",
              "    <tr>\n",
              "      <th id=\"T_4e034_level0_row75\" class=\"row_heading level0 row75\" >A-V-INV_FLP_12_diff</th>\n",
              "      <td id=\"T_4e034_row75_col0\" class=\"data row75 col0\" >-0.004203</td>\n",
              "    </tr>\n",
              "    <tr>\n",
              "      <th id=\"T_4e034_level0_row76\" class=\"row_heading level0 row76\" >A-V-INV_FLP_1</th>\n",
              "      <td id=\"T_4e034_row76_col0\" class=\"data row76 col0\" >-0.004306</td>\n",
              "    </tr>\n",
              "    <tr>\n",
              "      <th id=\"T_4e034_level0_row77\" class=\"row_heading level0 row77\" >A-I-INM_INT_12_diff</th>\n",
              "      <td id=\"T_4e034_row77_col0\" class=\"data row77 col0\" >-0.004385</td>\n",
              "    </tr>\n",
              "    <tr>\n",
              "      <th id=\"T_4e034_level0_row78\" class=\"row_heading level0 row78\" >A-6-GASTOSPERSONAL_23_diff</th>\n",
              "      <td id=\"T_4e034_row78_col0\" class=\"data row78 col0\" >-0.004392</td>\n",
              "    </tr>\n",
              "    <tr>\n",
              "      <th id=\"T_4e034_level0_row79\" class=\"row_heading level0 row79\" >A-8-AMORT_INM_12_diff</th>\n",
              "      <td id=\"T_4e034_row79_col0\" class=\"data row79 col0\" >-0.004545</td>\n",
              "    </tr>\n",
              "    <tr>\n",
              "      <th id=\"T_4e034_level0_row80\" class=\"row_heading level0 row80\" >CARGOS_ADMIN</th>\n",
              "      <td id=\"T_4e034_row80_col0\" class=\"data row80 col0\" >-0.004876</td>\n",
              "    </tr>\n",
              "    <tr>\n",
              "      <th id=\"T_4e034_level0_row81\" class=\"row_heading level0 row81\" >LIQ_12_diff</th>\n",
              "      <td id=\"T_4e034_row81_col0\" class=\"data row81 col0\" >-0.005260</td>\n",
              "    </tr>\n",
              "    <tr>\n",
              "      <th id=\"T_4e034_level0_row82\" class=\"row_heading level0 row82\" >A-14-ING_FIN_1</th>\n",
              "      <td id=\"T_4e034_row82_col0\" class=\"data row82 col0\" >-0.005373</td>\n",
              "    </tr>\n",
              "    <tr>\n",
              "      <th id=\"T_4e034_level0_row83\" class=\"row_heading level0 row83\" >B-II-DEU_LP_12_diff</th>\n",
              "      <td id=\"T_4e034_row83_col0\" class=\"data row83 col0\" >-0.005597</td>\n",
              "    </tr>\n",
              "    <tr>\n",
              "      <th id=\"T_4e034_level0_row84\" class=\"row_heading level0 row84\" >B-V-INV_FCP_1</th>\n",
              "      <td id=\"T_4e034_row84_col0\" class=\"data row84 col0\" >-0.005756</td>\n",
              "    </tr>\n",
              "    <tr>\n",
              "      <th id=\"T_4e034_level0_row85\" class=\"row_heading level0 row85\" >END_12_diff</th>\n",
              "      <td id=\"T_4e034_row85_col0\" class=\"data row85 col0\" >-0.005824</td>\n",
              "    </tr>\n",
              "    <tr>\n",
              "      <th id=\"T_4e034_level0_row86\" class=\"row_heading level0 row86\" >B-VI-PER_CP_1</th>\n",
              "      <td id=\"T_4e034_row86_col0\" class=\"data row86 col0\" >-0.006125</td>\n",
              "    </tr>\n",
              "    <tr>\n",
              "      <th id=\"T_4e034_level0_row87\" class=\"row_heading level0 row87\" >C-V-ACREE_COM_CP_12_diff</th>\n",
              "      <td id=\"T_4e034_row87_col0\" class=\"data row87 col0\" >-0.006267</td>\n",
              "    </tr>\n",
              "    <tr>\n",
              "      <th id=\"T_4e034_level0_row88\" class=\"row_heading level0 row88\" >A-4-APROVISIONA_12_diff</th>\n",
              "      <td id=\"T_4e034_row88_col0\" class=\"data row88 col0\" >-0.006529</td>\n",
              "    </tr>\n",
              "    <tr>\n",
              "      <th id=\"T_4e034_level0_row89\" class=\"row_heading level0 row89\" >C-II-PROV_CP_1</th>\n",
              "      <td id=\"T_4e034_row89_col0\" class=\"data row89 col0\" >-0.006611</td>\n",
              "    </tr>\n",
              "    <tr>\n",
              "      <th id=\"T_4e034_level0_row90\" class=\"row_heading level0 row90\" >B-IV-PAS_IMP_DIF_1</th>\n",
              "      <td id=\"T_4e034_row90_col0\" class=\"data row90 col0\" >-0.006643</td>\n",
              "    </tr>\n",
              "    <tr>\n",
              "      <th id=\"T_4e034_level0_row91\" class=\"row_heading level0 row91\" >IMPORTE NOMINAL</th>\n",
              "      <td id=\"T_4e034_row91_col0\" class=\"data row91 col0\" >-0.006809</td>\n",
              "    </tr>\n",
              "    <tr>\n",
              "      <th id=\"T_4e034_level0_row92\" class=\"row_heading level0 row92\" >A-7-OTROSGASTOS_12_diff</th>\n",
              "      <td id=\"T_4e034_row92_col0\" class=\"data row92 col0\" >-0.006987</td>\n",
              "    </tr>\n",
              "    <tr>\n",
              "      <th id=\"T_4e034_level0_row93\" class=\"row_heading level0 row93\" >A-5-OTROSINGRESOS_23_diff</th>\n",
              "      <td id=\"T_4e034_row93_col0\" class=\"data row93 col0\" >-0.007444</td>\n",
              "    </tr>\n",
              "    <tr>\n",
              "      <th id=\"T_4e034_level0_row94\" class=\"row_heading level0 row94\" >B-II-DEU_LP_23_diff</th>\n",
              "      <td id=\"T_4e034_row94_col0\" class=\"data row94 col0\" >-0.007895</td>\n",
              "    </tr>\n",
              "    <tr>\n",
              "      <th id=\"T_4e034_level0_row95\" class=\"row_heading level0 row95\" >A-PN-3_SUBV_12_diff</th>\n",
              "      <td id=\"T_4e034_row95_col0\" class=\"data row95 col0\" >-0.008066</td>\n",
              "    </tr>\n",
              "    <tr>\n",
              "      <th id=\"T_4e034_level0_row96\" class=\"row_heading level0 row96\" >B-IV-PAS_IMP_DIF_12_diff</th>\n",
              "      <td id=\"T_4e034_row96_col0\" class=\"data row96 col0\" >-0.008072</td>\n",
              "    </tr>\n",
              "    <tr>\n",
              "      <th id=\"T_4e034_level0_row97\" class=\"row_heading level0 row97\" >A-1-VENTAS_12_diff</th>\n",
              "      <td id=\"T_4e034_row97_col0\" class=\"data row97 col0\" >-0.008570</td>\n",
              "    </tr>\n",
              "    <tr>\n",
              "      <th id=\"T_4e034_level0_row98\" class=\"row_heading level0 row98\" >B-VII-EFECTIVO_12_diff</th>\n",
              "      <td id=\"T_4e034_row98_col0\" class=\"data row98 col0\" >-0.008849</td>\n",
              "    </tr>\n",
              "    <tr>\n",
              "      <th id=\"T_4e034_level0_row99\" class=\"row_heading level0 row99\" >B-VI-PER_CP_23_diff</th>\n",
              "      <td id=\"T_4e034_row99_col0\" class=\"data row99 col0\" >-0.008867</td>\n",
              "    </tr>\n",
              "    <tr>\n",
              "      <th id=\"T_4e034_level0_row100\" class=\"row_heading level0 row100\" >B-IV-PAS_IMP_DIF_23_diff</th>\n",
              "      <td id=\"T_4e034_row100_col0\" class=\"data row100 col0\" >-0.009035</td>\n",
              "    </tr>\n",
              "    <tr>\n",
              "      <th id=\"T_4e034_level0_row101\" class=\"row_heading level0 row101\" >A-I-INM_INT_1</th>\n",
              "      <td id=\"T_4e034_row101_col0\" class=\"data row101 col0\" >-0.009275</td>\n",
              "    </tr>\n",
              "    <tr>\n",
              "      <th id=\"T_4e034_level0_row102\" class=\"row_heading level0 row102\" >C-V-ACREE_COM_CP_1</th>\n",
              "      <td id=\"T_4e034_row102_col0\" class=\"data row102 col0\" >-0.009303</td>\n",
              "    </tr>\n",
              "    <tr>\n",
              "      <th id=\"T_4e034_level0_row103\" class=\"row_heading level0 row103\" >B-VI-ACREE_COM_LP_1</th>\n",
              "      <td id=\"T_4e034_row103_col0\" class=\"data row103 col0\" >-0.009328</td>\n",
              "    </tr>\n",
              "    <tr>\n",
              "      <th id=\"T_4e034_level0_row104\" class=\"row_heading level0 row104\" >B-VI-ACREE_COM_LP_12_diff</th>\n",
              "      <td id=\"T_4e034_row104_col0\" class=\"data row104 col0\" >-0.009328</td>\n",
              "    </tr>\n",
              "    <tr>\n",
              "      <th id=\"T_4e034_level0_row105\" class=\"row_heading level0 row105\" >B-V-PER_LP_23_diff</th>\n",
              "      <td id=\"T_4e034_row105_col0\" class=\"data row105 col0\" >-0.009329</td>\n",
              "    </tr>\n",
              "    <tr>\n",
              "      <th id=\"T_4e034_level0_row106\" class=\"row_heading level0 row106\" >A-PN-3_SUBV_1</th>\n",
              "      <td id=\"T_4e034_row106_col0\" class=\"data row106 col0\" >-0.009342</td>\n",
              "    </tr>\n",
              "    <tr>\n",
              "      <th id=\"T_4e034_level0_row107\" class=\"row_heading level0 row107\" >A-II-INM_MAT_1</th>\n",
              "      <td id=\"T_4e034_row107_col0\" class=\"data row107 col0\" >-0.009345</td>\n",
              "    </tr>\n",
              "    <tr>\n",
              "      <th id=\"T_4e034_level0_row108\" class=\"row_heading level0 row108\" >A-1-VENTAS_1</th>\n",
              "      <td id=\"T_4e034_row108_col0\" class=\"data row108 col0\" >-0.009353</td>\n",
              "    </tr>\n",
              "    <tr>\n",
              "      <th id=\"T_4e034_level0_row109\" class=\"row_heading level0 row109\" >C-III-DEU_CP_1</th>\n",
              "      <td id=\"T_4e034_row109_col0\" class=\"data row109 col0\" >-0.009366</td>\n",
              "    </tr>\n",
              "    <tr>\n",
              "      <th id=\"T_4e034_level0_row110\" class=\"row_heading level0 row110\" >C-IV-DEU_GRU_CP_1</th>\n",
              "      <td id=\"T_4e034_row110_col0\" class=\"data row110 col0\" >-0.009366</td>\n",
              "    </tr>\n",
              "    <tr>\n",
              "      <th id=\"T_4e034_level0_row111\" class=\"row_heading level0 row111\" >A-PN-1_FP_1</th>\n",
              "      <td id=\"T_4e034_row111_col0\" class=\"data row111 col0\" >-0.009381</td>\n",
              "    </tr>\n",
              "    <tr>\n",
              "      <th id=\"T_4e034_level0_row112\" class=\"row_heading level0 row112\" >B-V-PER_LP_1</th>\n",
              "      <td id=\"T_4e034_row112_col0\" class=\"data row112 col0\" >-0.009403</td>\n",
              "    </tr>\n",
              "    <tr>\n",
              "      <th id=\"T_4e034_level0_row113\" class=\"row_heading level0 row113\" >B-III-DEU_COM_1</th>\n",
              "      <td id=\"T_4e034_row113_col0\" class=\"data row113 col0\" >-0.009422</td>\n",
              "    </tr>\n",
              "    <tr>\n",
              "      <th id=\"T_4e034_level0_row114\" class=\"row_heading level0 row114\" >B-IV-DEU_COM_1</th>\n",
              "      <td id=\"T_4e034_row114_col0\" class=\"data row114 col0\" >-0.009458</td>\n",
              "    </tr>\n",
              "    <tr>\n",
              "      <th id=\"T_4e034_level0_row115\" class=\"row_heading level0 row115\" >A-III-INV_INM_1</th>\n",
              "      <td id=\"T_4e034_row115_col0\" class=\"data row115 col0\" >-0.009462</td>\n",
              "    </tr>\n",
              "    <tr>\n",
              "      <th id=\"T_4e034_level0_row116\" class=\"row_heading level0 row116\" >B-IV-DEU_COM_23_diff</th>\n",
              "      <td id=\"T_4e034_row116_col0\" class=\"data row116 col0\" >-0.009466</td>\n",
              "    </tr>\n",
              "    <tr>\n",
              "      <th id=\"T_4e034_level0_row117\" class=\"row_heading level0 row117\" >A-PN-3_SUBV_23_diff</th>\n",
              "      <td id=\"T_4e034_row117_col0\" class=\"data row117 col0\" >-0.009553</td>\n",
              "    </tr>\n",
              "    <tr>\n",
              "      <th id=\"T_4e034_level0_row118\" class=\"row_heading level0 row118\" >A-17-DIF_CAMBIO_12_diff</th>\n",
              "      <td id=\"T_4e034_row118_col0\" class=\"data row118 col0\" >-0.009575</td>\n",
              "    </tr>\n",
              "    <tr>\n",
              "      <th id=\"T_4e034_level0_row119\" class=\"row_heading level0 row119\" >C-VI-PER_CP_1</th>\n",
              "      <td id=\"T_4e034_row119_col0\" class=\"data row119 col0\" >-0.009620</td>\n",
              "    </tr>\n",
              "    <tr>\n",
              "      <th id=\"T_4e034_level0_row120\" class=\"row_heading level0 row120\" >A-IV-INV_GRU_1</th>\n",
              "      <td id=\"T_4e034_row120_col0\" class=\"data row120 col0\" >-0.009778</td>\n",
              "    </tr>\n",
              "    <tr>\n",
              "      <th id=\"T_4e034_level0_row121\" class=\"row_heading level0 row121\" >B-VI-PER_CP_12_diff</th>\n",
              "      <td id=\"T_4e034_row121_col0\" class=\"data row121 col0\" >-0.009870</td>\n",
              "    </tr>\n",
              "    <tr>\n",
              "      <th id=\"T_4e034_level0_row122\" class=\"row_heading level0 row122\" >B-V-INV_FCP_12_diff</th>\n",
              "      <td id=\"T_4e034_row122_col0\" class=\"data row122 col0\" >-0.009979</td>\n",
              "    </tr>\n",
              "    <tr>\n",
              "      <th id=\"T_4e034_level0_row123\" class=\"row_heading level0 row123\" >B-III-DEU_COM_12_diff</th>\n",
              "      <td id=\"T_4e034_row123_col0\" class=\"data row123 col0\" >-0.010375</td>\n",
              "    </tr>\n",
              "    <tr>\n",
              "      <th id=\"T_4e034_level0_row124\" class=\"row_heading level0 row124\" >C-III-DEU_CP_12_diff</th>\n",
              "      <td id=\"T_4e034_row124_col0\" class=\"data row124 col0\" >-0.010580</td>\n",
              "    </tr>\n",
              "    <tr>\n",
              "      <th id=\"T_4e034_level0_row125\" class=\"row_heading level0 row125\" >B-VII-EFECTIVO_1</th>\n",
              "      <td id=\"T_4e034_row125_col0\" class=\"data row125 col0\" >-0.011223</td>\n",
              "    </tr>\n",
              "    <tr>\n",
              "      <th id=\"T_4e034_level0_row126\" class=\"row_heading level0 row126\" >A-VI-IMP_DIF_23_diff</th>\n",
              "      <td id=\"T_4e034_row126_col0\" class=\"data row126 col0\" >-0.011367</td>\n",
              "    </tr>\n",
              "    <tr>\n",
              "      <th id=\"T_4e034_level0_row127\" class=\"row_heading level0 row127\" >A-6-GASTOSPERSONAL_12_diff</th>\n",
              "      <td id=\"T_4e034_row127_col0\" class=\"data row127 col0\" >-0.011624</td>\n",
              "    </tr>\n",
              "    <tr>\n",
              "      <th id=\"T_4e034_level0_row128\" class=\"row_heading level0 row128\" >A-VI-IMP_DIF_12_diff</th>\n",
              "      <td id=\"T_4e034_row128_col0\" class=\"data row128 col0\" >-0.011897</td>\n",
              "    </tr>\n",
              "    <tr>\n",
              "      <th id=\"T_4e034_level0_row129\" class=\"row_heading level0 row129\" >A-5-OTROSINGRESOS_12_diff</th>\n",
              "      <td id=\"T_4e034_row129_col0\" class=\"data row129 col0\" >-0.012424</td>\n",
              "    </tr>\n",
              "    <tr>\n",
              "      <th id=\"T_4e034_level0_row130\" class=\"row_heading level0 row130\" >ACC_EXTRAN</th>\n",
              "      <td id=\"T_4e034_row130_col0\" class=\"data row130 col0\" >-0.012818</td>\n",
              "    </tr>\n",
              "    <tr>\n",
              "      <th id=\"T_4e034_level0_row131\" class=\"row_heading level0 row131\" >A-13-OTROSRESULT_23_diff</th>\n",
              "      <td id=\"T_4e034_row131_col0\" class=\"data row131 col0\" >-0.014752</td>\n",
              "    </tr>\n",
              "    <tr>\n",
              "      <th id=\"T_4e034_level0_row132\" class=\"row_heading level0 row132\" >EMP_12_diff</th>\n",
              "      <td id=\"T_4e034_row132_col0\" class=\"data row132 col0\" >-0.021069</td>\n",
              "    </tr>\n",
              "    <tr>\n",
              "      <th id=\"T_4e034_level0_row133\" class=\"row_heading level0 row133\" >A-15-GAS_FIN_12_diff</th>\n",
              "      <td id=\"T_4e034_row133_col0\" class=\"data row133 col0\" >-0.022247</td>\n",
              "    </tr>\n",
              "    <tr>\n",
              "      <th id=\"T_4e034_level0_row134\" class=\"row_heading level0 row134\" >ACC_EMPRESA</th>\n",
              "      <td id=\"T_4e034_row134_col0\" class=\"data row134 col0\" >-0.023252</td>\n",
              "    </tr>\n",
              "    <tr>\n",
              "      <th id=\"T_4e034_level0_row135\" class=\"row_heading level0 row135\" >ID</th>\n",
              "      <td id=\"T_4e034_row135_col0\" class=\"data row135 col0\" >-0.027281</td>\n",
              "    </tr>\n",
              "    <tr>\n",
              "      <th id=\"T_4e034_level0_row136\" class=\"row_heading level0 row136\" >NUMACCIONISTAS</th>\n",
              "      <td id=\"T_4e034_row136_col0\" class=\"data row136 col0\" >-0.028653</td>\n",
              "    </tr>\n",
              "    <tr>\n",
              "      <th id=\"T_4e034_level0_row137\" class=\"row_heading level0 row137\" >ULT_ACTOMERCANTIL_Y</th>\n",
              "      <td id=\"T_4e034_row137_col0\" class=\"data row137 col0\" >-0.034593</td>\n",
              "    </tr>\n",
              "    <tr>\n",
              "      <th id=\"T_4e034_level0_row138\" class=\"row_heading level0 row138\" >Inicio Actividad</th>\n",
              "      <td id=\"T_4e034_row138_col0\" class=\"data row138 col0\" >-0.046759</td>\n",
              "    </tr>\n",
              "    <tr>\n",
              "      <th id=\"T_4e034_level0_row139\" class=\"row_heading level0 row139\" >A-VII-DEU_COM_1</th>\n",
              "      <td id=\"T_4e034_row139_col0\" class=\"data row139 col0\" >nan</td>\n",
              "    </tr>\n",
              "    <tr>\n",
              "      <th id=\"T_4e034_level0_row140\" class=\"row_heading level0 row140\" >B-VII-DEU_ESP_LP_1</th>\n",
              "      <td id=\"T_4e034_row140_col0\" class=\"data row140 col0\" >nan</td>\n",
              "    </tr>\n",
              "    <tr>\n",
              "      <th id=\"T_4e034_level0_row141\" class=\"row_heading level0 row141\" >C-I-PAS_VINACTNCVENTA_1</th>\n",
              "      <td id=\"T_4e034_row141_col0\" class=\"data row141 col0\" >nan</td>\n",
              "    </tr>\n",
              "    <tr>\n",
              "      <th id=\"T_4e034_level0_row142\" class=\"row_heading level0 row142\" >C-VII-DEU_ESP_CP_1</th>\n",
              "      <td id=\"T_4e034_row142_col0\" class=\"data row142 col0\" >nan</td>\n",
              "    </tr>\n",
              "    <tr>\n",
              "      <th id=\"T_4e034_level0_row143\" class=\"row_heading level0 row143\" >A-VII-DEU_COM_12_diff</th>\n",
              "      <td id=\"T_4e034_row143_col0\" class=\"data row143 col0\" >nan</td>\n",
              "    </tr>\n",
              "    <tr>\n",
              "      <th id=\"T_4e034_level0_row144\" class=\"row_heading level0 row144\" >B-VII-DEU_ESP_LP_12_diff</th>\n",
              "      <td id=\"T_4e034_row144_col0\" class=\"data row144 col0\" >nan</td>\n",
              "    </tr>\n",
              "    <tr>\n",
              "      <th id=\"T_4e034_level0_row145\" class=\"row_heading level0 row145\" >B-VII-DEU_ESP_LP_23_diff</th>\n",
              "      <td id=\"T_4e034_row145_col0\" class=\"data row145 col0\" >nan</td>\n",
              "    </tr>\n",
              "    <tr>\n",
              "      <th id=\"T_4e034_level0_row146\" class=\"row_heading level0 row146\" >C-I-PAS_VINACTNCVENTA_12_diff</th>\n",
              "      <td id=\"T_4e034_row146_col0\" class=\"data row146 col0\" >nan</td>\n",
              "    </tr>\n",
              "    <tr>\n",
              "      <th id=\"T_4e034_level0_row147\" class=\"row_heading level0 row147\" >C-I-PAS_VINACTNCVENTA_23_diff</th>\n",
              "      <td id=\"T_4e034_row147_col0\" class=\"data row147 col0\" >nan</td>\n",
              "    </tr>\n",
              "    <tr>\n",
              "      <th id=\"T_4e034_level0_row148\" class=\"row_heading level0 row148\" >C-VII-DEU_ESP_CP_12_diff</th>\n",
              "      <td id=\"T_4e034_row148_col0\" class=\"data row148 col0\" >nan</td>\n",
              "    </tr>\n",
              "    <tr>\n",
              "      <th id=\"T_4e034_level0_row149\" class=\"row_heading level0 row149\" >C-VII-DEU_ESP_CP_23_diff</th>\n",
              "      <td id=\"T_4e034_row149_col0\" class=\"data row149 col0\" >nan</td>\n",
              "    </tr>\n",
              "  </tbody>\n",
              "</table>\n"
            ]
          },
          "metadata": {},
          "execution_count": 23
        }
      ]
    },
    {
      "cell_type": "markdown",
      "source": [
        "###Startups de alto crecimiento"
      ],
      "metadata": {
        "id": "rfriHvkAPN5z"
      }
    },
    {
      "cell_type": "code",
      "source": [
        "alto_crec_num=alto_crec.select_dtypes(exclude='object')\n",
        "alto_crec_num.describe().T"
      ],
      "metadata": {
        "colab": {
          "base_uri": "https://localhost:8080/",
          "height": 563
        },
        "id": "rSAUtp4WPQJp",
        "outputId": "90ea4be6-2c2a-42cc-ed32-66f2666ff0a8"
      },
      "execution_count": null,
      "outputs": [
        {
          "output_type": "stream",
          "name": "stderr",
          "text": [
            "/usr/local/lib/python3.10/dist-packages/numpy/lib/function_base.py:4486: RuntimeWarning: invalid value encountered in subtract\n",
            "  diff_b_a = subtract(b, a)\n",
            "/usr/local/lib/python3.10/dist-packages/numpy/lib/function_base.py:4486: RuntimeWarning: invalid value encountered in subtract\n",
            "  diff_b_a = subtract(b, a)\n",
            "/usr/local/lib/python3.10/dist-packages/numpy/lib/function_base.py:4488: RuntimeWarning: invalid value encountered in add\n",
            "  lerp_interpolation = asanyarray(add(a, diff_b_a * t, out=out))\n",
            "/usr/local/lib/python3.10/dist-packages/numpy/lib/function_base.py:4486: RuntimeWarning: invalid value encountered in subtract\n",
            "  diff_b_a = subtract(b, a)\n"
          ]
        },
        {
          "output_type": "execute_result",
          "data": {
            "text/plain": [
              "                        count           mean          std       min       25%  \\\n",
              "ID                      231.0  113171.246753  6454.169952  100017.0  106711.0   \n",
              "CNAE                    231.0    5697.567100  1574.045462    2042.0    5915.0   \n",
              "ACC_EXTRAN              231.0       0.021645     0.145838       0.0       0.0   \n",
              "ACC_EMPRESA             231.0       0.445887     1.177827       0.0       0.0   \n",
              "NUMACCIONISTAS          231.0       1.069264     1.889205       0.0       0.0   \n",
              "...                       ...            ...          ...       ...       ...   \n",
              "ALTO_CRECIMIENTO_CALCU  231.0       1.000000     0.000000       1.0       1.0   \n",
              "GACELA_CALCU            231.0       0.043290     0.203951       0.0       0.0   \n",
              "MODELO_CALCU            231.0       1.000000     0.000000       1.0       1.0   \n",
              "Inicio Actividad        231.0    2016.108225     0.438844    2014.0    2016.0   \n",
              "ULT_ACTOMERCANTIL_Y     231.0    2020.164502     1.829408    2016.0    2019.0   \n",
              "\n",
              "                             50%       75%       max  \n",
              "ID                      113050.0  120636.0  121847.0  \n",
              "CNAE                      6201.0    6399.0    7490.0  \n",
              "ACC_EXTRAN                   0.0       0.0       1.0  \n",
              "ACC_EMPRESA                  0.0       0.0       8.0  \n",
              "NUMACCIONISTAS               1.0       1.0      11.0  \n",
              "...                          ...       ...       ...  \n",
              "ALTO_CRECIMIENTO_CALCU       1.0       1.0       1.0  \n",
              "GACELA_CALCU                 0.0       0.0       1.0  \n",
              "MODELO_CALCU                 1.0       1.0       1.0  \n",
              "Inicio Actividad          2016.0    2016.0    2017.0  \n",
              "ULT_ACTOMERCANTIL_Y       2021.0    2022.0    2022.0  \n",
              "\n",
              "[150 rows x 8 columns]"
            ],
            "text/html": [
              "\n",
              "  <div id=\"df-ae321af5-c8ff-4958-af3d-0754eb09f5e8\">\n",
              "    <div class=\"colab-df-container\">\n",
              "      <div>\n",
              "<style scoped>\n",
              "    .dataframe tbody tr th:only-of-type {\n",
              "        vertical-align: middle;\n",
              "    }\n",
              "\n",
              "    .dataframe tbody tr th {\n",
              "        vertical-align: top;\n",
              "    }\n",
              "\n",
              "    .dataframe thead th {\n",
              "        text-align: right;\n",
              "    }\n",
              "</style>\n",
              "<table border=\"1\" class=\"dataframe\">\n",
              "  <thead>\n",
              "    <tr style=\"text-align: right;\">\n",
              "      <th></th>\n",
              "      <th>count</th>\n",
              "      <th>mean</th>\n",
              "      <th>std</th>\n",
              "      <th>min</th>\n",
              "      <th>25%</th>\n",
              "      <th>50%</th>\n",
              "      <th>75%</th>\n",
              "      <th>max</th>\n",
              "    </tr>\n",
              "  </thead>\n",
              "  <tbody>\n",
              "    <tr>\n",
              "      <th>ID</th>\n",
              "      <td>231.0</td>\n",
              "      <td>113171.246753</td>\n",
              "      <td>6454.169952</td>\n",
              "      <td>100017.0</td>\n",
              "      <td>106711.0</td>\n",
              "      <td>113050.0</td>\n",
              "      <td>120636.0</td>\n",
              "      <td>121847.0</td>\n",
              "    </tr>\n",
              "    <tr>\n",
              "      <th>CNAE</th>\n",
              "      <td>231.0</td>\n",
              "      <td>5697.567100</td>\n",
              "      <td>1574.045462</td>\n",
              "      <td>2042.0</td>\n",
              "      <td>5915.0</td>\n",
              "      <td>6201.0</td>\n",
              "      <td>6399.0</td>\n",
              "      <td>7490.0</td>\n",
              "    </tr>\n",
              "    <tr>\n",
              "      <th>ACC_EXTRAN</th>\n",
              "      <td>231.0</td>\n",
              "      <td>0.021645</td>\n",
              "      <td>0.145838</td>\n",
              "      <td>0.0</td>\n",
              "      <td>0.0</td>\n",
              "      <td>0.0</td>\n",
              "      <td>0.0</td>\n",
              "      <td>1.0</td>\n",
              "    </tr>\n",
              "    <tr>\n",
              "      <th>ACC_EMPRESA</th>\n",
              "      <td>231.0</td>\n",
              "      <td>0.445887</td>\n",
              "      <td>1.177827</td>\n",
              "      <td>0.0</td>\n",
              "      <td>0.0</td>\n",
              "      <td>0.0</td>\n",
              "      <td>0.0</td>\n",
              "      <td>8.0</td>\n",
              "    </tr>\n",
              "    <tr>\n",
              "      <th>NUMACCIONISTAS</th>\n",
              "      <td>231.0</td>\n",
              "      <td>1.069264</td>\n",
              "      <td>1.889205</td>\n",
              "      <td>0.0</td>\n",
              "      <td>0.0</td>\n",
              "      <td>1.0</td>\n",
              "      <td>1.0</td>\n",
              "      <td>11.0</td>\n",
              "    </tr>\n",
              "    <tr>\n",
              "      <th>...</th>\n",
              "      <td>...</td>\n",
              "      <td>...</td>\n",
              "      <td>...</td>\n",
              "      <td>...</td>\n",
              "      <td>...</td>\n",
              "      <td>...</td>\n",
              "      <td>...</td>\n",
              "      <td>...</td>\n",
              "    </tr>\n",
              "    <tr>\n",
              "      <th>ALTO_CRECIMIENTO_CALCU</th>\n",
              "      <td>231.0</td>\n",
              "      <td>1.000000</td>\n",
              "      <td>0.000000</td>\n",
              "      <td>1.0</td>\n",
              "      <td>1.0</td>\n",
              "      <td>1.0</td>\n",
              "      <td>1.0</td>\n",
              "      <td>1.0</td>\n",
              "    </tr>\n",
              "    <tr>\n",
              "      <th>GACELA_CALCU</th>\n",
              "      <td>231.0</td>\n",
              "      <td>0.043290</td>\n",
              "      <td>0.203951</td>\n",
              "      <td>0.0</td>\n",
              "      <td>0.0</td>\n",
              "      <td>0.0</td>\n",
              "      <td>0.0</td>\n",
              "      <td>1.0</td>\n",
              "    </tr>\n",
              "    <tr>\n",
              "      <th>MODELO_CALCU</th>\n",
              "      <td>231.0</td>\n",
              "      <td>1.000000</td>\n",
              "      <td>0.000000</td>\n",
              "      <td>1.0</td>\n",
              "      <td>1.0</td>\n",
              "      <td>1.0</td>\n",
              "      <td>1.0</td>\n",
              "      <td>1.0</td>\n",
              "    </tr>\n",
              "    <tr>\n",
              "      <th>Inicio Actividad</th>\n",
              "      <td>231.0</td>\n",
              "      <td>2016.108225</td>\n",
              "      <td>0.438844</td>\n",
              "      <td>2014.0</td>\n",
              "      <td>2016.0</td>\n",
              "      <td>2016.0</td>\n",
              "      <td>2016.0</td>\n",
              "      <td>2017.0</td>\n",
              "    </tr>\n",
              "    <tr>\n",
              "      <th>ULT_ACTOMERCANTIL_Y</th>\n",
              "      <td>231.0</td>\n",
              "      <td>2020.164502</td>\n",
              "      <td>1.829408</td>\n",
              "      <td>2016.0</td>\n",
              "      <td>2019.0</td>\n",
              "      <td>2021.0</td>\n",
              "      <td>2022.0</td>\n",
              "      <td>2022.0</td>\n",
              "    </tr>\n",
              "  </tbody>\n",
              "</table>\n",
              "<p>150 rows × 8 columns</p>\n",
              "</div>\n",
              "      <button class=\"colab-df-convert\" onclick=\"convertToInteractive('df-ae321af5-c8ff-4958-af3d-0754eb09f5e8')\"\n",
              "              title=\"Convert this dataframe to an interactive table.\"\n",
              "              style=\"display:none;\">\n",
              "        \n",
              "  <svg xmlns=\"http://www.w3.org/2000/svg\" height=\"24px\"viewBox=\"0 0 24 24\"\n",
              "       width=\"24px\">\n",
              "    <path d=\"M0 0h24v24H0V0z\" fill=\"none\"/>\n",
              "    <path d=\"M18.56 5.44l.94 2.06.94-2.06 2.06-.94-2.06-.94-.94-2.06-.94 2.06-2.06.94zm-11 1L8.5 8.5l.94-2.06 2.06-.94-2.06-.94L8.5 2.5l-.94 2.06-2.06.94zm10 10l.94 2.06.94-2.06 2.06-.94-2.06-.94-.94-2.06-.94 2.06-2.06.94z\"/><path d=\"M17.41 7.96l-1.37-1.37c-.4-.4-.92-.59-1.43-.59-.52 0-1.04.2-1.43.59L10.3 9.45l-7.72 7.72c-.78.78-.78 2.05 0 2.83L4 21.41c.39.39.9.59 1.41.59.51 0 1.02-.2 1.41-.59l7.78-7.78 2.81-2.81c.8-.78.8-2.07 0-2.86zM5.41 20L4 18.59l7.72-7.72 1.47 1.35L5.41 20z\"/>\n",
              "  </svg>\n",
              "      </button>\n",
              "      \n",
              "  <style>\n",
              "    .colab-df-container {\n",
              "      display:flex;\n",
              "      flex-wrap:wrap;\n",
              "      gap: 12px;\n",
              "    }\n",
              "\n",
              "    .colab-df-convert {\n",
              "      background-color: #E8F0FE;\n",
              "      border: none;\n",
              "      border-radius: 50%;\n",
              "      cursor: pointer;\n",
              "      display: none;\n",
              "      fill: #1967D2;\n",
              "      height: 32px;\n",
              "      padding: 0 0 0 0;\n",
              "      width: 32px;\n",
              "    }\n",
              "\n",
              "    .colab-df-convert:hover {\n",
              "      background-color: #E2EBFA;\n",
              "      box-shadow: 0px 1px 2px rgba(60, 64, 67, 0.3), 0px 1px 3px 1px rgba(60, 64, 67, 0.15);\n",
              "      fill: #174EA6;\n",
              "    }\n",
              "\n",
              "    [theme=dark] .colab-df-convert {\n",
              "      background-color: #3B4455;\n",
              "      fill: #D2E3FC;\n",
              "    }\n",
              "\n",
              "    [theme=dark] .colab-df-convert:hover {\n",
              "      background-color: #434B5C;\n",
              "      box-shadow: 0px 1px 3px 1px rgba(0, 0, 0, 0.15);\n",
              "      filter: drop-shadow(0px 1px 2px rgba(0, 0, 0, 0.3));\n",
              "      fill: #FFFFFF;\n",
              "    }\n",
              "  </style>\n",
              "\n",
              "      <script>\n",
              "        const buttonEl =\n",
              "          document.querySelector('#df-ae321af5-c8ff-4958-af3d-0754eb09f5e8 button.colab-df-convert');\n",
              "        buttonEl.style.display =\n",
              "          google.colab.kernel.accessAllowed ? 'block' : 'none';\n",
              "\n",
              "        async function convertToInteractive(key) {\n",
              "          const element = document.querySelector('#df-ae321af5-c8ff-4958-af3d-0754eb09f5e8');\n",
              "          const dataTable =\n",
              "            await google.colab.kernel.invokeFunction('convertToInteractive',\n",
              "                                                     [key], {});\n",
              "          if (!dataTable) return;\n",
              "\n",
              "          const docLinkHtml = 'Like what you see? Visit the ' +\n",
              "            '<a target=\"_blank\" href=https://colab.research.google.com/notebooks/data_table.ipynb>data table notebook</a>'\n",
              "            + ' to learn more about interactive tables.';\n",
              "          element.innerHTML = '';\n",
              "          dataTable['output_type'] = 'display_data';\n",
              "          await google.colab.output.renderOutput(dataTable, element);\n",
              "          const docLink = document.createElement('div');\n",
              "          docLink.innerHTML = docLinkHtml;\n",
              "          element.appendChild(docLink);\n",
              "        }\n",
              "      </script>\n",
              "    </div>\n",
              "  </div>\n",
              "  "
            ]
          },
          "metadata": {},
          "execution_count": 24
        }
      ]
    },
    {
      "cell_type": "markdown",
      "source": [
        "Como hay demasiadas columnas, no se puede ver nada con claridad, por lo que vamos a quedarnos solo con las de mayor correlación"
      ],
      "metadata": {
        "id": "F5t-csaQPT60"
      }
    },
    {
      "cell_type": "code",
      "source": [
        "corr_altoCrec = data2.corr(method='pearson')\n",
        "corr_altoCrec[['ALTO_CRECIMIENTO_CALCU']].sort_values(by = 'ALTO_CRECIMIENTO_CALCU',ascending = False)\\\n",
        ".style.background_gradient()"
      ],
      "metadata": {
        "colab": {
          "base_uri": "https://localhost:8080/",
          "height": 1000
        },
        "id": "vekqC9bXPW8a",
        "outputId": "f2f5c456-1259-4885-a018-44d011d0a652"
      },
      "execution_count": null,
      "outputs": [
        {
          "output_type": "stream",
          "name": "stderr",
          "text": [
            "<ipython-input-25-8e12d02be368>:1: FutureWarning: The default value of numeric_only in DataFrame.corr is deprecated. In a future version, it will default to False. Select only valid columns or specify the value of numeric_only to silence this warning.\n",
            "  corr_altoCrec = data2.corr(method='pearson')\n"
          ]
        },
        {
          "output_type": "execute_result",
          "data": {
            "text/plain": [
              "<pandas.io.formats.style.Styler at 0x7f40eb5f5510>"
            ],
            "text/html": [
              "<style type=\"text/css\">\n",
              "#T_79c39_row0_col0 {\n",
              "  background-color: #023858;\n",
              "  color: #f1f1f1;\n",
              "}\n",
              "#T_79c39_row1_col0 {\n",
              "  background-color: #8eb3d5;\n",
              "  color: #000000;\n",
              "}\n",
              "#T_79c39_row2_col0 {\n",
              "  background-color: #9ab8d8;\n",
              "  color: #000000;\n",
              "}\n",
              "#T_79c39_row3_col0 {\n",
              "  background-color: #afc1dd;\n",
              "  color: #000000;\n",
              "}\n",
              "#T_79c39_row4_col0 {\n",
              "  background-color: #b8c6e0;\n",
              "  color: #000000;\n",
              "}\n",
              "#T_79c39_row5_col0 {\n",
              "  background-color: #bbc7e0;\n",
              "  color: #000000;\n",
              "}\n",
              "#T_79c39_row6_col0 {\n",
              "  background-color: #c8cde4;\n",
              "  color: #000000;\n",
              "}\n",
              "#T_79c39_row7_col0 {\n",
              "  background-color: #cacee5;\n",
              "  color: #000000;\n",
              "}\n",
              "#T_79c39_row8_col0 {\n",
              "  background-color: #cdd0e5;\n",
              "  color: #000000;\n",
              "}\n",
              "#T_79c39_row9_col0 {\n",
              "  background-color: #ced0e6;\n",
              "  color: #000000;\n",
              "}\n",
              "#T_79c39_row10_col0, #T_79c39_row11_col0 {\n",
              "  background-color: #d1d2e6;\n",
              "  color: #000000;\n",
              "}\n",
              "#T_79c39_row12_col0, #T_79c39_row13_col0, #T_79c39_row14_col0 {\n",
              "  background-color: #d2d3e7;\n",
              "  color: #000000;\n",
              "}\n",
              "#T_79c39_row15_col0, #T_79c39_row16_col0 {\n",
              "  background-color: #d3d4e7;\n",
              "  color: #000000;\n",
              "}\n",
              "#T_79c39_row17_col0, #T_79c39_row18_col0 {\n",
              "  background-color: #d4d4e8;\n",
              "  color: #000000;\n",
              "}\n",
              "#T_79c39_row19_col0, #T_79c39_row20_col0, #T_79c39_row21_col0, #T_79c39_row22_col0, #T_79c39_row23_col0 {\n",
              "  background-color: #d5d5e8;\n",
              "  color: #000000;\n",
              "}\n",
              "#T_79c39_row24_col0, #T_79c39_row25_col0, #T_79c39_row26_col0 {\n",
              "  background-color: #d6d6e9;\n",
              "  color: #000000;\n",
              "}\n",
              "#T_79c39_row27_col0, #T_79c39_row28_col0, #T_79c39_row29_col0 {\n",
              "  background-color: #d7d6e9;\n",
              "  color: #000000;\n",
              "}\n",
              "#T_79c39_row30_col0 {\n",
              "  background-color: #d8d7e9;\n",
              "  color: #000000;\n",
              "}\n",
              "#T_79c39_row31_col0, #T_79c39_row32_col0, #T_79c39_row33_col0, #T_79c39_row34_col0, #T_79c39_row35_col0, #T_79c39_row36_col0 {\n",
              "  background-color: #d9d8ea;\n",
              "  color: #000000;\n",
              "}\n",
              "#T_79c39_row37_col0, #T_79c39_row38_col0, #T_79c39_row39_col0, #T_79c39_row40_col0, #T_79c39_row41_col0 {\n",
              "  background-color: #dad9ea;\n",
              "  color: #000000;\n",
              "}\n",
              "#T_79c39_row42_col0, #T_79c39_row43_col0, #T_79c39_row44_col0 {\n",
              "  background-color: #dbdaeb;\n",
              "  color: #000000;\n",
              "}\n",
              "#T_79c39_row45_col0, #T_79c39_row46_col0, #T_79c39_row47_col0 {\n",
              "  background-color: #dcdaeb;\n",
              "  color: #000000;\n",
              "}\n",
              "#T_79c39_row48_col0, #T_79c39_row49_col0, #T_79c39_row50_col0, #T_79c39_row51_col0, #T_79c39_row52_col0 {\n",
              "  background-color: #dddbec;\n",
              "  color: #000000;\n",
              "}\n",
              "#T_79c39_row53_col0, #T_79c39_row54_col0, #T_79c39_row55_col0, #T_79c39_row56_col0, #T_79c39_row57_col0 {\n",
              "  background-color: #dedcec;\n",
              "  color: #000000;\n",
              "}\n",
              "#T_79c39_row58_col0, #T_79c39_row59_col0, #T_79c39_row60_col0, #T_79c39_row61_col0, #T_79c39_row62_col0, #T_79c39_row63_col0, #T_79c39_row64_col0, #T_79c39_row65_col0, #T_79c39_row66_col0, #T_79c39_row67_col0 {\n",
              "  background-color: #dfddec;\n",
              "  color: #000000;\n",
              "}\n",
              "#T_79c39_row68_col0, #T_79c39_row69_col0, #T_79c39_row70_col0, #T_79c39_row71_col0, #T_79c39_row72_col0, #T_79c39_row73_col0, #T_79c39_row74_col0, #T_79c39_row75_col0, #T_79c39_row76_col0, #T_79c39_row77_col0, #T_79c39_row78_col0 {\n",
              "  background-color: #e0dded;\n",
              "  color: #000000;\n",
              "}\n",
              "#T_79c39_row79_col0, #T_79c39_row80_col0, #T_79c39_row81_col0, #T_79c39_row82_col0, #T_79c39_row83_col0, #T_79c39_row84_col0, #T_79c39_row85_col0, #T_79c39_row86_col0, #T_79c39_row87_col0, #T_79c39_row88_col0, #T_79c39_row89_col0, #T_79c39_row90_col0, #T_79c39_row91_col0, #T_79c39_row92_col0, #T_79c39_row93_col0, #T_79c39_row94_col0 {\n",
              "  background-color: #e0deed;\n",
              "  color: #000000;\n",
              "}\n",
              "#T_79c39_row95_col0, #T_79c39_row96_col0, #T_79c39_row97_col0 {\n",
              "  background-color: #e1dfed;\n",
              "  color: #000000;\n",
              "}\n",
              "#T_79c39_row98_col0, #T_79c39_row99_col0, #T_79c39_row100_col0 {\n",
              "  background-color: #e2dfee;\n",
              "  color: #000000;\n",
              "}\n",
              "#T_79c39_row101_col0, #T_79c39_row102_col0, #T_79c39_row103_col0, #T_79c39_row104_col0, #T_79c39_row105_col0, #T_79c39_row106_col0, #T_79c39_row107_col0, #T_79c39_row108_col0 {\n",
              "  background-color: #e3e0ee;\n",
              "  color: #000000;\n",
              "}\n",
              "#T_79c39_row109_col0 {\n",
              "  background-color: #e4e1ef;\n",
              "  color: #000000;\n",
              "}\n",
              "#T_79c39_row110_col0, #T_79c39_row111_col0, #T_79c39_row112_col0, #T_79c39_row113_col0 {\n",
              "  background-color: #e5e1ef;\n",
              "  color: #000000;\n",
              "}\n",
              "#T_79c39_row114_col0 {\n",
              "  background-color: #e6e2ef;\n",
              "  color: #000000;\n",
              "}\n",
              "#T_79c39_row115_col0, #T_79c39_row116_col0, #T_79c39_row117_col0, #T_79c39_row118_col0, #T_79c39_row119_col0, #T_79c39_row120_col0, #T_79c39_row121_col0, #T_79c39_row122_col0, #T_79c39_row123_col0, #T_79c39_row124_col0, #T_79c39_row125_col0, #T_79c39_row126_col0, #T_79c39_row127_col0, #T_79c39_row128_col0, #T_79c39_row129_col0, #T_79c39_row130_col0, #T_79c39_row131_col0, #T_79c39_row132_col0, #T_79c39_row133_col0, #T_79c39_row134_col0, #T_79c39_row135_col0, #T_79c39_row136_col0 {\n",
              "  background-color: #e7e3f0;\n",
              "  color: #000000;\n",
              "}\n",
              "#T_79c39_row137_col0 {\n",
              "  background-color: #e8e4f0;\n",
              "  color: #000000;\n",
              "}\n",
              "#T_79c39_row138_col0 {\n",
              "  background-color: #fff7fb;\n",
              "  color: #000000;\n",
              "}\n",
              "#T_79c39_row139_col0, #T_79c39_row140_col0, #T_79c39_row141_col0, #T_79c39_row142_col0, #T_79c39_row143_col0, #T_79c39_row144_col0, #T_79c39_row145_col0, #T_79c39_row146_col0, #T_79c39_row147_col0, #T_79c39_row148_col0, #T_79c39_row149_col0 {\n",
              "  background-color: #000000;\n",
              "  color: #f1f1f1;\n",
              "}\n",
              "</style>\n",
              "<table id=\"T_79c39\" class=\"dataframe\">\n",
              "  <thead>\n",
              "    <tr>\n",
              "      <th class=\"blank level0\" >&nbsp;</th>\n",
              "      <th id=\"T_79c39_level0_col0\" class=\"col_heading level0 col0\" >ALTO_CRECIMIENTO_CALCU</th>\n",
              "    </tr>\n",
              "  </thead>\n",
              "  <tbody>\n",
              "    <tr>\n",
              "      <th id=\"T_79c39_level0_row0\" class=\"row_heading level0 row0\" >ALTO_CRECIMIENTO_CALCU</th>\n",
              "      <td id=\"T_79c39_row0_col0\" class=\"data row0 col0\" >1.000000</td>\n",
              "    </tr>\n",
              "    <tr>\n",
              "      <th id=\"T_79c39_level0_row1\" class=\"row_heading level0 row1\" >MODELO_CALCU</th>\n",
              "      <td id=\"T_79c39_row1_col0\" class=\"data row1 col0\" >0.303835</td>\n",
              "    </tr>\n",
              "    <tr>\n",
              "      <th id=\"T_79c39_level0_row2\" class=\"row_heading level0 row2\" >EMP_23_diff</th>\n",
              "      <td id=\"T_79c39_row2_col0\" class=\"data row2 col0\" >0.264721</td>\n",
              "    </tr>\n",
              "    <tr>\n",
              "      <th id=\"T_79c39_level0_row3\" class=\"row_heading level0 row3\" >GACELA_CALCU</th>\n",
              "      <td id=\"T_79c39_row3_col0\" class=\"data row3 col0\" >0.199201</td>\n",
              "    </tr>\n",
              "    <tr>\n",
              "      <th id=\"T_79c39_level0_row4\" class=\"row_heading level0 row4\" >A-15-GAS_FIN_12_diff</th>\n",
              "      <td id=\"T_79c39_row4_col0\" class=\"data row4 col0\" >0.163558</td>\n",
              "    </tr>\n",
              "    <tr>\n",
              "      <th id=\"T_79c39_level0_row5\" class=\"row_heading level0 row5\" >C-VI-PER_CP_23_diff</th>\n",
              "      <td id=\"T_79c39_row5_col0\" class=\"data row5 col0\" >0.152744</td>\n",
              "    </tr>\n",
              "    <tr>\n",
              "      <th id=\"T_79c39_level0_row6\" class=\"row_heading level0 row6\" >B-II-EXISTENCIAS_12_diff</th>\n",
              "      <td id=\"T_79c39_row6_col0\" class=\"data row6 col0\" >0.106126</td>\n",
              "    </tr>\n",
              "    <tr>\n",
              "      <th id=\"T_79c39_level0_row7\" class=\"row_heading level0 row7\" >EMP_12_diff</th>\n",
              "      <td id=\"T_79c39_row7_col0\" class=\"data row7 col0\" >0.099106</td>\n",
              "    </tr>\n",
              "    <tr>\n",
              "      <th id=\"T_79c39_level0_row8\" class=\"row_heading level0 row8\" >B-III-DEU_COM_23_diff</th>\n",
              "      <td id=\"T_79c39_row8_col0\" class=\"data row8 col0\" >0.087560</td>\n",
              "    </tr>\n",
              "    <tr>\n",
              "      <th id=\"T_79c39_level0_row9\" class=\"row_heading level0 row9\" >ID</th>\n",
              "      <td id=\"T_79c39_row9_col0\" class=\"data row9 col0\" >0.081657</td>\n",
              "    </tr>\n",
              "    <tr>\n",
              "      <th id=\"T_79c39_level0_row10\" class=\"row_heading level0 row10\" >END_23_diff</th>\n",
              "      <td id=\"T_79c39_row10_col0\" class=\"data row10 col0\" >0.074213</td>\n",
              "    </tr>\n",
              "    <tr>\n",
              "      <th id=\"T_79c39_level0_row11\" class=\"row_heading level0 row11\" >A-V-INV_FLP_23_diff</th>\n",
              "      <td id=\"T_79c39_row11_col0\" class=\"data row11 col0\" >0.072746</td>\n",
              "    </tr>\n",
              "    <tr>\n",
              "      <th id=\"T_79c39_level0_row12\" class=\"row_heading level0 row12\" >ULT_ACTOMERCANTIL_Y</th>\n",
              "      <td id=\"T_79c39_row12_col0\" class=\"data row12 col0\" >0.065368</td>\n",
              "    </tr>\n",
              "    <tr>\n",
              "      <th id=\"T_79c39_level0_row13\" class=\"row_heading level0 row13\" >A-6-GASTOSPERSONAL_23_diff</th>\n",
              "      <td id=\"T_79c39_row13_col0\" class=\"data row13 col0\" >0.064500</td>\n",
              "    </tr>\n",
              "    <tr>\n",
              "      <th id=\"T_79c39_level0_row14\" class=\"row_heading level0 row14\" >A-15-GAS_FIN_23_diff</th>\n",
              "      <td id=\"T_79c39_row14_col0\" class=\"data row14 col0\" >0.061376</td>\n",
              "    </tr>\n",
              "    <tr>\n",
              "      <th id=\"T_79c39_level0_row15\" class=\"row_heading level0 row15\" >A-6-GASTOSPERSONAL_12_diff</th>\n",
              "      <td id=\"T_79c39_row15_col0\" class=\"data row15 col0\" >0.059943</td>\n",
              "    </tr>\n",
              "    <tr>\n",
              "      <th id=\"T_79c39_level0_row16\" class=\"row_heading level0 row16\" >B-III-DEU_GRU_LP_12_diff</th>\n",
              "      <td id=\"T_79c39_row16_col0\" class=\"data row16 col0\" >0.059715</td>\n",
              "    </tr>\n",
              "    <tr>\n",
              "      <th id=\"T_79c39_level0_row17\" class=\"row_heading level0 row17\" >A-I-INM_INT_23_diff</th>\n",
              "      <td id=\"T_79c39_row17_col0\" class=\"data row17 col0\" >0.052508</td>\n",
              "    </tr>\n",
              "    <tr>\n",
              "      <th id=\"T_79c39_level0_row18\" class=\"row_heading level0 row18\" >A-15-GAS_FIN_1</th>\n",
              "      <td id=\"T_79c39_row18_col0\" class=\"data row18 col0\" >0.052310</td>\n",
              "    </tr>\n",
              "    <tr>\n",
              "      <th id=\"T_79c39_level0_row19\" class=\"row_heading level0 row19\" >A-7-OTROSGASTOS_1</th>\n",
              "      <td id=\"T_79c39_row19_col0\" class=\"data row19 col0\" >0.050353</td>\n",
              "    </tr>\n",
              "    <tr>\n",
              "      <th id=\"T_79c39_level0_row20\" class=\"row_heading level0 row20\" >A-4-APROVISIONA_1</th>\n",
              "      <td id=\"T_79c39_row20_col0\" class=\"data row20 col0\" >0.049247</td>\n",
              "    </tr>\n",
              "    <tr>\n",
              "      <th id=\"T_79c39_level0_row21\" class=\"row_heading level0 row21\" >A-8-AMORT_INM_1</th>\n",
              "      <td id=\"T_79c39_row21_col0\" class=\"data row21 col0\" >0.047188</td>\n",
              "    </tr>\n",
              "    <tr>\n",
              "      <th id=\"T_79c39_level0_row22\" class=\"row_heading level0 row22\" >A-20-IMPUESTOS_1</th>\n",
              "      <td id=\"T_79c39_row22_col0\" class=\"data row22 col0\" >0.046852</td>\n",
              "    </tr>\n",
              "    <tr>\n",
              "      <th id=\"T_79c39_level0_row23\" class=\"row_heading level0 row23\" >B-VI-ACREE_COM_LP_23_diff</th>\n",
              "      <td id=\"T_79c39_row23_col0\" class=\"data row23 col0\" >0.046828</td>\n",
              "    </tr>\n",
              "    <tr>\n",
              "      <th id=\"T_79c39_level0_row24\" class=\"row_heading level0 row24\" >B-V-PER_LP_12_diff</th>\n",
              "      <td id=\"T_79c39_row24_col0\" class=\"data row24 col0\" >0.046335</td>\n",
              "    </tr>\n",
              "    <tr>\n",
              "      <th id=\"T_79c39_level0_row25\" class=\"row_heading level0 row25\" >A-III-INV_INM_12_diff</th>\n",
              "      <td id=\"T_79c39_row25_col0\" class=\"data row25 col0\" >0.043248</td>\n",
              "    </tr>\n",
              "    <tr>\n",
              "      <th id=\"T_79c39_level0_row26\" class=\"row_heading level0 row26\" >C-III-DEU_CP_23_diff</th>\n",
              "      <td id=\"T_79c39_row26_col0\" class=\"data row26 col0\" >0.042958</td>\n",
              "    </tr>\n",
              "    <tr>\n",
              "      <th id=\"T_79c39_level0_row27\" class=\"row_heading level0 row27\" >A-17-DIF_CAMBIO_1</th>\n",
              "      <td id=\"T_79c39_row27_col0\" class=\"data row27 col0\" >0.039176</td>\n",
              "    </tr>\n",
              "    <tr>\n",
              "      <th id=\"T_79c39_level0_row28\" class=\"row_heading level0 row28\" >A-6-GASTOSPERSONAL_1</th>\n",
              "      <td id=\"T_79c39_row28_col0\" class=\"data row28 col0\" >0.038318</td>\n",
              "    </tr>\n",
              "    <tr>\n",
              "      <th id=\"T_79c39_level0_row29\" class=\"row_heading level0 row29\" >codPostal</th>\n",
              "      <td id=\"T_79c39_row29_col0\" class=\"data row29 col0\" >0.037758</td>\n",
              "    </tr>\n",
              "    <tr>\n",
              "      <th id=\"T_79c39_level0_row30\" class=\"row_heading level0 row30\" >A-20-IMPUESTOS_12_diff</th>\n",
              "      <td id=\"T_79c39_row30_col0\" class=\"data row30 col0\" >0.035728</td>\n",
              "    </tr>\n",
              "    <tr>\n",
              "      <th id=\"T_79c39_level0_row31\" class=\"row_heading level0 row31\" >CNAE</th>\n",
              "      <td id=\"T_79c39_row31_col0\" class=\"data row31 col0\" >0.032071</td>\n",
              "    </tr>\n",
              "    <tr>\n",
              "      <th id=\"T_79c39_level0_row32\" class=\"row_heading level0 row32\" >A-13-OTROSRESULT_1</th>\n",
              "      <td id=\"T_79c39_row32_col0\" class=\"data row32 col0\" >0.028689</td>\n",
              "    </tr>\n",
              "    <tr>\n",
              "      <th id=\"T_79c39_level0_row33\" class=\"row_heading level0 row33\" >A-PN-1_FP_12_diff</th>\n",
              "      <td id=\"T_79c39_row33_col0\" class=\"data row33 col0\" >0.026180</td>\n",
              "    </tr>\n",
              "    <tr>\n",
              "      <th id=\"T_79c39_level0_row34\" class=\"row_heading level0 row34\" >B-IV-DEU_COM_12_diff</th>\n",
              "      <td id=\"T_79c39_row34_col0\" class=\"data row34 col0\" >0.025495</td>\n",
              "    </tr>\n",
              "    <tr>\n",
              "      <th id=\"T_79c39_level0_row35\" class=\"row_heading level0 row35\" >C-V-ACREE_COM_CP_23_diff</th>\n",
              "      <td id=\"T_79c39_row35_col0\" class=\"data row35 col0\" >0.025039</td>\n",
              "    </tr>\n",
              "    <tr>\n",
              "      <th id=\"T_79c39_level0_row36\" class=\"row_heading level0 row36\" >A-IV-INV_GRU_12_diff</th>\n",
              "      <td id=\"T_79c39_row36_col0\" class=\"data row36 col0\" >0.023726</td>\n",
              "    </tr>\n",
              "    <tr>\n",
              "      <th id=\"T_79c39_level0_row37\" class=\"row_heading level0 row37\" >B-V-INV_FCP_12_diff</th>\n",
              "      <td id=\"T_79c39_row37_col0\" class=\"data row37 col0\" >0.022216</td>\n",
              "    </tr>\n",
              "    <tr>\n",
              "      <th id=\"T_79c39_level0_row38\" class=\"row_heading level0 row38\" >AÑO CONCESION</th>\n",
              "      <td id=\"T_79c39_row38_col0\" class=\"data row38 col0\" >0.020287</td>\n",
              "    </tr>\n",
              "    <tr>\n",
              "      <th id=\"T_79c39_level0_row39\" class=\"row_heading level0 row39\" >Subvencion</th>\n",
              "      <td id=\"T_79c39_row39_col0\" class=\"data row39 col0\" >0.019864</td>\n",
              "    </tr>\n",
              "    <tr>\n",
              "      <th id=\"T_79c39_level0_row40\" class=\"row_heading level0 row40\" >A-VI-IMP_DIF_12_diff</th>\n",
              "      <td id=\"T_79c39_row40_col0\" class=\"data row40 col0\" >0.019678</td>\n",
              "    </tr>\n",
              "    <tr>\n",
              "      <th id=\"T_79c39_level0_row41\" class=\"row_heading level0 row41\" >B-VII-EFECTIVO_23_diff</th>\n",
              "      <td id=\"T_79c39_row41_col0\" class=\"data row41 col0\" >0.019264</td>\n",
              "    </tr>\n",
              "    <tr>\n",
              "      <th id=\"T_79c39_level0_row42\" class=\"row_heading level0 row42\" >B-II-EXISTENCIAS_23_diff</th>\n",
              "      <td id=\"T_79c39_row42_col0\" class=\"data row42 col0\" >0.016966</td>\n",
              "    </tr>\n",
              "    <tr>\n",
              "      <th id=\"T_79c39_level0_row43\" class=\"row_heading level0 row43\" >A-5-OTROSINGRESOS_23_diff</th>\n",
              "      <td id=\"T_79c39_row43_col0\" class=\"data row43 col0\" >0.015051</td>\n",
              "    </tr>\n",
              "    <tr>\n",
              "      <th id=\"T_79c39_level0_row44\" class=\"row_heading level0 row44\" >NUMACCIONISTAS</th>\n",
              "      <td id=\"T_79c39_row44_col0\" class=\"data row44 col0\" >0.014161</td>\n",
              "    </tr>\n",
              "    <tr>\n",
              "      <th id=\"T_79c39_level0_row45\" class=\"row_heading level0 row45\" >A-II-INM_MAT_23_diff</th>\n",
              "      <td id=\"T_79c39_row45_col0\" class=\"data row45 col0\" >0.010401</td>\n",
              "    </tr>\n",
              "    <tr>\n",
              "      <th id=\"T_79c39_level0_row46\" class=\"row_heading level0 row46\" >A-PN-2_AJ_12_diff</th>\n",
              "      <td id=\"T_79c39_row46_col0\" class=\"data row46 col0\" >0.008942</td>\n",
              "    </tr>\n",
              "    <tr>\n",
              "      <th id=\"T_79c39_level0_row47\" class=\"row_heading level0 row47\" >ROA_23_diff</th>\n",
              "      <td id=\"T_79c39_row47_col0\" class=\"data row47 col0\" >0.008614</td>\n",
              "    </tr>\n",
              "    <tr>\n",
              "      <th id=\"T_79c39_level0_row48\" class=\"row_heading level0 row48\" >ROA_12_diff</th>\n",
              "      <td id=\"T_79c39_row48_col0\" class=\"data row48 col0\" >0.006490</td>\n",
              "    </tr>\n",
              "    <tr>\n",
              "      <th id=\"T_79c39_level0_row49\" class=\"row_heading level0 row49\" >B-I-PROV_LP_12_diff</th>\n",
              "      <td id=\"T_79c39_row49_col0\" class=\"data row49 col0\" >0.005978</td>\n",
              "    </tr>\n",
              "    <tr>\n",
              "      <th id=\"T_79c39_level0_row50\" class=\"row_heading level0 row50\" >A-8-AMORT_INM_23_diff</th>\n",
              "      <td id=\"T_79c39_row50_col0\" class=\"data row50 col0\" >0.005104</td>\n",
              "    </tr>\n",
              "    <tr>\n",
              "      <th id=\"T_79c39_level0_row51\" class=\"row_heading level0 row51\" >B-V-INV_FCP_23_diff</th>\n",
              "      <td id=\"T_79c39_row51_col0\" class=\"data row51 col0\" >0.004270</td>\n",
              "    </tr>\n",
              "    <tr>\n",
              "      <th id=\"T_79c39_level0_row52\" class=\"row_heading level0 row52\" >B-II-DEU_LP_12_diff</th>\n",
              "      <td id=\"T_79c39_row52_col0\" class=\"data row52 col0\" >0.004235</td>\n",
              "    </tr>\n",
              "    <tr>\n",
              "      <th id=\"T_79c39_level0_row53\" class=\"row_heading level0 row53\" >A-1-VENTAS_12_diff</th>\n",
              "      <td id=\"T_79c39_row53_col0\" class=\"data row53 col0\" >0.002527</td>\n",
              "    </tr>\n",
              "    <tr>\n",
              "      <th id=\"T_79c39_level0_row54\" class=\"row_heading level0 row54\" >A-20-IMPUESTOS_23_diff</th>\n",
              "      <td id=\"T_79c39_row54_col0\" class=\"data row54 col0\" >0.002333</td>\n",
              "    </tr>\n",
              "    <tr>\n",
              "      <th id=\"T_79c39_level0_row55\" class=\"row_heading level0 row55\" >END_1</th>\n",
              "      <td id=\"T_79c39_row55_col0\" class=\"data row55 col0\" >0.001794</td>\n",
              "    </tr>\n",
              "    <tr>\n",
              "      <th id=\"T_79c39_level0_row56\" class=\"row_heading level0 row56\" >C-VI-PER_CP_12_diff</th>\n",
              "      <td id=\"T_79c39_row56_col0\" class=\"data row56 col0\" >0.000492</td>\n",
              "    </tr>\n",
              "    <tr>\n",
              "      <th id=\"T_79c39_level0_row57\" class=\"row_heading level0 row57\" >A-4-APROVISIONA_12_diff</th>\n",
              "      <td id=\"T_79c39_row57_col0\" class=\"data row57 col0\" >0.000385</td>\n",
              "    </tr>\n",
              "    <tr>\n",
              "      <th id=\"T_79c39_level0_row58\" class=\"row_heading level0 row58\" >A-13-OTROSRESULT_23_diff</th>\n",
              "      <td id=\"T_79c39_row58_col0\" class=\"data row58 col0\" >-0.001875</td>\n",
              "    </tr>\n",
              "    <tr>\n",
              "      <th id=\"T_79c39_level0_row59\" class=\"row_heading level0 row59\" >A-PN-2_AJ_1</th>\n",
              "      <td id=\"T_79c39_row59_col0\" class=\"data row59 col0\" >-0.002962</td>\n",
              "    </tr>\n",
              "    <tr>\n",
              "      <th id=\"T_79c39_level0_row60\" class=\"row_heading level0 row60\" >A-13-OTROSRESULT_12_diff</th>\n",
              "      <td id=\"T_79c39_row60_col0\" class=\"data row60 col0\" >-0.003971</td>\n",
              "    </tr>\n",
              "    <tr>\n",
              "      <th id=\"T_79c39_level0_row61\" class=\"row_heading level0 row61\" >A-III-INV_INM_23_diff</th>\n",
              "      <td id=\"T_79c39_row61_col0\" class=\"data row61 col0\" >-0.004090</td>\n",
              "    </tr>\n",
              "    <tr>\n",
              "      <th id=\"T_79c39_level0_row62\" class=\"row_heading level0 row62\" >ACC_EMPRESA</th>\n",
              "      <td id=\"T_79c39_row62_col0\" class=\"data row62 col0\" >-0.004216</td>\n",
              "    </tr>\n",
              "    <tr>\n",
              "      <th id=\"T_79c39_level0_row63\" class=\"row_heading level0 row63\" >LIQ_12_diff</th>\n",
              "      <td id=\"T_79c39_row63_col0\" class=\"data row63 col0\" >-0.004445</td>\n",
              "    </tr>\n",
              "    <tr>\n",
              "      <th id=\"T_79c39_level0_row64\" class=\"row_heading level0 row64\" >A-7-OTROSGASTOS_12_diff</th>\n",
              "      <td id=\"T_79c39_row64_col0\" class=\"data row64 col0\" >-0.005666</td>\n",
              "    </tr>\n",
              "    <tr>\n",
              "      <th id=\"T_79c39_level0_row65\" class=\"row_heading level0 row65\" >B-I-PROV_LP_23_diff</th>\n",
              "      <td id=\"T_79c39_row65_col0\" class=\"data row65 col0\" >-0.005978</td>\n",
              "    </tr>\n",
              "    <tr>\n",
              "      <th id=\"T_79c39_level0_row66\" class=\"row_heading level0 row66\" >LIQ_1</th>\n",
              "      <td id=\"T_79c39_row66_col0\" class=\"data row66 col0\" >-0.006058</td>\n",
              "    </tr>\n",
              "    <tr>\n",
              "      <th id=\"T_79c39_level0_row67\" class=\"row_heading level0 row67\" >B-I-PROV_LP_1</th>\n",
              "      <td id=\"T_79c39_row67_col0\" class=\"data row67 col0\" >-0.006079</td>\n",
              "    </tr>\n",
              "    <tr>\n",
              "      <th id=\"T_79c39_level0_row68\" class=\"row_heading level0 row68\" >A-1-VENTAS_23_diff</th>\n",
              "      <td id=\"T_79c39_row68_col0\" class=\"data row68 col0\" >-0.006386</td>\n",
              "    </tr>\n",
              "    <tr>\n",
              "      <th id=\"T_79c39_level0_row69\" class=\"row_heading level0 row69\" >A-7-OTROSGASTOS_23_diff</th>\n",
              "      <td id=\"T_79c39_row69_col0\" class=\"data row69 col0\" >-0.006688</td>\n",
              "    </tr>\n",
              "    <tr>\n",
              "      <th id=\"T_79c39_level0_row70\" class=\"row_heading level0 row70\" >B-II-DEU_LP_23_diff</th>\n",
              "      <td id=\"T_79c39_row70_col0\" class=\"data row70 col0\" >-0.006709</td>\n",
              "    </tr>\n",
              "    <tr>\n",
              "      <th id=\"T_79c39_level0_row71\" class=\"row_heading level0 row71\" >C-II-PROV_CP_12_diff</th>\n",
              "      <td id=\"T_79c39_row71_col0\" class=\"data row71 col0\" >-0.007063</td>\n",
              "    </tr>\n",
              "    <tr>\n",
              "      <th id=\"T_79c39_level0_row72\" class=\"row_heading level0 row72\" >LIQ_23_diff</th>\n",
              "      <td id=\"T_79c39_row72_col0\" class=\"data row72 col0\" >-0.007280</td>\n",
              "    </tr>\n",
              "    <tr>\n",
              "      <th id=\"T_79c39_level0_row73\" class=\"row_heading level0 row73\" >B-III-DEU_GRU_LP_23_diff</th>\n",
              "      <td id=\"T_79c39_row73_col0\" class=\"data row73 col0\" >-0.007652</td>\n",
              "    </tr>\n",
              "    <tr>\n",
              "      <th id=\"T_79c39_level0_row74\" class=\"row_heading level0 row74\" >C-II-PROV_CP_23_diff</th>\n",
              "      <td id=\"T_79c39_row74_col0\" class=\"data row74 col0\" >-0.007812</td>\n",
              "    </tr>\n",
              "    <tr>\n",
              "      <th id=\"T_79c39_level0_row75\" class=\"row_heading level0 row75\" >C-V-ACREE_COM_CP_12_diff</th>\n",
              "      <td id=\"T_79c39_row75_col0\" class=\"data row75 col0\" >-0.007864</td>\n",
              "    </tr>\n",
              "    <tr>\n",
              "      <th id=\"T_79c39_level0_row76\" class=\"row_heading level0 row76\" >A-17-DIF_CAMBIO_12_diff</th>\n",
              "      <td id=\"T_79c39_row76_col0\" class=\"data row76 col0\" >-0.008488</td>\n",
              "    </tr>\n",
              "    <tr>\n",
              "      <th id=\"T_79c39_level0_row77\" class=\"row_heading level0 row77\" >B-III-DEU_COM_12_diff</th>\n",
              "      <td id=\"T_79c39_row77_col0\" class=\"data row77 col0\" >-0.008637</td>\n",
              "    </tr>\n",
              "    <tr>\n",
              "      <th id=\"T_79c39_level0_row78\" class=\"row_heading level0 row78\" >CARGOS_ADMIN</th>\n",
              "      <td id=\"T_79c39_row78_col0\" class=\"data row78 col0\" >-0.009138</td>\n",
              "    </tr>\n",
              "    <tr>\n",
              "      <th id=\"T_79c39_level0_row79\" class=\"row_heading level0 row79\" >C-IV-DEU_GRU_CP_23_diff</th>\n",
              "      <td id=\"T_79c39_row79_col0\" class=\"data row79 col0\" >-0.011120</td>\n",
              "    </tr>\n",
              "    <tr>\n",
              "      <th id=\"T_79c39_level0_row80\" class=\"row_heading level0 row80\" >B-III-DEU_GRU_LP_1</th>\n",
              "      <td id=\"T_79c39_row80_col0\" class=\"data row80 col0\" >-0.011186</td>\n",
              "    </tr>\n",
              "    <tr>\n",
              "      <th id=\"T_79c39_level0_row81\" class=\"row_heading level0 row81\" >A-14-ING_FIN_12_diff</th>\n",
              "      <td id=\"T_79c39_row81_col0\" class=\"data row81 col0\" >-0.011362</td>\n",
              "    </tr>\n",
              "    <tr>\n",
              "      <th id=\"T_79c39_level0_row82\" class=\"row_heading level0 row82\" >B-VII-EFECTIVO_12_diff</th>\n",
              "      <td id=\"T_79c39_row82_col0\" class=\"data row82 col0\" >-0.011474</td>\n",
              "    </tr>\n",
              "    <tr>\n",
              "      <th id=\"T_79c39_level0_row83\" class=\"row_heading level0 row83\" >A-PN-2_AJ_23_diff</th>\n",
              "      <td id=\"T_79c39_row83_col0\" class=\"data row83 col0\" >-0.012397</td>\n",
              "    </tr>\n",
              "    <tr>\n",
              "      <th id=\"T_79c39_level0_row84\" class=\"row_heading level0 row84\" >A-VI-IMP_DIF_1</th>\n",
              "      <td id=\"T_79c39_row84_col0\" class=\"data row84 col0\" >-0.012749</td>\n",
              "    </tr>\n",
              "    <tr>\n",
              "      <th id=\"T_79c39_level0_row85\" class=\"row_heading level0 row85\" >A-4-APROVISIONA_23_diff</th>\n",
              "      <td id=\"T_79c39_row85_col0\" class=\"data row85 col0\" >-0.012782</td>\n",
              "    </tr>\n",
              "    <tr>\n",
              "      <th id=\"T_79c39_level0_row86\" class=\"row_heading level0 row86\" >A-14-ING_FIN_23_diff</th>\n",
              "      <td id=\"T_79c39_row86_col0\" class=\"data row86 col0\" >-0.012842</td>\n",
              "    </tr>\n",
              "    <tr>\n",
              "      <th id=\"T_79c39_level0_row87\" class=\"row_heading level0 row87\" >A-I-INM_INT_12_diff</th>\n",
              "      <td id=\"T_79c39_row87_col0\" class=\"data row87 col0\" >-0.013643</td>\n",
              "    </tr>\n",
              "    <tr>\n",
              "      <th id=\"T_79c39_level0_row88\" class=\"row_heading level0 row88\" >A-17-DIF_CAMBIO_23_diff</th>\n",
              "      <td id=\"T_79c39_row88_col0\" class=\"data row88 col0\" >-0.013895</td>\n",
              "    </tr>\n",
              "    <tr>\n",
              "      <th id=\"T_79c39_level0_row89\" class=\"row_heading level0 row89\" >ROA_1</th>\n",
              "      <td id=\"T_79c39_row89_col0\" class=\"data row89 col0\" >-0.014215</td>\n",
              "    </tr>\n",
              "    <tr>\n",
              "      <th id=\"T_79c39_level0_row90\" class=\"row_heading level0 row90\" >A-8-AMORT_INM_12_diff</th>\n",
              "      <td id=\"T_79c39_row90_col0\" class=\"data row90 col0\" >-0.014253</td>\n",
              "    </tr>\n",
              "    <tr>\n",
              "      <th id=\"T_79c39_level0_row91\" class=\"row_heading level0 row91\" >IMPORTE NOMINAL</th>\n",
              "      <td id=\"T_79c39_row91_col0\" class=\"data row91 col0\" >-0.014569</td>\n",
              "    </tr>\n",
              "    <tr>\n",
              "      <th id=\"T_79c39_level0_row92\" class=\"row_heading level0 row92\" >A-VII-DEU_COM_23_diff</th>\n",
              "      <td id=\"T_79c39_row92_col0\" class=\"data row92 col0\" >-0.014657</td>\n",
              "    </tr>\n",
              "    <tr>\n",
              "      <th id=\"T_79c39_level0_row93\" class=\"row_heading level0 row93\" >A-V-INV_FLP_12_diff</th>\n",
              "      <td id=\"T_79c39_row93_col0\" class=\"data row93 col0\" >-0.014839</td>\n",
              "    </tr>\n",
              "    <tr>\n",
              "      <th id=\"T_79c39_level0_row94\" class=\"row_heading level0 row94\" >C-IV-DEU_GRU_CP_12_diff</th>\n",
              "      <td id=\"T_79c39_row94_col0\" class=\"data row94 col0\" >-0.015344</td>\n",
              "    </tr>\n",
              "    <tr>\n",
              "      <th id=\"T_79c39_level0_row95\" class=\"row_heading level0 row95\" >A-IV-INV_GRU_23_diff</th>\n",
              "      <td id=\"T_79c39_row95_col0\" class=\"data row95 col0\" >-0.016385</td>\n",
              "    </tr>\n",
              "    <tr>\n",
              "      <th id=\"T_79c39_level0_row96\" class=\"row_heading level0 row96\" >A-PN-1_FP_23_diff</th>\n",
              "      <td id=\"T_79c39_row96_col0\" class=\"data row96 col0\" >-0.017643</td>\n",
              "    </tr>\n",
              "    <tr>\n",
              "      <th id=\"T_79c39_level0_row97\" class=\"row_heading level0 row97\" >C-II-PROV_CP_1</th>\n",
              "      <td id=\"T_79c39_row97_col0\" class=\"data row97 col0\" >-0.017970</td>\n",
              "    </tr>\n",
              "    <tr>\n",
              "      <th id=\"T_79c39_level0_row98\" class=\"row_heading level0 row98\" >A-5-OTROSINGRESOS_1</th>\n",
              "      <td id=\"T_79c39_row98_col0\" class=\"data row98 col0\" >-0.020727</td>\n",
              "    </tr>\n",
              "    <tr>\n",
              "      <th id=\"T_79c39_level0_row99\" class=\"row_heading level0 row99\" >A-VI-IMP_DIF_23_diff</th>\n",
              "      <td id=\"T_79c39_row99_col0\" class=\"data row99 col0\" >-0.022296</td>\n",
              "    </tr>\n",
              "    <tr>\n",
              "      <th id=\"T_79c39_level0_row100\" class=\"row_heading level0 row100\" >B-II-EXISTENCIAS_1</th>\n",
              "      <td id=\"T_79c39_row100_col0\" class=\"data row100 col0\" >-0.025416</td>\n",
              "    </tr>\n",
              "    <tr>\n",
              "      <th id=\"T_79c39_level0_row101\" class=\"row_heading level0 row101\" >B-IV-PAS_IMP_DIF_23_diff</th>\n",
              "      <td id=\"T_79c39_row101_col0\" class=\"data row101 col0\" >-0.025675</td>\n",
              "    </tr>\n",
              "    <tr>\n",
              "      <th id=\"T_79c39_level0_row102\" class=\"row_heading level0 row102\" >A-V-INV_FLP_1</th>\n",
              "      <td id=\"T_79c39_row102_col0\" class=\"data row102 col0\" >-0.025774</td>\n",
              "    </tr>\n",
              "    <tr>\n",
              "      <th id=\"T_79c39_level0_row103\" class=\"row_heading level0 row103\" >A-14-ING_FIN_1</th>\n",
              "      <td id=\"T_79c39_row103_col0\" class=\"data row103 col0\" >-0.026968</td>\n",
              "    </tr>\n",
              "    <tr>\n",
              "      <th id=\"T_79c39_level0_row104\" class=\"row_heading level0 row104\" >END_12_diff</th>\n",
              "      <td id=\"T_79c39_row104_col0\" class=\"data row104 col0\" >-0.027435</td>\n",
              "    </tr>\n",
              "    <tr>\n",
              "      <th id=\"T_79c39_level0_row105\" class=\"row_heading level0 row105\" >A-II-INM_MAT_12_diff</th>\n",
              "      <td id=\"T_79c39_row105_col0\" class=\"data row105 col0\" >-0.027749</td>\n",
              "    </tr>\n",
              "    <tr>\n",
              "      <th id=\"T_79c39_level0_row106\" class=\"row_heading level0 row106\" >B-II-DEU_LP_1</th>\n",
              "      <td id=\"T_79c39_row106_col0\" class=\"data row106 col0\" >-0.028305</td>\n",
              "    </tr>\n",
              "    <tr>\n",
              "      <th id=\"T_79c39_level0_row107\" class=\"row_heading level0 row107\" >C-III-DEU_CP_12_diff</th>\n",
              "      <td id=\"T_79c39_row107_col0\" class=\"data row107 col0\" >-0.029788</td>\n",
              "    </tr>\n",
              "    <tr>\n",
              "      <th id=\"T_79c39_level0_row108\" class=\"row_heading level0 row108\" >B-VI-PER_CP_1</th>\n",
              "      <td id=\"T_79c39_row108_col0\" class=\"data row108 col0\" >-0.029993</td>\n",
              "    </tr>\n",
              "    <tr>\n",
              "      <th id=\"T_79c39_level0_row109\" class=\"row_heading level0 row109\" >B-IV-PAS_IMP_DIF_1</th>\n",
              "      <td id=\"T_79c39_row109_col0\" class=\"data row109 col0\" >-0.032789</td>\n",
              "    </tr>\n",
              "    <tr>\n",
              "      <th id=\"T_79c39_level0_row110\" class=\"row_heading level0 row110\" >A-PN-3_SUBV_23_diff</th>\n",
              "      <td id=\"T_79c39_row110_col0\" class=\"data row110 col0\" >-0.035588</td>\n",
              "    </tr>\n",
              "    <tr>\n",
              "      <th id=\"T_79c39_level0_row111\" class=\"row_heading level0 row111\" >B-IV-PAS_IMP_DIF_12_diff</th>\n",
              "      <td id=\"T_79c39_row111_col0\" class=\"data row111 col0\" >-0.035966</td>\n",
              "    </tr>\n",
              "    <tr>\n",
              "      <th id=\"T_79c39_level0_row112\" class=\"row_heading level0 row112\" >A-PN-3_SUBV_12_diff</th>\n",
              "      <td id=\"T_79c39_row112_col0\" class=\"data row112 col0\" >-0.037503</td>\n",
              "    </tr>\n",
              "    <tr>\n",
              "      <th id=\"T_79c39_level0_row113\" class=\"row_heading level0 row113\" >ACC_EXTRAN</th>\n",
              "      <td id=\"T_79c39_row113_col0\" class=\"data row113 col0\" >-0.038062</td>\n",
              "    </tr>\n",
              "    <tr>\n",
              "      <th id=\"T_79c39_level0_row114\" class=\"row_heading level0 row114\" >EMP_1</th>\n",
              "      <td id=\"T_79c39_row114_col0\" class=\"data row114 col0\" >-0.040545</td>\n",
              "    </tr>\n",
              "    <tr>\n",
              "      <th id=\"T_79c39_level0_row115\" class=\"row_heading level0 row115\" >B-VI-PER_CP_12_diff</th>\n",
              "      <td id=\"T_79c39_row115_col0\" class=\"data row115 col0\" >-0.044938</td>\n",
              "    </tr>\n",
              "    <tr>\n",
              "      <th id=\"T_79c39_level0_row116\" class=\"row_heading level0 row116\" >A-PN-3_SUBV_1</th>\n",
              "      <td id=\"T_79c39_row116_col0\" class=\"data row116 col0\" >-0.045237</td>\n",
              "    </tr>\n",
              "    <tr>\n",
              "      <th id=\"T_79c39_level0_row117\" class=\"row_heading level0 row117\" >B-VI-ACREE_COM_LP_12_diff</th>\n",
              "      <td id=\"T_79c39_row117_col0\" class=\"data row117 col0\" >-0.046828</td>\n",
              "    </tr>\n",
              "    <tr>\n",
              "      <th id=\"T_79c39_level0_row118\" class=\"row_heading level0 row118\" >B-VI-ACREE_COM_LP_1</th>\n",
              "      <td id=\"T_79c39_row118_col0\" class=\"data row118 col0\" >-0.046828</td>\n",
              "    </tr>\n",
              "    <tr>\n",
              "      <th id=\"T_79c39_level0_row119\" class=\"row_heading level0 row119\" >B-V-PER_LP_23_diff</th>\n",
              "      <td id=\"T_79c39_row119_col0\" class=\"data row119 col0\" >-0.046830</td>\n",
              "    </tr>\n",
              "    <tr>\n",
              "      <th id=\"T_79c39_level0_row120\" class=\"row_heading level0 row120\" >A-II-INM_MAT_1</th>\n",
              "      <td id=\"T_79c39_row120_col0\" class=\"data row120 col0\" >-0.046995</td>\n",
              "    </tr>\n",
              "    <tr>\n",
              "      <th id=\"T_79c39_level0_row121\" class=\"row_heading level0 row121\" >C-IV-DEU_GRU_CP_1</th>\n",
              "      <td id=\"T_79c39_row121_col0\" class=\"data row121 col0\" >-0.047057</td>\n",
              "    </tr>\n",
              "    <tr>\n",
              "      <th id=\"T_79c39_level0_row122\" class=\"row_heading level0 row122\" >A-PN-1_FP_1</th>\n",
              "      <td id=\"T_79c39_row122_col0\" class=\"data row122 col0\" >-0.047200</td>\n",
              "    </tr>\n",
              "    <tr>\n",
              "      <th id=\"T_79c39_level0_row123\" class=\"row_heading level0 row123\" >B-V-PER_LP_1</th>\n",
              "      <td id=\"T_79c39_row123_col0\" class=\"data row123 col0\" >-0.047203</td>\n",
              "    </tr>\n",
              "    <tr>\n",
              "      <th id=\"T_79c39_level0_row124\" class=\"row_heading level0 row124\" >C-III-DEU_CP_1</th>\n",
              "      <td id=\"T_79c39_row124_col0\" class=\"data row124 col0\" >-0.047302</td>\n",
              "    </tr>\n",
              "    <tr>\n",
              "      <th id=\"T_79c39_level0_row125\" class=\"row_heading level0 row125\" >B-IV-DEU_COM_1</th>\n",
              "      <td id=\"T_79c39_row125_col0\" class=\"data row125 col0\" >-0.047477</td>\n",
              "    </tr>\n",
              "    <tr>\n",
              "      <th id=\"T_79c39_level0_row126\" class=\"row_heading level0 row126\" >A-III-INV_INM_1</th>\n",
              "      <td id=\"T_79c39_row126_col0\" class=\"data row126 col0\" >-0.047502</td>\n",
              "    </tr>\n",
              "    <tr>\n",
              "      <th id=\"T_79c39_level0_row127\" class=\"row_heading level0 row127\" >B-IV-DEU_COM_23_diff</th>\n",
              "      <td id=\"T_79c39_row127_col0\" class=\"data row127 col0\" >-0.047973</td>\n",
              "    </tr>\n",
              "    <tr>\n",
              "      <th id=\"T_79c39_level0_row128\" class=\"row_heading level0 row128\" >B-III-DEU_COM_1</th>\n",
              "      <td id=\"T_79c39_row128_col0\" class=\"data row128 col0\" >-0.048187</td>\n",
              "    </tr>\n",
              "    <tr>\n",
              "      <th id=\"T_79c39_level0_row129\" class=\"row_heading level0 row129\" >C-VI-PER_CP_1</th>\n",
              "      <td id=\"T_79c39_row129_col0\" class=\"data row129 col0\" >-0.048278</td>\n",
              "    </tr>\n",
              "    <tr>\n",
              "      <th id=\"T_79c39_level0_row130\" class=\"row_heading level0 row130\" >C-V-ACREE_COM_CP_1</th>\n",
              "      <td id=\"T_79c39_row130_col0\" class=\"data row130 col0\" >-0.048477</td>\n",
              "    </tr>\n",
              "    <tr>\n",
              "      <th id=\"T_79c39_level0_row131\" class=\"row_heading level0 row131\" >A-I-INM_INT_1</th>\n",
              "      <td id=\"T_79c39_row131_col0\" class=\"data row131 col0\" >-0.048549</td>\n",
              "    </tr>\n",
              "    <tr>\n",
              "      <th id=\"T_79c39_level0_row132\" class=\"row_heading level0 row132\" >A-1-VENTAS_1</th>\n",
              "      <td id=\"T_79c39_row132_col0\" class=\"data row132 col0\" >-0.048788</td>\n",
              "    </tr>\n",
              "    <tr>\n",
              "      <th id=\"T_79c39_level0_row133\" class=\"row_heading level0 row133\" >A-IV-INV_GRU_1</th>\n",
              "      <td id=\"T_79c39_row133_col0\" class=\"data row133 col0\" >-0.048929</td>\n",
              "    </tr>\n",
              "    <tr>\n",
              "      <th id=\"T_79c39_level0_row134\" class=\"row_heading level0 row134\" >B-VI-PER_CP_23_diff</th>\n",
              "      <td id=\"T_79c39_row134_col0\" class=\"data row134 col0\" >-0.049126</td>\n",
              "    </tr>\n",
              "    <tr>\n",
              "      <th id=\"T_79c39_level0_row135\" class=\"row_heading level0 row135\" >A-5-OTROSINGRESOS_12_diff</th>\n",
              "      <td id=\"T_79c39_row135_col0\" class=\"data row135 col0\" >-0.049669</td>\n",
              "    </tr>\n",
              "    <tr>\n",
              "      <th id=\"T_79c39_level0_row136\" class=\"row_heading level0 row136\" >B-V-INV_FCP_1</th>\n",
              "      <td id=\"T_79c39_row136_col0\" class=\"data row136 col0\" >-0.051219</td>\n",
              "    </tr>\n",
              "    <tr>\n",
              "      <th id=\"T_79c39_level0_row137\" class=\"row_heading level0 row137\" >B-VII-EFECTIVO_1</th>\n",
              "      <td id=\"T_79c39_row137_col0\" class=\"data row137 col0\" >-0.056160</td>\n",
              "    </tr>\n",
              "    <tr>\n",
              "      <th id=\"T_79c39_level0_row138\" class=\"row_heading level0 row138\" >Inicio Actividad</th>\n",
              "      <td id=\"T_79c39_row138_col0\" class=\"data row138 col0\" >-0.232538</td>\n",
              "    </tr>\n",
              "    <tr>\n",
              "      <th id=\"T_79c39_level0_row139\" class=\"row_heading level0 row139\" >A-VII-DEU_COM_1</th>\n",
              "      <td id=\"T_79c39_row139_col0\" class=\"data row139 col0\" >nan</td>\n",
              "    </tr>\n",
              "    <tr>\n",
              "      <th id=\"T_79c39_level0_row140\" class=\"row_heading level0 row140\" >B-VII-DEU_ESP_LP_1</th>\n",
              "      <td id=\"T_79c39_row140_col0\" class=\"data row140 col0\" >nan</td>\n",
              "    </tr>\n",
              "    <tr>\n",
              "      <th id=\"T_79c39_level0_row141\" class=\"row_heading level0 row141\" >C-I-PAS_VINACTNCVENTA_1</th>\n",
              "      <td id=\"T_79c39_row141_col0\" class=\"data row141 col0\" >nan</td>\n",
              "    </tr>\n",
              "    <tr>\n",
              "      <th id=\"T_79c39_level0_row142\" class=\"row_heading level0 row142\" >C-VII-DEU_ESP_CP_1</th>\n",
              "      <td id=\"T_79c39_row142_col0\" class=\"data row142 col0\" >nan</td>\n",
              "    </tr>\n",
              "    <tr>\n",
              "      <th id=\"T_79c39_level0_row143\" class=\"row_heading level0 row143\" >A-VII-DEU_COM_12_diff</th>\n",
              "      <td id=\"T_79c39_row143_col0\" class=\"data row143 col0\" >nan</td>\n",
              "    </tr>\n",
              "    <tr>\n",
              "      <th id=\"T_79c39_level0_row144\" class=\"row_heading level0 row144\" >B-VII-DEU_ESP_LP_12_diff</th>\n",
              "      <td id=\"T_79c39_row144_col0\" class=\"data row144 col0\" >nan</td>\n",
              "    </tr>\n",
              "    <tr>\n",
              "      <th id=\"T_79c39_level0_row145\" class=\"row_heading level0 row145\" >B-VII-DEU_ESP_LP_23_diff</th>\n",
              "      <td id=\"T_79c39_row145_col0\" class=\"data row145 col0\" >nan</td>\n",
              "    </tr>\n",
              "    <tr>\n",
              "      <th id=\"T_79c39_level0_row146\" class=\"row_heading level0 row146\" >C-I-PAS_VINACTNCVENTA_12_diff</th>\n",
              "      <td id=\"T_79c39_row146_col0\" class=\"data row146 col0\" >nan</td>\n",
              "    </tr>\n",
              "    <tr>\n",
              "      <th id=\"T_79c39_level0_row147\" class=\"row_heading level0 row147\" >C-I-PAS_VINACTNCVENTA_23_diff</th>\n",
              "      <td id=\"T_79c39_row147_col0\" class=\"data row147 col0\" >nan</td>\n",
              "    </tr>\n",
              "    <tr>\n",
              "      <th id=\"T_79c39_level0_row148\" class=\"row_heading level0 row148\" >C-VII-DEU_ESP_CP_12_diff</th>\n",
              "      <td id=\"T_79c39_row148_col0\" class=\"data row148 col0\" >nan</td>\n",
              "    </tr>\n",
              "    <tr>\n",
              "      <th id=\"T_79c39_level0_row149\" class=\"row_heading level0 row149\" >C-VII-DEU_ESP_CP_23_diff</th>\n",
              "      <td id=\"T_79c39_row149_col0\" class=\"data row149 col0\" >nan</td>\n",
              "    </tr>\n",
              "  </tbody>\n",
              "</table>\n"
            ]
          },
          "metadata": {},
          "execution_count": 25
        }
      ]
    },
    {
      "cell_type": "markdown",
      "source": [
        "##Preprocesamiento de los datos\n"
      ],
      "metadata": {
        "id": "EgvIsfVLe02J"
      }
    },
    {
      "cell_type": "markdown",
      "source": [
        "En general, es recomendable abordar el problema de los datos desbalanceados antes de considerar la reducción de la dimensionalidad. Esto se debe a que el desbalanceo de los datos puede afectar significativamente el rendimiento del modelo de aprendizaje automático, lo que puede llevar a una menor precisión y a resultados insatisfactorios.\n",
        "\n",
        "Por lo tanto, es importante aplicar técnicas de equilibrado de clases, como la submuestreo, sobremuestreo o combinaciones de ambas antes de aplicar la reducción de dimensionalidad. Estas técnicas pueden ayudar a que el modelo tenga una visión más equilibrada de las clases subrepresentadas y, por lo tanto, mejorar su capacidad para aprender patrones y características relevantes.\n",
        "\n",
        "Una vez que se haya abordado el desbalanceo de los datos, se puede considerar la reducción de dimensionalidad si se cree que la gran cantidad de columnas puede estar causando ruido o redundancia en los datos. Sin embargo, es importante tener en cuenta que la reducción de dimensionalidad puede implicar la pérdida de información importante y, en algunos casos, puede incluso empeorar el rendimiento del modelo. Por lo tanto, se debe realizar un análisis cuidadoso antes de aplicar esta técnica y evaluar el impacto en la precisión del modelo."
      ],
      "metadata": {
        "id": "Wrv86IojP3zO"
      }
    },
    {
      "cell_type": "markdown",
      "source": [
        "Lo primero de todo, se van a eliminar las columnas relacionadas con las ventas, ya que el alto crecimiento de una empresa depende completamente de ellas. Así podemos ver otros factores que intervienen en el alto crecimiento de una empresa."
      ],
      "metadata": {
        "id": "V5INUjYsQAxh"
      }
    },
    {
      "cell_type": "code",
      "source": [
        "#data2=pd.read_csv('data2.csv')\n",
        "#data2.drop(columns=['VENTAS_FINAL', 'Unnamed: 0'], axis=1, inplace=True)"
      ],
      "metadata": {
        "id": "fERW3LDLQP3N"
      },
      "execution_count": 2,
      "outputs": []
    },
    {
      "cell_type": "code",
      "source": [
        "eliminar=[]\n",
        "for col in data2:\n",
        "  if 'VENTA' in col:\n",
        "    eliminar.append(col)\n",
        "data2.drop(columns=eliminar, axis=1, inplace=True)"
      ],
      "metadata": {
        "id": "oJtb0tlnfE1g"
      },
      "execution_count": 3,
      "outputs": []
    },
    {
      "cell_type": "markdown",
      "source": [
        "Nos quedamos con los datos del modelo"
      ],
      "metadata": {
        "id": "c4n5pXksfXEE"
      }
    },
    {
      "cell_type": "code",
      "source": [
        "modelo_clasif=data2[data2['MODELO_CALCU']==1]"
      ],
      "metadata": {
        "id": "ZbUnXXUpfVFq"
      },
      "execution_count": 4,
      "outputs": []
    },
    {
      "cell_type": "code",
      "source": [
        "#otras columnas a eliminar\n",
        "modelo_clasif.drop(columns=['GACELA_CALCU', 'MODELO_CALCU', 'CNAE_DESCRIPCION', 'ID', 'ORGANISMO'], axis=1, inplace=True)"
      ],
      "metadata": {
        "colab": {
          "base_uri": "https://localhost:8080/"
        },
        "id": "fYQqCDQqe4Ff",
        "outputId": "6b4c71a5-aaa5-4c1e-d98c-abf807424dac"
      },
      "execution_count": 5,
      "outputs": [
        {
          "output_type": "stream",
          "name": "stderr",
          "text": [
            "<ipython-input-5-44674dd110eb>:2: SettingWithCopyWarning: \n",
            "A value is trying to be set on a copy of a slice from a DataFrame\n",
            "\n",
            "See the caveats in the documentation: https://pandas.pydata.org/pandas-docs/stable/user_guide/indexing.html#returning-a-view-versus-a-copy\n",
            "  modelo_clasif.drop(columns=['GACELA_CALCU', 'MODELO_CALCU', 'CNAE_DESCRIPCION', 'ID', 'ORGANISMO'], axis=1, inplace=True)\n"
          ]
        }
      ]
    },
    {
      "cell_type": "markdown",
      "source": [
        "convertimos las variables categóricas en numéricas"
      ],
      "metadata": {
        "id": "WXGHjr9hQ1qa"
      }
    },
    {
      "cell_type": "code",
      "source": [
        "modelo2=pd.get_dummies(modelo_clasif)"
      ],
      "metadata": {
        "id": "7HqENgPgflX6"
      },
      "execution_count": 6,
      "outputs": []
    },
    {
      "cell_type": "markdown",
      "source": [
        "Separamos la variable target"
      ],
      "metadata": {
        "id": "0F0XIl7Qf1C0"
      }
    },
    {
      "cell_type": "code",
      "source": [
        "cols = list(modelo2.columns)\n",
        "cols.remove(\"ALTO_CRECIMIENTO_CALCU\") \n",
        "X = modelo2[cols].values\n",
        "# Variable a predecir: \n",
        "Y = modelo2['ALTO_CRECIMIENTO_CALCU']"
      ],
      "metadata": {
        "id": "w7H13HjbfuwC"
      },
      "execution_count": 7,
      "outputs": []
    },
    {
      "cell_type": "markdown",
      "source": [
        "Comprobamos si hay datos infinitos"
      ],
      "metadata": {
        "id": "lNjVb5Z-f4Ql"
      }
    },
    {
      "cell_type": "code",
      "source": [
        "# Check for infinite values\n",
        "print(np.isfinite(X).all())"
      ],
      "metadata": {
        "colab": {
          "base_uri": "https://localhost:8080/"
        },
        "id": "uDjLfaPKfx2b",
        "outputId": "8d9ce416-140d-427a-eb32-06105e91fe9e"
      },
      "execution_count": 8,
      "outputs": [
        {
          "output_type": "stream",
          "name": "stdout",
          "text": [
            "False\n"
          ]
        }
      ]
    },
    {
      "cell_type": "code",
      "source": [
        "X = np.nan_to_num(X, nan=0, posinf=1e9, neginf=-1e9)\n",
        "scaler = MinMaxScaler()\n",
        "X_scaled = scaler.fit_transform(X)"
      ],
      "metadata": {
        "id": "vuis_kvbf0N7"
      },
      "execution_count": 9,
      "outputs": []
    },
    {
      "cell_type": "markdown",
      "source": [
        "**Técnica de desbalanceo de datos**: La técnica que mejores resultados ofrecía era la combinación de subsampling de la clase mayoritaria y oversamplig de la clase minoritaria, por lo que es la técnica que vamos a utilizar."
      ],
      "metadata": {
        "id": "Vb6q-y0AgDrx"
      }
    },
    {
      "cell_type": "code",
      "source": [
        "# Crear objeto SMOTEENN\n",
        "smote_enn = SMOTEENN(random_state=0)\n",
        "\n",
        "# Aplicar SMOTEENN a los datos de entrenamiento\n",
        "X_resampled, y_resampled = smote_enn.fit_resample(X, Y)"
      ],
      "metadata": {
        "id": "8ZxcL2HagFSQ"
      },
      "execution_count": 10,
      "outputs": []
    },
    {
      "cell_type": "markdown",
      "source": [
        "##Reducción de la dimensionalidad"
      ],
      "metadata": {
        "id": "RJkQY_KKRKm1"
      }
    },
    {
      "cell_type": "markdown",
      "source": [
        "Se va a realizar una comparativa entre dos modelos de clasificación utilizando un árbol de decisión para ver si es conveniente utilizar dicha técnica o no. "
      ],
      "metadata": {
        "id": "lTjuc0uJRT4V"
      }
    },
    {
      "cell_type": "markdown",
      "source": [
        "###Modelo sin PCA"
      ],
      "metadata": {
        "id": "zhcemfSQgHx7"
      }
    },
    {
      "cell_type": "code",
      "source": [
        "# Division of dataset\n",
        "X_train_sm, X_test_sm, Y_train_sm, Y_test_sm = train_test_split(X_resampled, y_resampled, test_size = 0.15, random_state = 42)\n",
        "X_train_sm, X_val_sm, Y_train_sm, Y_val_sm = train_test_split(X_train_sm, Y_train_sm, test_size = 0.15, random_state = 42)"
      ],
      "metadata": {
        "id": "WOGsVkoXgJmR"
      },
      "execution_count": 11,
      "outputs": []
    },
    {
      "cell_type": "markdown",
      "source": [
        "Búsqueda de hiperparámetros"
      ],
      "metadata": {
        "id": "DKsUd5iXgU2A"
      }
    },
    {
      "cell_type": "code",
      "source": [
        "#vemos profundidad del árbol\n",
        "class_tree = tree.DecisionTreeClassifier(random_state=42)\n",
        "scores = []\n",
        "num_variables = len(X_resampled)\n",
        "n_niveles = range(1, num_variables + 1)\n",
        "\n",
        "\n",
        "for n in n_niveles:\n",
        "    class_tree.set_params(max_depth = n)\n",
        "    class_tree.fit(X_train_sm, Y_train_sm)\n",
        "    scores.append(class_tree.score(X_test_sm, Y_test_sm))\n",
        "    \n",
        "plt.title(\"Score según nivel del árbol\")\n",
        "plt.xlabel(\"Número de niveles\")\n",
        "plt.ylabel(\"Score\")\n",
        "plt.plot(n_niveles[0:30], scores[0:30])\n",
        "plt.show()\n"
      ],
      "metadata": {
        "colab": {
          "base_uri": "https://localhost:8080/",
          "height": 472
        },
        "id": "qWd5gQVTgW8e",
        "outputId": "2a7179ee-70b1-43e0-f9bf-66d113a829ac"
      },
      "execution_count": 12,
      "outputs": [
        {
          "output_type": "display_data",
          "data": {
            "text/plain": [
              "<Figure size 640x480 with 1 Axes>"
            ],
            "image/png": "[encoded data removed]"
          },
          "metadata": {}
        }
      ]
    },
    {
      "cell_type": "code",
      "source": [
        "print('Con {} niveles se obtuvo el mayor score'.format(np.argmax(scores)))"
      ],
      "metadata": {
        "colab": {
          "base_uri": "https://localhost:8080/"
        },
        "id": "LO9KGL3hgarj",
        "outputId": "a57e63aa-a4bb-459c-afe5-dcb5da55f777"
      },
      "execution_count": 13,
      "outputs": [
        {
          "output_type": "stream",
          "name": "stdout",
          "text": [
            "Con 7 niveles se obtuvo el mayor score\n"
          ]
        }
      ]
    },
    {
      "cell_type": "markdown",
      "source": [
        "Entrenamiento del modelo y evaluación del mismo"
      ],
      "metadata": {
        "id": "XjTGXWU-gdTZ"
      }
    },
    {
      "cell_type": "code",
      "source": [
        "# Entrenamiento\n",
        "class_tree1 = tree.DecisionTreeClassifier(random_state=42,max_depth = 7)\n",
        "class_tree1.fit(X_train_sm, Y_train_sm)\n",
        "\n",
        "# Realizamos la predicción\n",
        "Y_pred_test = class_tree1.predict(X_test_sm)\n",
        "y_pred_val=class_tree1.predict(X_val_sm)"
      ],
      "metadata": {
        "id": "5fSkL-QUgifD"
      },
      "execution_count": 14,
      "outputs": []
    },
    {
      "cell_type": "code",
      "source": [
        "# Evaluamos la prediccion utilizando las metricas\n",
        "acc=accuracy_score(Y_test_sm, Y_pred_test)\n",
        "recall=recall_score(Y_test_sm, Y_pred_test)\n",
        "conf_mat=confusion_matrix(Y_test_sm,Y_pred_test)\n",
        "\n",
        "val_acc = accuracy_score(Y_val_sm, y_pred_val)\n",
        "val_recall=recall_score(Y_val_sm, y_pred_val)\n",
        "val_conf_mat=confusion_matrix(Y_val_sm,y_pred_val)\n",
        "\n",
        "\n",
        "print(\"Test Accuracy: {}\".format(acc))\n",
        "print(\"Test Recall: {}\".format(recall))\n",
        "print(\"Validation Accuracy: {}\".format(val_acc))\n",
        "print(\"Validation Recall: {}\".format(val_recall))\n",
        "\n",
        "print(\"Matriz de confusión:\")\n",
        "\n",
        "fig, axs = plt.subplots(1, 2)\n",
        "\n",
        "sns.heatmap(conf_mat, annot=True, ax=axs[0])\n",
        "axs[0].set_title('Test')\n",
        "\n",
        "sns.heatmap(val_conf_mat, annot=True, ax=axs[1])\n",
        "axs[1].set_title('Validación')\n",
        "\n",
        "plt.tight_layout()\n",
        "plt.show()"
      ],
      "metadata": {
        "colab": {
          "base_uri": "https://localhost:8080/",
          "height": 574
        },
        "id": "I96FlZ6JgmIi",
        "outputId": "6cb600af-9e86-4fb9-83df-da5f20b12865"
      },
      "execution_count": 15,
      "outputs": [
        {
          "output_type": "stream",
          "name": "stdout",
          "text": [
            "Test Accuracy: 0.96045197740113\n",
            "Test Recall: 0.9789473684210527\n",
            "Validation Accuracy: 0.9466666666666667\n",
            "Validation Recall: 0.963855421686747\n",
            "Matriz de confusión:\n"
          ]
        },
        {
          "output_type": "display_data",
          "data": {
            "text/plain": [
              "<Figure size 640x480 with 4 Axes>"
            ],
            "image/png": "[encoded data removed]"
          },
          "metadata": {}
        }
      ]
    },
    {
      "cell_type": "markdown",
      "source": [
        "Vemos las divisiones de forma gráfica"
      ],
      "metadata": {
        "id": "bbwajocXg3_f"
      }
    },
    {
      "cell_type": "code",
      "source": [
        "#Graficamente\n",
        "fig = plt.figure(figsize=(15,10))\n",
        "_ = tree.plot_tree(class_tree1,filled=True, max_depth=4, class_names=cols)"
      ],
      "metadata": {
        "colab": {
          "base_uri": "https://localhost:8080/",
          "height": 807
        },
        "id": "hcdoqCyTg3Gn",
        "outputId": "3d11a7ad-d138-4682-98ba-c22c5533692b"
      },
      "execution_count": 15,
      "outputs": [
        {
          "output_type": "display_data",
          "data": {
            "text/plain": [
              "<Figure size 1500x1000 with 1 Axes>"
            ],
            "image/png": "[encoded data removed]"
          },
          "metadata": {}
        }
      ]
    },
    {
      "cell_type": "markdown",
      "source": [
        "###Modelo con PCA"
      ],
      "metadata": {
        "id": "dbkVVIGKhDYl"
      }
    },
    {
      "cell_type": "markdown",
      "source": [
        "primero vemos qué número de componentes es el óptimo mediante el gráfico del codo.\n",
        "\n",
        "El número de componentes principales se selecciona en el punto donde se produce el \"codo\" en la curva. Esto significa que los primeros componentes explican la mayoría de la varianza en los datos y son los que deben ser retenidos para la reducción de la dimensionalidad."
      ],
      "metadata": {
        "id": "lMtGNxMRSls1"
      }
    },
    {
      "cell_type": "code",
      "source": [
        "pca = PCA()\n",
        "pca.fit(X_resampled)\n",
        "eigenvalues = pca.explained_variance_"
      ],
      "metadata": {
        "id": "74RJWFrgg-Pq"
      },
      "execution_count": 40,
      "outputs": []
    },
    {
      "cell_type": "code",
      "source": [
        "num_components = list(range(1, len(eigenvalues)+1))\n",
        "plt.plot(num_components, eigenvalues, marker='o')\n",
        "plt.xlabel('Número de componentes principales')\n",
        "plt.ylabel('Valor propio')\n",
        "plt.title('Gráfico del codo')\n",
        "plt.show()\n"
      ],
      "metadata": {
        "colab": {
          "base_uri": "https://localhost:8080/",
          "height": 472
        },
        "id": "IvF8FHKBg8cu",
        "outputId": "63d58206-b75f-4114-ee0e-ec6c8151ee77"
      },
      "execution_count": 41,
      "outputs": [
        {
          "output_type": "display_data",
          "data": {
            "text/plain": [
              "<Figure size 640x480 with 1 Axes>"
            ],
            "image/png": "[encoded data removed]"
          },
          "metadata": {}
        }
      ]
    },
    {
      "cell_type": "code",
      "source": [
        "idx = np.argmax(np.diff(eigenvalues))\n",
        "num_components = idx + 1\n",
        "\n",
        "print(f\"El número óptimo de componentes principales es {num_components}\")"
      ],
      "metadata": {
        "colab": {
          "base_uri": "https://localhost:8080/"
        },
        "id": "69QJMxrXhJsB",
        "outputId": "49c06f21-b78c-4d9e-9895-e6ee87be70f6"
      },
      "execution_count": 42,
      "outputs": [
        {
          "output_type": "stream",
          "name": "stdout",
          "text": [
            "El número óptimo de componentes principales es 131\n"
          ]
        }
      ]
    },
    {
      "cell_type": "code",
      "source": [
        "pca = PCA(n_components=131)\n",
        " \n",
        "pca_features = pca.fit_transform(X_resampled)"
      ],
      "metadata": {
        "id": "r9Rbeo1OhLnK"
      },
      "execution_count": 43,
      "outputs": []
    },
    {
      "cell_type": "markdown",
      "source": [
        "Nuevo árbol de clasificación"
      ],
      "metadata": {
        "id": "ibmjomIPhMqc"
      }
    },
    {
      "cell_type": "code",
      "source": [
        "# Division of dataset\n",
        "X_train_pca, X_test_pca, Y_train_pca, Y_test_pca = train_test_split(pca_features, y_resampled, test_size = 0.15, random_state = 42)\n",
        "X_train_pca, X_val_pca, Y_train_pca, Y_val_pca = train_test_split(X_train_pca, Y_train_pca, test_size = 0.15, random_state = 42)"
      ],
      "metadata": {
        "id": "HiawCnD_hO6c"
      },
      "execution_count": 44,
      "outputs": []
    },
    {
      "cell_type": "code",
      "source": [
        "#vemos profundidad del árbol\n",
        "class_tree = tree.DecisionTreeClassifier(random_state=42)\n",
        "scores = []\n",
        "num_variables = len(pca_features)\n",
        "n_niveles = range(1, num_variables + 1)\n",
        "\n",
        "\n",
        "for n in n_niveles:\n",
        "    class_tree.set_params(max_depth = n)\n",
        "    class_tree.fit(X_train_pca, Y_train_pca)\n",
        "    scores.append(class_tree.score(X_test_pca, Y_test_pca))\n",
        "    \n",
        "plt.title(\"Score según nivel del árbol\")\n",
        "plt.xlabel(\"Número de niveles\")\n",
        "plt.ylabel(\"Score\")\n",
        "plt.plot(n_niveles[0:30], scores[0:30])\n",
        "plt.show()\n"
      ],
      "metadata": {
        "colab": {
          "base_uri": "https://localhost:8080/",
          "height": 472
        },
        "id": "QbC2lQdhhTN_",
        "outputId": "052fbc66-6f52-452b-d84e-25a4836e788a"
      },
      "execution_count": 45,
      "outputs": [
        {
          "output_type": "display_data",
          "data": {
            "text/plain": [
              "<Figure size 640x480 with 1 Axes>"
            ],
            "image/png": "[encoded data removed]"
          },
          "metadata": {}
        }
      ]
    },
    {
      "cell_type": "code",
      "source": [
        "print('Con {} niveles se obtuvo el mayor score'.format(np.argmax(scores)))"
      ],
      "metadata": {
        "colab": {
          "base_uri": "https://localhost:8080/"
        },
        "id": "1G3tMloEhix5",
        "outputId": "280e72b1-4817-4056-9f37-baa26f1c5aee"
      },
      "execution_count": 46,
      "outputs": [
        {
          "output_type": "stream",
          "name": "stdout",
          "text": [
            "Con 9 niveles se obtuvo el mayor score\n"
          ]
        }
      ]
    },
    {
      "cell_type": "markdown",
      "source": [
        "Entrenamiento y evaluación del modelo"
      ],
      "metadata": {
        "id": "BJB_q3GghnMI"
      }
    },
    {
      "cell_type": "code",
      "source": [
        "# Entrenamiento\n",
        "class_tree2 = tree.DecisionTreeClassifier(random_state=42,max_depth = 9)\n",
        "class_tree2.fit(X_train_pca, Y_train_pca)\n",
        "\n",
        "# Realizamos la predicción\n",
        "Y_pred_test2 = class_tree2.predict(X_test_pca)\n",
        "y_pred_val2=class_tree2.predict(X_val_pca)"
      ],
      "metadata": {
        "id": "I4r81bqwhpZq"
      },
      "execution_count": 47,
      "outputs": []
    },
    {
      "cell_type": "code",
      "source": [
        "# Evaluamos la prediccion utilizando las metricas\n",
        "acc2=accuracy_score(Y_test_pca, Y_pred_test2)\n",
        "recall2=recall_score(Y_test_pca, Y_pred_test2)\n",
        "conf_mat2=confusion_matrix(Y_test_pca,Y_pred_test2)\n",
        "\n",
        "val_acc2 = accuracy_score(Y_val_pca, y_pred_val2)\n",
        "val_recall2=recall_score(Y_val_pca, y_pred_val2)\n",
        "val_conf_mat2=confusion_matrix(Y_val_pca,y_pred_val2)\n",
        "\n",
        "\n",
        "print(\"Test Accuracy: {}\".format(acc2))\n",
        "print(\"Test Recall: {}\".format(recall2))\n",
        "print(\"Validation Accuracy: {}\".format(val_acc2))\n",
        "print(\"Validation Recall: {}\".format(val_recall2))\n",
        "\n",
        "print(\"Matriz de confusión:\")\n",
        "\n",
        "fig, axs = plt.subplots(1, 2)\n",
        "\n",
        "sns.heatmap(conf_mat2, annot=True, ax=axs[0])\n",
        "axs[0].set_title('Test')\n",
        "\n",
        "sns.heatmap(val_conf_mat2, annot=True, ax=axs[1])\n",
        "axs[1].set_title('Validación')\n",
        "\n",
        "plt.tight_layout()\n",
        "plt.show()"
      ],
      "metadata": {
        "colab": {
          "base_uri": "https://localhost:8080/",
          "height": 574
        },
        "id": "1DjMLa80hukf",
        "outputId": "5834cdc4-fc62-4fdf-d88c-849154e0a6df"
      },
      "execution_count": 48,
      "outputs": [
        {
          "output_type": "stream",
          "name": "stdout",
          "text": [
            "Test Accuracy: 0.9491525423728814\n",
            "Test Recall: 0.9473684210526315\n",
            "Validation Accuracy: 0.9733333333333334\n",
            "Validation Recall: 0.963855421686747\n",
            "Matriz de confusión:\n"
          ]
        },
        {
          "output_type": "display_data",
          "data": {
            "text/plain": [
              "<Figure size 640x480 with 4 Axes>"
            ],
            "image/png": "[encoded data removed]"
          },
          "metadata": {}
        }
      ]
    },
    {
      "cell_type": "markdown",
      "source": [
        "###Comparativa con PCA y sin PCA"
      ],
      "metadata": {
        "id": "9udPTsX3hxkW"
      }
    },
    {
      "cell_type": "code",
      "source": [
        "# Crear los subplots\n",
        "fig, axs = plt.subplots(nrows=1, ncols=2, figsize=(10, 5))\n",
        "\n",
        "# Crear un array de índices para las posiciones de las barras\n",
        "x = np.arange(0.5)\n",
        "width = 0.25\n",
        "\n",
        "# Graficar las variables en las gráficas correspondientes\n",
        "axs[0].bar(x - width,acc, color='blue', label='Sin PCA')\n",
        "axs[0].bar(x,acc2, color='green', alpha=0.5, label='Con PCA')\n",
        "axs[0].set_title('Test Accuracy')\n",
        "axs[0].legend()\n",
        "\n",
        "axs[1].bar(x - width,val_acc, color='red', label='Sin PCA')\n",
        "axs[1].bar(x,val_acc2, color='purple', alpha=0.5, label='Con PCA')\n",
        "axs[1].set_title('Validation Accuracy')\n",
        "axs[1].legend()\n",
        "\n",
        "# Mostrar la gráfica\n",
        "plt.show()"
      ],
      "metadata": {
        "colab": {
          "base_uri": "https://localhost:8080/",
          "height": 468
        },
        "id": "NgCQ0IJHSyVj",
        "outputId": "ed835406-44a7-4c92-b05e-8a3327130f6a"
      },
      "execution_count": 49,
      "outputs": [
        {
          "output_type": "display_data",
          "data": {
            "text/plain": [
              "<Figure size 1000x500 with 2 Axes>"
            ],
            "image/png": "[encoded data removed]"
          },
          "metadata": {}
        }
      ]
    },
    {
      "cell_type": "code",
      "source": [
        "# Crear los subplots\n",
        "fig, axs = plt.subplots(nrows=1, ncols=2, figsize=(10, 5))\n",
        "\n",
        "# Crear un array de índices para las posiciones de las barras\n",
        "x = np.arange(0.5)\n",
        "width = 0.25\n",
        "\n",
        "# Graficar las variables en las gráficas correspondientes\n",
        "axs[0].bar(x - width,recall, color='blue', label='Sin PCA')\n",
        "axs[0].bar(x,recall2, color='green', alpha=0.5, label='Con PCA')\n",
        "axs[0].set_title('Test recall')\n",
        "axs[0].legend()\n",
        "\n",
        "axs[1].bar(x - width,val_recall, color='red', label='Sin PCA')\n",
        "axs[1].bar(x,val_recall2, color='purple', alpha=0.5, label='Con PCA')\n",
        "axs[1].set_title('Validation recall')\n",
        "axs[1].legend()\n",
        "\n",
        "# Mostrar la gráfica\n",
        "plt.show()"
      ],
      "metadata": {
        "colab": {
          "base_uri": "https://localhost:8080/",
          "height": 468
        },
        "id": "NIavNvOUTMRC",
        "outputId": "ab59dcc3-a207-4387-cac7-c248d0e360ea"
      },
      "execution_count": 50,
      "outputs": [
        {
          "output_type": "display_data",
          "data": {
            "text/plain": [
              "<Figure size 1000x500 with 2 Axes>"
            ],
            "image/png": "[encoded data removed]"
          },
          "metadata": {}
        }
      ]
    },
    {
      "cell_type": "markdown",
      "source": [
        "Como se puede observar los resultados que se obtienen son muy parecidos, por lo que no se va a utilziar la reducción de la dimensionalidad. \n",
        "\n",
        "\n",
        "\n"
      ],
      "metadata": {
        "id": "EGVTl8D9qBUF"
      }
    },
    {
      "cell_type": "markdown",
      "source": [
        "##Elección del modelo de ML"
      ],
      "metadata": {
        "id": "HlWCJ2i6TgOH"
      }
    },
    {
      "cell_type": "markdown",
      "source": [
        "Del estado del arte rescatamos los modelos de machine learning que podemos aplicar en los problemas de clasificación:\n",
        "\n",
        "* La **regresión logística** es un método apropiado cuando la variable dependiente es binaria. \n",
        "Se utiliza para explicar la relación entre una variable dependiente y una o más variables \n",
        "independientes. Sus ventajas es que es un método sencillo, no suele haber sobreajuste y \n",
        "es rápido y sencillo de entrenar. Sus puntos negativos son que a veces es muy simple \n",
        "para captar relaciones complejas entre variables y puede no ser adecuado si existen \n",
        "anomalías en los datos. \n",
        "* El **algoritmo K-Nearest Neighbor** está basado en la similitud de características. Sus \n",
        "ventajas son que es simple, potente y rápido de entrenar, pero no es el algoritmo más \n",
        "adecuado cuando el conjunto de datos tiene una gran dimensionalidad y hay que definir \n",
        "de forma adecuada la distancia entre conjuntos. \n",
        "* Las **Máquinas de Vectores Soporte** (Support Vector Machines, SVM) se basan en la \n",
        "construcción de un hiperplano que separa los datos en diferentes clases. Sus ventajas \n",
        "son que puede modelar relaciones complejas en los datos y es robusto al ruido, pero se \n",
        "necesita definir de forma adecuada el kernel (hiperplano de separación) y además \n",
        "requiere de gran memoria y poder de procesamiento. \n",
        "\n",
        "* **Naive Bayes** es un modelo probabilístico que se basa en el teorema de Bayes. Es fácil y \n",
        "rápido de implementar, no requiere de mucha memoria y es sencillo de entender. No es \n",
        "adecuado si el conjunto de datos posee características irrelevantes o poco comunes. \n",
        "* Los **arboles de decisión** para clasificación se fabrican mediante diagramas de \n",
        "construcción lógica. Separan los datos de forma sucesiva en base a sus características, \n",
        "quedando una forma de árbol por niveles. Sus ventajas es que es fácil de interpretar, es \n",
        "robusto al ruido, preciso y muy bueno para aprender relaciones complejas. Para datos \n",
        "complejos puede no ser el mejor algoritmo. \n",
        "* **El random forest** consiste en una combinación de varios árboles de decisión. Sus \n",
        "ventajas son su capacidad de trabajar en paralelo, no suele haber overfitting \n",
        "(sobreajuste) y sus resultados suelen ser bastante buenos, pero puede ser difícil de \n",
        "interpretar. "
      ],
      "metadata": {
        "id": "juzlTTWKUM89"
      }
    },
    {
      "cell_type": "markdown",
      "source": [
        "Los modelos anteriores podemos separarlos en modelos de caja blanca y caja negra. Los modelos de caja blanca son aquellos que permiten una mayor interpretación de cómo se llega a la predicción, mientras que los modelos de caja negra son aquellos que proporcionan resultados precisos pero pueden no ser tan fáciles de interpretar.\n",
        "\n",
        "**Modelos de caja blanca**:\n",
        "\n",
        "* Regresión logística\n",
        "* Árbol de decisión\n",
        "\n",
        "**Modelos de caja negra:**\n",
        "\n",
        "* K-nearest-neighbor\n",
        "* Support Vector Machine (SVM)\n",
        "* Naive Bayes\n",
        "* Random Forest\n",
        "\n",
        "Para obtener un mejor detalle de cómo se realiza la clasificación lo mejor es utilizar modelos de caja blanca. Vamos a probar con la regresión logística y el árbol de clasificación y si se obtienen buenos resultados daremos el modelo por válido. "
      ],
      "metadata": {
        "id": "VKdJRmAtA6f2"
      }
    },
    {
      "cell_type": "markdown",
      "source": [
        "###Regresión Logística"
      ],
      "metadata": {
        "id": "Fxzn7ZHfBCDM"
      }
    },
    {
      "cell_type": "markdown",
      "source": [
        "Primero realizamos una búsqueda de hiperparámetros"
      ],
      "metadata": {
        "id": "1at5gV65BPhp"
      }
    },
    {
      "cell_type": "markdown",
      "source": [
        "solver{‘lbfgs’, ‘liblinear’, ‘newton-cg’, ‘newton-cholesky’, ‘sag’, ‘saga’}, default=’lbfgs’\n",
        "\n",
        "Algorithm to use in the optimization problem. Default is ‘lbfgs’. To choose a solver, you might want to consider the following aspects:\n",
        "\n",
        "For small datasets, ‘liblinear’ is a good choice, whereas ‘sag’ and ‘saga’ are faster for large ones;\n",
        "\n",
        "For multiclass problems, only ‘newton-cg’, ‘sag’, ‘saga’ and ‘lbfgs’ handle multinomial loss;\n",
        "\n",
        "‘liblinear’ is limited to one-versus-rest schemes.\n",
        "\n",
        "‘newton-cholesky’ is a good choice for n_samples >> n_features, especially with one-hot encoded categorical features with rare categories. Note that it is limited to binary classification and the one-versus-rest reduction for multiclass classification. Be aware that the memory usage of this solver has a quadratic dependency on n_features because it explicitly computes the Hessian matrix."
      ],
      "metadata": {
        "id": "xiD2ExzMBUsj"
      }
    },
    {
      "cell_type": "code",
      "source": [
        "model = LogisticRegression( max_iter=1000)\n",
        "\n",
        "\n",
        "\n",
        "grid={\"C\": [0.001, 0.01, 0.1, 1, 10, 100], \"solver\":[\"sag\", \"saga\"]}\n",
        "\n",
        "grid_search = GridSearchCV(estimator = model,  \n",
        "                           param_grid = grid,\n",
        "                           scoring = 'accuracy',\n",
        "                           cv = 5,\n",
        "                           verbose=0)\n",
        "\n",
        "\n",
        "grid_search.fit(X_train_sm, Y_train_sm) "
      ],
      "metadata": {
        "colab": {
          "base_uri": "https://localhost:8080/",
          "height": 1000
        },
        "id": "YE5V9c-hTikp",
        "outputId": "c58d2bf8-51c7-40c5-ec21-0bc5e8b1e16e"
      },
      "execution_count": null,
      "outputs": [
        {
          "output_type": "stream",
          "name": "stderr",
          "text": [
            "/usr/local/lib/python3.10/dist-packages/sklearn/linear_model/_sag.py:350: ConvergenceWarning: The max_iter was reached which means the coef_ did not converge\n",
            "  warnings.warn(\n",
            "/usr/local/lib/python3.10/dist-packages/sklearn/linear_model/_sag.py:350: ConvergenceWarning: The max_iter was reached which means the coef_ did not converge\n",
            "  warnings.warn(\n",
            "/usr/local/lib/python3.10/dist-packages/sklearn/linear_model/_sag.py:350: ConvergenceWarning: The max_iter was reached which means the coef_ did not converge\n",
            "  warnings.warn(\n",
            "/usr/local/lib/python3.10/dist-packages/sklearn/linear_model/_sag.py:350: ConvergenceWarning: The max_iter was reached which means the coef_ did not converge\n",
            "  warnings.warn(\n",
            "/usr/local/lib/python3.10/dist-packages/sklearn/linear_model/_sag.py:350: ConvergenceWarning: The max_iter was reached which means the coef_ did not converge\n",
            "  warnings.warn(\n",
            "/usr/local/lib/python3.10/dist-packages/sklearn/linear_model/_sag.py:350: ConvergenceWarning: The max_iter was reached which means the coef_ did not converge\n",
            "  warnings.warn(\n",
            "/usr/local/lib/python3.10/dist-packages/sklearn/linear_model/_sag.py:350: ConvergenceWarning: The max_iter was reached which means the coef_ did not converge\n",
            "  warnings.warn(\n",
            "/usr/local/lib/python3.10/dist-packages/sklearn/linear_model/_sag.py:350: ConvergenceWarning: The max_iter was reached which means the coef_ did not converge\n",
            "  warnings.warn(\n",
            "/usr/local/lib/python3.10/dist-packages/sklearn/linear_model/_sag.py:350: ConvergenceWarning: The max_iter was reached which means the coef_ did not converge\n",
            "  warnings.warn(\n",
            "/usr/local/lib/python3.10/dist-packages/sklearn/linear_model/_sag.py:350: ConvergenceWarning: The max_iter was reached which means the coef_ did not converge\n",
            "  warnings.warn(\n",
            "/usr/local/lib/python3.10/dist-packages/sklearn/linear_model/_sag.py:350: ConvergenceWarning: The max_iter was reached which means the coef_ did not converge\n",
            "  warnings.warn(\n",
            "/usr/local/lib/python3.10/dist-packages/sklearn/linear_model/_sag.py:350: ConvergenceWarning: The max_iter was reached which means the coef_ did not converge\n",
            "  warnings.warn(\n",
            "/usr/local/lib/python3.10/dist-packages/sklearn/linear_model/_sag.py:350: ConvergenceWarning: The max_iter was reached which means the coef_ did not converge\n",
            "  warnings.warn(\n",
            "/usr/local/lib/python3.10/dist-packages/sklearn/linear_model/_sag.py:350: ConvergenceWarning: The max_iter was reached which means the coef_ did not converge\n",
            "  warnings.warn(\n",
            "/usr/local/lib/python3.10/dist-packages/sklearn/linear_model/_sag.py:350: ConvergenceWarning: The max_iter was reached which means the coef_ did not converge\n",
            "  warnings.warn(\n",
            "/usr/local/lib/python3.10/dist-packages/sklearn/linear_model/_sag.py:350: ConvergenceWarning: The max_iter was reached which means the coef_ did not converge\n",
            "  warnings.warn(\n",
            "/usr/local/lib/python3.10/dist-packages/sklearn/linear_model/_sag.py:350: ConvergenceWarning: The max_iter was reached which means the coef_ did not converge\n",
            "  warnings.warn(\n",
            "/usr/local/lib/python3.10/dist-packages/sklearn/linear_model/_sag.py:350: ConvergenceWarning: The max_iter was reached which means the coef_ did not converge\n",
            "  warnings.warn(\n",
            "/usr/local/lib/python3.10/dist-packages/sklearn/linear_model/_sag.py:350: ConvergenceWarning: The max_iter was reached which means the coef_ did not converge\n",
            "  warnings.warn(\n",
            "/usr/local/lib/python3.10/dist-packages/sklearn/linear_model/_sag.py:350: ConvergenceWarning: The max_iter was reached which means the coef_ did not converge\n",
            "  warnings.warn(\n",
            "/usr/local/lib/python3.10/dist-packages/sklearn/linear_model/_sag.py:350: ConvergenceWarning: The max_iter was reached which means the coef_ did not converge\n",
            "  warnings.warn(\n",
            "/usr/local/lib/python3.10/dist-packages/sklearn/linear_model/_sag.py:350: ConvergenceWarning: The max_iter was reached which means the coef_ did not converge\n",
            "  warnings.warn(\n",
            "/usr/local/lib/python3.10/dist-packages/sklearn/linear_model/_sag.py:350: ConvergenceWarning: The max_iter was reached which means the coef_ did not converge\n",
            "  warnings.warn(\n",
            "/usr/local/lib/python3.10/dist-packages/sklearn/linear_model/_sag.py:350: ConvergenceWarning: The max_iter was reached which means the coef_ did not converge\n",
            "  warnings.warn(\n",
            "/usr/local/lib/python3.10/dist-packages/sklearn/linear_model/_sag.py:350: ConvergenceWarning: The max_iter was reached which means the coef_ did not converge\n",
            "  warnings.warn(\n",
            "/usr/local/lib/python3.10/dist-packages/sklearn/linear_model/_sag.py:350: ConvergenceWarning: The max_iter was reached which means the coef_ did not converge\n",
            "  warnings.warn(\n",
            "/usr/local/lib/python3.10/dist-packages/sklearn/linear_model/_sag.py:350: ConvergenceWarning: The max_iter was reached which means the coef_ did not converge\n",
            "  warnings.warn(\n",
            "/usr/local/lib/python3.10/dist-packages/sklearn/linear_model/_sag.py:350: ConvergenceWarning: The max_iter was reached which means the coef_ did not converge\n",
            "  warnings.warn(\n",
            "/usr/local/lib/python3.10/dist-packages/sklearn/linear_model/_sag.py:350: ConvergenceWarning: The max_iter was reached which means the coef_ did not converge\n",
            "  warnings.warn(\n",
            "/usr/local/lib/python3.10/dist-packages/sklearn/linear_model/_sag.py:350: ConvergenceWarning: The max_iter was reached which means the coef_ did not converge\n",
            "  warnings.warn(\n",
            "/usr/local/lib/python3.10/dist-packages/sklearn/linear_model/_sag.py:350: ConvergenceWarning: The max_iter was reached which means the coef_ did not converge\n",
            "  warnings.warn(\n",
            "/usr/local/lib/python3.10/dist-packages/sklearn/linear_model/_sag.py:350: ConvergenceWarning: The max_iter was reached which means the coef_ did not converge\n",
            "  warnings.warn(\n",
            "/usr/local/lib/python3.10/dist-packages/sklearn/linear_model/_sag.py:350: ConvergenceWarning: The max_iter was reached which means the coef_ did not converge\n",
            "  warnings.warn(\n",
            "/usr/local/lib/python3.10/dist-packages/sklearn/linear_model/_sag.py:350: ConvergenceWarning: The max_iter was reached which means the coef_ did not converge\n",
            "  warnings.warn(\n",
            "/usr/local/lib/python3.10/dist-packages/sklearn/linear_model/_sag.py:350: ConvergenceWarning: The max_iter was reached which means the coef_ did not converge\n",
            "  warnings.warn(\n",
            "/usr/local/lib/python3.10/dist-packages/sklearn/linear_model/_sag.py:350: ConvergenceWarning: The max_iter was reached which means the coef_ did not converge\n",
            "  warnings.warn(\n",
            "/usr/local/lib/python3.10/dist-packages/sklearn/linear_model/_sag.py:350: ConvergenceWarning: The max_iter was reached which means the coef_ did not converge\n",
            "  warnings.warn(\n",
            "/usr/local/lib/python3.10/dist-packages/sklearn/linear_model/_sag.py:350: ConvergenceWarning: The max_iter was reached which means the coef_ did not converge\n",
            "  warnings.warn(\n",
            "/usr/local/lib/python3.10/dist-packages/sklearn/linear_model/_sag.py:350: ConvergenceWarning: The max_iter was reached which means the coef_ did not converge\n",
            "  warnings.warn(\n",
            "/usr/local/lib/python3.10/dist-packages/sklearn/linear_model/_sag.py:350: ConvergenceWarning: The max_iter was reached which means the coef_ did not converge\n",
            "  warnings.warn(\n",
            "/usr/local/lib/python3.10/dist-packages/sklearn/linear_model/_sag.py:350: ConvergenceWarning: The max_iter was reached which means the coef_ did not converge\n",
            "  warnings.warn(\n",
            "/usr/local/lib/python3.10/dist-packages/sklearn/linear_model/_sag.py:350: ConvergenceWarning: The max_iter was reached which means the coef_ did not converge\n",
            "  warnings.warn(\n",
            "/usr/local/lib/python3.10/dist-packages/sklearn/linear_model/_sag.py:350: ConvergenceWarning: The max_iter was reached which means the coef_ did not converge\n",
            "  warnings.warn(\n",
            "/usr/local/lib/python3.10/dist-packages/sklearn/linear_model/_sag.py:350: ConvergenceWarning: The max_iter was reached which means the coef_ did not converge\n",
            "  warnings.warn(\n",
            "/usr/local/lib/python3.10/dist-packages/sklearn/linear_model/_sag.py:350: ConvergenceWarning: The max_iter was reached which means the coef_ did not converge\n",
            "  warnings.warn(\n",
            "/usr/local/lib/python3.10/dist-packages/sklearn/linear_model/_sag.py:350: ConvergenceWarning: The max_iter was reached which means the coef_ did not converge\n",
            "  warnings.warn(\n",
            "/usr/local/lib/python3.10/dist-packages/sklearn/linear_model/_sag.py:350: ConvergenceWarning: The max_iter was reached which means the coef_ did not converge\n",
            "  warnings.warn(\n",
            "/usr/local/lib/python3.10/dist-packages/sklearn/linear_model/_sag.py:350: ConvergenceWarning: The max_iter was reached which means the coef_ did not converge\n",
            "  warnings.warn(\n",
            "/usr/local/lib/python3.10/dist-packages/sklearn/linear_model/_sag.py:350: ConvergenceWarning: The max_iter was reached which means the coef_ did not converge\n",
            "  warnings.warn(\n",
            "/usr/local/lib/python3.10/dist-packages/sklearn/linear_model/_sag.py:350: ConvergenceWarning: The max_iter was reached which means the coef_ did not converge\n",
            "  warnings.warn(\n",
            "/usr/local/lib/python3.10/dist-packages/sklearn/linear_model/_sag.py:350: ConvergenceWarning: The max_iter was reached which means the coef_ did not converge\n",
            "  warnings.warn(\n",
            "/usr/local/lib/python3.10/dist-packages/sklearn/linear_model/_sag.py:350: ConvergenceWarning: The max_iter was reached which means the coef_ did not converge\n",
            "  warnings.warn(\n",
            "/usr/local/lib/python3.10/dist-packages/sklearn/linear_model/_sag.py:350: ConvergenceWarning: The max_iter was reached which means the coef_ did not converge\n",
            "  warnings.warn(\n",
            "/usr/local/lib/python3.10/dist-packages/sklearn/linear_model/_sag.py:350: ConvergenceWarning: The max_iter was reached which means the coef_ did not converge\n",
            "  warnings.warn(\n",
            "/usr/local/lib/python3.10/dist-packages/sklearn/linear_model/_sag.py:350: ConvergenceWarning: The max_iter was reached which means the coef_ did not converge\n",
            "  warnings.warn(\n",
            "/usr/local/lib/python3.10/dist-packages/sklearn/linear_model/_sag.py:350: ConvergenceWarning: The max_iter was reached which means the coef_ did not converge\n",
            "  warnings.warn(\n",
            "/usr/local/lib/python3.10/dist-packages/sklearn/linear_model/_sag.py:350: ConvergenceWarning: The max_iter was reached which means the coef_ did not converge\n",
            "  warnings.warn(\n",
            "/usr/local/lib/python3.10/dist-packages/sklearn/linear_model/_sag.py:350: ConvergenceWarning: The max_iter was reached which means the coef_ did not converge\n",
            "  warnings.warn(\n",
            "/usr/local/lib/python3.10/dist-packages/sklearn/linear_model/_sag.py:350: ConvergenceWarning: The max_iter was reached which means the coef_ did not converge\n",
            "  warnings.warn(\n",
            "/usr/local/lib/python3.10/dist-packages/sklearn/linear_model/_sag.py:350: ConvergenceWarning: The max_iter was reached which means the coef_ did not converge\n",
            "  warnings.warn(\n",
            "/usr/local/lib/python3.10/dist-packages/sklearn/linear_model/_sag.py:350: ConvergenceWarning: The max_iter was reached which means the coef_ did not converge\n",
            "  warnings.warn(\n"
          ]
        },
        {
          "output_type": "execute_result",
          "data": {
            "text/plain": [
              "GridSearchCV(cv=5, estimator=LogisticRegression(max_iter=1000),\n",
              "             param_grid={'C': [0.001, 0.01, 0.1, 1, 10, 100],\n",
              "                         'solver': ['sag', 'saga']},\n",
              "             scoring='accuracy')"
            ],
            "text/html": [
              "<style>#sk-container-id-3 {color: black;background-color: white;}#sk-container-id-3 pre{padding: 0;}#sk-container-id-3 div.sk-toggleable {background-color: white;}#sk-container-id-3 label.sk-toggleable__label {cursor: pointer;display: block;width: 100%;margin-bottom: 0;padding: 0.3em;box-sizing: border-box;text-align: center;}#sk-container-id-3 label.sk-toggleable__label-arrow:before {content: \"▸\";float: left;margin-right: 0.25em;color: #696969;}#sk-container-id-3 label.sk-toggleable__label-arrow:hover:before {color: black;}#sk-container-id-3 div.sk-estimator:hover label.sk-toggleable__label-arrow:before {color: black;}#sk-container-id-3 div.sk-toggleable__content {max-height: 0;max-width: 0;overflow: hidden;text-align: left;background-color: #f0f8ff;}#sk-container-id-3 div.sk-toggleable__content pre {margin: 0.2em;color: black;border-radius: 0.25em;background-color: #f0f8ff;}#sk-container-id-3 input.sk-toggleable__control:checked~div.sk-toggleable__content {max-height: 200px;max-width: 100%;overflow: auto;}#sk-container-id-3 input.sk-toggleable__control:checked~label.sk-toggleable__label-arrow:before {content: \"▾\";}#sk-container-id-3 div.sk-estimator input.sk-toggleable__control:checked~label.sk-toggleable__label {background-color: #d4ebff;}#sk-container-id-3 div.sk-label input.sk-toggleable__control:checked~label.sk-toggleable__label {background-color: #d4ebff;}#sk-container-id-3 input.sk-hidden--visually {border: 0;clip: rect(1px 1px 1px 1px);clip: rect(1px, 1px, 1px, 1px);height: 1px;margin: -1px;overflow: hidden;padding: 0;position: absolute;width: 1px;}#sk-container-id-3 div.sk-estimator {font-family: monospace;background-color: #f0f8ff;border: 1px dotted black;border-radius: 0.25em;box-sizing: border-box;margin-bottom: 0.5em;}#sk-container-id-3 div.sk-estimator:hover {background-color: #d4ebff;}#sk-container-id-3 div.sk-parallel-item::after {content: \"\";width: 100%;border-bottom: 1px solid gray;flex-grow: 1;}#sk-container-id-3 div.sk-label:hover label.sk-toggleable__label {background-color: #d4ebff;}#sk-container-id-3 div.sk-serial::before {content: \"\";position: absolute;border-left: 1px solid gray;box-sizing: border-box;top: 0;bottom: 0;left: 50%;z-index: 0;}#sk-container-id-3 div.sk-serial {display: flex;flex-direction: column;align-items: center;background-color: white;padding-right: 0.2em;padding-left: 0.2em;position: relative;}#sk-container-id-3 div.sk-item {position: relative;z-index: 1;}#sk-container-id-3 div.sk-parallel {display: flex;align-items: stretch;justify-content: center;background-color: white;position: relative;}#sk-container-id-3 div.sk-item::before, #sk-container-id-3 div.sk-parallel-item::before {content: \"\";position: absolute;border-left: 1px solid gray;box-sizing: border-box;top: 0;bottom: 0;left: 50%;z-index: -1;}#sk-container-id-3 div.sk-parallel-item {display: flex;flex-direction: column;z-index: 1;position: relative;background-color: white;}#sk-container-id-3 div.sk-parallel-item:first-child::after {align-self: flex-end;width: 50%;}#sk-container-id-3 div.sk-parallel-item:last-child::after {align-self: flex-start;width: 50%;}#sk-container-id-3 div.sk-parallel-item:only-child::after {width: 0;}#sk-container-id-3 div.sk-dashed-wrapped {border: 1px dashed gray;margin: 0 0.4em 0.5em 0.4em;box-sizing: border-box;padding-bottom: 0.4em;background-color: white;}#sk-container-id-3 div.sk-label label {font-family: monospace;font-weight: bold;display: inline-block;line-height: 1.2em;}#sk-container-id-3 div.sk-label-container {text-align: center;}#sk-container-id-3 div.sk-container {/* jupyter's `normalize.less` sets `[hidden] { display: none; }` but bootstrap.min.css set `[hidden] { display: none !important; }` so we also need the `!important` here to be able to override the default hidden behavior on the sphinx rendered scikit-learn.org. See: https://github.com/scikit-learn/scikit-learn/issues/21755 */display: inline-block !important;position: relative;}#sk-container-id-3 div.sk-text-repr-fallback {display: none;}</style><div id=\"sk-container-id-3\" class=\"sk-top-container\"><div class=\"sk-text-repr-fallback\"><pre>GridSearchCV(cv=5, estimator=LogisticRegression(max_iter=1000),\n",
              "             param_grid={&#x27;C&#x27;: [0.001, 0.01, 0.1, 1, 10, 100],\n",
              "                         &#x27;solver&#x27;: [&#x27;sag&#x27;, &#x27;saga&#x27;]},\n",
              "             scoring=&#x27;accuracy&#x27;)</pre><b>In a Jupyter environment, please rerun this cell to show the HTML representation or trust the notebook. <br />On GitHub, the HTML representation is unable to render, please try loading this page with nbviewer.org.</b></div><div class=\"sk-container\" hidden><div class=\"sk-item sk-dashed-wrapped\"><div class=\"sk-label-container\"><div class=\"sk-label sk-toggleable\"><input class=\"sk-toggleable__control sk-hidden--visually\" id=\"sk-estimator-id-5\" type=\"checkbox\" ><label for=\"sk-estimator-id-5\" class=\"sk-toggleable__label sk-toggleable__label-arrow\">GridSearchCV</label><div class=\"sk-toggleable__content\"><pre>GridSearchCV(cv=5, estimator=LogisticRegression(max_iter=1000),\n",
              "             param_grid={&#x27;C&#x27;: [0.001, 0.01, 0.1, 1, 10, 100],\n",
              "                         &#x27;solver&#x27;: [&#x27;sag&#x27;, &#x27;saga&#x27;]},\n",
              "             scoring=&#x27;accuracy&#x27;)</pre></div></div></div><div class=\"sk-parallel\"><div class=\"sk-parallel-item\"><div class=\"sk-item\"><div class=\"sk-label-container\"><div class=\"sk-label sk-toggleable\"><input class=\"sk-toggleable__control sk-hidden--visually\" id=\"sk-estimator-id-6\" type=\"checkbox\" ><label for=\"sk-estimator-id-6\" class=\"sk-toggleable__label sk-toggleable__label-arrow\">estimator: LogisticRegression</label><div class=\"sk-toggleable__content\"><pre>LogisticRegression(max_iter=1000)</pre></div></div></div><div class=\"sk-serial\"><div class=\"sk-item\"><div class=\"sk-estimator sk-toggleable\"><input class=\"sk-toggleable__control sk-hidden--visually\" id=\"sk-estimator-id-7\" type=\"checkbox\" ><label for=\"sk-estimator-id-7\" class=\"sk-toggleable__label sk-toggleable__label-arrow\">LogisticRegression</label><div class=\"sk-toggleable__content\"><pre>LogisticRegression(max_iter=1000)</pre></div></div></div></div></div></div></div></div></div></div>"
            ]
          },
          "metadata": {},
          "execution_count": 100
        }
      ]
    },
    {
      "cell_type": "code",
      "source": [
        "# Mostrar los mejores hiperparámetros encontrados\n",
        "print('Mejores hiperparámetros encontrados:\\n', grid_search.best_params_)\n",
        "print('Puntaje de precisión: {:.2f}'.format(grid_search.best_score_))"
      ],
      "metadata": {
        "colab": {
          "base_uri": "https://localhost:8080/"
        },
        "id": "hgSL6hXcBH35",
        "outputId": "23bd5189-2ded-47d1-80c1-0089f6b4c430"
      },
      "execution_count": null,
      "outputs": [
        {
          "output_type": "stream",
          "name": "stdout",
          "text": [
            "Mejores hiperparámetros encontrados:\n",
            " {'C': 0.001, 'solver': 'sag'}\n",
            "Puntaje de precisión: 0.75\n"
          ]
        }
      ]
    },
    {
      "cell_type": "markdown",
      "source": [
        "Creamos el modelo"
      ],
      "metadata": {
        "id": "Tril7vqoBdAp"
      }
    },
    {
      "cell_type": "code",
      "source": [
        "log1 = LogisticRegression(solver='sag', C=0.001, max_iter=1000)"
      ],
      "metadata": {
        "id": "ocQFepE3Bca_"
      },
      "execution_count": null,
      "outputs": []
    },
    {
      "cell_type": "markdown",
      "source": [
        "Lo entrenamos"
      ],
      "metadata": {
        "id": "TJnlbGbBBguo"
      }
    },
    {
      "cell_type": "code",
      "source": [
        "#Entreno el modelo\n",
        "log1.fit(X_train_sm, Y_train_sm)"
      ],
      "metadata": {
        "colab": {
          "base_uri": "https://localhost:8080/",
          "height": 110
        },
        "id": "rrTgHRTpBgTW",
        "outputId": "c262d294-71fa-42cb-de5c-40751deb9bc2"
      },
      "execution_count": null,
      "outputs": [
        {
          "output_type": "stream",
          "name": "stderr",
          "text": [
            "/usr/local/lib/python3.10/dist-packages/sklearn/linear_model/_sag.py:350: ConvergenceWarning: The max_iter was reached which means the coef_ did not converge\n",
            "  warnings.warn(\n"
          ]
        },
        {
          "output_type": "execute_result",
          "data": {
            "text/plain": [
              "LogisticRegression(C=0.001, max_iter=1000, solver='sag')"
            ],
            "text/html": [
              "<style>#sk-container-id-5 {color: black;background-color: white;}#sk-container-id-5 pre{padding: 0;}#sk-container-id-5 div.sk-toggleable {background-color: white;}#sk-container-id-5 label.sk-toggleable__label {cursor: pointer;display: block;width: 100%;margin-bottom: 0;padding: 0.3em;box-sizing: border-box;text-align: center;}#sk-container-id-5 label.sk-toggleable__label-arrow:before {content: \"▸\";float: left;margin-right: 0.25em;color: #696969;}#sk-container-id-5 label.sk-toggleable__label-arrow:hover:before {color: black;}#sk-container-id-5 div.sk-estimator:hover label.sk-toggleable__label-arrow:before {color: black;}#sk-container-id-5 div.sk-toggleable__content {max-height: 0;max-width: 0;overflow: hidden;text-align: left;background-color: #f0f8ff;}#sk-container-id-5 div.sk-toggleable__content pre {margin: 0.2em;color: black;border-radius: 0.25em;background-color: #f0f8ff;}#sk-container-id-5 input.sk-toggleable__control:checked~div.sk-toggleable__content {max-height: 200px;max-width: 100%;overflow: auto;}#sk-container-id-5 input.sk-toggleable__control:checked~label.sk-toggleable__label-arrow:before {content: \"▾\";}#sk-container-id-5 div.sk-estimator input.sk-toggleable__control:checked~label.sk-toggleable__label {background-color: #d4ebff;}#sk-container-id-5 div.sk-label input.sk-toggleable__control:checked~label.sk-toggleable__label {background-color: #d4ebff;}#sk-container-id-5 input.sk-hidden--visually {border: 0;clip: rect(1px 1px 1px 1px);clip: rect(1px, 1px, 1px, 1px);height: 1px;margin: -1px;overflow: hidden;padding: 0;position: absolute;width: 1px;}#sk-container-id-5 div.sk-estimator {font-family: monospace;background-color: #f0f8ff;border: 1px dotted black;border-radius: 0.25em;box-sizing: border-box;margin-bottom: 0.5em;}#sk-container-id-5 div.sk-estimator:hover {background-color: #d4ebff;}#sk-container-id-5 div.sk-parallel-item::after {content: \"\";width: 100%;border-bottom: 1px solid gray;flex-grow: 1;}#sk-container-id-5 div.sk-label:hover label.sk-toggleable__label {background-color: #d4ebff;}#sk-container-id-5 div.sk-serial::before {content: \"\";position: absolute;border-left: 1px solid gray;box-sizing: border-box;top: 0;bottom: 0;left: 50%;z-index: 0;}#sk-container-id-5 div.sk-serial {display: flex;flex-direction: column;align-items: center;background-color: white;padding-right: 0.2em;padding-left: 0.2em;position: relative;}#sk-container-id-5 div.sk-item {position: relative;z-index: 1;}#sk-container-id-5 div.sk-parallel {display: flex;align-items: stretch;justify-content: center;background-color: white;position: relative;}#sk-container-id-5 div.sk-item::before, #sk-container-id-5 div.sk-parallel-item::before {content: \"\";position: absolute;border-left: 1px solid gray;box-sizing: border-box;top: 0;bottom: 0;left: 50%;z-index: -1;}#sk-container-id-5 div.sk-parallel-item {display: flex;flex-direction: column;z-index: 1;position: relative;background-color: white;}#sk-container-id-5 div.sk-parallel-item:first-child::after {align-self: flex-end;width: 50%;}#sk-container-id-5 div.sk-parallel-item:last-child::after {align-self: flex-start;width: 50%;}#sk-container-id-5 div.sk-parallel-item:only-child::after {width: 0;}#sk-container-id-5 div.sk-dashed-wrapped {border: 1px dashed gray;margin: 0 0.4em 0.5em 0.4em;box-sizing: border-box;padding-bottom: 0.4em;background-color: white;}#sk-container-id-5 div.sk-label label {font-family: monospace;font-weight: bold;display: inline-block;line-height: 1.2em;}#sk-container-id-5 div.sk-label-container {text-align: center;}#sk-container-id-5 div.sk-container {/* jupyter's `normalize.less` sets `[hidden] { display: none; }` but bootstrap.min.css set `[hidden] { display: none !important; }` so we also need the `!important` here to be able to override the default hidden behavior on the sphinx rendered scikit-learn.org. See: https://github.com/scikit-learn/scikit-learn/issues/21755 */display: inline-block !important;position: relative;}#sk-container-id-5 div.sk-text-repr-fallback {display: none;}</style><div id=\"sk-container-id-5\" class=\"sk-top-container\"><div class=\"sk-text-repr-fallback\"><pre>LogisticRegression(C=0.001, max_iter=1000, solver=&#x27;sag&#x27;)</pre><b>In a Jupyter environment, please rerun this cell to show the HTML representation or trust the notebook. <br />On GitHub, the HTML representation is unable to render, please try loading this page with nbviewer.org.</b></div><div class=\"sk-container\" hidden><div class=\"sk-item\"><div class=\"sk-estimator sk-toggleable\"><input class=\"sk-toggleable__control sk-hidden--visually\" id=\"sk-estimator-id-9\" type=\"checkbox\" checked><label for=\"sk-estimator-id-9\" class=\"sk-toggleable__label sk-toggleable__label-arrow\">LogisticRegression</label><div class=\"sk-toggleable__content\"><pre>LogisticRegression(C=0.001, max_iter=1000, solver=&#x27;sag&#x27;)</pre></div></div></div></div></div>"
            ]
          },
          "metadata": {},
          "execution_count": 106
        }
      ]
    },
    {
      "cell_type": "markdown",
      "source": [
        "Probamos el modelo con los datos de test y de validacion y obtenemos las métricas de evaluación"
      ],
      "metadata": {
        "id": "LhPi6DXhBk9l"
      }
    },
    {
      "cell_type": "code",
      "source": [
        "y_pred_test3=log1.predict(X_test_sm)\n",
        "y_pred_val3=log1.predict(X_val_sm)"
      ],
      "metadata": {
        "id": "5l4c-rY6BrFm"
      },
      "execution_count": null,
      "outputs": []
    },
    {
      "cell_type": "code",
      "source": [
        "# Evaluamos la prediccion utilizando las metricas\n",
        "acc3=accuracy_score(Y_test_sm, y_pred_test3)\n",
        "recall3=recall_score(Y_test_sm, y_pred_test3)\n",
        "conf_mat3=confusion_matrix(Y_test_sm,y_pred_test3)\n",
        "\n",
        "val_acc3 = accuracy_score(Y_val_sm, y_pred_val3)\n",
        "val_recall3=recall_score(Y_val_sm, y_pred_val3)\n",
        "val_conf_mat3=confusion_matrix(Y_val_sm,y_pred_val3)\n",
        "\n",
        "\n",
        "print(\"Test Accuracy: {}\".format(acc3))\n",
        "print(\"Test Recall: {}\".format(recall3))\n",
        "print(\"Validation Accuracy: {}\".format(val_acc3))\n",
        "print(\"Validation Recall: {}\".format(val_recall3))\n",
        "\n",
        "print(\"Matriz de confusión:\")\n",
        "\n",
        "fig, axs = plt.subplots(1, 2)\n",
        "\n",
        "sns.heatmap(conf_mat3, annot=True, ax=axs[0])\n",
        "axs[0].set_title('Test')\n",
        "\n",
        "sns.heatmap(val_conf_mat3, annot=True, ax=axs[1])\n",
        "axs[1].set_title('Validación')\n",
        "\n",
        "plt.tight_layout()\n",
        "plt.show()"
      ],
      "metadata": {
        "colab": {
          "base_uri": "https://localhost:8080/",
          "height": 574
        },
        "id": "KpgI2hsxBwVa",
        "outputId": "8573fe0f-6194-409e-f140-8b0e62c206c6"
      },
      "execution_count": null,
      "outputs": [
        {
          "output_type": "stream",
          "name": "stdout",
          "text": [
            "Test Accuracy: 0.7986348122866894\n",
            "Test Recall: 0.9483870967741935\n",
            "Validation Accuracy: 0.7831325301204819\n",
            "Validation Recall: 0.9027777777777778\n",
            "Matriz de confusión:\n"
          ]
        },
        {
          "output_type": "display_data",
          "data": {
            "text/plain": [
              "<Figure size 640x480 with 4 Axes>"
            ],
            "image/png": "[encoded data removed]"
          },
          "metadata": {}
        }
      ]
    },
    {
      "cell_type": "markdown",
      "source": [
        "###Comparativa Regresión Logística vs Árbol de Clasificación"
      ],
      "metadata": {
        "id": "BEf0WoF6C0qd"
      }
    },
    {
      "cell_type": "markdown",
      "source": [
        "Ahora comparamos los resultados de la regresión logística con los obtenidos con el modelo del árbol de regresión (ambos modelos sin reducción de la dimensionalidad)"
      ],
      "metadata": {
        "id": "N3nPs1GaC8i9"
      }
    },
    {
      "cell_type": "code",
      "source": [
        "# Crear los subplots\n",
        "fig, axs = plt.subplots(nrows=1, ncols=2, figsize=(10, 5))\n",
        "\n",
        "# Crear un array de índices para las posiciones de las barras\n",
        "x = np.arange(0.5)\n",
        "width = 0.25\n",
        "\n",
        "# Graficar las variables en las gráficas correspondientes\n",
        "axs[0].bar(x - width,acc, color='blue', label='Árbol Clasificación')\n",
        "axs[0].bar(x,acc3, color='green', alpha=0.5, label='Regresión Logística')\n",
        "axs[0].set_title('Test Accuracy')\n",
        "axs[0].legend()\n",
        "\n",
        "axs[1].bar(x - width,val_acc, color='red', label='Árbol Clasificación')\n",
        "axs[1].bar(x,val_acc3, color='purple', alpha=0.5, label='Regresión Logística')\n",
        "axs[1].set_title('Validation Accuracy')\n",
        "axs[1].legend()\n",
        "\n",
        "# Mostrar la gráfica\n",
        "plt.show()"
      ],
      "metadata": {
        "colab": {
          "base_uri": "https://localhost:8080/",
          "height": 468
        },
        "id": "DEZoa40iDFja",
        "outputId": "ea52f517-0c4d-4c36-a0ac-5a578a0c50d2"
      },
      "execution_count": null,
      "outputs": [
        {
          "output_type": "display_data",
          "data": {
            "text/plain": [
              "<Figure size 1000x500 with 2 Axes>"
            ],
            "image/png": "[encoded data removed]"
          },
          "metadata": {}
        }
      ]
    },
    {
      "cell_type": "code",
      "source": [
        "# Crear los subplots\n",
        "fig, axs = plt.subplots(nrows=1, ncols=2, figsize=(10, 5))\n",
        "\n",
        "# Crear un array de índices para las posiciones de las barras\n",
        "x = np.arange(0.5)\n",
        "width = 0.25\n",
        "\n",
        "# Graficar las variables en las gráficas correspondientes\n",
        "axs[0].bar(x - width,recall, color='blue', label='Árbol Clasificación')\n",
        "axs[0].bar(x,recall3, color='green', alpha=0.5, label='Regresión Logística')\n",
        "axs[0].set_title('Test Accuracy')\n",
        "axs[0].legend()\n",
        "\n",
        "axs[1].bar(x - width,val_recall, color='red', label='Árbol Clasificación')\n",
        "axs[1].bar(x,val_recall3, color='purple', alpha=0.5, label='Regresión Logística')\n",
        "axs[1].set_title('Validation Accuracy')\n",
        "axs[1].legend()\n",
        "\n",
        "# Mostrar la gráfica\n",
        "plt.show()"
      ],
      "metadata": {
        "colab": {
          "base_uri": "https://localhost:8080/",
          "height": 468
        },
        "id": "x8f7ZRDnDipJ",
        "outputId": "8875e8bb-e73f-4dee-8df3-83748e5c9a90"
      },
      "execution_count": null,
      "outputs": [
        {
          "output_type": "display_data",
          "data": {
            "text/plain": [
              "<Figure size 1000x500 with 2 Axes>"
            ],
            "image/png": "[encoded data removed]"
          },
          "metadata": {}
        }
      ]
    },
    {
      "cell_type": "markdown",
      "source": [
        "Como se puede observar, son mucho mejores los resultados del árbol de clasificación, con lo que se va a utilziar dicho modelo para realizar la clasificación de empresas de alto crecimiento\n"
      ],
      "metadata": {
        "id": "8KXuo0zUDo2H"
      }
    },
    {
      "cell_type": "markdown",
      "source": [
        "##Startups fuera del modelo "
      ],
      "metadata": {
        "id": "uXsQ5v-Jhz9y"
      }
    },
    {
      "cell_type": "code",
      "source": [
        "no_modelo=data2[data2['MODELO_CALCU']==0]"
      ],
      "metadata": {
        "id": "s50bWrF-hxWf"
      },
      "execution_count": 51,
      "outputs": []
    },
    {
      "cell_type": "code",
      "source": [
        "#otras columnas a eliminar\n",
        "no_modelo.drop(columns=['GACELA_CALCU', 'MODELO_CALCU', 'CNAE_DESCRIPCION', 'ID', 'ORGANISMO'], axis=1, inplace=True)"
      ],
      "metadata": {
        "colab": {
          "base_uri": "https://localhost:8080/"
        },
        "id": "dQ43A5B8qjR2",
        "outputId": "c2825641-5662-4b3f-8f8a-5ec4120444d5"
      },
      "execution_count": 52,
      "outputs": [
        {
          "output_type": "stream",
          "name": "stderr",
          "text": [
            "<ipython-input-52-d5ff09ac36f8>:2: SettingWithCopyWarning: \n",
            "A value is trying to be set on a copy of a slice from a DataFrame\n",
            "\n",
            "See the caveats in the documentation: https://pandas.pydata.org/pandas-docs/stable/user_guide/indexing.html#returning-a-view-versus-a-copy\n",
            "  no_modelo.drop(columns=['GACELA_CALCU', 'MODELO_CALCU', 'CNAE_DESCRIPCION', 'ID', 'ORGANISMO'], axis=1, inplace=True)\n"
          ]
        }
      ]
    },
    {
      "cell_type": "code",
      "source": [
        "no_modelo2=pd.get_dummies(no_modelo)"
      ],
      "metadata": {
        "id": "i59BbAwCqu6B"
      },
      "execution_count": 53,
      "outputs": []
    },
    {
      "cell_type": "markdown",
      "source": [
        "Vemos que el número de características sea igual al de los datos de entrenamiento"
      ],
      "metadata": {
        "id": "pZgZ9qGRKxng"
      }
    },
    {
      "cell_type": "code",
      "source": [
        "cols1=list(modelo2.columns)\n",
        "cols2=list(no_modelo2)\n",
        "print(len(cols1), len(cols2))"
      ],
      "metadata": {
        "colab": {
          "base_uri": "https://localhost:8080/"
        },
        "id": "R2Oz4DwLE5bG",
        "outputId": "fe324bf2-9003-4c90-d820-5cd1c398236e"
      },
      "execution_count": 54,
      "outputs": [
        {
          "output_type": "stream",
          "name": "stdout",
          "text": [
            "160 160\n"
          ]
        }
      ]
    },
    {
      "cell_type": "markdown",
      "source": [
        "Separamos los datos independientes de la target:"
      ],
      "metadata": {
        "id": "S-cxTdCRL2RJ"
      }
    },
    {
      "cell_type": "code",
      "source": [
        "no_modelo2.drop(columns=['ALTO_CRECIMIENTO_CALCU'], axis=1, inplace=True)\n",
        "columnas2 = list(no_modelo2.columns)\n",
        "X2 = no_modelo2[columnas2].values"
      ],
      "metadata": {
        "id": "mqb7qQXpqyeT"
      },
      "execution_count": 55,
      "outputs": []
    },
    {
      "cell_type": "code",
      "source": [
        "# Check for infinite values\n",
        "print(np.isfinite(X2).all())"
      ],
      "metadata": {
        "colab": {
          "base_uri": "https://localhost:8080/"
        },
        "id": "mEJPeoEnrgns",
        "outputId": "2034d903-e14d-4843-bc8a-8e08f8718b4f"
      },
      "execution_count": 56,
      "outputs": [
        {
          "output_type": "stream",
          "name": "stdout",
          "text": [
            "False\n"
          ]
        }
      ]
    },
    {
      "cell_type": "code",
      "source": [
        "X2 = np.nan_to_num(X2, nan=0, posinf=1e9, neginf=-1e9)\n",
        "scaler = MinMaxScaler()\n",
        "X2_scaled = scaler.fit_transform(X2)"
      ],
      "metadata": {
        "id": "r3vg6XY_rhST"
      },
      "execution_count": 57,
      "outputs": []
    },
    {
      "cell_type": "markdown",
      "source": [
        "En este caso no aplica utilizar una técnica de desbalanceo de datos"
      ],
      "metadata": {
        "id": "FNsC8gomrqQf"
      }
    },
    {
      "cell_type": "code",
      "source": [
        "# Realizamos la predicción\n",
        "y_pred_final = class_tree1.predict(X2_scaled)"
      ],
      "metadata": {
        "id": "SnROmUjNrtVE"
      },
      "execution_count": 58,
      "outputs": []
    },
    {
      "cell_type": "code",
      "source": [
        "no_modelo2['ALTO_CRECIMIENTO_PRED']=y_pred_final"
      ],
      "metadata": {
        "id": "p8ZJc9jI0J35"
      },
      "execution_count": 59,
      "outputs": []
    },
    {
      "cell_type": "code",
      "source": [
        "print('Número de empresas de alto crecimiento ', len(no_modelo2[no_modelo2['ALTO_CRECIMIENTO_PRED']==1]), ' de un total de ', len(no_modelo2), ' empresas')"
      ],
      "metadata": {
        "colab": {
          "base_uri": "https://localhost:8080/"
        },
        "id": "d4gpoiNa0Pdm",
        "outputId": "2c41d9af-9a15-4005-8e10-4960f6f9930a"
      },
      "execution_count": 60,
      "outputs": [
        {
          "output_type": "stream",
          "name": "stdout",
          "text": [
            "Número de empresas de alto crecimiento  3  de un total de  1131  empresas\n"
          ]
        }
      ]
    },
    {
      "cell_type": "code",
      "source": [
        "plt.hist(no_modelo2['ALTO_CRECIMIENTO_PRED'], bins = 15)\n",
        "plt.title('Alto Crecimiento')"
      ],
      "metadata": {
        "colab": {
          "base_uri": "https://localhost:8080/",
          "height": 469
        },
        "id": "GAhuXQzg0YSl",
        "outputId": "a19792b3-50ba-4bbc-d147-472023b4375a"
      },
      "execution_count": 61,
      "outputs": [
        {
          "output_type": "execute_result",
          "data": {
            "text/plain": [
              "Text(0.5, 1.0, 'Alto Crecimiento')"
            ]
          },
          "metadata": {},
          "execution_count": 61
        },
        {
          "output_type": "display_data",
          "data": {
            "text/plain": [
              "<Figure size 640x480 with 1 Axes>"
            ],
            "image/png": "[encoded data removed]"
          },
          "metadata": {}
        }
      ]
    },
    {
      "cell_type": "markdown",
      "source": [
        "##Descarga de dataset"
      ],
      "metadata": {
        "id": "ZGjwqaLJMGNZ"
      }
    },
    {
      "cell_type": "code",
      "source": [
        "no_modelo2.to_csv('no_modelo_altoCrec2.csv')"
      ],
      "metadata": {
        "id": "wybY70Q2MIKg"
      },
      "execution_count": 62,
      "outputs": []
    }
  ]
}